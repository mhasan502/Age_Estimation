{
 "cells": [
  {
   "cell_type": "code",
   "execution_count": 1,
   "id": "06aabb63",
   "metadata": {
    "ExecuteTime": {
     "end_time": "2021-09-20T22:04:42.112721Z",
     "start_time": "2021-09-20T22:04:39.865723Z"
    },
    "hide_input": false
   },
   "outputs": [],
   "source": [
    "import torch\n",
    "import numpy as np\n",
    "from torch import nn\n",
    "import pretrainedmodels\n",
    "\n",
    "from utils.train import train\n",
    "from utils.evaluation import evaluation\n",
    "from utils.loader import get_loader, get_image_list\n",
    "from utils.losses import CostSensitiveRegularizedLoss\n",
    "\n",
    "import warnings\n",
    "warnings.filterwarnings(\"ignore\", category=UserWarning)\n",
    "warnings.filterwarnings(\"ignore\", category=DeprecationWarning)"
   ]
  },
  {
   "cell_type": "code",
   "execution_count": 2,
   "id": "cb64b0db",
   "metadata": {
    "ExecuteTime": {
     "end_time": "2021-09-20T22:04:42.127719Z",
     "start_time": "2021-09-20T22:04:42.113721Z"
    }
   },
   "outputs": [],
   "source": [
    "# hyper params\n",
    "num_of_class = 102\n",
    "learning_rate = 1e-03\n",
    "batch_size = 64\n",
    "input_size = 64\n",
    "device = torch.device(\"cuda\")\n",
    "test_size = 0.2\n",
    "train_size = 0.7\n",
    "val_size = 0.1\n",
    "directoryAgeDB = 'AgeDB/'"
   ]
  },
  {
   "cell_type": "code",
   "execution_count": 3,
   "id": "6d920459",
   "metadata": {
    "ExecuteTime": {
     "end_time": "2021-09-20T22:04:42.143719Z",
     "start_time": "2021-09-20T22:04:42.128720Z"
    },
    "code_folding": [],
    "hide_input": false
   },
   "outputs": [],
   "source": [
    "def findAge(image_list):\n",
    "    listofzeros = [0] * 102\n",
    "    same_age = [i for i in range(0, 102)]\n",
    "    age_number = dict(zip(same_age, listofzeros))\n",
    "    sum = 0\n",
    "\n",
    "    for i in range(len(image_list)):\n",
    "\n",
    "        if image_list[i]['age'] in age_number:\n",
    "            age_number[image_list[i]['age']] += 1\n",
    "            sum += 1\n",
    "\n",
    "    print(sum)\n",
    "    return dict(age_number)\n"
   ]
  },
  {
   "cell_type": "code",
   "execution_count": 4,
   "id": "f8ae2b44",
   "metadata": {
    "ExecuteTime": {
     "end_time": "2021-09-20T22:05:03.714686Z",
     "start_time": "2021-09-20T22:04:42.144721Z"
    }
   },
   "outputs": [
    {
     "data": {
      "application/vnd.jupyter.widget-view+json": {
       "model_id": "6c1058fe3bbb42ed8cacd87b503903d7",
       "version_major": 2,
       "version_minor": 0
      },
      "text/plain": [
       "  0%|          | 0/11541 [00:00<?, ?it/s]"
      ]
     },
     "metadata": {},
     "output_type": "display_data"
    },
    {
     "name": "stdout",
     "output_type": "stream",
     "text": [
      "Train Set Length:  34623\n",
      "Test Set Length:  3298\n",
      "Validation Set Length:  1649\n",
      "Total:  39570\n"
     ]
    }
   ],
   "source": [
    "train_image_list, test_image_list, validate_image_list = get_image_list(\n",
    "    train_size=train_size, \n",
    "    test_size=test_size, \n",
    "    val_size=val_size, \n",
    "    directory=directoryAgeDB,\n",
    ")\n",
    "\n",
    "train_loader, test_loader, validation_loader = get_loader(\n",
    "    input_size=input_size,\n",
    "    train_image_list=train_image_list,\n",
    "    test_image_list=test_image_list, \n",
    "    validate_image_list=validate_image_list, \n",
    "    batch_size=batch_size,\n",
    "    train_augment=3,\n",
    ")"
   ]
  },
  {
   "cell_type": "code",
   "execution_count": 5,
   "id": "5641b0b5",
   "metadata": {
    "ExecuteTime": {
     "end_time": "2021-09-20T22:05:03.746683Z",
     "start_time": "2021-09-20T22:05:03.715686Z"
    },
    "code_folding": [
     21,
     44,
     62,
     163
    ]
   },
   "outputs": [],
   "source": [
    "import math\n",
    "\n",
    "import torch\n",
    "import torch.nn.functional as F\n",
    "import torch.utils.model_zoo as model_zoo\n",
    "from torch import nn\n",
    "from torch.nn import Parameter\n",
    "import pdb\n",
    "import numpy as np\n",
    "\n",
    "\n",
    "########################   Centeral-difference (second order, with 9 parameters and a const theta for 3x3 kernel) 2D Convolution   ##############################\n",
    "## | a1 a2 a3 |   | w1 w2 w3 |\n",
    "## | a4 a5 a6 | * | w4 w5 w6 | --> output = \\sum_{i=1}^{9}(ai * wi) - \\sum_{i=1}^{9}wi * a5 --> Conv2d (k=3) - Conv2d (k=1)\n",
    "## | a7 a8 a9 |   | w7 w8 w9 |\n",
    "##\n",
    "##   --> output = \n",
    "## | a1 a2 a3 |   |  w1  w2  w3 |     \n",
    "## | a4 a5 a6 | * |  w4  w5  w6 |  -  | a | * | w\\_sum |     (kernel_size=1x1, padding=0)\n",
    "## | a7 a8 a9 |   |  w7  w8  w9 |     \n",
    "\n",
    "class Conv2d_cd(nn.Module):\n",
    "    def __init__(self, in_channels, out_channels, kernel_size=3, stride=1,\n",
    "                 padding=1, dilation=1, groups=1, bias=False, theta=0.7):\n",
    "\n",
    "        super(Conv2d_cd, self).__init__() \n",
    "        self.conv = nn.Conv2d(in_channels, out_channels, kernel_size=kernel_size, stride=stride, padding=padding, dilation=dilation, groups=groups, bias=bias)\n",
    "        self.theta = theta\n",
    "\n",
    "    def forward(self, x):\n",
    "        out_normal = self.conv(x)\n",
    "\n",
    "        if math.fabs(self.theta - 0.0) < 1e-8:\n",
    "            return out_normal \n",
    "        else:\n",
    "            #pdb.set_trace()\n",
    "            [C_out,C_in, kernel_size,kernel_size] = self.conv.weight.shape\n",
    "            kernel_diff = self.conv.weight.sum(2).sum(2)\n",
    "            kernel_diff = kernel_diff[:, :, None, None]\n",
    "            out_diff = F.conv2d(input=x, weight=kernel_diff, bias=self.conv.bias, stride=self.conv.stride, padding=0, groups=self.conv.groups)\n",
    "\n",
    "            return out_normal - self.theta * out_diff\n",
    "\n",
    "\n",
    "class SpatialAttention(nn.Module):\n",
    "    def __init__(self, kernel = 3):\n",
    "        super(SpatialAttention, self).__init__()\n",
    "\n",
    "\n",
    "        self.conv1 = nn.Conv2d(2, 1, kernel_size=kernel, padding=kernel//2, bias=False)\n",
    "        self.sigmoid = nn.Sigmoid()\n",
    "\n",
    "    def forward(self, x):\n",
    "        avg_out = torch.mean(x, dim=1, keepdim=True)\n",
    "        max_out, _ = torch.max(x, dim=1, keepdim=True)\n",
    "        x = torch.cat([avg_out, max_out], dim=1)\n",
    "        x = self.conv1(x)\n",
    "        \n",
    "        return self.sigmoid(x)\n",
    "\n",
    "\n",
    "\n",
    "class CDCN(nn.Module):\n",
    "\n",
    "    def __init__(self, basic_conv=Conv2d_cd, theta=0.7):   \n",
    "        super(CDCN, self).__init__()\n",
    "        \n",
    "        \n",
    "        self.conv1 = nn.Sequential(\n",
    "            basic_conv(3, 64, kernel_size=3, stride=1, padding=1, bias=False, theta= theta),\n",
    "            nn.BatchNorm2d(64),\n",
    "            nn.ReLU(),    \n",
    "        )\n",
    "        \n",
    "        self.Block1 = nn.Sequential(\n",
    "            basic_conv(64, 128, kernel_size=3, stride=1, padding=1, bias=False, theta= theta),\n",
    "            nn.BatchNorm2d(128),\n",
    "            nn.ReLU(),   \n",
    "            basic_conv(128, 196, kernel_size=3, stride=1, padding=1, bias=False, theta= theta),\n",
    "            nn.BatchNorm2d(196),\n",
    "            nn.ReLU(),  \n",
    "            basic_conv(196, 128, kernel_size=3, stride=1, padding=1, bias=False, theta= theta),\n",
    "            nn.BatchNorm2d(128),\n",
    "            nn.ReLU(),   \n",
    "            nn.MaxPool2d(kernel_size=3, stride=2, padding=1),\n",
    "            \n",
    "        )\n",
    "        \n",
    "        self.Block2 = nn.Sequential(\n",
    "            basic_conv(128, 128, kernel_size=3, stride=1, padding=1, bias=False, theta= theta),\n",
    "            nn.BatchNorm2d(128),\n",
    "            nn.ReLU(),   \n",
    "            basic_conv(128, 196, kernel_size=3, stride=1, padding=1, bias=False, theta= theta),\n",
    "            nn.BatchNorm2d(196),\n",
    "            nn.ReLU(),  \n",
    "            basic_conv(196, 128, kernel_size=3, stride=1, padding=1, bias=False, theta= theta),\n",
    "            nn.BatchNorm2d(128),\n",
    "            nn.ReLU(),  \n",
    "            nn.MaxPool2d(kernel_size=3, stride=2, padding=1),\n",
    "        )\n",
    "        \n",
    "        self.Block3 = nn.Sequential(\n",
    "            basic_conv(128, 128, kernel_size=3, stride=1, padding=1, bias=False, theta= theta),\n",
    "            nn.BatchNorm2d(128),\n",
    "            nn.ReLU(),   \n",
    "            basic_conv(128, 196, kernel_size=3, stride=1, padding=1, bias=False, theta= theta),\n",
    "            nn.BatchNorm2d(196),\n",
    "            nn.ReLU(),  \n",
    "            basic_conv(196, 128, kernel_size=3, stride=1, padding=1, bias=False, theta= theta),\n",
    "            nn.BatchNorm2d(128),\n",
    "            nn.ReLU(),   \n",
    "            nn.MaxPool2d(kernel_size=3, stride=2, padding=1),\n",
    "        )\n",
    "        \n",
    "        self.lastconv1 = nn.Sequential(\n",
    "            basic_conv(128*3, 128, kernel_size=3, stride=1, padding=1, bias=False, theta= theta),\n",
    "            nn.BatchNorm2d(128),\n",
    "            nn.ReLU(),    \n",
    "        )\n",
    "        \n",
    "        self.lastconv2 = nn.Sequential(\n",
    "            basic_conv(128, 64, kernel_size=3, stride=1, padding=1, bias=False, theta= theta),\n",
    "            nn.BatchNorm2d(64),\n",
    "            nn.ReLU(),    \n",
    "        )\n",
    "        \n",
    "        self.lastconv3 = nn.Sequential(\n",
    "            basic_conv(64, 1, kernel_size=3, stride=1, padding=1, bias=False, theta= theta),\n",
    "            nn.ReLU(),    \n",
    "        )\n",
    "        \n",
    "        \n",
    "        self.downsample32x32 = nn.Upsample(size=(32, 32), mode='bilinear')\n",
    "\n",
    " \n",
    "    def forward(self, x):\t    \t# x [3, 256, 256]\n",
    "        \n",
    "        x_input = x\n",
    "        x = self.conv1(x)\t\t   \n",
    "        \n",
    "        x_Block1 = self.Block1(x)\t    \t    \t# x [128, 128, 128]\n",
    "        x_Block1_32x32 = self.downsample32x32(x_Block1)   # x [128, 32, 32]  \n",
    "        \n",
    "        x_Block2 = self.Block2(x_Block1)\t    # x [128, 64, 64]\t  \n",
    "        x_Block2_32x32 = self.downsample32x32(x_Block2)   # x [128, 32, 32]  \n",
    "        \n",
    "        x_Block3 = self.Block3(x_Block2)\t    # x [128, 32, 32]  \t\n",
    "        x_Block3_32x32 = self.downsample32x32(x_Block3)   # x [128, 32, 32]  \n",
    "        \n",
    "        x_concat = torch.cat((x_Block1_32x32,x_Block2_32x32,x_Block3_32x32), dim=1)    # x [128*3, 32, 32]  \n",
    "        \n",
    "        #pdb.set_trace()\n",
    "        \n",
    "        x = self.lastconv1(x_concat)    # x [128, 32, 32] \n",
    "        x = self.lastconv2(x)    # x [64, 32, 32] \n",
    "        x = self.lastconv3(x)    # x [1, 32, 32] \n",
    "        \n",
    "        map_x = x.squeeze(1)\n",
    "        \n",
    "        return map_x, x_concat, x_Block1, x_Block2, x_Block3, x_input\n",
    "\n",
    "\t\t\n",
    "\n",
    "class CDCNpp(nn.Module):\n",
    "\n",
    "    def __init__(self, basic_conv=Conv2d_cd, theta=0.0):   \n",
    "        super(CDCNpp, self).__init__()\n",
    "        \n",
    "        \n",
    "        self.conv1 = nn.Sequential(\n",
    "            basic_conv(3, 64, kernel_size=3, stride=1, padding=1, bias=False, theta= theta),\n",
    "            nn.BatchNorm2d(64),\n",
    "            nn.ReLU(),    \n",
    "            \n",
    "        )\n",
    "        \n",
    "        self.Block1 = nn.Sequential(\n",
    "            basic_conv(64, 128, kernel_size=3, stride=1, padding=1, bias=False, theta= theta),\n",
    "            nn.BatchNorm2d(128),\n",
    "            nn.ReLU(),  \n",
    "            \n",
    "            basic_conv(128, int(128*1.6), kernel_size=3, stride=1, padding=1, bias=False, theta= theta),\n",
    "            nn.BatchNorm2d(int(128*1.6)),\n",
    "            nn.ReLU(),  \n",
    "            basic_conv(int(128*1.6), 128, kernel_size=3, stride=1, padding=1, bias=False, theta= theta),\n",
    "            nn.BatchNorm2d(128),\n",
    "            nn.ReLU(), \n",
    "            \n",
    "            nn.MaxPool2d(kernel_size=3, stride=2, padding=1),\n",
    "            \n",
    "        )\n",
    "        \n",
    "        self.Block2 = nn.Sequential(\n",
    "            basic_conv(128, int(128*1.2), kernel_size=3, stride=1, padding=1, bias=False, theta= theta),\n",
    "            nn.BatchNorm2d(int(128*1.2)),\n",
    "            nn.ReLU(),  \n",
    "            basic_conv(int(128*1.2), 128, kernel_size=3, stride=1, padding=1, bias=False, theta= theta),\n",
    "            nn.BatchNorm2d(128),\n",
    "            nn.ReLU(),  \n",
    "            basic_conv(128, int(128*1.4), kernel_size=3, stride=1, padding=1, bias=False, theta= theta),\n",
    "            nn.BatchNorm2d(int(128*1.4)),\n",
    "            nn.ReLU(),  \n",
    "            basic_conv(int(128*1.4), 128, kernel_size=3, stride=1, padding=1, bias=False, theta= theta),\n",
    "            nn.BatchNorm2d(128),\n",
    "            nn.ReLU(),  \n",
    "            \n",
    "            nn.MaxPool2d(kernel_size=3, stride=2, padding=1),\n",
    "        )\n",
    "        \n",
    "        self.Block3 = nn.Sequential(\n",
    "            basic_conv(128, 128, kernel_size=3, stride=1, padding=1, bias=False, theta= theta),\n",
    "            nn.BatchNorm2d(128),\n",
    "            nn.ReLU(), \n",
    "            basic_conv(128, int(128*1.2), kernel_size=3, stride=1, padding=1, bias=False, theta= theta),\n",
    "            nn.BatchNorm2d(int(128*1.2)),\n",
    "            nn.ReLU(),  \n",
    "            basic_conv(int(128*1.2), 128, kernel_size=3, stride=1, padding=1, bias=False, theta= theta),\n",
    "            nn.BatchNorm2d(128),\n",
    "            nn.ReLU(), \n",
    "            nn.MaxPool2d(kernel_size=3, stride=2, padding=1),\n",
    "        )\n",
    "        \n",
    "        # Original\n",
    "        \n",
    "        self.lastconv1 = nn.Sequential(\n",
    "            basic_conv(128*3, 128, kernel_size=3, stride=1, padding=1, bias=False, theta= theta),\n",
    "            nn.BatchNorm2d(128),\n",
    "            nn.ReLU(),\n",
    "            basic_conv(128, 1, kernel_size=3, stride=1, padding=1, bias=False, theta= theta),\n",
    "            nn.ReLU(),    \n",
    "        )\n",
    "        \n",
    "      \n",
    "        self.sa1 = SpatialAttention(kernel = 7)\n",
    "        self.sa2 = SpatialAttention(kernel = 5)\n",
    "        self.sa3 = SpatialAttention(kernel = 3)\n",
    "        self.downsample32x32 = nn.Upsample(size=(32, 32), mode='bilinear')\n",
    "\n",
    "        self.fc = nn.Linear(1024, 102)\n",
    "            \n",
    "    def forward(self, x):\n",
    "        \n",
    "        x_input = x\n",
    "        x = self.conv1(x)   \n",
    "        \n",
    "        x_Block1 = self.Block1(x)\n",
    "        attention1 = self.sa1(x_Block1)\n",
    "        x_Block1_SA = attention1 * x_Block1\n",
    "        x_Block1_32x32 = self.downsample32x32(x_Block1_SA)   \n",
    "        \n",
    "        x_Block2 = self.Block2(x_Block1)    \n",
    "        attention2 = self.sa2(x_Block2)  \n",
    "        x_Block2_SA = attention2 * x_Block2\n",
    "        x_Block2_32x32 = self.downsample32x32(x_Block2_SA)  \n",
    "        \n",
    "        x_Block3 = self.Block3(x_Block2)    \n",
    "        attention3 = self.sa3(x_Block3)  \n",
    "        x_Block3_SA = attention3 * x_Block3\n",
    "        x_Block3_32x32 = self.downsample32x32(x_Block3_SA)   \n",
    "        \n",
    "        x_concat = torch.cat((x_Block1_32x32,x_Block2_32x32,x_Block3_32x32), dim=1)    \n",
    "        \n",
    "        #pdb.set_trace()\n",
    "        map_x = self.lastconv1(x_concat)\n",
    "    \n",
    "        map_x = map_x.reshape(map_x.size(0), -1)\n",
    "\n",
    "        map_x = self.fc(map_x)\n",
    "        map_x = map_x.squeeze(1)\n",
    "        return map_x\n",
    "\t\t"
   ]
  },
  {
   "cell_type": "code",
   "execution_count": 6,
   "id": "d5e10e0b",
   "metadata": {
    "ExecuteTime": {
     "end_time": "2021-09-20T22:05:05.296684Z",
     "start_time": "2021-09-20T22:05:03.747684Z"
    }
   },
   "outputs": [],
   "source": [
    "model1 = CDCNpp().to(device)\n",
    "model2 = CDCNpp().to(device)"
   ]
  },
  {
   "cell_type": "code",
   "execution_count": 7,
   "id": "3ca9b2a2",
   "metadata": {
    "ExecuteTime": {
     "end_time": "2021-09-20T22:05:05.312685Z",
     "start_time": "2021-09-20T22:05:05.298685Z"
    }
   },
   "outputs": [],
   "source": [
    "criteria = CostSensitiveRegularizedLoss(n_classes=num_of_class, base_loss='focal_loss', reduction='mean') \n",
    "optimizer = torch.optim.SGD(model1.parameters(), lr=learning_rate, momentum=0.9, nesterov=True, weight_decay=1e-1)\n",
    "model_name = 'cdcn_aug.pth'"
   ]
  },
  {
   "cell_type": "code",
   "execution_count": 8,
   "id": "6ed4bb3e",
   "metadata": {
    "ExecuteTime": {
     "end_time": "2021-09-20T22:26:40.645683Z",
     "start_time": "2021-09-20T22:05:05.314686Z"
    },
    "hide_input": false
   },
   "outputs": [
    {
     "name": "stdout",
     "output_type": "stream",
     "text": [
      "Epoch: 1/10, Train Loss: 2.461692417395093,  Validation Loss: 2.2477692549045267\n",
      "Validation Loss Decreased(inf ---> 2.2477692549045267)\n",
      "Epoch: 2/10, Train Loss: 2.1529353541940064,  Validation Loss: 2.0930329331984887\n",
      "Validation Loss Decreased(2.2477692549045267 ---> 2.0930329331984887)\n",
      "Epoch: 3/10, Train Loss: 2.0465210577035786,  Validation Loss: 2.053894652770116\n",
      "Validation Loss Decreased(2.0930329331984887 ---> 2.053894652770116)\n",
      "Epoch: 4/10, Train Loss: 1.9945661801287076,  Validation Loss: 2.007474509569315\n",
      "Validation Loss Decreased(2.053894652770116 ---> 2.007474509569315)\n",
      "Epoch: 5/10, Train Loss: 1.9620075117858633,  Validation Loss: 2.0246601013036876\n",
      "Epoch: 6/10, Train Loss: 1.9380603076790266,  Validation Loss: 1.9893609606302702\n",
      "Validation Loss Decreased(2.007474509569315 ---> 1.9893609606302702)\n",
      "Epoch: 7/10, Train Loss: 1.9234336738004703,  Validation Loss: 1.9467763625658476\n",
      "Validation Loss Decreased(1.9893609606302702 ---> 1.9467763625658476)\n",
      "Epoch: 8/10, Train Loss: 1.9142306683905244,  Validation Loss: 1.9569998979568481\n",
      "Epoch: 9/10, Train Loss: 1.9000731281343979,  Validation Loss: 1.9772299528121948\n",
      "Epoch: 10/10, Train Loss: 1.8877466853136495,  Validation Loss: 1.9349227822743928\n",
      "Validation Loss Decreased(1.9467763625658476 ---> 1.9349227822743928)\n"
     ]
    },
    {
     "data": {
      "image/png": "[encoded data removed]",
      "text/plain": [
       "<Figure size 432x288 with 1 Axes>"
      ]
     },
     "metadata": {
      "needs_background": "light"
     },
     "output_type": "display_data"
    }
   ],
   "source": [
    "train(model1, optimizer, criteria, train_loader, validation_loader, num_of_epoch=10, model_name=model_name)"
   ]
  },
  {
   "cell_type": "code",
   "execution_count": 9,
   "id": "10b735ef",
   "metadata": {
    "ExecuteTime": {
     "end_time": "2021-09-20T22:27:38.748683Z",
     "start_time": "2021-09-20T22:26:40.646685Z"
    }
   },
   "outputs": [
    {
     "name": "stdout",
     "output_type": "stream",
     "text": [
      "Mean Absolute Error: 7.956155586242676\n",
      "Minimum: 0.0, Maximum: 64.0, Median: 7.0\n",
      "Mean Absolute Error: 7.459405422210693\n",
      "Minimum: 0.0, Maximum: 53.0, Median: 6.0\n"
     ]
    }
   ],
   "source": [
    "model1.load_state_dict(torch.load(model_name))\n",
    "loss_per_class = evaluation(model1, test_loader)\n",
    "_ = evaluation(model1, train_loader)"
   ]
  },
  {
   "cell_type": "code",
   "execution_count": 10,
   "id": "6452b440",
   "metadata": {
    "ExecuteTime": {
     "end_time": "2021-09-20T22:27:38.795683Z",
     "start_time": "2021-09-20T22:27:38.749684Z"
    }
   },
   "outputs": [
    {
     "name": "stdout",
     "output_type": "stream",
     "text": [
      "3298\n",
      "Age: Test Sample: Loss\n",
      "1 : 1 : 61.00\n",
      "2  No Sample\n",
      "3 : 2 : 42.00\n",
      "4 : 1 : 23.00\n",
      "5 : 1 : 23.00\n",
      "6 : 2 : 20.00\n",
      "7 : 2 : 25.00\n",
      "8 : 2 : 18.00\n",
      "9 : 1 : 19.00\n",
      "10 : 3 : 26.67\n",
      "11 : 4 : 21.25\n",
      "12 : 3 : 14.67\n",
      "13 : 4 : 14.00\n",
      "14 : 5 : 14.00\n",
      "15 : 9 : 14.11\n",
      "16 : 10 : 11.70\n",
      "17 : 16 : 12.81\n",
      "18 : 24 : 12.71\n",
      "19 : 22 : 12.00\n",
      "20 : 32 : 11.28\n",
      "21 : 33 : 8.85\n",
      "22 : 37 : 7.08\n",
      "23 : 42 : 7.12\n",
      "24 : 52 : 7.12\n",
      "25 : 57 : 6.67\n",
      "26 : 55 : 6.18\n",
      "27 : 61 : 6.70\n",
      "28 : 69 : 4.97\n",
      "29 : 62 : 5.15\n",
      "30 : 77 : 5.42\n",
      "31 : 63 : 6.00\n",
      "32 : 75 : 5.39\n",
      "33 : 67 : 6.90\n",
      "34 : 72 : 5.97\n",
      "35 : 82 : 6.74\n",
      "36 : 69 : 5.61\n",
      "37 : 74 : 5.81\n",
      "38 : 76 : 6.63\n",
      "39 : 64 : 6.56\n",
      "40 : 77 : 8.70\n",
      "41 : 64 : 7.05\n",
      "42 : 71 : 8.96\n",
      "43 : 65 : 8.52\n",
      "44 : 56 : 8.41\n",
      "45 : 68 : 8.47\n",
      "46 : 57 : 8.81\n",
      "47 : 58 : 8.07\n",
      "48 : 62 : 7.77\n",
      "49 : 53 : 8.19\n",
      "50 : 63 : 8.62\n",
      "51 : 57 : 8.93\n",
      "52 : 62 : 8.56\n",
      "53 : 50 : 8.78\n",
      "54 : 51 : 8.24\n",
      "55 : 59 : 8.88\n",
      "56 : 45 : 8.09\n",
      "57 : 49 : 9.12\n",
      "58 : 49 : 8.12\n",
      "59 : 43 : 8.79\n",
      "60 : 49 : 10.29\n",
      "61 : 41 : 8.56\n",
      "62 : 48 : 6.81\n",
      "63 : 44 : 9.25\n",
      "64 : 39 : 7.85\n",
      "65 : 46 : 6.67\n",
      "66 : 35 : 7.34\n",
      "67 : 35 : 8.03\n",
      "68 : 43 : 6.60\n",
      "69 : 30 : 5.53\n",
      "70 : 43 : 7.40\n",
      "71 : 29 : 8.07\n",
      "72 : 35 : 7.17\n",
      "73 : 31 : 8.39\n",
      "74 : 28 : 8.61\n",
      "75 : 32 : 8.94\n",
      "76 : 22 : 10.41\n",
      "77 : 21 : 9.14\n",
      "78 : 21 : 14.00\n",
      "79 : 15 : 11.87\n",
      "80 : 18 : 14.11\n",
      "81 : 15 : 8.47\n",
      "82 : 14 : 14.57\n",
      "83 : 11 : 14.91\n",
      "84 : 9 : 16.89\n",
      "85 : 12 : 16.25\n",
      "86 : 7 : 18.86\n",
      "87 : 6 : 17.00\n",
      "88 : 4 : 15.50\n",
      "89 : 4 : 16.50\n",
      "90 : 4 : 20.00\n",
      "91 : 3 : 15.67\n",
      "92 : 2 : 22.00\n",
      "93 : 3 : 19.67\n",
      "94 : 1 : 24.00\n",
      "95 : 2 : 25.00\n",
      "96 : 1 : 28.00\n",
      "97 : 1 : 38.00\n",
      "98 : 1 : 28.00\n",
      "99 : 1 : 29.00\n",
      "100 : 1 : 64.00\n",
      "101 : 1 : 31.00\n"
     ]
    }
   ],
   "source": [
    "sample_per_class = findAge(test_image_list)\n",
    "print('Age: Test Sample: Loss')\n",
    "for i in range(1, 102):\n",
    "    if sample_per_class[i] == 0:\n",
    "        print(i,' No Sample')\n",
    "    else:\n",
    "        print(i,':', sample_per_class[i],':', format(loss_per_class[i].item()/sample_per_class[i],'.2f'))"
   ]
  },
  {
   "cell_type": "code",
   "execution_count": 11,
   "id": "052a2ce7",
   "metadata": {
    "ExecuteTime": {
     "end_time": "2021-09-20T22:35:18.307039Z",
     "start_time": "2021-09-20T22:27:38.796685Z"
    }
   },
   "outputs": [
    {
     "data": {
      "application/vnd.jupyter.widget-view+json": {
       "model_id": "d303b70faefb4c09890f76ad522b39dd",
       "version_major": 2,
       "version_minor": 0
      },
      "text/plain": [
       "  0%|          | 0/11541 [00:00<?, ?it/s]"
      ]
     },
     "metadata": {},
     "output_type": "display_data"
    },
    {
     "name": "stdout",
     "output_type": "stream",
     "text": [
      "Train Set Length:  11541\n",
      "Test Set Length:  3298\n",
      "Validation Set Length:  1649\n",
      "Total:  16488\n",
      "Epoch: 1/10, Train Loss: 2.736657124197944,  Validation Loss: 2.340480400965764\n",
      "Validation Loss Decreased(inf ---> 2.340480400965764)\n",
      "Epoch: 2/10, Train Loss: 2.261117322668845,  Validation Loss: 2.251740758235638\n",
      "Validation Loss Decreased(2.340480400965764 ---> 2.251740758235638)\n",
      "Epoch: 3/10, Train Loss: 2.155594169764229,  Validation Loss: 2.165382343989152\n",
      "Validation Loss Decreased(2.251740758235638 ---> 2.165382343989152)\n",
      "Epoch: 4/10, Train Loss: 2.0707513054431472,  Validation Loss: 2.097103137236375\n",
      "Validation Loss Decreased(2.165382343989152 ---> 2.097103137236375)\n",
      "Epoch: 5/10, Train Loss: 2.0025884163313807,  Validation Loss: 2.093622835782858\n",
      "Validation Loss Decreased(2.097103137236375 ---> 2.093622835782858)\n",
      "Epoch: 6/10, Train Loss: 1.9562621531565545,  Validation Loss: 2.074514013070327\n",
      "Validation Loss Decreased(2.093622835782858 ---> 2.074514013070327)\n",
      "Epoch: 7/10, Train Loss: 1.9111658743073268,  Validation Loss: 2.077637846653278\n",
      "Epoch: 8/10, Train Loss: 1.8777806712777576,  Validation Loss: 2.146284731534811\n",
      "Epoch: 9/10, Train Loss: 1.850395627443303,  Validation Loss: 2.0745707154273987\n",
      "Epoch: 10/10, Train Loss: 1.8253654959452086,  Validation Loss: 2.022711542936472\n",
      "Validation Loss Decreased(2.074514013070327 ---> 2.022711542936472)\n"
     ]
    },
    {
     "data": {
      "image/png": "[encoded data removed]",
      "text/plain": [
       "<Figure size 432x288 with 1 Axes>"
      ]
     },
     "metadata": {
      "needs_background": "light"
     },
     "output_type": "display_data"
    }
   ],
   "source": [
    "train_loader, test_loader, validation_loader = get_loader(\n",
    "    input_size=input_size,\n",
    "    train_image_list=train_image_list,\n",
    "    test_image_list=test_image_list, \n",
    "    validate_image_list=validate_image_list, \n",
    "    batch_size=batch_size,\n",
    "    train_augment=1,\n",
    ")\n",
    "criteria = CostSensitiveRegularizedLoss(n_classes=num_of_class, base_loss='focal_loss', reduction='mean') \n",
    "optimizer = torch.optim.SGD(model2.parameters(), lr=learning_rate, momentum=0.9, nesterov=True, weight_decay=1e-1)\n",
    "model_name = 'cdcn.pth'\n",
    "train(model2, optimizer, criteria, train_loader, validation_loader, num_of_epoch=10, model_name=model_name)"
   ]
  },
  {
   "cell_type": "code",
   "execution_count": 12,
   "id": "86013069",
   "metadata": {
    "ExecuteTime": {
     "end_time": "2021-09-20T22:35:42.010041Z",
     "start_time": "2021-09-20T22:35:18.308039Z"
    }
   },
   "outputs": [
    {
     "name": "stdout",
     "output_type": "stream",
     "text": [
      "Mean Absolute Error: 9.111279487609863\n",
      "Minimum: 0.0, Maximum: 75.0, Median: 8.0\n",
      "Mean Absolute Error: 7.388267993927002\n",
      "Minimum: 0.0, Maximum: 50.0, Median: 6.0\n"
     ]
    }
   ],
   "source": [
    "model2.load_state_dict(torch.load(model_name))\n",
    "loss_per_class = evaluation(model2, test_loader)\n",
    "_ = evaluation(model2, train_loader)"
   ]
  },
  {
   "cell_type": "code",
   "execution_count": 13,
   "id": "33c7b360",
   "metadata": {
    "ExecuteTime": {
     "end_time": "2021-09-20T22:35:42.074053Z",
     "start_time": "2021-09-20T22:35:42.011039Z"
    }
   },
   "outputs": [
    {
     "name": "stdout",
     "output_type": "stream",
     "text": [
      "3298\n",
      "Age: Test Sample: Loss\n",
      "1 : 1 : 37.00\n",
      "2  No Sample\n",
      "3 : 2 : 55.00\n",
      "4 : 1 : 26.00\n",
      "5 : 1 : 16.00\n",
      "6 : 2 : 16.50\n",
      "7 : 2 : 22.50\n",
      "8 : 2 : 14.50\n",
      "9 : 1 : 15.00\n",
      "10 : 3 : 15.67\n",
      "11 : 4 : 27.75\n",
      "12 : 3 : 17.67\n",
      "13 : 4 : 18.75\n",
      "14 : 5 : 16.40\n",
      "15 : 9 : 12.11\n",
      "16 : 10 : 10.40\n",
      "17 : 16 : 11.50\n",
      "18 : 24 : 13.83\n",
      "19 : 22 : 9.36\n",
      "20 : 32 : 10.50\n",
      "21 : 33 : 8.76\n",
      "22 : 37 : 7.97\n",
      "23 : 42 : 8.52\n",
      "24 : 52 : 7.73\n",
      "25 : 57 : 8.51\n",
      "26 : 55 : 7.47\n",
      "27 : 61 : 8.77\n",
      "28 : 69 : 8.68\n",
      "29 : 62 : 6.85\n",
      "30 : 77 : 7.17\n",
      "31 : 63 : 7.46\n",
      "32 : 75 : 7.63\n",
      "33 : 67 : 7.27\n",
      "34 : 72 : 8.25\n",
      "35 : 82 : 7.71\n",
      "36 : 69 : 7.28\n",
      "37 : 74 : 5.97\n",
      "38 : 76 : 5.53\n",
      "39 : 64 : 6.55\n",
      "40 : 77 : 7.38\n",
      "41 : 64 : 6.50\n",
      "42 : 71 : 6.83\n",
      "43 : 65 : 8.31\n",
      "44 : 56 : 8.48\n",
      "45 : 68 : 9.16\n",
      "46 : 57 : 8.89\n",
      "47 : 58 : 8.60\n",
      "48 : 62 : 8.45\n",
      "49 : 53 : 8.60\n",
      "50 : 63 : 7.41\n",
      "51 : 57 : 8.49\n",
      "52 : 62 : 9.05\n",
      "53 : 50 : 7.50\n",
      "54 : 51 : 8.53\n",
      "55 : 59 : 8.49\n",
      "56 : 45 : 9.22\n",
      "57 : 49 : 9.63\n",
      "58 : 49 : 9.14\n",
      "59 : 43 : 8.91\n",
      "60 : 49 : 11.22\n",
      "61 : 41 : 9.17\n",
      "62 : 48 : 9.54\n",
      "63 : 44 : 9.18\n",
      "64 : 39 : 8.90\n",
      "65 : 46 : 8.59\n",
      "66 : 35 : 8.40\n",
      "67 : 35 : 10.49\n",
      "68 : 43 : 8.26\n",
      "69 : 30 : 9.90\n",
      "70 : 43 : 9.26\n",
      "71 : 29 : 12.34\n",
      "72 : 35 : 8.89\n",
      "73 : 31 : 12.32\n",
      "74 : 28 : 11.14\n",
      "75 : 32 : 12.28\n",
      "76 : 22 : 13.55\n",
      "77 : 21 : 13.10\n",
      "78 : 21 : 16.05\n",
      "79 : 15 : 14.73\n",
      "80 : 18 : 16.78\n",
      "81 : 15 : 22.33\n",
      "82 : 14 : 18.93\n",
      "83 : 11 : 15.09\n",
      "84 : 9 : 21.33\n",
      "85 : 12 : 21.83\n",
      "86 : 7 : 16.86\n",
      "87 : 6 : 23.83\n",
      "88 : 4 : 14.75\n",
      "89 : 4 : 25.75\n",
      "90 : 4 : 23.25\n",
      "91 : 3 : 11.67\n",
      "92 : 2 : 17.00\n",
      "93 : 3 : 24.67\n",
      "94 : 1 : 9.00\n",
      "95 : 2 : 18.50\n",
      "96 : 1 : 31.00\n",
      "97 : 1 : 45.00\n",
      "98 : 1 : 13.00\n",
      "99 : 1 : 34.00\n",
      "100 : 1 : 62.00\n",
      "101 : 1 : 36.00\n"
     ]
    }
   ],
   "source": [
    "sample_per_class = findAge(test_image_list)\n",
    "print('Age: Test Sample: Loss')\n",
    "for i in range(1, 102):\n",
    "    if sample_per_class[i] == 0:\n",
    "        print(i,' No Sample')\n",
    "    else:\n",
    "        print(i,':', sample_per_class[i],':', format(loss_per_class[i].item()/sample_per_class[i],'.2f'))"
   ]
  },
  {
   "cell_type": "code",
   "execution_count": null,
   "id": "cf0b1434",
   "metadata": {},
   "outputs": [],
   "source": []
  }
 ],
 "metadata": {
  "kernelspec": {
   "display_name": "Python 3",
   "language": "python",
   "name": "python3"
  },
  "language_info": {
   "codemirror_mode": {
    "name": "ipython",
    "version": 3
   },
   "file_extension": ".py",
   "mimetype": "text/x-python",
   "name": "python",
   "nbconvert_exporter": "python",
   "pygments_lexer": "ipython3",
   "version": "3.8.8"
  },
  "varInspector": {
   "cols": {
    "lenName": 16,
    "lenType": 16,
    "lenVar": 40
   },
   "kernels_config": {
    "python": {
     "delete_cmd_postfix": "",
     "delete_cmd_prefix": "del ",
     "library": "var_list.py",
     "varRefreshCmd": "print(var_dic_list())"
    },
    "r": {
     "delete_cmd_postfix": ") ",
     "delete_cmd_prefix": "rm(",
     "library": "var_list.r",
     "varRefreshCmd": "cat(var_dic_list()) "
    }
   },
   "types_to_exclude": [
    "module",
    "function",
    "builtin_function_or_method",
    "instance",
    "_Feature"
   ],
   "window_display": false
  }
 },
 "nbformat": 4,
 "nbformat_minor": 5
}
