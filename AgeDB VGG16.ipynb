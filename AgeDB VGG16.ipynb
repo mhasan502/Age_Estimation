{
 "cells": [
  {
   "cell_type": "code",
   "execution_count": 1,
   "id": "413a690f",
   "metadata": {
    "ExecuteTime": {
     "end_time": "2021-08-25T15:40:14.930548Z",
     "start_time": "2021-08-25T15:40:13.053952Z"
    }
   },
   "outputs": [],
   "source": [
    "import os\n",
    "import torch\n",
    "from torch import nn\n",
    "from torch.utils.data import DataLoader, Dataset\n",
    "import torchvision\n",
    "from torchvision.transforms import ToTensor, Compose, Grayscale, Resize, CenterCrop\n",
    "import matplotlib.pyplot as plt\n",
    "from PIL import Image\n",
    "from parse import parse\n",
    "from custom_loader import AgeDBDataset\n",
    "from custom_loss_functions import AngularPenaltySMLoss\n",
    "\n",
    "import warnings\n",
    "warnings.filterwarnings(\"ignore\")"
   ]
  },
  {
   "cell_type": "code",
   "execution_count": 2,
   "id": "75887262",
   "metadata": {
    "ExecuteTime": {
     "end_time": "2021-08-25T15:40:14.946546Z",
     "start_time": "2021-08-25T15:40:14.931549Z"
    }
   },
   "outputs": [],
   "source": [
    "# hyper params\n",
    "num_of_class = 79\n",
    "hidden_unit = 256\n",
    "learning_rate = 1e-04\n",
    "batch_size = 20\n",
    "device = torch.device(\"cuda\")"
   ]
  },
  {
   "cell_type": "code",
   "execution_count": 3,
   "id": "1540c5d9",
   "metadata": {
    "ExecuteTime": {
     "end_time": "2021-08-25T15:40:15.725077Z",
     "start_time": "2021-08-25T15:40:14.947548Z"
    }
   },
   "outputs": [],
   "source": [
    "dataset = AgeDBDataset(\n",
    "    directory = 'AgeDB/',\n",
    "    transform = Compose([\n",
    "        Resize(size=(224, 224)),\n",
    "        CenterCrop(size=224),\n",
    "        Grayscale(num_output_channels=3),\n",
    "        ToTensor(),\n",
    "    ]),\n",
    "    device = device,\n",
    ")"
   ]
  },
  {
   "cell_type": "code",
   "execution_count": 4,
   "id": "7d952b89",
   "metadata": {
    "ExecuteTime": {
     "end_time": "2021-08-25T15:40:15.741077Z",
     "start_time": "2021-08-25T15:40:15.726077Z"
    }
   },
   "outputs": [],
   "source": [
    "train_set, validation_set, test_set = dataset.get_loaders(\n",
    "    batch_size=batch_size,\n",
    "    train_size=0.8,\n",
    "    test_size=0.2,\n",
    ")"
   ]
  },
  {
   "cell_type": "code",
   "execution_count": 5,
   "id": "58ff47ee",
   "metadata": {
    "ExecuteTime": {
     "end_time": "2021-08-25T15:40:15.757077Z",
     "start_time": "2021-08-25T15:40:15.742076Z"
    }
   },
   "outputs": [],
   "source": [
    "def conv_layer(chann_in, chann_out, k_size, p_size):\n",
    "    layer = nn.Sequential(\n",
    "        nn.Conv2d(chann_in, chann_out, kernel_size=k_size, padding=p_size),\n",
    "        nn.BatchNorm2d(chann_out),\n",
    "        nn.ReLU()\n",
    "    )\n",
    "    return layer\n",
    "\n",
    "def vgg_conv_block(in_list, out_list, k_list, p_list, pooling_k, pooling_s):\n",
    "\n",
    "    layers = [ conv_layer(in_list[i], out_list[i], k_list[i], p_list[i]) for i in range(len(in_list)) ]\n",
    "    layers += [ nn.MaxPool2d(kernel_size = pooling_k, stride = pooling_s)]\n",
    "    return nn.Sequential(*layers)\n",
    "\n",
    "def vgg_fc_layer(size_in, size_out):\n",
    "    layer = nn.Sequential(\n",
    "        nn.Linear(size_in, size_out),\n",
    "        nn.BatchNorm1d(size_out),\n",
    "        nn.ReLU()\n",
    "    )\n",
    "    return layer\n",
    "\n",
    "class VGG16(nn.Module):\n",
    "    def __init__(self, n_classes):\n",
    "        super(VGG16, self).__init__()\n",
    "\n",
    "        # Conv blocks (BatchNorm + ReLU activation added in each block)\n",
    "        self.layer1 = vgg_conv_block([3,64], [64,64], [3,3], [1,1], 2, 2)\n",
    "        self.layer2 = vgg_conv_block([64,128], [128,128], [3,3], [1,1], 2, 2)\n",
    "        self.layer3 = vgg_conv_block([128,256,256], [256,256,256], [3,3,3], [1,1,1], 2, 2)\n",
    "        self.layer4 = vgg_conv_block([256,512,512], [512,512,512], [3,3,3], [1,1,1], 2, 2)\n",
    "        self.layer5 = vgg_conv_block([512,512,512], [512,512,512], [3,3,3], [1,1,1], 2, 2)\n",
    "\n",
    "        # FC layers\n",
    "        self.layer6 = vgg_fc_layer(7*7*512, 4096)\n",
    "        self.layer7 = vgg_fc_layer(4096, 4096)\n",
    "\n",
    "        # Final layer\n",
    "        self.layer8 = nn.Linear(4096, n_classes)\n",
    "\n",
    "    def forward(self, x):\n",
    "        out = self.layer1(x)\n",
    "        out = self.layer2(out)\n",
    "        out = self.layer3(out)\n",
    "        out = self.layer4(out)\n",
    "        vgg16_features = self.layer5(out)\n",
    "        out = vgg16_features.view(out.size(0), -1)\n",
    "        out = self.layer6(out)\n",
    "        out = self.layer7(out)\n",
    "        out = self.layer8(out)\n",
    "\n",
    "        return vgg16_features, out"
   ]
  },
  {
   "cell_type": "code",
   "execution_count": 6,
   "id": "d0851e39",
   "metadata": {
    "ExecuteTime": {
     "end_time": "2021-08-25T15:40:18.467161Z",
     "start_time": "2021-08-25T15:40:15.758077Z"
    }
   },
   "outputs": [],
   "source": [
    "vgg = VGG16(n_classes=num_of_class).cuda()"
   ]
  },
  {
   "cell_type": "code",
   "execution_count": 7,
   "id": "8bdec10c",
   "metadata": {
    "ExecuteTime": {
     "end_time": "2021-08-25T15:40:18.482161Z",
     "start_time": "2021-08-25T15:40:18.469164Z"
    }
   },
   "outputs": [],
   "source": [
    "criteria = nn.CrossEntropyLoss()\n",
    "optimizer = torch.optim.Adam(vgg.parameters(), lr=learning_rate)\n",
    "scheduler = torch.optim.lr_scheduler.ReduceLROnPlateau(optimizer)"
   ]
  },
  {
   "cell_type": "code",
   "execution_count": 8,
   "id": "151e8c9f",
   "metadata": {
    "ExecuteTime": {
     "end_time": "2021-08-25T15:40:18.497162Z",
     "start_time": "2021-08-25T15:40:18.483163Z"
    }
   },
   "outputs": [],
   "source": [
    "# Training loop\n",
    "def train(model, optimizer, criterion, train_loader, num_of_epoch):\n",
    "    total_step = len(train_loader)\n",
    "    for epoch in range(num_of_epoch):\n",
    "        for i, (imgs, labels) in enumerate(train_loader):\n",
    "            imgs = imgs.cuda()\n",
    "            labels = torch.as_tensor(labels['age']).cuda()\n",
    "            \n",
    "            _, outputs = model(imgs)\n",
    "            loss = criterion(outputs, labels)\n",
    "            optimizer.zero_grad()\n",
    "            loss.backward()\n",
    "            optimizer.step()\n",
    "            \n",
    "            if (i+1)%total_step == 0:\n",
    "                print(f\"Epoch: {epoch+1}/{num_of_epoch}, Step: {i+1}/{total_step}, Loss: {loss.item()}\")\n"
   ]
  },
  {
   "cell_type": "code",
   "execution_count": 9,
   "id": "6f648704",
   "metadata": {
    "ExecuteTime": {
     "end_time": "2021-08-25T16:35:26.028375Z",
     "start_time": "2021-08-25T15:40:18.498162Z"
    }
   },
   "outputs": [
    {
     "name": "stdout",
     "output_type": "stream",
     "text": [
      "Epoch: 1/20, Step: 621/621, Loss: 4.444716453552246\n",
      "Epoch: 2/20, Step: 621/621, Loss: 4.202805995941162\n",
      "Epoch: 3/20, Step: 621/621, Loss: 3.780808687210083\n",
      "Epoch: 4/20, Step: 621/621, Loss: 3.52059268951416\n",
      "Epoch: 5/20, Step: 621/621, Loss: 2.850433826446533\n",
      "Epoch: 6/20, Step: 621/621, Loss: 1.4405899047851562\n",
      "Epoch: 7/20, Step: 621/621, Loss: 0.38975122570991516\n",
      "Epoch: 8/20, Step: 621/621, Loss: 0.2013775110244751\n",
      "Epoch: 9/20, Step: 621/621, Loss: 0.8949185013771057\n",
      "Epoch: 10/20, Step: 621/621, Loss: 0.05358529090881348\n",
      "Epoch: 11/20, Step: 621/621, Loss: 0.09512737393379211\n",
      "Epoch: 12/20, Step: 621/621, Loss: 0.05894378945231438\n",
      "Epoch: 13/20, Step: 621/621, Loss: 0.04485530033707619\n",
      "Epoch: 14/20, Step: 621/621, Loss: 0.009176983498036861\n",
      "Epoch: 15/20, Step: 621/621, Loss: 0.056666482239961624\n",
      "Epoch: 16/20, Step: 621/621, Loss: 0.13331864774227142\n",
      "Epoch: 17/20, Step: 621/621, Loss: 0.009017972275614738\n",
      "Epoch: 18/20, Step: 621/621, Loss: 0.01849314011633396\n",
      "Epoch: 19/20, Step: 621/621, Loss: 0.011452178470790386\n",
      "Epoch: 20/20, Step: 621/621, Loss: 0.05174904316663742\n"
     ]
    }
   ],
   "source": [
    "train(vgg, optimizer, criteria, train_set, num_of_epoch=20)"
   ]
  },
  {
   "cell_type": "code",
   "execution_count": 12,
   "id": "5630929f",
   "metadata": {
    "ExecuteTime": {
     "end_time": "2021-08-25T16:36:56.361885Z",
     "start_time": "2021-08-25T16:36:56.354887Z"
    }
   },
   "outputs": [],
   "source": [
    "# Evaluation\n",
    "def eval(model, test_loader):\n",
    "    with torch.no_grad():\n",
    "        correct = 0\n",
    "        total = 0\n",
    "        error = torch.zeros(0).to(device)\n",
    "        for imgs, labels in test_loader:\n",
    "            imgs = imgs.to(device)\n",
    "            labels = torch.as_tensor(labels['age']).to(device)\n",
    "            _, outputs = model(imgs)\n",
    "            \n",
    "            _, pred = torch.max(outputs.data, 1)\n",
    "\n",
    "            error = torch.cat([error, torch.abs(\n",
    "                torch.subtract(torch.reshape(labels, (-1,)), torch.reshape(pred, (-1,)))\n",
    "            )])\n",
    "            \n",
    "            total += labels.size(0)\n",
    "            correct += (pred == labels).sum().item()\n",
    "            \n",
    "    print(f\"Accuracy: {(100*correct)/total}%\")\n",
    "    print(f\"Mean Absolute Error: {(torch.mean(error))}\")\n",
    "    print(f\"Minimum: {torch.min(error)}, Maximum: {torch.max(error)}, Median: {torch.median(error)}\")"
   ]
  },
  {
   "cell_type": "code",
   "execution_count": 13,
   "id": "771b4c99",
   "metadata": {
    "ExecuteTime": {
     "end_time": "2021-08-25T16:37:17.300550Z",
     "start_time": "2021-08-25T16:36:58.445552Z"
    }
   },
   "outputs": [
    {
     "name": "stdout",
     "output_type": "stream",
     "text": [
      "Accuracy: 3.6428110896196%\n",
      "Mean Absolute Error: 12.029980659484863\n",
      "Minimum: 0.0, Maximum: 55.0, Median: 10.0\n"
     ]
    }
   ],
   "source": [
    "eval(vgg, test_set)"
   ]
  },
  {
   "cell_type": "code",
   "execution_count": 14,
   "id": "d4a319b7",
   "metadata": {
    "ExecuteTime": {
     "end_time": "2021-08-25T16:38:42.543244Z",
     "start_time": "2021-08-25T16:37:31.189246Z"
    }
   },
   "outputs": [
    {
     "name": "stdout",
     "output_type": "stream",
     "text": [
      "Accuracy: 35.29980657640232%\n",
      "Mean Absolute Error: 8.027965545654297\n",
      "Minimum: 0.0, Maximum: 58.0, Median: 4.0\n"
     ]
    }
   ],
   "source": [
    "eval(vgg, train_set)"
   ]
  },
  {
   "cell_type": "code",
   "execution_count": null,
   "id": "172c7638",
   "metadata": {},
   "outputs": [],
   "source": []
  }
 ],
 "metadata": {
  "kernelspec": {
   "display_name": "Python 3",
   "language": "python",
   "name": "python3"
  },
  "language_info": {
   "codemirror_mode": {
    "name": "ipython",
    "version": 3
   },
   "file_extension": ".py",
   "mimetype": "text/x-python",
   "name": "python",
   "nbconvert_exporter": "python",
   "pygments_lexer": "ipython3",
   "version": "3.8.8"
  },
  "varInspector": {
   "cols": {
    "lenName": 16,
    "lenType": 16,
    "lenVar": 40
   },
   "kernels_config": {
    "python": {
     "delete_cmd_postfix": "",
     "delete_cmd_prefix": "del ",
     "library": "var_list.py",
     "varRefreshCmd": "print(var_dic_list())"
    },
    "r": {
     "delete_cmd_postfix": ") ",
     "delete_cmd_prefix": "rm(",
     "library": "var_list.r",
     "varRefreshCmd": "cat(var_dic_list()) "
    }
   },
   "types_to_exclude": [
    "module",
    "function",
    "builtin_function_or_method",
    "instance",
    "_Feature"
   ],
   "window_display": false
  }
 },
 "nbformat": 4,
 "nbformat_minor": 5
}
