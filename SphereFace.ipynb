{
 "cells": [
  {
   "cell_type": "code",
   "execution_count": 1,
   "id": "06aabb63",
   "metadata": {
    "ExecuteTime": {
     "end_time": "2021-09-20T15:50:10.763028Z",
     "start_time": "2021-09-20T15:50:07.197029Z"
    },
    "hide_input": false
   },
   "outputs": [],
   "source": [
    "import torch\n",
    "from torch import nn\n",
    "import pretrainedmodels\n",
    "\n",
    "from utils.train import train\n",
    "from utils.evaluation import evaluation\n",
    "from utils.loader import get_loader, get_image_list\n",
    "from utils.losses import CostSensitiveRegularizedLoss\n",
    "\n",
    "import warnings\n",
    "warnings.filterwarnings(\"ignore\", category=UserWarning)\n",
    "warnings.filterwarnings(\"ignore\", category=DeprecationWarning)"
   ]
  },
  {
   "cell_type": "code",
   "execution_count": 2,
   "id": "cb64b0db",
   "metadata": {
    "ExecuteTime": {
     "end_time": "2021-09-20T15:50:10.778030Z",
     "start_time": "2021-09-20T15:50:10.764029Z"
    },
    "hide_input": false
   },
   "outputs": [],
   "source": [
    "# hyper params\n",
    "num_of_class = 102\n",
    "learning_rate = 1e-04\n",
    "batch_size = 128\n",
    "input_size = 224\n",
    "device = torch.device(\"cuda\")\n",
    "test_size = 0.2\n",
    "train_size = 0.7\n",
    "val_size = 0.1\n",
    "directoryAgeDB = 'AgeDB/'"
   ]
  },
  {
   "cell_type": "code",
   "execution_count": 3,
   "id": "6d920459",
   "metadata": {
    "ExecuteTime": {
     "end_time": "2021-09-20T15:50:10.794030Z",
     "start_time": "2021-09-20T15:50:10.779029Z"
    },
    "code_folding": [],
    "hide_input": false
   },
   "outputs": [],
   "source": [
    "def findAge(image_list):\n",
    "    listofzeros = [0] * 102\n",
    "    same_age = [i for i in range(0, 102)]\n",
    "    age_number = dict(zip(same_age, listofzeros))\n",
    "    sum = 0\n",
    "\n",
    "    for i in range(len(image_list)):\n",
    "\n",
    "        if image_list[i]['age'] in age_number:\n",
    "            age_number[image_list[i]['age']] += 1\n",
    "            sum += 1\n",
    "\n",
    "    print(sum)\n",
    "    return dict(age_number)\n"
   ]
  },
  {
   "cell_type": "code",
   "execution_count": 4,
   "id": "f8ae2b44",
   "metadata": {
    "ExecuteTime": {
     "end_time": "2021-09-20T15:51:38.310917Z",
     "start_time": "2021-09-20T15:50:10.795030Z"
    },
    "hide_input": false
   },
   "outputs": [
    {
     "data": {
      "application/vnd.jupyter.widget-view+json": {
       "model_id": "2bcb82c69c9547ccb3e48822cc4955b6",
       "version_major": 2,
       "version_minor": 0
      },
      "text/plain": [
       "  0%|          | 0/11541 [00:00<?, ?it/s]"
      ]
     },
     "metadata": {},
     "output_type": "display_data"
    },
    {
     "name": "stdout",
     "output_type": "stream",
     "text": [
      "Train Set Length:  34623\n",
      "Test Set Length:  3298\n",
      "Validation Set Length:  1649\n",
      "Total:  39570\n"
     ]
    }
   ],
   "source": [
    "train_image_list, test_image_list, validate_image_list = get_image_list(\n",
    "    train_size=train_size, \n",
    "    test_size=test_size, \n",
    "    val_size=val_size, \n",
    "    directory=directoryAgeDB,\n",
    ")\n",
    "\n",
    "train_loader, test_loader, validation_loader = get_loader(\n",
    "    input_size=input_size,\n",
    "    train_image_list=train_image_list,\n",
    "    test_image_list=test_image_list, \n",
    "    validate_image_list=validate_image_list, \n",
    "    batch_size=batch_size,\n",
    "    train_augment=3,\n",
    ")"
   ]
  },
  {
   "cell_type": "code",
   "execution_count": 5,
   "id": "5641b0b5",
   "metadata": {
    "ExecuteTime": {
     "end_time": "2021-09-20T15:51:41.483913Z",
     "start_time": "2021-09-20T15:51:38.312914Z"
    },
    "code_folding": [],
    "hide_input": false
   },
   "outputs": [],
   "source": [
    "resnet1 = pretrainedmodels.resnet18(pretrained='imagenet')\n",
    "resnet1.last_linear = nn.Linear(\n",
    "    in_features=resnet1.last_linear.in_features, \n",
    "    out_features=num_of_class, \n",
    "    bias=False\n",
    ")\n",
    "resnet2 = pretrainedmodels.resnet18(pretrained='imagenet')\n",
    "resnet2.last_linear = nn.Linear(\n",
    "    in_features=resnet2.last_linear.in_features, \n",
    "    out_features=num_of_class, \n",
    "    bias=False\n",
    ")\n",
    "resnet1 = resnet1.to(device)\n",
    "resnet2 = resnet2.to(device)"
   ]
  },
  {
   "cell_type": "code",
   "execution_count": 6,
   "id": "3ca9b2a2",
   "metadata": {
    "ExecuteTime": {
     "end_time": "2021-09-20T15:51:41.547913Z",
     "start_time": "2021-09-20T15:51:41.484914Z"
    },
    "hide_input": false
   },
   "outputs": [],
   "source": [
    "from pytorch_metric_learning.losses import SphereFaceLoss\n",
    "criteria = SphereFaceLoss(num_classes=num_of_class, embedding_size=num_of_class)\n",
    "optimizer = torch.optim.Adam(resnet1.parameters(), lr=learning_rate, weight_decay=1e-1)\n",
    "model_name = 'sphereface-aug.pth'"
   ]
  },
  {
   "cell_type": "code",
   "execution_count": 7,
   "id": "6ed4bb3e",
   "metadata": {
    "ExecuteTime": {
     "end_time": "2021-09-20T15:58:56.717803Z",
     "start_time": "2021-09-20T15:51:41.549914Z"
    },
    "hide_input": false
   },
   "outputs": [
    {
     "name": "stdout",
     "output_type": "stream",
     "text": [
      "Epoch: 1/5, Train Loss: 5.672906119005266,  Validation Loss: 4.748769173255334\n",
      "Validation Loss Decreased(inf ---> 4.748769173255334)\n",
      "Epoch: 2/5, Train Loss: 4.736126952505639,  Validation Loss: 4.7393861917349005\n",
      "Validation Loss Decreased(4.748769173255334 ---> 4.7393861917349005)\n",
      "Epoch: 3/5, Train Loss: 4.728127349346766,  Validation Loss: 4.705525838411772\n",
      "Validation Loss Decreased(4.7393861917349005 ---> 4.705525838411772)\n",
      "Epoch: 4/5, Train Loss: 4.6991641389487855,  Validation Loss: 4.723685447986309\n",
      "Epoch: 5/5, Train Loss: 4.682548040833421,  Validation Loss: 4.688868559323824\n",
      "Validation Loss Decreased(4.705525838411772 ---> 4.688868559323824)\n"
     ]
    },
    {
     "data": {
      "image/png": "[encoded data removed]",
      "text/plain": [
       "<Figure size 432x288 with 1 Axes>"
      ]
     },
     "metadata": {
      "needs_background": "light"
     },
     "output_type": "display_data"
    }
   ],
   "source": [
    "train(resnet1, optimizer, criteria, train_loader, validation_loader, num_of_epoch=5, model_name=model_name)"
   ]
  },
  {
   "cell_type": "code",
   "execution_count": 8,
   "id": "10b735ef",
   "metadata": {
    "ExecuteTime": {
     "end_time": "2021-09-20T15:59:37.834802Z",
     "start_time": "2021-09-20T15:58:56.719801Z"
    }
   },
   "outputs": [
    {
     "name": "stdout",
     "output_type": "stream",
     "text": [
      "Mean Absolute Error: 19.155548095703125\n",
      "Minimum: 0.0, Maximum: 73.0, Median: 16.0\n",
      "Mean Absolute Error: 19.04196548461914\n",
      "Minimum: 0.0, Maximum: 68.0, Median: 16.0\n"
     ]
    }
   ],
   "source": [
    "resnet1.load_state_dict(torch.load(model_name))\n",
    "loss_per_class = evaluation(resnet1, test_loader)\n",
    "_ = evaluation(resnet1, train_loader)"
   ]
  },
  {
   "cell_type": "code",
   "execution_count": 9,
   "id": "6452b440",
   "metadata": {
    "ExecuteTime": {
     "end_time": "2021-09-20T15:59:37.895799Z",
     "start_time": "2021-09-20T15:59:37.835801Z"
    }
   },
   "outputs": [
    {
     "name": "stdout",
     "output_type": "stream",
     "text": [
      "3298\n",
      "Age: Test Sample: Loss\n",
      "1 : 1 : 26.00\n",
      "2  No Sample\n",
      "3 : 2 : 24.00\n",
      "4 : 1 : 23.00\n",
      "5 : 1 : 22.00\n",
      "6 : 2 : 30.00\n",
      "7 : 2 : 20.00\n",
      "8 : 2 : 19.00\n",
      "9 : 1 : 18.00\n",
      "10 : 3 : 17.00\n",
      "11 : 4 : 20.50\n",
      "12 : 3 : 15.00\n",
      "13 : 4 : 14.00\n",
      "14 : 5 : 13.00\n",
      "15 : 9 : 12.00\n",
      "16 : 10 : 15.10\n",
      "17 : 16 : 15.12\n",
      "18 : 24 : 12.75\n",
      "19 : 22 : 10.68\n",
      "20 : 32 : 12.22\n",
      "21 : 33 : 7.64\n",
      "22 : 37 : 6.46\n",
      "23 : 42 : 7.86\n",
      "24 : 52 : 5.87\n",
      "25 : 57 : 5.33\n",
      "26 : 55 : 4.45\n",
      "27 : 61 : 3.20\n",
      "28 : 69 : 3.78\n",
      "29 : 62 : 4.19\n",
      "30 : 77 : 5.56\n",
      "31 : 63 : 6.38\n",
      "32 : 75 : 7.05\n",
      "33 : 67 : 6.99\n",
      "34 : 72 : 7.68\n",
      "35 : 82 : 8.49\n",
      "36 : 69 : 9.00\n",
      "37 : 74 : 9.65\n",
      "38 : 76 : 10.26\n",
      "39 : 64 : 10.69\n",
      "40 : 77 : 11.68\n",
      "41 : 64 : 12.98\n",
      "42 : 71 : 13.28\n",
      "43 : 65 : 13.49\n",
      "44 : 56 : 14.61\n",
      "45 : 68 : 14.99\n",
      "46 : 57 : 16.84\n",
      "47 : 58 : 17.83\n",
      "48 : 62 : 17.52\n",
      "49 : 53 : 18.21\n",
      "50 : 63 : 19.13\n",
      "51 : 57 : 17.28\n",
      "52 : 62 : 21.77\n",
      "53 : 50 : 22.36\n",
      "54 : 51 : 21.96\n",
      "55 : 59 : 22.56\n",
      "56 : 45 : 25.29\n",
      "57 : 49 : 25.76\n",
      "58 : 49 : 26.96\n",
      "59 : 43 : 30.33\n",
      "60 : 49 : 29.86\n",
      "61 : 41 : 29.80\n",
      "62 : 48 : 30.83\n",
      "63 : 44 : 30.16\n",
      "64 : 39 : 33.51\n",
      "65 : 46 : 32.91\n",
      "66 : 35 : 32.63\n",
      "67 : 35 : 37.43\n",
      "68 : 43 : 38.91\n",
      "69 : 30 : 36.87\n",
      "70 : 43 : 38.70\n",
      "71 : 29 : 38.69\n",
      "72 : 35 : 38.69\n",
      "73 : 31 : 40.45\n",
      "74 : 28 : 39.39\n",
      "75 : 32 : 43.34\n",
      "76 : 22 : 41.18\n",
      "77 : 21 : 45.48\n",
      "78 : 21 : 45.38\n",
      "79 : 15 : 48.40\n",
      "80 : 18 : 49.72\n",
      "81 : 15 : 44.40\n",
      "82 : 14 : 49.86\n",
      "83 : 11 : 52.27\n",
      "84 : 9 : 52.44\n",
      "85 : 12 : 53.50\n",
      "86 : 7 : 50.57\n",
      "87 : 6 : 54.00\n",
      "88 : 4 : 56.50\n",
      "89 : 4 : 53.00\n",
      "90 : 4 : 54.00\n",
      "91 : 3 : 64.00\n",
      "92 : 2 : 65.00\n",
      "93 : 3 : 66.00\n",
      "94 : 1 : 67.00\n",
      "95 : 2 : 56.50\n",
      "96 : 1 : 46.00\n",
      "97 : 1 : 70.00\n",
      "98 : 1 : 71.00\n",
      "99 : 1 : 72.00\n",
      "100 : 1 : 73.00\n",
      "101 : 1 : 56.00\n"
     ]
    }
   ],
   "source": [
    "sample_per_class = findAge(test_image_list)\n",
    "print('Age: Test Sample: Loss')\n",
    "for i in range(1, 102):\n",
    "    if sample_per_class[i] == 0:\n",
    "        print(i,' No Sample')\n",
    "    else:\n",
    "        print(i,':', sample_per_class[i],':', format(loss_per_class[i].item()/sample_per_class[i],'.2f'))"
   ]
  },
  {
   "cell_type": "code",
   "execution_count": 11,
   "id": "38bb6666",
   "metadata": {
    "ExecuteTime": {
     "end_time": "2021-09-20T16:04:22.057710Z",
     "start_time": "2021-09-20T16:01:40.899534Z"
    }
   },
   "outputs": [
    {
     "data": {
      "application/vnd.jupyter.widget-view+json": {
       "model_id": "a42b9d802dba4b06b6574a65e0c2411b",
       "version_major": 2,
       "version_minor": 0
      },
      "text/plain": [
       "  0%|          | 0/11541 [00:00<?, ?it/s]"
      ]
     },
     "metadata": {},
     "output_type": "display_data"
    },
    {
     "name": "stdout",
     "output_type": "stream",
     "text": [
      "Train Set Length:  11541\n",
      "Test Set Length:  3298\n",
      "Validation Set Length:  1649\n",
      "Total:  16488\n",
      "Epoch: 1/5, Train Loss: 7.428118946788075,  Validation Loss: 4.907127600449782\n",
      "Validation Loss Decreased(inf ---> 4.907127600449782)\n",
      "Epoch: 2/5, Train Loss: 4.816846606495616,  Validation Loss: 4.794305031116192\n",
      "Validation Loss Decreased(4.907127600449782 ---> 4.794305031116192)\n",
      "Epoch: 3/5, Train Loss: 4.753860861390502,  Validation Loss: 4.7399570391728325\n",
      "Validation Loss Decreased(4.794305031116192 ---> 4.7399570391728325)\n",
      "Epoch: 4/5, Train Loss: 4.7397076690589985,  Validation Loss: 4.802999276381272\n",
      "Epoch: 5/5, Train Loss: 4.740888637500805,  Validation Loss: 4.7230054048391485\n",
      "Validation Loss Decreased(4.7399570391728325 ---> 4.7230054048391485)\n"
     ]
    },
    {
     "data": {
      "image/png": "[encoded data removed]",
      "text/plain": [
       "<Figure size 432x288 with 1 Axes>"
      ]
     },
     "metadata": {
      "needs_background": "light"
     },
     "output_type": "display_data"
    }
   ],
   "source": [
    "train_loader, test_loader, validation_loader = get_loader(\n",
    "    input_size=input_size,\n",
    "    train_image_list=train_image_list,\n",
    "    test_image_list=test_image_list, \n",
    "    validate_image_list=validate_image_list, \n",
    "    batch_size=batch_size,\n",
    "    train_augment=1,\n",
    ")\n",
    "criteria = SphereFaceLoss(num_classes=num_of_class, embedding_size=num_of_class)\n",
    "optimizer = torch.optim.Adam(resnet2.parameters(), lr=learning_rate, weight_decay=1e-1)\n",
    "model_name = 'sphereface.pth'\n",
    "train(resnet2, optimizer, criteria, train_loader, validation_loader, num_of_epoch=5, model_name=model_name)"
   ]
  },
  {
   "cell_type": "code",
   "execution_count": 12,
   "id": "647a89b6",
   "metadata": {
    "ExecuteTime": {
     "end_time": "2021-09-20T16:04:56.402077Z",
     "start_time": "2021-09-20T16:04:26.203451Z"
    }
   },
   "outputs": [
    {
     "name": "stdout",
     "output_type": "stream",
     "text": [
      "Mean Absolute Error: 31.811098098754883\n",
      "Minimum: 0.0, Maximum: 97.0, Median: 30.0\n",
      "Mean Absolute Error: 31.848365783691406\n",
      "Minimum: 0.0, Maximum: 98.0, Median: 31.0\n"
     ]
    }
   ],
   "source": [
    "resnet2.load_state_dict(torch.load(model_name))\n",
    "loss_per_class = evaluation(resnet2, test_loader)\n",
    "_ = evaluation(resnet2, train_loader)"
   ]
  },
  {
   "cell_type": "code",
   "execution_count": 13,
   "id": "4cac931a",
   "metadata": {
    "ExecuteTime": {
     "end_time": "2021-09-20T16:05:10.894722Z",
     "start_time": "2021-09-20T16:05:10.797723Z"
    }
   },
   "outputs": [
    {
     "name": "stdout",
     "output_type": "stream",
     "text": [
      "3298\n",
      "Age: Test Sample: Loss\n",
      "1 : 1 : 59.00\n",
      "2  No Sample\n",
      "3 : 2 : 38.50\n",
      "4 : 1 : 97.00\n",
      "5 : 1 : 18.00\n",
      "6 : 2 : 76.50\n",
      "7 : 2 : 73.00\n",
      "8 : 2 : 20.50\n",
      "9 : 1 : 64.00\n",
      "10 : 3 : 75.33\n",
      "11 : 4 : 47.25\n",
      "12 : 3 : 60.00\n",
      "13 : 4 : 48.75\n",
      "14 : 5 : 27.60\n",
      "15 : 9 : 43.67\n",
      "16 : 10 : 38.30\n",
      "17 : 16 : 53.06\n",
      "18 : 24 : 45.71\n",
      "19 : 22 : 51.27\n",
      "20 : 32 : 51.47\n",
      "21 : 33 : 37.36\n",
      "22 : 37 : 38.65\n",
      "23 : 42 : 48.12\n",
      "24 : 52 : 41.23\n",
      "25 : 57 : 36.07\n",
      "26 : 55 : 43.96\n",
      "27 : 61 : 34.67\n",
      "28 : 69 : 38.93\n",
      "29 : 62 : 40.66\n",
      "30 : 77 : 36.45\n",
      "31 : 63 : 40.02\n",
      "32 : 75 : 39.23\n",
      "33 : 67 : 34.96\n",
      "34 : 72 : 37.75\n",
      "35 : 82 : 31.06\n",
      "36 : 69 : 33.78\n",
      "37 : 74 : 31.66\n",
      "38 : 76 : 32.97\n",
      "39 : 64 : 32.77\n",
      "40 : 77 : 33.17\n",
      "41 : 64 : 31.16\n",
      "42 : 71 : 31.49\n",
      "43 : 65 : 30.22\n",
      "44 : 56 : 33.52\n",
      "45 : 68 : 29.97\n",
      "46 : 57 : 33.23\n",
      "47 : 58 : 27.86\n",
      "48 : 62 : 28.52\n",
      "49 : 53 : 29.28\n",
      "50 : 63 : 31.70\n",
      "51 : 57 : 30.95\n",
      "52 : 62 : 29.66\n",
      "53 : 50 : 29.22\n",
      "54 : 51 : 29.04\n",
      "55 : 59 : 27.36\n",
      "56 : 45 : 25.16\n",
      "57 : 49 : 25.51\n",
      "58 : 49 : 26.16\n",
      "59 : 43 : 24.63\n",
      "60 : 49 : 29.39\n",
      "61 : 41 : 23.85\n",
      "62 : 48 : 23.27\n",
      "63 : 44 : 19.48\n",
      "64 : 39 : 25.00\n",
      "65 : 46 : 23.22\n",
      "66 : 35 : 17.94\n",
      "67 : 35 : 24.46\n",
      "68 : 43 : 19.26\n",
      "69 : 30 : 16.83\n",
      "70 : 43 : 21.02\n",
      "71 : 29 : 27.86\n",
      "72 : 35 : 21.91\n",
      "73 : 31 : 32.65\n",
      "74 : 28 : 28.43\n",
      "75 : 32 : 20.22\n",
      "76 : 22 : 26.23\n",
      "77 : 21 : 34.62\n",
      "78 : 21 : 31.57\n",
      "79 : 15 : 22.40\n",
      "80 : 18 : 35.39\n",
      "81 : 15 : 15.40\n",
      "82 : 14 : 16.00\n",
      "83 : 11 : 28.00\n",
      "84 : 9 : 26.78\n",
      "85 : 12 : 19.83\n",
      "86 : 7 : 35.86\n",
      "87 : 6 : 39.00\n",
      "88 : 4 : 37.50\n",
      "89 : 4 : 42.50\n",
      "90 : 4 : 25.75\n",
      "91 : 3 : 11.00\n",
      "92 : 2 : 3.00\n",
      "93 : 3 : 21.33\n",
      "94 : 1 : 21.00\n",
      "95 : 2 : 17.50\n",
      "96 : 1 : 4.00\n",
      "97 : 1 : 96.00\n",
      "98 : 1 : 42.00\n",
      "99 : 1 : 30.00\n",
      "100 : 1 : 44.00\n",
      "101 : 1 : 32.00\n"
     ]
    }
   ],
   "source": [
    "sample_per_class = findAge(test_image_list)\n",
    "print('Age: Test Sample: Loss')\n",
    "for i in range(1, 102):\n",
    "    if sample_per_class[i] == 0:\n",
    "        print(i,' No Sample')\n",
    "    else:\n",
    "        print(i,':', sample_per_class[i],':', format(loss_per_class[i].item()/sample_per_class[i],'.2f'))"
   ]
  },
  {
   "cell_type": "code",
   "execution_count": null,
   "id": "92c44ac5",
   "metadata": {},
   "outputs": [],
   "source": []
  }
 ],
 "metadata": {
  "kernelspec": {
   "display_name": "Python 3",
   "language": "python",
   "name": "python3"
  },
  "language_info": {
   "codemirror_mode": {
    "name": "ipython",
    "version": 3
   },
   "file_extension": ".py",
   "mimetype": "text/x-python",
   "name": "python",
   "nbconvert_exporter": "python",
   "pygments_lexer": "ipython3",
   "version": "3.8.8"
  },
  "varInspector": {
   "cols": {
    "lenName": 16,
    "lenType": 16,
    "lenVar": 40
   },
   "kernels_config": {
    "python": {
     "delete_cmd_postfix": "",
     "delete_cmd_prefix": "del ",
     "library": "var_list.py",
     "varRefreshCmd": "print(var_dic_list())"
    },
    "r": {
     "delete_cmd_postfix": ") ",
     "delete_cmd_prefix": "rm(",
     "library": "var_list.r",
     "varRefreshCmd": "cat(var_dic_list()) "
    }
   },
   "types_to_exclude": [
    "module",
    "function",
    "builtin_function_or_method",
    "instance",
    "_Feature"
   ],
   "window_display": false
  }
 },
 "nbformat": 4,
 "nbformat_minor": 5
}
