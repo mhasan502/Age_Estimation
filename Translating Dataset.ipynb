{
 "cells": [
  {
   "cell_type": "code",
   "execution_count": null,
   "id": "cae5f418",
   "metadata": {
    "ExecuteTime": {
     "end_time": "2021-07-09T13:43:09.971265Z",
     "start_time": "2021-07-09T13:43:09.589269Z"
    }
   },
   "outputs": [],
   "source": [
    "import time\n",
    "import pandas\n",
    "import threading\n",
    "from selenium import webdriver"
   ]
  },
  {
   "cell_type": "code",
   "execution_count": null,
   "id": "2c9b1e08",
   "metadata": {
    "ExecuteTime": {
     "end_time": "2021-07-09T13:43:10.998989Z",
     "start_time": "2021-07-09T13:43:09.972268Z"
    }
   },
   "outputs": [],
   "source": [
    "op = webdriver.ChromeOptions()\n",
    "op.add_argument('headless')\n",
    "driver = webdriver.Chrome('chromedriver.exe', options=op)"
   ]
  },
  {
   "cell_type": "code",
   "execution_count": null,
   "id": "aac7f4b8",
   "metadata": {
    "ExecuteTime": {
     "end_time": "2021-07-09T13:43:11.043988Z",
     "start_time": "2021-07-09T13:43:10.999988Z"
    }
   },
   "outputs": [],
   "source": [
    "file = pandas.read_csv('captions.csv')\n",
    "file['translated'] = file['caption']"
   ]
  },
  {
   "cell_type": "code",
   "execution_count": null,
   "id": "67947cd9",
   "metadata": {
    "ExecuteTime": {
     "end_time": "2021-07-09T14:11:17.187663Z",
     "start_time": "2021-07-09T14:11:17.179664Z"
    }
   },
   "outputs": [],
   "source": [
    "def translate(data, key):\n",
    "    driver.get('https://translate.google.com/?sl=en&tl=bn&op=translate')\n",
    "\n",
    "    input = driver.find_element_by_tag_name('textarea')\n",
    "    input.click()\n",
    "\n",
    "    input.send_keys(data)\n",
    "    time.sleep(1)\n",
    "    try:\n",
    "        output = driver.find_element_by_class_name('ChMk0b')\n",
    "    except Exception:\n",
    "        time.sleep(1)\n",
    "        try: \n",
    "            output = driver.find_element_by_class_name('JLqJ4b')\n",
    "        except Exception:\n",
    "            time.sleep(1)\n",
    "            output = driver.find_element_by_class_name('ChMk0b')\n",
    "        \n",
    "    output.find_element_by_tag_name('span')\n",
    "\n",
    "    file['translated'][key] = output.text"
   ]
  },
  {
   "cell_type": "code",
   "execution_count": null,
   "id": "82d5a1fa",
   "metadata": {
    "ExecuteTime": {
     "end_time": "2021-07-09T14:25:52.667659Z",
     "start_time": "2021-07-09T14:11:19.493153Z"
    }
   },
   "outputs": [],
   "source": [
    "for i in range(0, len(file), 2):\n",
    "    threading.Thread(target=translate(file['caption'][i], i)).start()\n",
    "    threading.Thread(target=translate(file['caption'][i+1], i+1)).start()\n",
    "    if i%10 == 0:\n",
    "        print(i)"
   ]
  },
  {
   "cell_type": "code",
   "execution_count": null,
   "id": "f0502872",
   "metadata": {
    "ExecuteTime": {
     "end_time": "2021-07-09T14:26:25.168660Z",
     "start_time": "2021-07-09T14:26:25.012664Z"
    }
   },
   "outputs": [],
   "source": [
    "file.to_csv('captions.csv')"
   ]
  }
 ],
 "metadata": {
  "kernelspec": {
   "display_name": "Python 3",
   "language": "python",
   "name": "python3"
  },
  "language_info": {
   "codemirror_mode": {
    "name": "ipython",
    "version": 3
   },
   "file_extension": ".py",
   "mimetype": "text/x-python",
   "name": "python",
   "nbconvert_exporter": "python",
   "pygments_lexer": "ipython3",
   "version": "3.8.8"
  },
  "varInspector": {
   "cols": {
    "lenName": 16,
    "lenType": 16,
    "lenVar": 40
   },
   "kernels_config": {
    "python": {
     "delete_cmd_postfix": "",
     "delete_cmd_prefix": "del ",
     "library": "var_list.py",
     "varRefreshCmd": "print(var_dic_list())"
    },
    "r": {
     "delete_cmd_postfix": ") ",
     "delete_cmd_prefix": "rm(",
     "library": "var_list.r",
     "varRefreshCmd": "cat(var_dic_list()) "
    }
   },
   "types_to_exclude": [
    "module",
    "function",
    "builtin_function_or_method",
    "instance",
    "_Feature"
   ],
   "window_display": false
  }
 },
 "nbformat": 4,
 "nbformat_minor": 5
}
