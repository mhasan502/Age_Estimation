{
 "cells": [
  {
   "cell_type": "markdown",
   "id": "883b7204",
   "metadata": {},
   "source": [
    "# Loading Dataset"
   ]
  },
  {
   "cell_type": "code",
   "execution_count": 1,
   "id": "26fad128",
   "metadata": {
    "ExecuteTime": {
     "end_time": "2021-07-23T15:18:15.245118Z",
     "start_time": "2021-07-23T15:18:14.372119Z"
    }
   },
   "outputs": [],
   "source": [
    "import torch\n",
    "from torch import nn\n",
    "from torch.utils.data import DataLoader, Dataset\n",
    "from torchvision import datasets\n",
    "import torchvision\n",
    "from torchvision.transforms import ToTensor\n",
    "import matplotlib.pyplot as plt\n",
    "\n",
    "from custom_loader import AgeDBDataset, AgeDBHandler"
   ]
  },
  {
   "cell_type": "code",
   "execution_count": 2,
   "id": "22e46102",
   "metadata": {
    "ExecuteTime": {
     "end_time": "2021-07-23T15:18:15.797120Z",
     "start_time": "2021-07-23T15:18:15.246119Z"
    }
   },
   "outputs": [],
   "source": [
    "dataset = AgeDBDataset(\n",
    "    directory = 'AgeDB/',\n",
    "    transform = ToTensor(),\n",
    "    device = torch.device(\"cuda\") if torch.cuda.is_available() else torch.device(\"cpu\")\n",
    ")"
   ]
  },
  {
   "cell_type": "markdown",
   "id": "08823bf0",
   "metadata": {},
   "source": [
    "Dataset Length"
   ]
  },
  {
   "cell_type": "code",
   "execution_count": 3,
   "id": "c09b60fc",
   "metadata": {
    "ExecuteTime": {
     "end_time": "2021-07-23T15:18:15.813117Z",
     "start_time": "2021-07-23T15:18:15.798119Z"
    }
   },
   "outputs": [
    {
     "data": {
      "text/plain": [
       "16488"
      ]
     },
     "execution_count": 3,
     "metadata": {},
     "output_type": "execute_result"
    }
   ],
   "source": [
    "len(dataset)"
   ]
  },
  {
   "cell_type": "code",
   "execution_count": 4,
   "id": "4575e442",
   "metadata": {
    "ExecuteTime": {
     "end_time": "2021-07-23T15:18:15.828118Z",
     "start_time": "2021-07-23T15:18:15.814121Z"
    }
   },
   "outputs": [
    {
     "data": {
      "text/plain": [
       "{'age': 35, 'gender': 1}"
      ]
     },
     "execution_count": 4,
     "metadata": {},
     "output_type": "execute_result"
    }
   ],
   "source": [
    "dataset.labels[0]"
   ]
  },
  {
   "cell_type": "markdown",
   "id": "cb8a1858",
   "metadata": {},
   "source": [
    "# Visualize Dataset Attribute (Age, Gender)"
   ]
  },
  {
   "cell_type": "code",
   "execution_count": null,
   "id": "14c8f21c",
   "metadata": {},
   "outputs": [],
   "source": []
  }
 ],
 "metadata": {
  "kernelspec": {
   "display_name": "Python 3",
   "language": "python",
   "name": "python3"
  },
  "language_info": {
   "codemirror_mode": {
    "name": "ipython",
    "version": 3
   },
   "file_extension": ".py",
   "mimetype": "text/x-python",
   "name": "python",
   "nbconvert_exporter": "python",
   "pygments_lexer": "ipython3",
   "version": "3.8.8"
  },
  "varInspector": {
   "cols": {
    "lenName": 16,
    "lenType": 16,
    "lenVar": 40
   },
   "kernels_config": {
    "python": {
     "delete_cmd_postfix": "",
     "delete_cmd_prefix": "del ",
     "library": "var_list.py",
     "varRefreshCmd": "print(var_dic_list())"
    },
    "r": {
     "delete_cmd_postfix": ") ",
     "delete_cmd_prefix": "rm(",
     "library": "var_list.r",
     "varRefreshCmd": "cat(var_dic_list()) "
    }
   },
   "types_to_exclude": [
    "module",
    "function",
    "builtin_function_or_method",
    "instance",
    "_Feature"
   ],
   "window_display": false
  }
 },
 "nbformat": 4,
 "nbformat_minor": 5
}
