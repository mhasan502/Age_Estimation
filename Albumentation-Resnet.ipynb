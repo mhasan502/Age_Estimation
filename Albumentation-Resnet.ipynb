{
 "cells": [
  {
   "cell_type": "code",
   "execution_count": 1,
   "id": "06aabb63",
   "metadata": {
    "ExecuteTime": {
     "end_time": "2021-08-28T11:22:51.868828Z",
     "start_time": "2021-08-28T11:22:49.533829Z"
    }
   },
   "outputs": [],
   "source": [
    "import os\n",
    "import sys\n",
    "import numpy as np\n",
    "from PIL import Image\n",
    "from tqdm import tqdm\n",
    "from parse import parse\n",
    "from autocrop import Cropper\n",
    "from IPython.display import clear_output\n",
    "\n",
    "import torch\n",
    "import torch.nn.functional as F\n",
    "from torch import nn\n",
    "from torch.utils.data import DataLoader, Dataset\n",
    "import pretrainedmodels\n",
    "import torchvision\n",
    "from torchvision import datasets\n",
    "from torchvision.transforms import ToTensor, Compose, Scale, Grayscale, Resize, transforms\n",
    "import matplotlib.pyplot as plt\n",
    "import cv2\n",
    "import albumentations as A\n",
    "from albumentations.pytorch import ToTensorV2\n",
    "from custom_loader import AgeDBDataset\n",
    "import warnings\n",
    "warnings.filterwarnings(\"ignore\")"
   ]
  },
  {
   "cell_type": "code",
   "execution_count": 2,
   "id": "cb64b0db",
   "metadata": {
    "ExecuteTime": {
     "end_time": "2021-08-28T11:22:51.884827Z",
     "start_time": "2021-08-28T11:22:51.870828Z"
    }
   },
   "outputs": [],
   "source": [
    "# hyper params\n",
    "num_of_class = 102\n",
    "learning_rate = 1e-03\n",
    "batch_size = 64\n",
    "input_size = 64\n",
    "device = torch.device(\"cuda\")"
   ]
  },
  {
   "cell_type": "code",
   "execution_count": 3,
   "id": "277b6da0",
   "metadata": {
    "ExecuteTime": {
     "end_time": "2021-08-28T11:22:51.899826Z",
     "start_time": "2021-08-28T11:22:51.885828Z"
    }
   },
   "outputs": [],
   "source": [
    "transformA = A.Compose([\n",
    "    A.Resize(input_size, input_size),\n",
    "    A.ToGray(p=1),\n",
    "    A.Rotate(limit=10, p=0.3),\n",
    "    A.HorizontalFlip(p=0.4),\n",
    "    A.OpticalDistortion(p=0.2),\n",
    "    A.OneOf([\n",
    "        A.Blur(blur_limit=3, p=0.2),\n",
    "        A.ColorJitter(p=0.2),\n",
    "    ], p=0.2),\n",
    "    ToTensorV2()\n",
    "])"
   ]
  },
  {
   "cell_type": "code",
   "execution_count": 4,
   "id": "13e2a987",
   "metadata": {
    "ExecuteTime": {
     "end_time": "2021-08-28T11:22:51.915828Z",
     "start_time": "2021-08-28T11:22:51.900827Z"
    }
   },
   "outputs": [],
   "source": [
    "### --- AgeDB Dataset Class --- ###           {}_{person}_{age}_{gender}.jpg\n",
    "\n",
    "\n",
    "class AgeDBDataset(Dataset):\n",
    "\n",
    "    ## data loading\n",
    "    def __init__(self, directory, device, transform=None, **kwargs):\n",
    "        self.directory = directory\n",
    "        self.transform = transform\n",
    "        self.device = device\n",
    "        self.labels = []\n",
    "        self.images = []\n",
    "\n",
    "        gender_to_class_id = {'m': 0, 'f': 1}\n",
    "\n",
    "        for i, file in enumerate(sorted(os.listdir(self.directory))):\n",
    "            file_labels = parse('{}_{}_{age}_{gender}.jpg', file)\n",
    "\n",
    "            if file_labels is None:\n",
    "                continue\n",
    "\n",
    "            image = Image.open(os.path.join(self.directory,\n",
    "                                            file)).convert('RGB')\n",
    "\n",
    "            ########\n",
    "            cropper = Cropper()\n",
    "\n",
    "            try:\n",
    "                #Get a Numpy array of the cropped image\n",
    "                cropped_array = cropper.crop(image)\n",
    "                #Save the cropped image with PIL\n",
    "                image = Image.fromarray(cropped_array)\n",
    "\n",
    "            except:\n",
    "                pass\n",
    "\n",
    "            image = np.array(image)\n",
    "\n",
    "            for i in range(10):\n",
    "                augmented_images = self.transform(image=image)['image']\n",
    "                self.images.append(augmented_images)\n",
    "                ########\n",
    "                gender = gender_to_class_id[file_labels['gender']]\n",
    "                age = int(file_labels['age'])\n",
    "                self.labels.append({\n",
    "                    'age': age,\n",
    "                    'gender': gender\n",
    "                })\n",
    "\n",
    "## len(dataset)\n",
    "\n",
    "    def __len__(self):\n",
    "        return len(self.labels)\n",
    "\n",
    "## dataset[0]\n",
    "\n",
    "    def __getitem__(self, index):\n",
    "        if torch.is_tensor(index):\n",
    "            index = index.tolist()\n",
    "\n",
    "        image = self.images[index]\n",
    "\n",
    "        labels = {\n",
    "            'age': self.labels[index]['age'],\n",
    "            'gender': self.labels[index]['gender']\n",
    "        }\n",
    "\n",
    "        return image.to(self.device), labels\n",
    "\n",
    "\n",
    "## DataLoaders - train, validate, test\n",
    "\n",
    "    def get_loaders(self, batch_size, train_size, test_size, random_seed,\n",
    "                    **kwargs):\n",
    "        train_len = int(len(self) * train_size)\n",
    "        test_len = int(len(self) * test_size)\n",
    "        validate_len = len(self) - (train_len + test_len)\n",
    "\n",
    "        self.trainDataset, self.validateDataset, self.testDataset = torch.utils.data.random_split(\n",
    "            dataset=self,\n",
    "            lengths=[train_len, validate_len, test_len],\n",
    "            generator=torch.Generator().manual_seed(random_seed))\n",
    "\n",
    "        train_loader = DataLoader(self.trainDataset, batch_size=batch_size)\n",
    "        validate_loader = DataLoader(self.validateDataset,\n",
    "                                     batch_size=batch_size)\n",
    "        test_loader = DataLoader(self.testDataset, batch_size=batch_size)\n",
    "\n",
    "        return train_loader, validate_loader, test_loader"
   ]
  },
  {
   "cell_type": "code",
   "execution_count": 5,
   "id": "6de83481",
   "metadata": {
    "ExecuteTime": {
     "end_time": "2021-08-28T11:23:50.360663Z",
     "start_time": "2021-08-28T11:22:51.916830Z"
    }
   },
   "outputs": [],
   "source": [
    "dataset = AgeDBDataset(\n",
    "    directory='AgeDB/',\n",
    "    transform=transformA,\n",
    "    device=device,\n",
    ")"
   ]
  },
  {
   "cell_type": "code",
   "execution_count": 6,
   "id": "64cc1bff",
   "metadata": {
    "ExecuteTime": {
     "end_time": "2021-08-28T11:23:50.376663Z",
     "start_time": "2021-08-28T11:23:50.362665Z"
    }
   },
   "outputs": [],
   "source": [
    "train_set, validation_set, test_set = dataset.get_loaders(\n",
    "    batch_size=batch_size,\n",
    "    train_size=0.8,\n",
    "    test_size=0.2,\n",
    "    random_seed=42,\n",
    ")"
   ]
  },
  {
   "cell_type": "code",
   "execution_count": 7,
   "id": "b5f3a0e6",
   "metadata": {
    "ExecuteTime": {
     "end_time": "2021-08-28T11:23:50.391664Z",
     "start_time": "2021-08-28T11:23:50.379663Z"
    }
   },
   "outputs": [
    {
     "data": {
      "text/plain": [
       "164880"
      ]
     },
     "execution_count": 7,
     "metadata": {},
     "output_type": "execute_result"
    }
   ],
   "source": [
    "len(dataset)"
   ]
  },
  {
   "cell_type": "code",
   "execution_count": 12,
   "id": "5641b0b5",
   "metadata": {
    "ExecuteTime": {
     "end_time": "2021-08-28T11:25:58.148666Z",
     "start_time": "2021-08-28T11:25:57.582666Z"
    }
   },
   "outputs": [],
   "source": [
    "resnetModel = pretrainedmodels.resnet34(pretrained='imagenet')\n",
    "resnetModel.last_linear = nn.Linear(in_features=resnetModel.last_linear.in_features, out_features=num_of_class, bias=True)\n",
    "resnetModel = resnetModel.to(device)"
   ]
  },
  {
   "cell_type": "code",
   "execution_count": 13,
   "id": "fed7d490",
   "metadata": {
    "ExecuteTime": {
     "end_time": "2021-08-28T11:25:58.900667Z",
     "start_time": "2021-08-28T11:25:58.882668Z"
    }
   },
   "outputs": [],
   "source": [
    "# Training loop\n",
    "def train(model, optimizer, criterion, train_loader, num_of_epoch):\n",
    "    total_step = len(train_loader)\n",
    "    for epoch in range(num_of_epoch):\n",
    "        for i, (imgs, labels) in enumerate(train_loader):\n",
    "            imgs = imgs.to(device).float()\n",
    "            labels = torch.as_tensor(labels['age']).to(device)\n",
    "            \n",
    "            outputs = model(imgs)\n",
    "            loss = criterion(outputs, labels)\n",
    "            optimizer.zero_grad()\n",
    "            loss.backward()\n",
    "            optimizer.step()\n",
    "            \n",
    "            if (i+1)%total_step == 0:\n",
    "                print(f\"Epoch: {epoch+1}/{num_of_epoch}, Step: {i+1}/{total_step}, Loss: {loss.item()}\")"
   ]
  },
  {
   "cell_type": "code",
   "execution_count": 14,
   "id": "3ca9b2a2",
   "metadata": {
    "ExecuteTime": {
     "end_time": "2021-08-28T11:25:59.549665Z",
     "start_time": "2021-08-28T11:25:59.543669Z"
    }
   },
   "outputs": [],
   "source": [
    "criteria = nn.CrossEntropyLoss() \n",
    "optimizer = torch.optim.Adam(resnetModel.parameters(), lr=learning_rate)"
   ]
  },
  {
   "cell_type": "code",
   "execution_count": 15,
   "id": "6ed4bb3e",
   "metadata": {
    "ExecuteTime": {
     "end_time": "2021-08-28T12:32:22.206900Z",
     "start_time": "2021-08-28T11:26:00.142668Z"
    },
    "scrolled": false
   },
   "outputs": [
    {
     "name": "stdout",
     "output_type": "stream",
     "text": [
      "Epoch: 1/20, Step: 2061/2061, Loss: 3.8577325344085693\n",
      "Epoch: 2/20, Step: 2061/2061, Loss: 3.726562023162842\n",
      "Epoch: 3/20, Step: 2061/2061, Loss: 3.5070724487304688\n",
      "Epoch: 4/20, Step: 2061/2061, Loss: 2.6795244216918945\n",
      "Epoch: 5/20, Step: 2061/2061, Loss: 0.9963527917861938\n",
      "Epoch: 6/20, Step: 2061/2061, Loss: 0.16348445415496826\n",
      "Epoch: 7/20, Step: 2061/2061, Loss: 0.13690418004989624\n",
      "Epoch: 8/20, Step: 2061/2061, Loss: 0.33322766423225403\n",
      "Epoch: 9/20, Step: 2061/2061, Loss: 0.11664505302906036\n",
      "Epoch: 10/20, Step: 2061/2061, Loss: 0.09028708189725876\n",
      "Epoch: 11/20, Step: 2061/2061, Loss: 0.07487917691469193\n",
      "Epoch: 12/20, Step: 2061/2061, Loss: 0.12027671188116074\n",
      "Epoch: 13/20, Step: 2061/2061, Loss: 0.08534736186265945\n",
      "Epoch: 14/20, Step: 2061/2061, Loss: 0.02192077599465847\n",
      "Epoch: 15/20, Step: 2061/2061, Loss: 0.013929445296525955\n",
      "Epoch: 16/20, Step: 2061/2061, Loss: 0.04301967844367027\n",
      "Epoch: 17/20, Step: 2061/2061, Loss: 0.02017836831510067\n",
      "Epoch: 18/20, Step: 2061/2061, Loss: 0.009957249276340008\n",
      "Epoch: 19/20, Step: 2061/2061, Loss: 0.08410195261240005\n",
      "Epoch: 20/20, Step: 2061/2061, Loss: 0.005151677876710892\n"
     ]
    }
   ],
   "source": [
    "train(resnetModel, optimizer, criteria, train_set, num_of_epoch=20)"
   ]
  },
  {
   "cell_type": "code",
   "execution_count": 16,
   "id": "e42f1efb",
   "metadata": {
    "ExecuteTime": {
     "end_time": "2021-08-28T12:38:50.856446Z",
     "start_time": "2021-08-28T12:38:50.841444Z"
    }
   },
   "outputs": [],
   "source": [
    "# Evaluation\n",
    "def eval(model, test_loader):\n",
    "    with torch.no_grad():\n",
    "        correct = 0\n",
    "        total = 0\n",
    "        error = torch.zeros(0).to(device)\n",
    "        for imgs, labels in test_loader:\n",
    "            imgs = imgs.to(device).float()\n",
    "            labels = torch.as_tensor(labels['age']).to(device)\n",
    "            outputs = model(imgs)\n",
    "            \n",
    "            _, pred = torch.max(outputs.data, 1)\n",
    "\n",
    "            error = torch.cat([error, torch.abs(\n",
    "                torch.subtract(torch.reshape(labels, (-1,)), torch.reshape(pred, (-1,)))\n",
    "            )])\n",
    "                        \n",
    "            total += labels.size(0)\n",
    "            correct += (pred == labels).sum().item()\n",
    "            \n",
    "    print(f\"Accuracy: {(100*correct)/total}%\")\n",
    "    print(f\"Mean Absolute Error: {(torch.mean(error))}\")\n",
    "    print(f\"Minimum: {torch.min(error)}, Maximum: {torch.max(error)}, Median: {torch.median(error)}\")"
   ]
  },
  {
   "cell_type": "code",
   "execution_count": 17,
   "id": "10b735ef",
   "metadata": {
    "ExecuteTime": {
     "end_time": "2021-08-28T12:39:01.153443Z",
     "start_time": "2021-08-28T12:38:52.553452Z"
    }
   },
   "outputs": [
    {
     "name": "stdout",
     "output_type": "stream",
     "text": [
      "Accuracy: 91.62421154779233%\n",
      "Mean Absolute Error: 0.9190016984939575\n",
      "Minimum: 0.0, Maximum: 62.0, Median: 0.0\n"
     ]
    }
   ],
   "source": [
    "eval(resnetModel, test_set)"
   ]
  },
  {
   "cell_type": "code",
   "execution_count": 18,
   "id": "96d5fe78",
   "metadata": {
    "ExecuteTime": {
     "end_time": "2021-08-28T12:39:36.646083Z",
     "start_time": "2021-08-28T12:39:09.258083Z"
    }
   },
   "outputs": [
    {
     "name": "stdout",
     "output_type": "stream",
     "text": [
      "Accuracy: 99.05385735080058%\n",
      "Mean Absolute Error: 0.09923125803470612\n",
      "Minimum: 0.0, Maximum: 58.0, Median: 0.0\n"
     ]
    }
   ],
   "source": [
    "eval(resnetModel, train_set)"
   ]
  },
  {
   "cell_type": "code",
   "execution_count": 23,
   "id": "aa5931ad",
   "metadata": {
    "ExecuteTime": {
     "end_time": "2021-08-28T13:11:44.012645Z",
     "start_time": "2021-08-28T13:11:43.818271Z"
    }
   },
   "outputs": [],
   "source": [
    "torch.save(resnetModel.state_dict(), 'ResNetModel.pth')"
   ]
  },
  {
   "cell_type": "code",
   "execution_count": null,
   "id": "808e862a",
   "metadata": {},
   "outputs": [],
   "source": []
  }
 ],
 "metadata": {
  "kernelspec": {
   "display_name": "Python 3",
   "language": "python",
   "name": "python3"
  },
  "language_info": {
   "codemirror_mode": {
    "name": "ipython",
    "version": 3
   },
   "file_extension": ".py",
   "mimetype": "text/x-python",
   "name": "python",
   "nbconvert_exporter": "python",
   "pygments_lexer": "ipython3",
   "version": "3.8.8"
  },
  "varInspector": {
   "cols": {
    "lenName": 16,
    "lenType": 16,
    "lenVar": 40
   },
   "kernels_config": {
    "python": {
     "delete_cmd_postfix": "",
     "delete_cmd_prefix": "del ",
     "library": "var_list.py",
     "varRefreshCmd": "print(var_dic_list())"
    },
    "r": {
     "delete_cmd_postfix": ") ",
     "delete_cmd_prefix": "rm(",
     "library": "var_list.r",
     "varRefreshCmd": "cat(var_dic_list()) "
    }
   },
   "types_to_exclude": [
    "module",
    "function",
    "builtin_function_or_method",
    "instance",
    "_Feature"
   ],
   "window_display": false
  }
 },
 "nbformat": 4,
 "nbformat_minor": 5
}
