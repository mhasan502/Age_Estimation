{
 "cells": [
  {
   "cell_type": "code",
   "execution_count": 1,
   "id": "06aabb63",
   "metadata": {
    "ExecuteTime": {
     "end_time": "2021-09-06T20:47:02.137815Z",
     "start_time": "2021-09-06T20:47:00.395814Z"
    }
   },
   "outputs": [],
   "source": [
    "import os\n",
    "import sys\n",
    "import numpy as np\n",
    "from PIL import Image\n",
    "from tqdm import tqdm\n",
    "from parse import parse\n",
    "from autocrop import Cropper\n",
    "import pretrainedmodels\n",
    "from kornia.losses import FocalLoss, BinaryFocalLossWithLogits\n",
    "\n",
    "import torch\n",
    "import torch.nn.functional as F\n",
    "from torch import nn\n",
    "from torch.utils.data import DataLoader, Dataset\n",
    "\n",
    "import torchvision\n",
    "from torchvision import datasets\n",
    "import torchvision.models as models\n",
    "from torchvision.transforms import ToTensor, Compose, Scale, Grayscale, Resize, transforms\n",
    "\n",
    "import cv2\n",
    "import albumentations as A\n",
    "from albumentations.pytorch import ToTensorV2\n",
    "import warnings\n",
    "warnings.filterwarnings(\"ignore\")"
   ]
  },
  {
   "cell_type": "code",
   "execution_count": 2,
   "id": "cb64b0db",
   "metadata": {
    "ExecuteTime": {
     "end_time": "2021-09-06T20:47:02.152813Z",
     "start_time": "2021-09-06T20:47:02.138815Z"
    }
   },
   "outputs": [],
   "source": [
    "# hyper params\n",
    "num_of_class = 102\n",
    "learning_rate = 1e-03\n",
    "batch_size = 128\n",
    "input_size = 64\n",
    "device = torch.device(\"cuda\")"
   ]
  },
  {
   "cell_type": "code",
   "execution_count": 3,
   "id": "277b6da0",
   "metadata": {
    "ExecuteTime": {
     "end_time": "2021-09-06T20:47:02.167813Z",
     "start_time": "2021-09-06T20:47:02.153816Z"
    }
   },
   "outputs": [],
   "source": [
    "Augmentation = A.Compose([\n",
    "    A.Resize(input_size, input_size),\n",
    "    A.ToGray(p=1),\n",
    "    A.Rotate(limit=10, p=0.3),\n",
    "    A.HorizontalFlip(p=0.4),\n",
    "    A.OpticalDistortion(p=0.2),\n",
    "    A.OneOf([\n",
    "        A.Blur(blur_limit=3, p=0.2),\n",
    "        A.ColorJitter(p=0.2),\n",
    "    ], p=0.2),\n",
    "    ToTensorV2()\n",
    "])"
   ]
  },
  {
   "cell_type": "code",
   "execution_count": 4,
   "id": "13e2a987",
   "metadata": {
    "ExecuteTime": {
     "end_time": "2021-09-06T20:47:02.183854Z",
     "start_time": "2021-09-06T20:47:02.168814Z"
    },
    "code_folding": [
     2,
     44,
     58
    ]
   },
   "outputs": [],
   "source": [
    "class AgeDBDataset(Dataset):\n",
    "\n",
    "    def __init__(self, directory, device, transform=None, **kwargs):\n",
    "        self.directory = directory\n",
    "        self.transform = transform\n",
    "        self.device = device\n",
    "        self.labels = []\n",
    "        self.images = []\n",
    "\n",
    "        gender_to_class_id = {'m': 0, 'f': 1}\n",
    "\n",
    "        for i, file in enumerate(sorted(os.listdir(self.directory))):\n",
    "            file_labels = parse('{}_{}_{age}_{gender}.jpg', file)\n",
    "\n",
    "            if file_labels is None:\n",
    "                continue\n",
    "\n",
    "            image = Image.open(os.path.join(self.directory, file)).convert('RGB')\n",
    "\n",
    "            \n",
    "            cropper = Cropper()\n",
    "\n",
    "            try:\n",
    "                cropped_array = cropper.crop(image)\n",
    "                image = Image.fromarray(cropped_array)\n",
    "\n",
    "            except:\n",
    "                pass\n",
    "\n",
    "            image = np.array(image)\n",
    "\n",
    "            augmented_images = self.transform(image=image)['image']\n",
    "            self.images.append(augmented_images)\n",
    "\n",
    "            gender = gender_to_class_id[file_labels['gender']]\n",
    "            age = int(file_labels['age'])\n",
    "            self.labels.append({\n",
    "                'age': age,\n",
    "                'gender': gender\n",
    "            })\n",
    "\n",
    "    def __len__(self):\n",
    "        return len(self.labels)\n",
    "\n",
    "    def __getitem__(self, index):\n",
    "        if torch.is_tensor(index):\n",
    "            index = index.tolist()\n",
    "\n",
    "        image = self.images[index]\n",
    "\n",
    "        labels = {\n",
    "            'age': self.labels[index]['age'],\n",
    "            'gender': self.labels[index]['gender']\n",
    "        }\n",
    "\n",
    "        return image.to(self.device), labels\n",
    "\n",
    "\n",
    "    def get_loaders(self, batch_size, train_size, test_size, **kwargs):\n",
    "        train_len = int(len(self) * train_size)\n",
    "        test_len = int(len(self) * test_size)\n",
    "        validate_len = len(self) - (train_len + test_len)\n",
    "\n",
    "        self.trainDataset, self.validateDataset, self.testDataset = torch.utils.data.random_split(\n",
    "            dataset=self,\n",
    "            lengths=[train_len, validate_len, test_len],\n",
    "            generator=torch.Generator().manual_seed(42)\n",
    "        )\n",
    "\n",
    "        train_loader = DataLoader(\n",
    "            self.trainDataset, batch_size=batch_size, shuffle=True,\n",
    "        )\n",
    "        validate_loader = DataLoader(\n",
    "            self.validateDataset, batch_size=batch_size, shuffle=True,\n",
    "        )\n",
    "        test_loader = DataLoader(\n",
    "            self.testDataset, batch_size=batch_size, shuffle=True,\n",
    "        )\n",
    "\n",
    "        return train_loader, validate_loader, test_loader"
   ]
  },
  {
   "cell_type": "code",
   "execution_count": 5,
   "id": "6de83481",
   "metadata": {
    "ExecuteTime": {
     "end_time": "2021-09-06T20:47:16.000857Z",
     "start_time": "2021-09-06T20:47:02.184856Z"
    }
   },
   "outputs": [],
   "source": [
    "dataset = AgeDBDataset(\n",
    "    directory='AgeDB/',\n",
    "    transform=Augmentation,\n",
    "    device=device,\n",
    ")"
   ]
  },
  {
   "cell_type": "code",
   "execution_count": 6,
   "id": "64cc1bff",
   "metadata": {
    "ExecuteTime": {
     "end_time": "2021-09-06T20:47:16.016855Z",
     "start_time": "2021-09-06T20:47:16.001856Z"
    }
   },
   "outputs": [],
   "source": [
    "train_set, validation_set, test_set = dataset.get_loaders(\n",
    "    batch_size=batch_size,\n",
    "    train_size=0.7,\n",
    "    test_size=0.1,\n",
    ")"
   ]
  },
  {
   "cell_type": "code",
   "execution_count": 7,
   "id": "b5f3a0e6",
   "metadata": {
    "ExecuteTime": {
     "end_time": "2021-09-06T20:47:16.032856Z",
     "start_time": "2021-09-06T20:47:16.018855Z"
    }
   },
   "outputs": [
    {
     "data": {
      "text/plain": [
       "16488"
      ]
     },
     "execution_count": 7,
     "metadata": {},
     "output_type": "execute_result"
    }
   ],
   "source": [
    "len(dataset)"
   ]
  },
  {
   "cell_type": "code",
   "execution_count": 8,
   "id": "5641b0b5",
   "metadata": {
    "ExecuteTime": {
     "end_time": "2021-09-06T20:47:17.769856Z",
     "start_time": "2021-09-06T20:47:16.033857Z"
    }
   },
   "outputs": [],
   "source": [
    "resnetModel = pretrainedmodels.resnet18(pretrained='imagenet')\n",
    "resnetModel.last_linear = nn.Linear(in_features=resnetModel.last_linear.in_features, out_features=num_of_class, bias=False)\n",
    "resnetModel = resnetModel.to(device)"
   ]
  },
  {
   "cell_type": "code",
   "execution_count": 9,
   "id": "fed7d490",
   "metadata": {
    "ExecuteTime": {
     "end_time": "2021-09-06T20:47:17.785857Z",
     "start_time": "2021-09-06T20:47:17.770856Z"
    },
    "code_folding": []
   },
   "outputs": [],
   "source": [
    "# Training loop\n",
    "def train(model, optimizer, criterion, train_loader, valid_loader, num_of_epoch):\n",
    "    total_step = len(train_loader)\n",
    "    min_valid_loss = np.inf\n",
    "\n",
    "    for epoch in range(num_of_epoch):\n",
    "        train_loss = 0.0\n",
    "        valid_loss = 0.0\n",
    "        for i, (imgs, labels) in enumerate(train_loader):\n",
    "            imgs = imgs.to(device).float()\n",
    "            labels = torch.as_tensor(labels['age']).to(device)\n",
    "            \n",
    "            outputs = model(imgs)\n",
    "            loss = criterion(outputs, labels)\n",
    "            optimizer.zero_grad()\n",
    "            loss.backward()\n",
    "            optimizer.step()\n",
    "            train_loss += loss.item()\n",
    "            \n",
    "        model.eval()\n",
    "        for i, (imgs, labels) in enumerate(valid_loader):\n",
    "            with torch.no_grad():\n",
    "                imgs = imgs.to(device).float()\n",
    "                labels = torch.as_tensor(labels['age']).to(device)\n",
    "            \n",
    "                outputs = model(imgs)\n",
    "                loss = criterion(outputs, labels)\n",
    "                valid_loss += loss.item()\n",
    "\n",
    "        print(f\"Epoch: {epoch+1}/{num_of_epoch}, Train Loss: {train_loss/len(train_loader)},  Validation Loss: {valid_loss/len(valid_loader)}\")\n",
    "              \n",
    "        if min_valid_loss > valid_loss:\n",
    "            print(f'Validation Loss Decreased({min_valid_loss} ---> {valid_loss})')\n",
    "            min_valid_loss = valid_loss"
   ]
  },
  {
   "cell_type": "code",
   "execution_count": 10,
   "id": "3ca9b2a2",
   "metadata": {
    "ExecuteTime": {
     "end_time": "2021-09-06T20:47:17.801856Z",
     "start_time": "2021-09-06T20:47:17.786855Z"
    }
   },
   "outputs": [],
   "source": [
    "criteria = FocalLoss(alpha=0.5, gamma=2.0, reduction='mean')\n",
    "optimizer = torch.optim.SGD(resnetModel.parameters(), lr=learning_rate)"
   ]
  },
  {
   "cell_type": "code",
   "execution_count": 11,
   "id": "6ed4bb3e",
   "metadata": {
    "ExecuteTime": {
     "end_time": "2021-09-06T20:47:52.183855Z",
     "start_time": "2021-09-06T20:47:17.802858Z"
    },
    "scrolled": false
   },
   "outputs": [
    {
     "name": "stdout",
     "output_type": "stream",
     "text": [
      "Epoch: 1/10, Train Loss: 2.421604892709753,  Validation Loss: 2.4030894958055935\n",
      "Validation Loss Decreased(inf ---> 62.480326890945435)\n",
      "Epoch: 2/10, Train Loss: 2.2654372519189185,  Validation Loss: 2.2379330213253317\n",
      "Validation Loss Decreased(62.480326890945435 ---> 58.18625855445862)\n",
      "Epoch: 3/10, Train Loss: 2.2087993910024455,  Validation Loss: 2.19332283276778\n",
      "Validation Loss Decreased(58.18625855445862 ---> 57.02639365196228)\n",
      "Epoch: 4/10, Train Loss: 2.156275424328479,  Validation Loss: 2.139504771966201\n",
      "Validation Loss Decreased(57.02639365196228 ---> 55.627124071121216)\n",
      "Epoch: 5/10, Train Loss: 2.10928481227749,  Validation Loss: 2.1030104893904467\n",
      "Validation Loss Decreased(55.627124071121216 ---> 54.67827272415161)\n",
      "Epoch: 6/10, Train Loss: 2.0749516513321424,  Validation Loss: 2.077870699075552\n",
      "Validation Loss Decreased(54.67827272415161 ---> 54.024638175964355)\n",
      "Epoch: 7/10, Train Loss: 2.0532960027128784,  Validation Loss: 2.0637951447413516\n",
      "Validation Loss Decreased(54.024638175964355 ---> 53.65867376327515)\n",
      "Epoch: 8/10, Train Loss: 2.0370510200877767,  Validation Loss: 2.0524302629324107\n",
      "Validation Loss Decreased(53.65867376327515 ---> 53.363186836242676)\n",
      "Epoch: 9/10, Train Loss: 2.021815903894194,  Validation Loss: 2.0413342118263245\n",
      "Validation Loss Decreased(53.363186836242676 ---> 53.074689507484436)\n",
      "Epoch: 10/10, Train Loss: 2.00849290732499,  Validation Loss: 2.0296768362705526\n",
      "Validation Loss Decreased(53.074689507484436 ---> 52.77159774303436)\n"
     ]
    }
   ],
   "source": [
    "train(resnetModel, optimizer, criteria, train_set, validation_set, num_of_epoch=10)"
   ]
  },
  {
   "cell_type": "code",
   "execution_count": 12,
   "id": "e42f1efb",
   "metadata": {
    "ExecuteTime": {
     "end_time": "2021-09-06T20:47:52.199854Z",
     "start_time": "2021-09-06T20:47:52.184856Z"
    }
   },
   "outputs": [],
   "source": [
    "# Evaluation\n",
    "def eval(model, test_loader):\n",
    "    with torch.no_grad():\n",
    "        correct = 0\n",
    "        total = 0\n",
    "        error = torch.zeros(0).to(device)\n",
    "        for imgs, labels in test_loader:\n",
    "            imgs = imgs.to(device).float()\n",
    "            labels = torch.as_tensor(labels['age']).to(device)\n",
    "            outputs = model(imgs)\n",
    "            \n",
    "            _, pred = torch.max(outputs.data, 1)\n",
    "\n",
    "            error = torch.cat([error, torch.abs(\n",
    "                torch.subtract(torch.reshape(labels, (-1,)), torch.reshape(pred, (-1,)))\n",
    "            )])\n",
    "                        \n",
    "            total += labels.size(0)\n",
    "            correct += (pred == labels).sum().item()\n",
    "            \n",
    "    print(f\"Accuracy: {(100*correct)/total}%\")\n",
    "    print(f\"Mean Absolute Error: {(torch.mean(error))}\")\n",
    "    print(f\"Minimum: {torch.min(error)}, Maximum: {torch.max(error)}, Median: {torch.median(error)}\")"
   ]
  },
  {
   "cell_type": "code",
   "execution_count": 13,
   "id": "10b735ef",
   "metadata": {
    "ExecuteTime": {
     "end_time": "2021-09-06T20:47:52.405858Z",
     "start_time": "2021-09-06T20:47:52.200858Z"
    }
   },
   "outputs": [
    {
     "name": "stdout",
     "output_type": "stream",
     "text": [
      "Accuracy: 3.1553398058252426%\n",
      "Mean Absolute Error: 12.91626262664795\n",
      "Minimum: 0.0, Maximum: 54.0, Median: 11.0\n"
     ]
    }
   ],
   "source": [
    "eval(resnetModel, test_set)"
   ]
  },
  {
   "cell_type": "code",
   "execution_count": 14,
   "id": "96d5fe78",
   "metadata": {
    "ExecuteTime": {
     "end_time": "2021-09-06T20:47:53.643854Z",
     "start_time": "2021-09-06T20:47:52.406858Z"
    }
   },
   "outputs": [
    {
     "name": "stdout",
     "output_type": "stream",
     "text": [
      "Accuracy: 3.6565288969759986%\n",
      "Mean Absolute Error: 12.912399291992188\n",
      "Minimum: 0.0, Maximum: 67.0, Median: 11.0\n"
     ]
    }
   ],
   "source": [
    "eval(resnetModel, train_set)"
   ]
  },
  {
   "cell_type": "code",
   "execution_count": null,
   "id": "c26ae692",
   "metadata": {},
   "outputs": [],
   "source": []
  }
 ],
 "metadata": {
  "kernelspec": {
   "display_name": "Python 3",
   "language": "python",
   "name": "python3"
  },
  "language_info": {
   "codemirror_mode": {
    "name": "ipython",
    "version": 3
   },
   "file_extension": ".py",
   "mimetype": "text/x-python",
   "name": "python",
   "nbconvert_exporter": "python",
   "pygments_lexer": "ipython3",
   "version": "3.8.8"
  },
  "varInspector": {
   "cols": {
    "lenName": 16,
    "lenType": 16,
    "lenVar": 40
   },
   "kernels_config": {
    "python": {
     "delete_cmd_postfix": "",
     "delete_cmd_prefix": "del ",
     "library": "var_list.py",
     "varRefreshCmd": "print(var_dic_list())"
    },
    "r": {
     "delete_cmd_postfix": ") ",
     "delete_cmd_prefix": "rm(",
     "library": "var_list.r",
     "varRefreshCmd": "cat(var_dic_list()) "
    }
   },
   "types_to_exclude": [
    "module",
    "function",
    "builtin_function_or_method",
    "instance",
    "_Feature"
   ],
   "window_display": false
  }
 },
 "nbformat": 4,
 "nbformat_minor": 5
}
