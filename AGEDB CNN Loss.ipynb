{
 "cells": [
  {
   "cell_type": "code",
   "execution_count": 1,
   "id": "06aabb63",
   "metadata": {
    "ExecuteTime": {
     "end_time": "2021-08-23T05:21:41.554543Z",
     "start_time": "2021-08-23T05:21:40.709545Z"
    }
   },
   "outputs": [],
   "source": [
    "import os\n",
    "import torch\n",
    "from torch import nn\n",
    "from torch.utils.data import DataLoader, Dataset\n",
    "import torchvision\n",
    "from torchvision.transforms import ToTensor, Compose, Grayscale, Resize, CenterCrop\n",
    "import matplotlib.pyplot as plt\n",
    "from PIL import Image\n",
    "from parse import parse\n",
    "from custom_loader import AgeDBDataset\n",
    "from custom_loss_functions import AngularPenaltySMLoss\n",
    "\n",
    "import warnings\n",
    "warnings.filterwarnings(\"ignore\")"
   ]
  },
  {
   "cell_type": "code",
   "execution_count": 2,
   "id": "cb64b0db",
   "metadata": {
    "ExecuteTime": {
     "end_time": "2021-08-23T05:21:41.569542Z",
     "start_time": "2021-08-23T05:21:41.555543Z"
    }
   },
   "outputs": [],
   "source": [
    "# hyper params\n",
    "num_of_class = 79\n",
    "hidden_unit = 256\n",
    "learning_rate = 1e-04\n",
    "batch_size = 64\n",
    "device = torch.device(\"cuda\")"
   ]
  },
  {
   "cell_type": "code",
   "execution_count": 3,
   "id": "6de83481",
   "metadata": {
    "ExecuteTime": {
     "end_time": "2021-08-23T05:21:42.062543Z",
     "start_time": "2021-08-23T05:21:41.570542Z"
    }
   },
   "outputs": [],
   "source": [
    "dataset = AgeDBDataset(\n",
    "    directory = 'cropped_face/',\n",
    "    transform = Compose([\n",
    "        Resize(size=(64, 64)),\n",
    "        CenterCrop(size=64),\n",
    "        Grayscale(num_output_channels=1),\n",
    "        ToTensor(),\n",
    "    ]),\n",
    "    device = device,\n",
    ")"
   ]
  },
  {
   "cell_type": "code",
   "execution_count": 4,
   "id": "db16a8b9",
   "metadata": {
    "ExecuteTime": {
     "end_time": "2021-08-23T05:21:42.078542Z",
     "start_time": "2021-08-23T05:21:42.063544Z"
    }
   },
   "outputs": [
    {
     "data": {
      "text/plain": [
       "15508"
      ]
     },
     "execution_count": 4,
     "metadata": {},
     "output_type": "execute_result"
    }
   ],
   "source": [
    "len(dataset)"
   ]
  },
  {
   "cell_type": "code",
   "execution_count": 5,
   "id": "64cc1bff",
   "metadata": {
    "ExecuteTime": {
     "end_time": "2021-08-23T05:21:42.094543Z",
     "start_time": "2021-08-23T05:21:42.079542Z"
    }
   },
   "outputs": [],
   "source": [
    "train_set, validation_set, test_set = dataset.get_loaders(\n",
    "    batch_size=batch_size,\n",
    "    train_size=0.8,\n",
    "    test_size=0.2,\n",
    ")"
   ]
  },
  {
   "cell_type": "code",
   "execution_count": 6,
   "id": "5641b0b5",
   "metadata": {
    "ExecuteTime": {
     "end_time": "2021-08-23T05:21:42.110541Z",
     "start_time": "2021-08-23T05:21:42.096542Z"
    }
   },
   "outputs": [],
   "source": [
    "class AgeDBConvModel(nn.Module):\n",
    "    def __init__(self, num_of_classes):\n",
    "        super(AgeDBConvModel, self).__init__()\n",
    "        self.layer1 = nn.Sequential(\n",
    "            nn.Conv2d(in_channels=1, out_channels=32, kernel_size=3, stride=1, padding=2), #(64+2(2)-3)+1=66\n",
    "            nn.BatchNorm2d(num_features=32),\n",
    "            nn.ReLU(),\n",
    "            nn.MaxPool2d(kernel_size=2, stride=2) #((66-2)/2)+1 = 33\n",
    "        )\n",
    "        self.layer2 = nn.Sequential(\n",
    "            nn.Conv2d(in_channels=32, out_channels=64, kernel_size=3, stride=1, padding=2), #(33+2(2)-3)+1=35\n",
    "            nn.BatchNorm2d(num_features=64),\n",
    "            nn.ReLU(),\n",
    "            nn.MaxPool2d(kernel_size=2, stride=2) #((35-2)/2)+1 = 17 + 0.5\n",
    "        )\n",
    "        self.layer3 = nn.Sequential(\n",
    "            nn.Conv2d(in_channels=64, out_channels=128, kernel_size=3, stride=1, padding=2), #(17+2(2)-3)+1=19\n",
    "            nn.BatchNorm2d(num_features=128),\n",
    "            nn.ReLU(),\n",
    "            nn.MaxPool2d(kernel_size=2, stride=2) #((19-2)/2)+1 = 9 + 0.5\n",
    "        )\n",
    "        self.layer4 = nn.Sequential(\n",
    "            nn.Conv2d(in_channels=128, out_channels=256, kernel_size=3, stride=1, padding=2), #(9+2(2)-3)+1=11\n",
    "            nn.BatchNorm2d(num_features=256),\n",
    "            nn.ReLU(),\n",
    "            nn.MaxPool2d(kernel_size=2, stride=2) #((11-2)/2)+1 = 5 + 0.5\n",
    "        )\n",
    "        self.layer5 = nn.Sequential(\n",
    "            nn.Conv2d(in_channels=256, out_channels=512, kernel_size=3, stride=1, padding=2), #(5+2(2)-3)+1=7\n",
    "            nn.BatchNorm2d(num_features=512),\n",
    "            nn.ReLU(),\n",
    "            nn.MaxPool2d(kernel_size=2, stride=2) #((7-2)/2)+1 = 3 + 0.5\n",
    "        )\n",
    "        self.fc1 = nn.Linear(3*3*512, 1*1*512)\n",
    "        self.fc2 = nn.Linear(1*1*512, num_of_classes)\n",
    "        self.smax = nn.Softmax(dim=1)\n",
    "        \n",
    "        \n",
    "    def forward(self, x):\n",
    "        out = self.layer1(x)\n",
    "        out = self.layer2(out)\n",
    "        out = self.layer3(out)\n",
    "        out = self.layer4(out)\n",
    "        out = self.layer5(out)\n",
    "\n",
    "        out = out.reshape(out.size(0), -1)\n",
    "        out = self.fc1(out)\n",
    "        out = self.fc2(out)\n",
    "        out = self.smax(out)\n",
    "        \n",
    "        return out"
   ]
  },
  {
   "cell_type": "code",
   "execution_count": 7,
   "id": "6938c26a",
   "metadata": {
    "ExecuteTime": {
     "end_time": "2021-08-23T05:21:43.690542Z",
     "start_time": "2021-08-23T05:21:42.111542Z"
    }
   },
   "outputs": [],
   "source": [
    "convModel1 = AgeDBConvModel(num_of_class).to(device)\n",
    "convModel2 = AgeDBConvModel(num_of_class).to(device)\n",
    "convModel3 = AgeDBConvModel(num_of_class).to(device)"
   ]
  },
  {
   "cell_type": "code",
   "execution_count": 8,
   "id": "fed7d490",
   "metadata": {
    "ExecuteTime": {
     "end_time": "2021-08-23T05:21:43.706542Z",
     "start_time": "2021-08-23T05:21:43.691544Z"
    }
   },
   "outputs": [],
   "source": [
    "# Training loop\n",
    "def train(model, optimizer, criterion, train_loader, num_of_epoch):\n",
    "    total_step = len(train_loader)\n",
    "    for epoch in range(num_of_epoch):\n",
    "        for i, (imgs, labels) in enumerate(train_loader):\n",
    "            imgs = imgs.to(device)\n",
    "            labels = torch.as_tensor(labels['age']).to(device)\n",
    "            \n",
    "            outputs = model(imgs)\n",
    "            loss = criterion(outputs, labels)\n",
    "            optimizer.zero_grad()\n",
    "            loss.backward()\n",
    "            optimizer.step()\n",
    "            \n",
    "            if (i+1)%total_step == 0:\n",
    "                print(f\"Epoch: {epoch+1}/{num_of_epoch}, Step: {i+1}/{total_step}, Loss: {loss.item()}\")\n",
    "\n",
    "# Evaluation\n",
    "def eval(model, test_loader):\n",
    "    with torch.no_grad():\n",
    "        correct = 0\n",
    "        total = 0\n",
    "        for imgs, labels in test_loader:\n",
    "            imgs = imgs.to(device)\n",
    "            labels = torch.as_tensor(labels['age']).to(device)\n",
    "            outputs = model(imgs)\n",
    "            \n",
    "            _, pred = torch.max(outputs.data, 1)\n",
    "            total += labels.size(0)\n",
    "            correct += (pred == labels).sum().item()\n",
    "            \n",
    "    print(f\"Accuracy: {(100*correct)/total}%\")"
   ]
  },
  {
   "cell_type": "code",
   "execution_count": 9,
   "id": "3ca9b2a2",
   "metadata": {
    "ExecuteTime": {
     "end_time": "2021-08-23T05:23:36.642546Z",
     "start_time": "2021-08-23T05:21:43.707541Z"
    }
   },
   "outputs": [
    {
     "name": "stdout",
     "output_type": "stream",
     "text": [
      "Epoch: 1/10, Step: 194/194, Loss: 38.96859359741211\n",
      "Epoch: 2/10, Step: 194/194, Loss: 39.296905517578125\n",
      "Epoch: 3/10, Step: 194/194, Loss: 39.29692077636719\n",
      "Epoch: 4/10, Step: 194/194, Loss: 39.29692840576172\n",
      "Epoch: 5/10, Step: 194/194, Loss: 39.296939849853516\n",
      "Epoch: 6/10, Step: 194/194, Loss: 39.296939849853516\n",
      "Epoch: 7/10, Step: 194/194, Loss: 39.296939849853516\n",
      "Epoch: 8/10, Step: 194/194, Loss: 39.29692840576172\n",
      "Epoch: 9/10, Step: 194/194, Loss: 39.296913146972656\n",
      "Epoch: 10/10, Step: 194/194, Loss: 39.29680252075195\n"
     ]
    }
   ],
   "source": [
    "criteria = AngularPenaltySMLoss(\n",
    "    in_features=num_of_class,\n",
    "    out_features=num_of_class,\n",
    "    loss_type='arcface',\n",
    ")\n",
    "optimizer = torch.optim.Adam(convModel1.parameters(), lr=learning_rate)\n",
    "train(convModel1, optimizer, criteria, train_set, num_of_epoch=10)"
   ]
  },
  {
   "cell_type": "code",
   "execution_count": 10,
   "id": "6ed4bb3e",
   "metadata": {
    "ExecuteTime": {
     "end_time": "2021-08-23T05:23:43.326542Z",
     "start_time": "2021-08-23T05:23:36.643544Z"
    },
    "scrolled": true
   },
   "outputs": [
    {
     "name": "stdout",
     "output_type": "stream",
     "text": [
      "Accuracy: 0.5482102547565302%\n",
      "Accuracy: 0.7173948089634048%\n"
     ]
    }
   ],
   "source": [
    "eval(convModel1, test_set)\n",
    "eval(convModel1, train_set)"
   ]
  },
  {
   "cell_type": "code",
   "execution_count": 11,
   "id": "10b735ef",
   "metadata": {
    "ExecuteTime": {
     "end_time": "2021-08-23T05:25:36.418313Z",
     "start_time": "2021-08-23T05:23:43.327541Z"
    }
   },
   "outputs": [
    {
     "name": "stdout",
     "output_type": "stream",
     "text": [
      "Epoch: 1/10, Step: 194/194, Loss: 16.62502098083496\n",
      "Epoch: 2/10, Step: 194/194, Loss: 16.10080337524414\n",
      "Epoch: 3/10, Step: 194/194, Loss: 15.949949264526367\n",
      "Epoch: 4/10, Step: 194/194, Loss: 15.800993919372559\n",
      "Epoch: 5/10, Step: 194/194, Loss: 15.589404106140137\n",
      "Epoch: 6/10, Step: 194/194, Loss: 15.220233917236328\n",
      "Epoch: 7/10, Step: 194/194, Loss: 14.723420143127441\n",
      "Epoch: 8/10, Step: 194/194, Loss: 14.426335334777832\n",
      "Epoch: 9/10, Step: 194/194, Loss: 14.143686294555664\n",
      "Epoch: 10/10, Step: 194/194, Loss: 13.873109817504883\n"
     ]
    }
   ],
   "source": [
    "criteria = AngularPenaltySMLoss(\n",
    "    in_features=num_of_class,\n",
    "    out_features=num_of_class,\n",
    "    loss_type='cosface',\n",
    ")\n",
    "optimizer = torch.optim.Adam(convModel2.parameters(), lr=learning_rate)\n",
    "train(convModel2, optimizer, criteria, train_set, num_of_epoch=10)"
   ]
  },
  {
   "cell_type": "code",
   "execution_count": 12,
   "id": "96d5fe78",
   "metadata": {
    "ExecuteTime": {
     "end_time": "2021-08-23T05:25:42.959313Z",
     "start_time": "2021-08-23T05:25:36.419312Z"
    }
   },
   "outputs": [
    {
     "name": "stdout",
     "output_type": "stream",
     "text": [
      "Accuracy: 1.4833924540470815%\n",
      "Accuracy: 1.7088505561824923%\n"
     ]
    }
   ],
   "source": [
    "eval(convModel2, test_set)\n",
    "eval(convModel2, train_set)"
   ]
  },
  {
   "cell_type": "code",
   "execution_count": 13,
   "id": "7d814f14",
   "metadata": {
    "ExecuteTime": {
     "end_time": "2021-08-23T05:27:28.543314Z",
     "start_time": "2021-08-23T05:25:42.961314Z"
    }
   },
   "outputs": [
    {
     "name": "stdout",
     "output_type": "stream",
     "text": [
      "Epoch: 1/10, Step: 194/194, Loss: 40.65583419799805\n",
      "Epoch: 2/10, Step: 194/194, Loss: 39.44287109375\n",
      "Epoch: 3/10, Step: 194/194, Loss: 37.80892562866211\n",
      "Epoch: 4/10, Step: 194/194, Loss: 37.693763732910156\n",
      "Epoch: 5/10, Step: 194/194, Loss: 37.583770751953125\n",
      "Epoch: 6/10, Step: 194/194, Loss: 37.41691970825195\n",
      "Epoch: 7/10, Step: 194/194, Loss: 37.242156982421875\n",
      "Epoch: 8/10, Step: 194/194, Loss: 36.93334197998047\n",
      "Epoch: 9/10, Step: 194/194, Loss: 36.45634078979492\n",
      "Epoch: 10/10, Step: 194/194, Loss: 35.54274368286133\n"
     ]
    }
   ],
   "source": [
    "criteria = AngularPenaltySMLoss(\n",
    "    in_features=num_of_class,\n",
    "    out_features=num_of_class,\n",
    "    loss_type='sphereface',\n",
    ")\n",
    "optimizer = torch.optim.Adam(convModel3.parameters(), lr=learning_rate)\n",
    "train(convModel3, optimizer, criteria, train_set, num_of_epoch=10)"
   ]
  },
  {
   "cell_type": "code",
   "execution_count": 14,
   "id": "2f6abc41",
   "metadata": {
    "ExecuteTime": {
     "end_time": "2021-08-23T05:27:35.384342Z",
     "start_time": "2021-08-23T05:27:28.544312Z"
    }
   },
   "outputs": [
    {
     "name": "stdout",
     "output_type": "stream",
     "text": [
      "Accuracy: 1.2254111576910673%\n",
      "Accuracy: 0.9430920522327906%\n"
     ]
    }
   ],
   "source": [
    "eval(convModel3, test_set)\n",
    "eval(convModel3, train_set)"
   ]
  }
 ],
 "metadata": {
  "kernelspec": {
   "display_name": "Python 3",
   "language": "python",
   "name": "python3"
  },
  "language_info": {
   "codemirror_mode": {
    "name": "ipython",
    "version": 3
   },
   "file_extension": ".py",
   "mimetype": "text/x-python",
   "name": "python",
   "nbconvert_exporter": "python",
   "pygments_lexer": "ipython3",
   "version": "3.8.8"
  },
  "varInspector": {
   "cols": {
    "lenName": 16,
    "lenType": 16,
    "lenVar": 40
   },
   "kernels_config": {
    "python": {
     "delete_cmd_postfix": "",
     "delete_cmd_prefix": "del ",
     "library": "var_list.py",
     "varRefreshCmd": "print(var_dic_list())"
    },
    "r": {
     "delete_cmd_postfix": ") ",
     "delete_cmd_prefix": "rm(",
     "library": "var_list.r",
     "varRefreshCmd": "cat(var_dic_list()) "
    }
   },
   "types_to_exclude": [
    "module",
    "function",
    "builtin_function_or_method",
    "instance",
    "_Feature"
   ],
   "window_display": false
  }
 },
 "nbformat": 4,
 "nbformat_minor": 5
}
