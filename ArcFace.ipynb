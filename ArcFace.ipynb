{
 "cells": [
  {
   "cell_type": "code",
   "execution_count": 1,
   "id": "06aabb63",
   "metadata": {
    "ExecuteTime": {
     "end_time": "2021-09-20T16:31:17.279470Z",
     "start_time": "2021-09-20T16:31:13.593049Z"
    },
    "hide_input": false
   },
   "outputs": [],
   "source": [
    "import torch\n",
    "from torch import nn\n",
    "import pretrainedmodels\n",
    "\n",
    "from utils.train import train\n",
    "from utils.evaluation import evaluation\n",
    "from utils.loader import get_loader, get_image_list\n",
    "from utils.losses import CostSensitiveRegularizedLoss\n",
    "\n",
    "import warnings\n",
    "warnings.filterwarnings(\"ignore\", category=UserWarning)\n",
    "warnings.filterwarnings(\"ignore\", category=DeprecationWarning)"
   ]
  },
  {
   "cell_type": "code",
   "execution_count": 2,
   "id": "cb64b0db",
   "metadata": {
    "ExecuteTime": {
     "end_time": "2021-09-20T16:31:17.295474Z",
     "start_time": "2021-09-20T16:31:17.281470Z"
    },
    "hide_input": false
   },
   "outputs": [],
   "source": [
    "# hyper params\n",
    "num_of_class = 102\n",
    "learning_rate = 1e-03\n",
    "batch_size = 128\n",
    "input_size = 224\n",
    "device = torch.device(\"cuda\")\n",
    "test_size = 0.2\n",
    "train_size = 0.7\n",
    "val_size = 0.1\n",
    "directoryAgeDB = 'AgeDB/'"
   ]
  },
  {
   "cell_type": "code",
   "execution_count": 3,
   "id": "6d920459",
   "metadata": {
    "ExecuteTime": {
     "end_time": "2021-09-20T16:31:17.311469Z",
     "start_time": "2021-09-20T16:31:17.297470Z"
    },
    "code_folding": [],
    "hide_input": false
   },
   "outputs": [],
   "source": [
    "def findAge(image_list):\n",
    "    listofzeros = [0] * 102\n",
    "    same_age = [i for i in range(0, 102)]\n",
    "    age_number = dict(zip(same_age, listofzeros))\n",
    "    sum = 0\n",
    "\n",
    "    for i in range(len(image_list)):\n",
    "\n",
    "        if image_list[i]['age'] in age_number:\n",
    "            age_number[image_list[i]['age']] += 1\n",
    "            sum += 1\n",
    "\n",
    "    print(sum)\n",
    "    return dict(age_number)\n"
   ]
  },
  {
   "cell_type": "code",
   "execution_count": 4,
   "id": "f8ae2b44",
   "metadata": {
    "ExecuteTime": {
     "end_time": "2021-09-20T16:33:01.618078Z",
     "start_time": "2021-09-20T16:31:17.314470Z"
    },
    "hide_input": false
   },
   "outputs": [
    {
     "data": {
      "application/vnd.jupyter.widget-view+json": {
       "model_id": "e581240a106c424ca3574f4b15999d5f",
       "version_major": 2,
       "version_minor": 0
      },
      "text/plain": [
       "  0%|          | 0/11541 [00:00<?, ?it/s]"
      ]
     },
     "metadata": {},
     "output_type": "display_data"
    },
    {
     "name": "stdout",
     "output_type": "stream",
     "text": [
      "Train Set Length:  34623\n",
      "Test Set Length:  3298\n",
      "Validation Set Length:  1649\n",
      "Total:  39570\n"
     ]
    }
   ],
   "source": [
    "train_image_list, test_image_list, validate_image_list = get_image_list(\n",
    "    train_size=train_size, \n",
    "    test_size=test_size, \n",
    "    val_size=val_size, \n",
    "    directory=directoryAgeDB,\n",
    ")\n",
    "\n",
    "train_loader, test_loader, validation_loader = get_loader(\n",
    "    input_size=input_size,\n",
    "    train_image_list=train_image_list,\n",
    "    test_image_list=test_image_list, \n",
    "    validate_image_list=validate_image_list, \n",
    "    batch_size=batch_size,\n",
    "    train_augment=3,\n",
    ")"
   ]
  },
  {
   "cell_type": "code",
   "execution_count": 5,
   "id": "5641b0b5",
   "metadata": {
    "ExecuteTime": {
     "end_time": "2021-09-20T16:33:05.334314Z",
     "start_time": "2021-09-20T16:33:01.620081Z"
    },
    "code_folding": [],
    "hide_input": false
   },
   "outputs": [],
   "source": [
    "resnet1 = pretrainedmodels.resnet18(pretrained='imagenet')\n",
    "resnet1.last_linear = nn.Linear(\n",
    "    in_features=resnet1.last_linear.in_features, \n",
    "    out_features=num_of_class, \n",
    "    bias=False\n",
    ")\n",
    "resnet2 = pretrainedmodels.resnet18(pretrained='imagenet')\n",
    "resnet2.last_linear = nn.Linear(\n",
    "    in_features=resnet2.last_linear.in_features, \n",
    "    out_features=num_of_class, \n",
    "    bias=False\n",
    ")\n",
    "resnet1 = resnet1.to(device)\n",
    "resnet2 = resnet2.to(device)"
   ]
  },
  {
   "cell_type": "code",
   "execution_count": 6,
   "id": "3ca9b2a2",
   "metadata": {
    "ExecuteTime": {
     "end_time": "2021-09-20T16:33:05.380312Z",
     "start_time": "2021-09-20T16:33:05.335315Z"
    },
    "hide_input": false
   },
   "outputs": [],
   "source": [
    "from pytorch_metric_learning.losses import ArcFaceLoss\n",
    "criteria = ArcFaceLoss(num_classes=num_of_class, embedding_size=num_of_class)\n",
    "optimizer = torch.optim.Adam(resnet1.parameters(), lr=learning_rate, weight_decay=1e-1)\n",
    "model_name = 'arcface-aug.pth'"
   ]
  },
  {
   "cell_type": "code",
   "execution_count": 7,
   "id": "6ed4bb3e",
   "metadata": {
    "ExecuteTime": {
     "end_time": "2021-09-20T16:41:18.821401Z",
     "start_time": "2021-09-20T16:33:05.384313Z"
    },
    "hide_input": false
   },
   "outputs": [
    {
     "name": "stdout",
     "output_type": "stream",
     "text": [
      "Epoch: 1/5, Train Loss: 35.201312399438386,  Validation Loss: 34.7150873037485\n",
      "Validation Loss Decreased(inf ---> 34.7150873037485)\n",
      "Epoch: 2/5, Train Loss: 34.671359466890564,  Validation Loss: 34.753018599290115\n",
      "Epoch: 3/5, Train Loss: 34.665399122062205,  Validation Loss: 34.765874715951774\n",
      "Epoch: 4/5, Train Loss: 34.648239938095486,  Validation Loss: 34.65152447040264\n",
      "Validation Loss Decreased(34.7150873037485 ---> 34.65152447040264)\n",
      "Epoch: 5/5, Train Loss: 34.63194349507124,  Validation Loss: 34.626349229079025\n",
      "Validation Loss Decreased(34.65152447040264 ---> 34.626349229079025)\n"
     ]
    },
    {
     "data": {
      "image/png": "[encoded data removed]",
      "text/plain": [
       "<Figure size 432x288 with 1 Axes>"
      ]
     },
     "metadata": {
      "needs_background": "light"
     },
     "output_type": "display_data"
    }
   ],
   "source": [
    "train(resnet1, optimizer, criteria, train_loader, validation_loader, num_of_epoch=5, model_name=model_name)"
   ]
  },
  {
   "cell_type": "code",
   "execution_count": 8,
   "id": "10b735ef",
   "metadata": {
    "ExecuteTime": {
     "end_time": "2021-09-20T16:42:07.952451Z",
     "start_time": "2021-09-20T16:41:18.822401Z"
    }
   },
   "outputs": [
    {
     "name": "stdout",
     "output_type": "stream",
     "text": [
      "Mean Absolute Error: 34.773197174072266\n",
      "Minimum: 0.0, Maximum: 91.0, Median: 33.0\n",
      "Mean Absolute Error: 34.285762786865234\n",
      "Minimum: 0.0, Maximum: 85.0, Median: 33.0\n"
     ]
    }
   ],
   "source": [
    "resnet1.load_state_dict(torch.load(model_name))\n",
    "loss_per_class = evaluation(resnet1, test_loader)\n",
    "_ = evaluation(resnet1, train_loader)"
   ]
  },
  {
   "cell_type": "code",
   "execution_count": 9,
   "id": "6452b440",
   "metadata": {
    "ExecuteTime": {
     "end_time": "2021-09-20T16:42:08.015449Z",
     "start_time": "2021-09-20T16:42:07.954450Z"
    }
   },
   "outputs": [
    {
     "name": "stdout",
     "output_type": "stream",
     "text": [
      "3298\n",
      "Age: Test Sample: Loss\n",
      "1 : 1 : 9.00\n",
      "2  No Sample\n",
      "3 : 2 : 33.00\n",
      "4 : 1 : 58.00\n",
      "5 : 1 : 57.00\n",
      "6 : 2 : 56.00\n",
      "7 : 2 : 55.00\n",
      "8 : 2 : 54.00\n",
      "9 : 1 : 53.00\n",
      "10 : 3 : 52.00\n",
      "11 : 4 : 51.00\n",
      "12 : 3 : 50.00\n",
      "13 : 4 : 49.00\n",
      "14 : 5 : 39.20\n",
      "15 : 9 : 42.33\n",
      "16 : 10 : 46.00\n",
      "17 : 16 : 45.00\n",
      "18 : 24 : 42.50\n",
      "19 : 22 : 38.36\n",
      "20 : 32 : 42.00\n",
      "21 : 33 : 38.27\n",
      "22 : 37 : 39.24\n",
      "23 : 42 : 37.76\n",
      "24 : 52 : 34.31\n",
      "25 : 57 : 35.07\n",
      "26 : 55 : 33.09\n",
      "27 : 61 : 32.64\n",
      "28 : 69 : 32.61\n",
      "29 : 62 : 31.42\n",
      "30 : 77 : 30.13\n",
      "31 : 63 : 30.05\n",
      "32 : 75 : 28.51\n",
      "33 : 67 : 28.01\n",
      "34 : 72 : 27.00\n",
      "35 : 82 : 26.73\n",
      "36 : 69 : 26.00\n",
      "37 : 74 : 25.59\n",
      "38 : 76 : 24.74\n",
      "39 : 64 : 25.06\n",
      "40 : 77 : 24.29\n",
      "41 : 64 : 22.56\n",
      "42 : 71 : 24.06\n",
      "43 : 65 : 23.74\n",
      "44 : 56 : 23.14\n",
      "45 : 68 : 22.82\n",
      "46 : 57 : 25.82\n",
      "47 : 58 : 24.48\n",
      "48 : 62 : 24.45\n",
      "49 : 53 : 26.25\n",
      "50 : 63 : 28.00\n",
      "51 : 57 : 27.84\n",
      "52 : 62 : 29.61\n",
      "53 : 50 : 28.04\n",
      "54 : 51 : 32.00\n",
      "55 : 59 : 26.97\n",
      "56 : 45 : 30.00\n",
      "57 : 49 : 31.57\n",
      "58 : 49 : 30.04\n",
      "59 : 43 : 38.30\n",
      "60 : 49 : 39.22\n",
      "61 : 41 : 32.71\n",
      "62 : 48 : 40.08\n",
      "63 : 44 : 41.18\n",
      "64 : 39 : 36.67\n",
      "65 : 46 : 49.35\n",
      "66 : 35 : 39.66\n",
      "67 : 35 : 46.60\n",
      "68 : 43 : 51.95\n",
      "69 : 30 : 46.87\n",
      "70 : 43 : 47.91\n",
      "71 : 29 : 55.62\n",
      "72 : 35 : 53.09\n",
      "73 : 31 : 57.97\n",
      "74 : 28 : 60.29\n",
      "75 : 32 : 58.50\n",
      "76 : 22 : 61.27\n",
      "77 : 21 : 59.57\n",
      "78 : 21 : 55.62\n",
      "79 : 15 : 62.07\n",
      "80 : 18 : 70.00\n",
      "81 : 15 : 71.00\n",
      "82 : 14 : 68.29\n",
      "83 : 11 : 68.27\n",
      "84 : 9 : 74.00\n",
      "85 : 12 : 75.00\n",
      "86 : 7 : 68.57\n",
      "87 : 6 : 77.00\n",
      "88 : 4 : 78.00\n",
      "89 : 4 : 66.00\n",
      "90 : 4 : 80.00\n",
      "91 : 3 : 81.00\n",
      "92 : 2 : 82.00\n",
      "93 : 3 : 83.00\n",
      "94 : 1 : 84.00\n",
      "95 : 2 : 85.00\n",
      "96 : 1 : 86.00\n",
      "97 : 1 : 87.00\n",
      "98 : 1 : 88.00\n",
      "99 : 1 : 89.00\n",
      "100 : 1 : 38.00\n",
      "101 : 1 : 91.00\n"
     ]
    }
   ],
   "source": [
    "sample_per_class = findAge(test_image_list)\n",
    "print('Age: Test Sample: Loss')\n",
    "for i in range(1, 102):\n",
    "    if sample_per_class[i] == 0:\n",
    "        print(i,' No Sample')\n",
    "    else:\n",
    "        print(i,':', sample_per_class[i],':', format(loss_per_class[i].item()/sample_per_class[i],'.2f'))"
   ]
  },
  {
   "cell_type": "code",
   "execution_count": 10,
   "id": "38bb6666",
   "metadata": {
    "ExecuteTime": {
     "end_time": "2021-09-20T16:45:36.626305Z",
     "start_time": "2021-09-20T16:42:08.017451Z"
    }
   },
   "outputs": [
    {
     "data": {
      "application/vnd.jupyter.widget-view+json": {
       "model_id": "f37eadd00d894d108cc93ca59987569d",
       "version_major": 2,
       "version_minor": 0
      },
      "text/plain": [
       "  0%|          | 0/11541 [00:00<?, ?it/s]"
      ]
     },
     "metadata": {},
     "output_type": "display_data"
    },
    {
     "name": "stdout",
     "output_type": "stream",
     "text": [
      "Train Set Length:  11541\n",
      "Test Set Length:  3298\n",
      "Validation Set Length:  1649\n",
      "Total:  16488\n",
      "Epoch: 1/5, Train Loss: 35.89144813621437,  Validation Loss: 35.05999433077299\n",
      "Validation Loss Decreased(inf ---> 35.05999433077299)\n",
      "Epoch: 2/5, Train Loss: 34.8962156694014,  Validation Loss: 34.92177170973558\n",
      "Validation Loss Decreased(35.05999433077299 ---> 34.92177170973558)\n",
      "Epoch: 3/5, Train Loss: 34.83866391863142,  Validation Loss: 34.954393533559944\n",
      "Epoch: 4/5, Train Loss: 34.81714957101004,  Validation Loss: 34.862227806678185\n",
      "Validation Loss Decreased(34.92177170973558 ---> 34.862227806678185)\n",
      "Epoch: 5/5, Train Loss: 34.763563135168056,  Validation Loss: 34.95765598003681\n"
     ]
    },
    {
     "data": {
      "image/png": "[encoded data removed]",
      "text/plain": [
       "<Figure size 432x288 with 1 Axes>"
      ]
     },
     "metadata": {
      "needs_background": "light"
     },
     "output_type": "display_data"
    }
   ],
   "source": [
    "train_loader, test_loader, validation_loader = get_loader(\n",
    "    input_size=input_size,\n",
    "    train_image_list=train_image_list,\n",
    "    test_image_list=test_image_list, \n",
    "    validate_image_list=validate_image_list, \n",
    "    batch_size=batch_size,\n",
    "    train_augment=1,\n",
    ")\n",
    "criteria = ArcFaceLoss(num_classes=num_of_class, embedding_size=num_of_class)\n",
    "optimizer = torch.optim.Adam(resnet2.parameters(), lr=learning_rate, weight_decay=1e-1)\n",
    "model_name = 'arcface.pth'\n",
    "train(resnet2, optimizer, criteria, train_loader, validation_loader, num_of_epoch=5, model_name=model_name)"
   ]
  },
  {
   "cell_type": "code",
   "execution_count": 11,
   "id": "647a89b6",
   "metadata": {
    "ExecuteTime": {
     "end_time": "2021-09-20T16:46:04.266306Z",
     "start_time": "2021-09-20T16:45:36.631308Z"
    }
   },
   "outputs": [
    {
     "name": "stdout",
     "output_type": "stream",
     "text": [
      "Mean Absolute Error: 48.805335998535156\n",
      "Minimum: 0.0, Maximum: 98.0, Median: 51.0\n",
      "Mean Absolute Error: 48.44320297241211\n",
      "Minimum: 0.0, Maximum: 98.0, Median: 51.0\n"
     ]
    }
   ],
   "source": [
    "resnet2.load_state_dict(torch.load(model_name))\n",
    "loss_per_class = evaluation(resnet2, test_loader)\n",
    "_ = evaluation(resnet2, train_loader)"
   ]
  },
  {
   "cell_type": "code",
   "execution_count": 12,
   "id": "4cac931a",
   "metadata": {
    "ExecuteTime": {
     "end_time": "2021-09-20T16:46:04.362305Z",
     "start_time": "2021-09-20T16:46:04.271308Z"
    }
   },
   "outputs": [
    {
     "name": "stdout",
     "output_type": "stream",
     "text": [
      "3298\n",
      "Age: Test Sample: Loss\n",
      "1 : 1 : 23.00\n",
      "2  No Sample\n",
      "3 : 2 : 59.50\n",
      "4 : 1 : 97.00\n",
      "5 : 1 : 96.00\n",
      "6 : 2 : 95.00\n",
      "7 : 2 : 94.00\n",
      "8 : 2 : 93.00\n",
      "9 : 1 : 92.00\n",
      "10 : 3 : 91.00\n",
      "11 : 4 : 70.75\n",
      "12 : 3 : 89.00\n",
      "13 : 4 : 88.00\n",
      "14 : 5 : 56.20\n",
      "15 : 9 : 68.89\n",
      "16 : 10 : 85.00\n",
      "17 : 16 : 74.38\n",
      "18 : 24 : 76.58\n",
      "19 : 22 : 75.00\n",
      "20 : 32 : 68.97\n",
      "21 : 33 : 63.67\n",
      "22 : 37 : 66.51\n",
      "23 : 42 : 68.83\n",
      "24 : 52 : 65.15\n",
      "25 : 57 : 65.47\n",
      "26 : 55 : 61.73\n",
      "27 : 61 : 62.36\n",
      "28 : 69 : 63.00\n",
      "29 : 62 : 62.27\n",
      "30 : 77 : 60.87\n",
      "31 : 63 : 51.00\n",
      "32 : 75 : 58.43\n",
      "33 : 67 : 53.91\n",
      "34 : 72 : 46.42\n",
      "35 : 82 : 53.26\n",
      "36 : 69 : 52.71\n",
      "37 : 74 : 49.53\n",
      "38 : 76 : 52.68\n",
      "39 : 64 : 47.31\n",
      "40 : 77 : 42.88\n",
      "41 : 64 : 47.23\n",
      "42 : 71 : 45.72\n",
      "43 : 65 : 43.60\n",
      "44 : 56 : 45.77\n",
      "45 : 68 : 42.10\n",
      "46 : 57 : 39.37\n",
      "47 : 58 : 44.91\n",
      "48 : 62 : 38.97\n",
      "49 : 53 : 38.25\n",
      "50 : 63 : 37.51\n",
      "51 : 57 : 37.49\n",
      "52 : 62 : 37.15\n",
      "53 : 50 : 35.84\n",
      "54 : 51 : 36.00\n",
      "55 : 59 : 37.36\n",
      "56 : 45 : 37.78\n",
      "57 : 49 : 38.39\n",
      "58 : 49 : 37.49\n",
      "59 : 43 : 37.28\n",
      "60 : 49 : 37.53\n",
      "61 : 41 : 38.32\n",
      "62 : 48 : 38.33\n",
      "63 : 44 : 38.70\n",
      "64 : 39 : 39.46\n",
      "65 : 46 : 40.13\n",
      "66 : 35 : 39.80\n",
      "67 : 35 : 41.46\n",
      "68 : 43 : 40.93\n",
      "69 : 30 : 41.97\n",
      "70 : 43 : 42.16\n",
      "71 : 29 : 43.48\n",
      "72 : 35 : 45.83\n",
      "73 : 31 : 44.94\n",
      "74 : 28 : 47.54\n",
      "75 : 32 : 45.53\n",
      "76 : 22 : 47.09\n",
      "77 : 21 : 44.71\n",
      "78 : 21 : 46.62\n",
      "79 : 15 : 48.40\n",
      "80 : 18 : 50.17\n",
      "81 : 15 : 57.00\n",
      "82 : 14 : 52.43\n",
      "83 : 11 : 51.55\n",
      "84 : 9 : 50.44\n",
      "85 : 12 : 61.00\n",
      "86 : 7 : 55.29\n",
      "87 : 6 : 54.83\n",
      "88 : 4 : 64.00\n",
      "89 : 4 : 51.75\n",
      "90 : 4 : 38.50\n",
      "91 : 3 : 67.00\n",
      "92 : 2 : 38.50\n",
      "93 : 3 : 69.00\n",
      "94 : 1 : 70.00\n",
      "95 : 2 : 71.00\n",
      "96 : 1 : 72.00\n",
      "97 : 1 : 73.00\n",
      "98 : 1 : 74.00\n",
      "99 : 1 : 75.00\n",
      "100 : 1 : 76.00\n",
      "101 : 1 : 77.00\n"
     ]
    }
   ],
   "source": [
    "sample_per_class = findAge(test_image_list)\n",
    "print('Age: Test Sample: Loss')\n",
    "for i in range(1, 102):\n",
    "    if sample_per_class[i] == 0:\n",
    "        print(i,' No Sample')\n",
    "    else:\n",
    "        print(i,':', sample_per_class[i],':', format(loss_per_class[i].item()/sample_per_class[i],'.2f'))"
   ]
  }
 ],
 "metadata": {
  "kernelspec": {
   "display_name": "Python 3",
   "language": "python",
   "name": "python3"
  },
  "language_info": {
   "codemirror_mode": {
    "name": "ipython",
    "version": 3
   },
   "file_extension": ".py",
   "mimetype": "text/x-python",
   "name": "python",
   "nbconvert_exporter": "python",
   "pygments_lexer": "ipython3",
   "version": "3.8.8"
  },
  "varInspector": {
   "cols": {
    "lenName": 16,
    "lenType": 16,
    "lenVar": 40
   },
   "kernels_config": {
    "python": {
     "delete_cmd_postfix": "",
     "delete_cmd_prefix": "del ",
     "library": "var_list.py",
     "varRefreshCmd": "print(var_dic_list())"
    },
    "r": {
     "delete_cmd_postfix": ") ",
     "delete_cmd_prefix": "rm(",
     "library": "var_list.r",
     "varRefreshCmd": "cat(var_dic_list()) "
    }
   },
   "types_to_exclude": [
    "module",
    "function",
    "builtin_function_or_method",
    "instance",
    "_Feature"
   ],
   "window_display": false
  }
 },
 "nbformat": 4,
 "nbformat_minor": 5
}
