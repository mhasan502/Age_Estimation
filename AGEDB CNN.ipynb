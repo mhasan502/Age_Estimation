{
 "cells": [
  {
   "cell_type": "code",
   "execution_count": 1,
   "id": "06aabb63",
   "metadata": {
    "ExecuteTime": {
     "end_time": "2021-08-26T10:58:11.240183Z",
     "start_time": "2021-08-26T10:58:10.373186Z"
    }
   },
   "outputs": [],
   "source": [
    "import os\n",
    "import torch\n",
    "from torch import nn\n",
    "from torch.utils.data import DataLoader, Dataset\n",
    "import torchvision\n",
    "from torchvision.transforms import ToTensor, Compose, Grayscale, Resize, CenterCrop\n",
    "import matplotlib.pyplot as plt\n",
    "from PIL import Image\n",
    "from parse import parse\n",
    "from custom_loader import AgeDBDataset\n",
    "from custom_loss_functions import AngularPenaltySMLoss\n",
    "\n",
    "import warnings\n",
    "warnings.filterwarnings(\"ignore\")"
   ]
  },
  {
   "cell_type": "code",
   "execution_count": 2,
   "id": "cb64b0db",
   "metadata": {
    "ExecuteTime": {
     "end_time": "2021-08-26T10:58:11.256182Z",
     "start_time": "2021-08-26T10:58:11.241183Z"
    }
   },
   "outputs": [],
   "source": [
    "# hyper params\n",
    "num_of_class = 79\n",
    "hidden_unit = 256\n",
    "learning_rate = 1e-04\n",
    "batch_size = 64\n",
    "device = torch.device(\"cuda\")"
   ]
  },
  {
   "cell_type": "code",
   "execution_count": 3,
   "id": "6de83481",
   "metadata": {
    "ExecuteTime": {
     "end_time": "2021-08-26T10:58:11.748183Z",
     "start_time": "2021-08-26T10:58:11.257185Z"
    }
   },
   "outputs": [],
   "source": [
    "dataset = AgeDBDataset(\n",
    "    directory = 'AgeDB/',\n",
    "    transform = Compose([\n",
    "        Resize(size=(64,64)),\n",
    "        CenterCrop(size=64),\n",
    "        Grayscale(num_output_channels=1),\n",
    "        ToTensor(),\n",
    "    ]),\n",
    "    device = device,\n",
    ")"
   ]
  },
  {
   "cell_type": "code",
   "execution_count": 4,
   "id": "db16a8b9",
   "metadata": {
    "ExecuteTime": {
     "end_time": "2021-08-26T10:58:11.764183Z",
     "start_time": "2021-08-26T10:58:11.749184Z"
    }
   },
   "outputs": [
    {
     "data": {
      "text/plain": [
       "15510"
      ]
     },
     "execution_count": 4,
     "metadata": {},
     "output_type": "execute_result"
    }
   ],
   "source": [
    "len(dataset)"
   ]
  },
  {
   "cell_type": "code",
   "execution_count": 5,
   "id": "64cc1bff",
   "metadata": {
    "ExecuteTime": {
     "end_time": "2021-08-26T10:58:11.780185Z",
     "start_time": "2021-08-26T10:58:11.765183Z"
    }
   },
   "outputs": [],
   "source": [
    "train_set, validation_set, test_set = dataset.get_loaders(\n",
    "    batch_size=batch_size,\n",
    "    train_size=0.8,\n",
    "    test_size=0.2,\n",
    ")"
   ]
  },
  {
   "cell_type": "code",
   "execution_count": 6,
   "id": "5641b0b5",
   "metadata": {
    "ExecuteTime": {
     "end_time": "2021-08-26T10:58:11.796187Z",
     "start_time": "2021-08-26T10:58:11.781186Z"
    },
    "code_folding": []
   },
   "outputs": [],
   "source": [
    "class AgeDBConvModel(nn.Module):\n",
    "    def __init__(self, num_of_classes):\n",
    "        super(AgeDBConvModel, self).__init__()\n",
    "        self.layer1 = nn.Sequential(\n",
    "            nn.Conv2d(in_channels=1, out_channels=32, kernel_size=3, stride=1, padding=2), #(64+2(2)-3)+1=66\n",
    "            nn.BatchNorm2d(num_features=32),\n",
    "            nn.ReLU(),\n",
    "            nn.MaxPool2d(kernel_size=2, stride=2) #((66-2)/2)+1 = 33\n",
    "        )\n",
    "        self.layer2 = nn.Sequential(\n",
    "            nn.Conv2d(in_channels=32, out_channels=64, kernel_size=3, stride=1, padding=2), #(33+2(2)-3)+1=35\n",
    "            nn.BatchNorm2d(num_features=64),\n",
    "            nn.ReLU(),\n",
    "            nn.MaxPool2d(kernel_size=2, stride=2) #((35-2)/2)+1 = 17 + 0.5\n",
    "        )\n",
    "        self.layer3 = nn.Sequential(\n",
    "            nn.Conv2d(in_channels=64, out_channels=128, kernel_size=3, stride=1, padding=2), #(17+2(2)-3)+1=19\n",
    "            nn.BatchNorm2d(num_features=128),\n",
    "            nn.ReLU(),\n",
    "            nn.MaxPool2d(kernel_size=2, stride=2) #((19-2)/2)+1 = 9 + 0.5\n",
    "        )\n",
    "        self.layer4 = nn.Sequential(\n",
    "            nn.Conv2d(in_channels=128, out_channels=256, kernel_size=3, stride=1, padding=2), #(9+2(2)-3)+1=11\n",
    "            nn.BatchNorm2d(num_features=256),\n",
    "            nn.ReLU(),\n",
    "            nn.MaxPool2d(kernel_size=2, stride=2) #((11-2)/2)+1 = 5 + 0.5\n",
    "        )\n",
    "        self.layer5 = nn.Sequential(\n",
    "            nn.Conv2d(in_channels=256, out_channels=512, kernel_size=3, stride=1, padding=2), #(5+2(2)-3)+1=7\n",
    "            nn.BatchNorm2d(num_features=512),\n",
    "            nn.ReLU(),\n",
    "            nn.MaxPool2d(kernel_size=2, stride=2) #((7-2)/2)+1 = 3 + 0.5\n",
    "        )\n",
    "        self.fc1 = nn.Linear(3*3*512, num_of_classes)\n",
    "        \n",
    "        \n",
    "    def forward(self, x):\n",
    "        out = self.layer1(x)\n",
    "        out = self.layer2(out)\n",
    "        out = self.layer3(out)\n",
    "        out = self.layer4(out)\n",
    "        out = self.layer5(out)\n",
    "\n",
    "        out = out.reshape(out.size(0), -1)\n",
    "        out = self.fc1(out)\n",
    "        \n",
    "        return out"
   ]
  },
  {
   "cell_type": "code",
   "execution_count": 7,
   "id": "6938c26a",
   "metadata": {
    "ExecuteTime": {
     "end_time": "2021-08-26T10:58:13.181184Z",
     "start_time": "2021-08-26T10:58:11.799184Z"
    }
   },
   "outputs": [],
   "source": [
    "convModel = AgeDBConvModel(num_of_class).cuda()"
   ]
  },
  {
   "cell_type": "code",
   "execution_count": 8,
   "id": "fed7d490",
   "metadata": {
    "ExecuteTime": {
     "end_time": "2021-08-26T10:58:13.197182Z",
     "start_time": "2021-08-26T10:58:13.182183Z"
    }
   },
   "outputs": [],
   "source": [
    "# Training loop\n",
    "def train(model, optimizer, criterion, train_loader, num_of_epoch):\n",
    "    total_step = len(train_loader)\n",
    "    for epoch in range(num_of_epoch):\n",
    "        for i, (imgs, labels) in enumerate(train_loader):\n",
    "            imgs = imgs.to(device)\n",
    "            labels = torch.as_tensor(labels['age']).to(device)\n",
    "            \n",
    "            outputs = model(imgs)\n",
    "            loss = criterion(outputs, labels)\n",
    "            optimizer.zero_grad()\n",
    "            loss.backward()\n",
    "            optimizer.step()\n",
    "            \n",
    "            if (i+1)%total_step == 0:\n",
    "                print(f\"Epoch: {epoch+1}/{num_of_epoch}, Step: {i+1}/{total_step}, Loss: {loss.item()}\")\n",
    "\n",
    "# Evaluation\n",
    "def eval(model, test_loader):\n",
    "    with torch.no_grad():\n",
    "        correct = 0\n",
    "        total = 0\n",
    "        error = torch.zeros(0).to(device)\n",
    "        \n",
    "        for imgs, labels in test_loader:\n",
    "            imgs = imgs.to(device)\n",
    "            labels = torch.as_tensor(labels['age']).to(device)\n",
    "            outputs = model(imgs)\n",
    "            \n",
    "            _, pred = torch.max(outputs.data, 1)\n",
    "\n",
    "            error = torch.cat([error, torch.abs(\n",
    "                torch.subtract(torch.reshape(labels, (-1,)), torch.reshape(pred, (-1,)))\n",
    "            )])\n",
    "            \n",
    "            total += labels.size(0)\n",
    "            correct += (pred == labels).sum().item()\n",
    "            \n",
    "    print(f\"Accuracy: {(100*correct)/total}%\")\n",
    "    print(f\"Mean Absolute Error: {(torch.mean(error))}\")\n",
    "    print(f\"Minimum: {torch.min(error)}, Maximum: {torch.max(error)}, Median: {torch.median(error)}\")"
   ]
  },
  {
   "cell_type": "code",
   "execution_count": 9,
   "id": "3ca9b2a2",
   "metadata": {
    "ExecuteTime": {
     "end_time": "2021-08-26T10:58:13.213182Z",
     "start_time": "2021-08-26T10:58:13.198183Z"
    }
   },
   "outputs": [],
   "source": [
    "criteria = nn.CrossEntropyLoss()\n",
    "optimizer = torch.optim.Adam(convModel.parameters(), lr=learning_rate)"
   ]
  },
  {
   "cell_type": "code",
   "execution_count": 10,
   "id": "6ed4bb3e",
   "metadata": {
    "ExecuteTime": {
     "end_time": "2021-08-26T11:04:00.568955Z",
     "start_time": "2021-08-26T10:58:13.214183Z"
    },
    "scrolled": true
   },
   "outputs": [
    {
     "name": "stdout",
     "output_type": "stream",
     "text": [
      "Epoch: 1/20, Step: 194/194, Loss: 3.936713933944702\n",
      "Epoch: 2/20, Step: 194/194, Loss: 3.7707858085632324\n",
      "Epoch: 3/20, Step: 194/194, Loss: 3.557001829147339\n",
      "Epoch: 4/20, Step: 194/194, Loss: 3.2541587352752686\n",
      "Epoch: 5/20, Step: 194/194, Loss: 2.857527256011963\n",
      "Epoch: 6/20, Step: 194/194, Loss: 2.3499131202697754\n",
      "Epoch: 7/20, Step: 194/194, Loss: 1.7960845232009888\n",
      "Epoch: 8/20, Step: 194/194, Loss: 1.3009862899780273\n",
      "Epoch: 9/20, Step: 194/194, Loss: 0.9234647154808044\n",
      "Epoch: 10/20, Step: 194/194, Loss: 0.6881670951843262\n",
      "Epoch: 11/20, Step: 194/194, Loss: 0.5133230090141296\n",
      "Epoch: 12/20, Step: 194/194, Loss: 0.385812908411026\n",
      "Epoch: 13/20, Step: 194/194, Loss: 0.3244851529598236\n",
      "Epoch: 14/20, Step: 194/194, Loss: 0.24301914870738983\n",
      "Epoch: 15/20, Step: 194/194, Loss: 0.13887397944927216\n",
      "Epoch: 16/20, Step: 194/194, Loss: 0.08338270336389542\n",
      "Epoch: 17/20, Step: 194/194, Loss: 0.06885034590959549\n",
      "Epoch: 18/20, Step: 194/194, Loss: 0.05543256551027298\n",
      "Epoch: 19/20, Step: 194/194, Loss: 0.041255883872509\n",
      "Epoch: 20/20, Step: 194/194, Loss: 0.034500475972890854\n"
     ]
    }
   ],
   "source": [
    "train(convModel, optimizer, criteria, train_set, num_of_epoch=20)"
   ]
  },
  {
   "cell_type": "code",
   "execution_count": 11,
   "id": "10b735ef",
   "metadata": {
    "ExecuteTime": {
     "end_time": "2021-08-26T11:04:04.527954Z",
     "start_time": "2021-08-26T11:04:00.569956Z"
    }
   },
   "outputs": [
    {
     "name": "stdout",
     "output_type": "stream",
     "text": [
      "Accuracy: 4.4165054803352675%\n",
      "Mean Absolute Error: 10.839458465576172\n",
      "Minimum: 0.0, Maximum: 56.0, Median: 9.0\n"
     ]
    }
   ],
   "source": [
    "eval(convModel, test_set)"
   ]
  },
  {
   "cell_type": "code",
   "execution_count": 12,
   "id": "96d5fe78",
   "metadata": {
    "ExecuteTime": {
     "end_time": "2021-08-26T11:04:20.387954Z",
     "start_time": "2021-08-26T11:04:04.528957Z"
    }
   },
   "outputs": [
    {
     "name": "stdout",
     "output_type": "stream",
     "text": [
      "Accuracy: 99.59703417150226%\n",
      "Mean Absolute Error: 0.0465022549033165\n",
      "Minimum: 0.0, Maximum: 34.0, Median: 0.0\n"
     ]
    }
   ],
   "source": [
    "eval(convModel, train_set)"
   ]
  },
  {
   "cell_type": "code",
   "execution_count": null,
   "id": "f62df95c",
   "metadata": {},
   "outputs": [],
   "source": []
  }
 ],
 "metadata": {
  "kernelspec": {
   "display_name": "Python 3",
   "language": "python",
   "name": "python3"
  },
  "language_info": {
   "codemirror_mode": {
    "name": "ipython",
    "version": 3
   },
   "file_extension": ".py",
   "mimetype": "text/x-python",
   "name": "python",
   "nbconvert_exporter": "python",
   "pygments_lexer": "ipython3",
   "version": "3.8.8"
  },
  "varInspector": {
   "cols": {
    "lenName": 16,
    "lenType": 16,
    "lenVar": 40
   },
   "kernels_config": {
    "python": {
     "delete_cmd_postfix": "",
     "delete_cmd_prefix": "del ",
     "library": "var_list.py",
     "varRefreshCmd": "print(var_dic_list())"
    },
    "r": {
     "delete_cmd_postfix": ") ",
     "delete_cmd_prefix": "rm(",
     "library": "var_list.r",
     "varRefreshCmd": "cat(var_dic_list()) "
    }
   },
   "types_to_exclude": [
    "module",
    "function",
    "builtin_function_or_method",
    "instance",
    "_Feature"
   ],
   "window_display": false
  }
 },
 "nbformat": 4,
 "nbformat_minor": 5
}
