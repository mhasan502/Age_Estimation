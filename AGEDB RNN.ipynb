{
 "cells": [
  {
   "cell_type": "code",
   "execution_count": 1,
   "id": "e8e0fa60",
   "metadata": {
    "ExecuteTime": {
     "end_time": "2021-08-23T04:43:43.749093Z",
     "start_time": "2021-08-23T04:43:42.912097Z"
    }
   },
   "outputs": [],
   "source": [
    "import os\n",
    "import torch\n",
    "from torch import nn\n",
    "from torch.utils.data import DataLoader, Dataset\n",
    "import torchvision\n",
    "from torchvision.transforms import ToTensor, Compose, Grayscale, Resize, CenterCrop\n",
    "import matplotlib.pyplot as plt\n",
    "from PIL import Image\n",
    "from parse import parse\n",
    "from custom_loader import AgeDBDataset\n",
    "import warnings\n",
    "warnings.filterwarnings(\"ignore\")"
   ]
  },
  {
   "cell_type": "code",
   "execution_count": 2,
   "id": "3c9a98d5",
   "metadata": {
    "ExecuteTime": {
     "end_time": "2021-08-23T04:43:43.765093Z",
     "start_time": "2021-08-23T04:43:43.750095Z"
    }
   },
   "outputs": [],
   "source": [
    "# hyper params\n",
    "num_of_class = 102\n",
    "hidden_unit = 1024\n",
    "learning_rate = 1e-04\n",
    "batch_size = 64\n",
    "num_layers = 5\n",
    "device = torch.device(\"cuda\")"
   ]
  },
  {
   "cell_type": "code",
   "execution_count": 3,
   "id": "3c77c39a",
   "metadata": {
    "ExecuteTime": {
     "end_time": "2021-08-23T04:43:44.301097Z",
     "start_time": "2021-08-23T04:43:43.766096Z"
    }
   },
   "outputs": [],
   "source": [
    "dataset = AgeDBDataset(\n",
    "    directory = 'AgeDB/',\n",
    "    transform = Compose([\n",
    "        Resize(size=(64, 64)),\n",
    "        CenterCrop(size=64),\n",
    "        Grayscale(num_output_channels=1),\n",
    "        ToTensor(),\n",
    "    ]),\n",
    "    device = device,\n",
    ")"
   ]
  },
  {
   "cell_type": "code",
   "execution_count": 4,
   "id": "da590415",
   "metadata": {
    "ExecuteTime": {
     "end_time": "2021-08-23T04:43:44.317098Z",
     "start_time": "2021-08-23T04:43:44.303096Z"
    }
   },
   "outputs": [],
   "source": [
    "train_set, validation_set, test_set = dataset.get_loaders(\n",
    "    batch_size=batch_size,\n",
    "    train_size=0.8,\n",
    "    test_size=0.2,\n",
    ")"
   ]
  },
  {
   "cell_type": "code",
   "execution_count": 5,
   "id": "78d27745",
   "metadata": {
    "ExecuteTime": {
     "end_time": "2021-08-23T04:43:44.333094Z",
     "start_time": "2021-08-23T04:43:44.319095Z"
    }
   },
   "outputs": [],
   "source": [
    "class AGEDBRnnModel(nn.Module):\n",
    "    def __init__(self, input_size, hidden_size, num_layers, num_classes):\n",
    "        super(AGEDBRnnModel, self).__init__()\n",
    "        self.hidden_size = hidden_size\n",
    "        self.num_layers = num_layers\n",
    "        self.lstm = nn.LSTM(input_size, hidden_size, num_layers, batch_first=True)\n",
    "        self.fc = nn.Linear(hidden_size, num_classes)\n",
    "        \n",
    "    def forward(self, x):\n",
    "        # Set initial hidden and cell states \n",
    "        h0 = torch.zeros(self.num_layers, x.size(0), self.hidden_size).to(device) \n",
    "        c0 = torch.zeros(self.num_layers, x.size(0), self.hidden_size).to(device)\n",
    "        # Passing in the input and hidden state into the model and  obtaining outputs\n",
    "        out, hidden = self.lstm(x, (h0, c0))  # out: tensor of shape (batch_size, seq_length, hidden_size)\n",
    "        \n",
    "        #Reshaping the outputs such that it can be fit into the fully connected layer\n",
    "        out = self.fc(out[:, -1, :])\n",
    "        return out"
   ]
  },
  {
   "cell_type": "code",
   "execution_count": 6,
   "id": "4e5b1157",
   "metadata": {
    "ExecuteTime": {
     "end_time": "2021-08-23T04:43:46.568095Z",
     "start_time": "2021-08-23T04:43:44.334095Z"
    }
   },
   "outputs": [],
   "source": [
    "RNNmodel =  AGEDBRnnModel(\n",
    "    input_size=64,\n",
    "    hidden_size=hidden_unit,\n",
    "    num_layers=5,\n",
    "    num_classes=num_of_class,\n",
    ").to(device)"
   ]
  },
  {
   "cell_type": "code",
   "execution_count": 7,
   "id": "847c08af",
   "metadata": {
    "ExecuteTime": {
     "end_time": "2021-08-23T04:43:46.584096Z",
     "start_time": "2021-08-23T04:43:46.570098Z"
    }
   },
   "outputs": [],
   "source": [
    "criterion = nn.CrossEntropyLoss()\n",
    "optimizer = torch.optim.Adam(RNNmodel.parameters(), lr=learning_rate)"
   ]
  },
  {
   "cell_type": "code",
   "execution_count": 8,
   "id": "841aa043",
   "metadata": {
    "ExecuteTime": {
     "end_time": "2021-08-23T04:43:46.599094Z",
     "start_time": "2021-08-23T04:43:46.586095Z"
    }
   },
   "outputs": [],
   "source": [
    "def train(model, optimizer, criterion, train_loader, num_epochs):\n",
    "    total_step = len(train_loader)\n",
    "    \n",
    "    for epoch in range(num_epochs):\n",
    "        for i, (imgs, labels) in enumerate(train_loader):\n",
    "            imgs = imgs.reshape(-1, 64, 64).to(device)\n",
    "            labels = torch.as_tensor(labels['age']).to(device)\n",
    "            \n",
    "            # Forward pass\n",
    "            outputs = model(imgs)\n",
    "            loss = criterion(outputs, labels)\n",
    "            \n",
    "            # Backward and optimize\n",
    "            optimizer.zero_grad()\n",
    "            loss.backward()\n",
    "            optimizer.step()\n",
    "        \n",
    "            if (i+1)%total_step ==0:  \n",
    "                print(f\"EPOCH: {epoch+1}/{num_epochs}, STEP: {i+1}/{total_step}, LOSS: {loss.item()}\")"
   ]
  },
  {
   "cell_type": "code",
   "execution_count": 9,
   "id": "aebc94ef",
   "metadata": {
    "ExecuteTime": {
     "end_time": "2021-08-23T04:58:11.307556Z",
     "start_time": "2021-08-23T04:43:46.600095Z"
    }
   },
   "outputs": [
    {
     "name": "stdout",
     "output_type": "stream",
     "text": [
      "EPOCH: 1/20, STEP: 194/194, LOSS: 4.0491719245910645\n",
      "EPOCH: 2/20, STEP: 194/194, LOSS: 4.041388034820557\n",
      "EPOCH: 3/20, STEP: 194/194, LOSS: 4.037904262542725\n",
      "EPOCH: 4/20, STEP: 194/194, LOSS: 4.035407543182373\n",
      "EPOCH: 5/20, STEP: 194/194, LOSS: 4.033392429351807\n",
      "EPOCH: 6/20, STEP: 194/194, LOSS: 4.031642913818359\n",
      "EPOCH: 7/20, STEP: 194/194, LOSS: 4.030107498168945\n",
      "EPOCH: 8/20, STEP: 194/194, LOSS: 4.028800964355469\n",
      "EPOCH: 9/20, STEP: 194/194, LOSS: 4.027691841125488\n",
      "EPOCH: 10/20, STEP: 194/194, LOSS: 4.026721000671387\n",
      "EPOCH: 11/20, STEP: 194/194, LOSS: 4.025838851928711\n",
      "EPOCH: 12/20, STEP: 194/194, LOSS: 4.025030612945557\n",
      "EPOCH: 13/20, STEP: 194/194, LOSS: 4.0242838859558105\n",
      "EPOCH: 14/20, STEP: 194/194, LOSS: 4.023584842681885\n",
      "EPOCH: 15/20, STEP: 194/194, LOSS: 4.022908687591553\n",
      "EPOCH: 16/20, STEP: 194/194, LOSS: 4.022242546081543\n",
      "EPOCH: 17/20, STEP: 194/194, LOSS: 4.021596431732178\n",
      "EPOCH: 18/20, STEP: 194/194, LOSS: 4.02099084854126\n",
      "EPOCH: 19/20, STEP: 194/194, LOSS: 4.020423889160156\n",
      "EPOCH: 20/20, STEP: 194/194, LOSS: 4.019911289215088\n"
     ]
    }
   ],
   "source": [
    "train(RNNmodel, optimizer, criterion, train_set, num_epochs=20) "
   ]
  },
  {
   "cell_type": "code",
   "execution_count": 10,
   "id": "3c5b3752",
   "metadata": {
    "ExecuteTime": {
     "end_time": "2021-08-23T04:58:11.323558Z",
     "start_time": "2021-08-23T04:58:11.308557Z"
    }
   },
   "outputs": [],
   "source": [
    "def eval(model, test_loader):\n",
    "    with torch.no_grad():\n",
    "        correct = 0\n",
    "        total = 0\n",
    "        for imgs, labels in test_loader:\n",
    "            imgs = imgs.reshape(-1, 64, 64).to(device)\n",
    "            labels = torch.as_tensor(labels['age']).to(device)\n",
    "            outputs = model(imgs)\n",
    "            \n",
    "            _, pred= torch.max(outputs.data, 1)\n",
    "            total += labels.size(0)\n",
    "            correct += (pred == labels).sum().item()\n",
    "            \n",
    "        print(f\"ACC: {(100*correct)/total}%\")"
   ]
  },
  {
   "cell_type": "code",
   "execution_count": 11,
   "id": "0f9878d0",
   "metadata": {
    "ExecuteTime": {
     "end_time": "2021-08-23T04:58:17.928558Z",
     "start_time": "2021-08-23T04:58:11.324559Z"
    }
   },
   "outputs": [
    {
     "name": "stdout",
     "output_type": "stream",
     "text": [
      "ACC: 2.1921341070277243%\n"
     ]
    }
   ],
   "source": [
    "eval(RNNmodel, test_set)"
   ]
  },
  {
   "cell_type": "code",
   "execution_count": 12,
   "id": "87bbb009",
   "metadata": {
    "ExecuteTime": {
     "end_time": "2021-08-23T04:58:43.434505Z",
     "start_time": "2021-08-23T04:58:17.929559Z"
    }
   },
   "outputs": [
    {
     "name": "stdout",
     "output_type": "stream",
     "text": [
      "ACC: 2.4339136041263703%\n"
     ]
    }
   ],
   "source": [
    "eval(RNNmodel, train_set)"
   ]
  },
  {
   "cell_type": "code",
   "execution_count": null,
   "id": "0810da24",
   "metadata": {},
   "outputs": [],
   "source": []
  }
 ],
 "metadata": {
  "kernelspec": {
   "display_name": "Python 3",
   "language": "python",
   "name": "python3"
  },
  "language_info": {
   "codemirror_mode": {
    "name": "ipython",
    "version": 3
   },
   "file_extension": ".py",
   "mimetype": "text/x-python",
   "name": "python",
   "nbconvert_exporter": "python",
   "pygments_lexer": "ipython3",
   "version": "3.8.8"
  },
  "varInspector": {
   "cols": {
    "lenName": 16,
    "lenType": 16,
    "lenVar": 40
   },
   "kernels_config": {
    "python": {
     "delete_cmd_postfix": "",
     "delete_cmd_prefix": "del ",
     "library": "var_list.py",
     "varRefreshCmd": "print(var_dic_list())"
    },
    "r": {
     "delete_cmd_postfix": ") ",
     "delete_cmd_prefix": "rm(",
     "library": "var_list.r",
     "varRefreshCmd": "cat(var_dic_list()) "
    }
   },
   "types_to_exclude": [
    "module",
    "function",
    "builtin_function_or_method",
    "instance",
    "_Feature"
   ],
   "window_display": false
  }
 },
 "nbformat": 4,
 "nbformat_minor": 5
}
