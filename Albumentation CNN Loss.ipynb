{
 "cells": [
  {
   "cell_type": "code",
   "execution_count": 1,
   "id": "06aabb63",
   "metadata": {
    "ExecuteTime": {
     "end_time": "2021-08-31T13:01:43.952061Z",
     "start_time": "2021-08-31T13:01:41.348064Z"
    }
   },
   "outputs": [],
   "source": [
    "import os\n",
    "import numpy as np\n",
    "import matplotlib.pyplot as plt\n",
    "from PIL import Image\n",
    "from tqdm import tqdm\n",
    "from parse import parse\n",
    "from autocrop import Cropper\n",
    "\n",
    "import torch\n",
    "from torch import nn\n",
    "import torch.nn.functional as F\n",
    "from torch.utils.data import DataLoader, Dataset\n",
    "import torchvision\n",
    "from torchvision.transforms import ToTensor, Compose, Grayscale, Resize, CenterCrop\n",
    "\n",
    "from custom_loader import AgeDBDataset\n",
    "from custom_loss_functions import AngularPenaltySMLoss\n",
    "\n",
    "import cv2\n",
    "import albumentations as A\n",
    "from albumentations.pytorch import ToTensorV2\n",
    "\n",
    "import warnings\n",
    "warnings.filterwarnings(\"ignore\")"
   ]
  },
  {
   "cell_type": "code",
   "execution_count": 2,
   "id": "cb64b0db",
   "metadata": {
    "ExecuteTime": {
     "end_time": "2021-08-31T13:01:43.967062Z",
     "start_time": "2021-08-31T13:01:43.953062Z"
    }
   },
   "outputs": [],
   "source": [
    "# hyper params\n",
    "num_of_class = 102\n",
    "hidden_unit = 256\n",
    "learning_rate = 1e-03\n",
    "input_size = 64\n",
    "batch_size = 64\n",
    "device = torch.device(\"cuda\")"
   ]
  },
  {
   "cell_type": "code",
   "execution_count": 3,
   "id": "f90fdb3d",
   "metadata": {
    "ExecuteTime": {
     "end_time": "2021-08-31T13:01:43.983061Z",
     "start_time": "2021-08-31T13:01:43.968062Z"
    }
   },
   "outputs": [],
   "source": [
    "transformA = A.Compose([\n",
    "    A.Resize(input_size, input_size),\n",
    "    A.ToGray(p=1),\n",
    "    A.Rotate(limit=10, p=0.3),\n",
    "    A.HorizontalFlip(p=0.4),\n",
    "    A.OpticalDistortion(p=0.2),\n",
    "    A.augmentations.transforms.ChannelDropout(p=1.0),\n",
    "    A.OneOf([\n",
    "        A.Blur(blur_limit=3, p=0.2),\n",
    "        A.ColorJitter(p=0.2),\n",
    "    ], p=0.2),\n",
    "    ToTensorV2()\n",
    "])"
   ]
  },
  {
   "cell_type": "code",
   "execution_count": 4,
   "id": "4e3b3cb3",
   "metadata": {
    "ExecuteTime": {
     "end_time": "2021-08-31T13:01:43.999063Z",
     "start_time": "2021-08-31T13:01:43.984064Z"
    }
   },
   "outputs": [],
   "source": [
    "### --- AgeDB Dataset Class --- ###           {}_{person}_{age}_{gender}.jpg\n",
    "\n",
    "\n",
    "class AgeDBDataset(Dataset):\n",
    "\n",
    "    ## data loading\n",
    "    def __init__(self, directory, device, transform=None, **kwargs):\n",
    "        self.directory = directory\n",
    "        self.transform = transform\n",
    "        self.device = device\n",
    "        self.labels = []\n",
    "        self.images = []\n",
    "\n",
    "        gender_to_class_id = {'m': 0, 'f': 1}\n",
    "\n",
    "        for i, file in enumerate(sorted(os.listdir(self.directory))):\n",
    "            file_labels = parse('{}_{}_{age}_{gender}.jpg', file)\n",
    "\n",
    "            if file_labels is None:\n",
    "                continue\n",
    "\n",
    "            image = Image.open(os.path.join(self.directory,\n",
    "                                            file)).convert('RGB')\n",
    "\n",
    "            ########\n",
    "            cropper = Cropper()\n",
    "\n",
    "            try:\n",
    "                #Get a Numpy array of the cropped image\n",
    "                cropped_array = cropper.crop(image)\n",
    "                #Save the cropped image with PIL\n",
    "                image = Image.fromarray(cropped_array)\n",
    "\n",
    "            except:\n",
    "                pass\n",
    "\n",
    "            image = np.array(image)\n",
    "\n",
    "            for i in range(10):\n",
    "                augmented_images = self.transform(image=image)['image']\n",
    "                self.images.append(augmented_images)\n",
    "                ########\n",
    "                gender = gender_to_class_id[file_labels['gender']]\n",
    "                age = int(file_labels['age'])\n",
    "                self.labels.append({\n",
    "                    'age': age,\n",
    "                    'gender': gender\n",
    "                })\n",
    "\n",
    "## len(dataset)\n",
    "\n",
    "    def __len__(self):\n",
    "        return len(self.labels)\n",
    "\n",
    "## dataset[0]\n",
    "\n",
    "    def __getitem__(self, index):\n",
    "        if torch.is_tensor(index):\n",
    "            index = index.tolist()\n",
    "\n",
    "        image = self.images[index]\n",
    "\n",
    "        labels = {\n",
    "            'age': self.labels[index]['age'],\n",
    "            'gender': self.labels[index]['gender']\n",
    "        }\n",
    "\n",
    "        return image.to(self.device), labels\n",
    "\n",
    "\n",
    "## DataLoaders - train, validate, test\n",
    "\n",
    "    def get_loaders(self, batch_size, train_size, test_size, random_seed,\n",
    "                    **kwargs):\n",
    "        train_len = int(len(self) * train_size)\n",
    "        test_len = int(len(self) * test_size)\n",
    "        validate_len = len(self) - (train_len + test_len)\n",
    "\n",
    "        self.trainDataset, self.validateDataset, self.testDataset = torch.utils.data.random_split(\n",
    "            dataset=self,\n",
    "            lengths=[train_len, validate_len, test_len],\n",
    "            generator=torch.Generator().manual_seed(random_seed))\n",
    "\n",
    "        train_loader = DataLoader(self.trainDataset, batch_size=batch_size)\n",
    "        validate_loader = DataLoader(self.validateDataset,\n",
    "                                     batch_size=batch_size)\n",
    "        test_loader = DataLoader(self.testDataset, batch_size=batch_size)\n",
    "\n",
    "        return train_loader, validate_loader, test_loader"
   ]
  },
  {
   "cell_type": "code",
   "execution_count": 5,
   "id": "6de83481",
   "metadata": {
    "ExecuteTime": {
     "end_time": "2021-08-31T13:02:40.080436Z",
     "start_time": "2021-08-31T13:01:44.000062Z"
    }
   },
   "outputs": [],
   "source": [
    "dataset = AgeDBDataset(\n",
    "    directory='AgeDB/',\n",
    "    transform=transformA,\n",
    "    device=device,\n",
    ")"
   ]
  },
  {
   "cell_type": "code",
   "execution_count": 6,
   "id": "64cc1bff",
   "metadata": {
    "ExecuteTime": {
     "end_time": "2021-08-31T13:02:40.112437Z",
     "start_time": "2021-08-31T13:02:40.081439Z"
    }
   },
   "outputs": [],
   "source": [
    "train_set, validation_set, test_set = dataset.get_loaders(\n",
    "    batch_size=batch_size,\n",
    "    train_size=0.8,\n",
    "    test_size=0.2,\n",
    "    random_seed=42,\n",
    ")"
   ]
  },
  {
   "cell_type": "code",
   "execution_count": 7,
   "id": "a0003a72",
   "metadata": {
    "ExecuteTime": {
     "end_time": "2021-08-31T13:02:40.128436Z",
     "start_time": "2021-08-31T13:02:40.115437Z"
    }
   },
   "outputs": [
    {
     "data": {
      "text/plain": [
       "164880"
      ]
     },
     "execution_count": 7,
     "metadata": {},
     "output_type": "execute_result"
    }
   ],
   "source": [
    "len(dataset)"
   ]
  },
  {
   "cell_type": "code",
   "execution_count": 8,
   "id": "5641b0b5",
   "metadata": {
    "ExecuteTime": {
     "end_time": "2021-08-31T13:02:40.144437Z",
     "start_time": "2021-08-31T13:02:40.130438Z"
    }
   },
   "outputs": [],
   "source": [
    "class AgeDBConvModel(nn.Module):\n",
    "    def __init__(self, num_of_classes):\n",
    "        super(AgeDBConvModel, self).__init__()\n",
    "        self.layer1 = nn.Sequential(\n",
    "            nn.Conv2d(in_channels=3, out_channels=32, kernel_size=3, stride=1, padding=2), #(64+2(2)-3)+1=66\n",
    "            nn.BatchNorm2d(num_features=32),\n",
    "            nn.ReLU(),\n",
    "            nn.MaxPool2d(kernel_size=2, stride=2) #((66-2)/2)+1 = 33\n",
    "        )\n",
    "        self.layer2 = nn.Sequential(\n",
    "            nn.Conv2d(in_channels=32, out_channels=64, kernel_size=3, stride=1, padding=2), #(33+2(2)-3)+1=35\n",
    "            nn.BatchNorm2d(num_features=64),\n",
    "            nn.ReLU(),\n",
    "            nn.MaxPool2d(kernel_size=2, stride=2) #((35-2)/2)+1 = 17 + 0.5\n",
    "        )\n",
    "        self.layer3 = nn.Sequential(\n",
    "            nn.Conv2d(in_channels=64, out_channels=128, kernel_size=3, stride=1, padding=2), #(17+2(2)-3)+1=19\n",
    "            nn.BatchNorm2d(num_features=128),\n",
    "            nn.ReLU(),\n",
    "            nn.MaxPool2d(kernel_size=2, stride=2) #((19-2)/2)+1 = 9 + 0.5\n",
    "        )\n",
    "        self.layer4 = nn.Sequential(\n",
    "            nn.Conv2d(in_channels=128, out_channels=256, kernel_size=3, stride=1, padding=2), #(9+2(2)-3)+1=11\n",
    "            nn.BatchNorm2d(num_features=256),\n",
    "            nn.ReLU(),\n",
    "            nn.MaxPool2d(kernel_size=2, stride=2) #((11-2)/2)+1 = 5 + 0.5\n",
    "        )\n",
    "        self.layer5 = nn.Sequential(\n",
    "            nn.Conv2d(in_channels=256, out_channels=512, kernel_size=3, stride=1, padding=2), #(5+2(2)-3)+1=7\n",
    "            nn.BatchNorm2d(num_features=512),\n",
    "            nn.ReLU(),\n",
    "            nn.MaxPool2d(kernel_size=2, stride=2) #((7-2)/2)+1 = 3 + 0.5\n",
    "        )\n",
    "        self.fc1 = nn.Linear(3*3*512, num_of_classes)\n",
    "        \n",
    "        \n",
    "    def forward(self, x):\n",
    "        out = self.layer1(x)\n",
    "        out = self.layer2(out)\n",
    "        out = self.layer3(out)\n",
    "        out = self.layer4(out)\n",
    "        out = self.layer5(out)\n",
    "\n",
    "        out = out.reshape(out.size(0), -1)\n",
    "        out = self.fc1(out)\n",
    "        \n",
    "        return out"
   ]
  },
  {
   "cell_type": "code",
   "execution_count": 14,
   "id": "6938c26a",
   "metadata": {
    "ExecuteTime": {
     "end_time": "2021-08-31T13:28:46.121101Z",
     "start_time": "2021-08-31T13:28:46.053101Z"
    }
   },
   "outputs": [],
   "source": [
    "convModel1 = AgeDBConvModel(num_of_class).to(device)\n",
    "convModel2 = AgeDBConvModel(num_of_class).to(device)\n",
    "convModel3 = AgeDBConvModel(num_of_class).to(device)"
   ]
  },
  {
   "cell_type": "code",
   "execution_count": 10,
   "id": "fed7d490",
   "metadata": {
    "ExecuteTime": {
     "end_time": "2021-08-31T13:02:42.042438Z",
     "start_time": "2021-08-31T13:02:42.027439Z"
    }
   },
   "outputs": [],
   "source": [
    "# Training loop\n",
    "def train(model, optimizer, criterion, train_loader, num_of_epoch):\n",
    "    total_step = len(train_loader)\n",
    "    for epoch in range(num_of_epoch):\n",
    "        for i, (imgs, labels) in enumerate(train_loader):\n",
    "            imgs = imgs.to(device).float()\n",
    "            labels = torch.as_tensor(labels['age']).to(device)\n",
    "            \n",
    "            outputs = model(imgs)\n",
    "            loss = criterion(outputs, labels)\n",
    "            optimizer.zero_grad()\n",
    "            loss.backward()\n",
    "            optimizer.step()\n",
    "            \n",
    "            if (i+1)%total_step == 0:\n",
    "                print(f\"Epoch: {epoch+1}/{num_of_epoch}, Step: {i+1}/{total_step}, Loss: {loss.item()}\")\n",
    "\n",
    "# Evaluation\n",
    "def eval(model, test_loader):\n",
    "    with torch.no_grad():\n",
    "        correct = 0\n",
    "        total = 0\n",
    "        error = torch.zeros(0).to(device)\n",
    "        for imgs, labels in test_loader:\n",
    "            imgs = imgs.to(device).float()\n",
    "            labels = torch.as_tensor(labels['age']).to(device)\n",
    "            outputs = model(imgs)\n",
    "            \n",
    "            _, pred = torch.max(outputs.data, 1)\n",
    "\n",
    "            error = torch.cat([error, torch.abs(\n",
    "                torch.subtract(torch.reshape(labels, (-1,)), torch.reshape(pred, (-1,)))\n",
    "            )])\n",
    "                        \n",
    "            total += labels.size(0)\n",
    "            correct += (pred == labels).sum().item()\n",
    "            \n",
    "    print(f\"Accuracy: {(100*correct)/total}%\")\n",
    "    print(f\"Mean Absolute Error: {(torch.mean(error))}\")\n",
    "    print(f\"Minimum: {torch.min(error)}, Maximum: {torch.max(error)}, Median: {torch.median(error)}\")"
   ]
  },
  {
   "cell_type": "code",
   "execution_count": 11,
   "id": "3ca9b2a2",
   "metadata": {
    "ExecuteTime": {
     "end_time": "2021-08-31T13:24:11.529955Z",
     "start_time": "2021-08-31T13:02:42.043437Z"
    },
    "hide_input": false
   },
   "outputs": [
    {
     "name": "stdout",
     "output_type": "stream",
     "text": [
      "Epoch: 1/20, Step: 2061/2061, Loss: 34.55863952636719\n",
      "Epoch: 2/20, Step: 2061/2061, Loss: 34.026058197021484\n",
      "Epoch: 3/20, Step: 2061/2061, Loss: 30.480792999267578\n",
      "Epoch: 4/20, Step: 2061/2061, Loss: 22.241352081298828\n",
      "Epoch: 5/20, Step: 2061/2061, Loss: 17.97844123840332\n",
      "Epoch: 6/20, Step: 2061/2061, Loss: 15.828337669372559\n",
      "Epoch: 7/20, Step: 2061/2061, Loss: 14.4656982421875\n",
      "Epoch: 8/20, Step: 2061/2061, Loss: 13.320916175842285\n",
      "Epoch: 9/20, Step: 2061/2061, Loss: 12.509502410888672\n",
      "Epoch: 10/20, Step: 2061/2061, Loss: 11.711514472961426\n",
      "Epoch: 11/20, Step: 2061/2061, Loss: 11.409056663513184\n",
      "Epoch: 12/20, Step: 2061/2061, Loss: 10.688467025756836\n",
      "Epoch: 13/20, Step: 2061/2061, Loss: 9.860223770141602\n",
      "Epoch: 14/20, Step: 2061/2061, Loss: 9.70979118347168\n",
      "Epoch: 15/20, Step: 2061/2061, Loss: 9.254637718200684\n",
      "Epoch: 16/20, Step: 2061/2061, Loss: 8.840057373046875\n",
      "Epoch: 17/20, Step: 2061/2061, Loss: 8.236944198608398\n",
      "Epoch: 18/20, Step: 2061/2061, Loss: 8.008955955505371\n",
      "Epoch: 19/20, Step: 2061/2061, Loss: 7.777309894561768\n",
      "Epoch: 20/20, Step: 2061/2061, Loss: 7.389922142028809\n"
     ]
    }
   ],
   "source": [
    "criteria = AngularPenaltySMLoss(\n",
    "    in_features=num_of_class,\n",
    "    out_features=num_of_class,\n",
    "    loss_type='arcface',\n",
    ")\n",
    "optimizer = torch.optim.Adam(convModel1.parameters(), lr=learning_rate)\n",
    "train(convModel1, optimizer, criteria, train_set, num_of_epoch=20)"
   ]
  },
  {
   "cell_type": "code",
   "execution_count": 15,
   "id": "6ed4bb3e",
   "metadata": {
    "ExecuteTime": {
     "end_time": "2021-08-31T13:29:09.867480Z",
     "start_time": "2021-08-31T13:28:51.831482Z"
    },
    "scrolled": true
   },
   "outputs": [
    {
     "name": "stdout",
     "output_type": "stream",
     "text": [
      "Accuracy: 1.0462154294032022%\n",
      "Mean Absolute Error: 25.114416122436523\n",
      "Minimum: 0.0, Maximum: 91.0, Median: 22.0\n",
      "\n",
      "Accuracy: 1.0697173702086367%\n",
      "Mean Absolute Error: 24.97016716003418\n",
      "Minimum: 0.0, Maximum: 94.0, Median: 22.0\n"
     ]
    }
   ],
   "source": [
    "eval(convModel1, test_set)\n",
    "print()\n",
    "eval(convModel1, train_set)"
   ]
  },
  {
   "cell_type": "code",
   "execution_count": 16,
   "id": "10b735ef",
   "metadata": {
    "ExecuteTime": {
     "end_time": "2021-08-31T13:51:49.899274Z",
     "start_time": "2021-08-31T13:29:16.884222Z"
    }
   },
   "outputs": [
    {
     "name": "stdout",
     "output_type": "stream",
     "text": [
      "Epoch: 1/20, Step: 2061/2061, Loss: 15.769417762756348\n",
      "Epoch: 2/20, Step: 2061/2061, Loss: 14.485084533691406\n",
      "Epoch: 3/20, Step: 2061/2061, Loss: 10.117796897888184\n",
      "Epoch: 4/20, Step: 2061/2061, Loss: 7.292023181915283\n",
      "Epoch: 5/20, Step: 2061/2061, Loss: 6.101036548614502\n",
      "Epoch: 6/20, Step: 2061/2061, Loss: 5.367204666137695\n",
      "Epoch: 7/20, Step: 2061/2061, Loss: 4.9822893142700195\n",
      "Epoch: 8/20, Step: 2061/2061, Loss: 4.6685333251953125\n",
      "Epoch: 9/20, Step: 2061/2061, Loss: 4.278404235839844\n",
      "Epoch: 10/20, Step: 2061/2061, Loss: 3.9736342430114746\n",
      "Epoch: 11/20, Step: 2061/2061, Loss: 3.735743522644043\n",
      "Epoch: 12/20, Step: 2061/2061, Loss: 3.4399871826171875\n",
      "Epoch: 13/20, Step: 2061/2061, Loss: 3.2809550762176514\n",
      "Epoch: 14/20, Step: 2061/2061, Loss: 3.0514724254608154\n",
      "Epoch: 15/20, Step: 2061/2061, Loss: 2.853799819946289\n",
      "Epoch: 16/20, Step: 2061/2061, Loss: 2.843712091445923\n",
      "Epoch: 17/20, Step: 2061/2061, Loss: 2.7290642261505127\n",
      "Epoch: 18/20, Step: 2061/2061, Loss: 2.6543326377868652\n",
      "Epoch: 19/20, Step: 2061/2061, Loss: 2.5762064456939697\n",
      "Epoch: 20/20, Step: 2061/2061, Loss: 2.5393190383911133\n"
     ]
    }
   ],
   "source": [
    "criteria = AngularPenaltySMLoss(\n",
    "    in_features=num_of_class,\n",
    "    out_features=num_of_class,\n",
    "    loss_type='cosface',\n",
    ")\n",
    "optimizer = torch.optim.Adam(convModel2.parameters(), lr=learning_rate)\n",
    "train(convModel2, optimizer, criteria, train_set, num_of_epoch=20)"
   ]
  },
  {
   "cell_type": "code",
   "execution_count": 17,
   "id": "96d5fe78",
   "metadata": {
    "ExecuteTime": {
     "end_time": "2021-08-31T13:59:13.642355Z",
     "start_time": "2021-08-31T13:58:56.436355Z"
    }
   },
   "outputs": [
    {
     "name": "stdout",
     "output_type": "stream",
     "text": [
      "Accuracy: 1.0613779718583212%\n",
      "Mean Absolute Error: 29.084941864013672\n",
      "Minimum: 0.0, Maximum: 98.0, Median: 26.0\n",
      "\n",
      "Accuracy: 0.8877668607472101%\n",
      "Mean Absolute Error: 28.67450523376465\n",
      "Minimum: 0.0, Maximum: 99.0, Median: 26.0\n"
     ]
    }
   ],
   "source": [
    "eval(convModel2, test_set)\n",
    "print()\n",
    "eval(convModel2, train_set)"
   ]
  },
  {
   "cell_type": "code",
   "execution_count": 18,
   "id": "7d814f14",
   "metadata": {
    "ExecuteTime": {
     "end_time": "2021-08-31T14:21:49.640444Z",
     "start_time": "2021-08-31T13:59:15.842400Z"
    }
   },
   "outputs": [
    {
     "name": "stdout",
     "output_type": "stream",
     "text": [
      "Epoch: 1/20, Step: 2061/2061, Loss: 36.44721984863281\n",
      "Epoch: 2/20, Step: 2061/2061, Loss: 35.025211334228516\n",
      "Epoch: 3/20, Step: 2061/2061, Loss: 25.769569396972656\n",
      "Epoch: 4/20, Step: 2061/2061, Loss: 17.463092803955078\n",
      "Epoch: 5/20, Step: 2061/2061, Loss: 12.482423782348633\n",
      "Epoch: 6/20, Step: 2061/2061, Loss: 9.896167755126953\n",
      "Epoch: 7/20, Step: 2061/2061, Loss: 7.999245643615723\n",
      "Epoch: 8/20, Step: 2061/2061, Loss: 7.064300060272217\n",
      "Epoch: 9/20, Step: 2061/2061, Loss: 5.972658634185791\n",
      "Epoch: 10/20, Step: 2061/2061, Loss: 5.067168235778809\n",
      "Epoch: 11/20, Step: 2061/2061, Loss: 4.358851909637451\n",
      "Epoch: 12/20, Step: 2061/2061, Loss: 3.6999664306640625\n",
      "Epoch: 13/20, Step: 2061/2061, Loss: 3.3063313961029053\n",
      "Epoch: 14/20, Step: 2061/2061, Loss: 2.9672927856445312\n",
      "Epoch: 15/20, Step: 2061/2061, Loss: 2.811723232269287\n",
      "Epoch: 16/20, Step: 2061/2061, Loss: 2.6453423500061035\n",
      "Epoch: 17/20, Step: 2061/2061, Loss: 2.1422860622406006\n",
      "Epoch: 18/20, Step: 2061/2061, Loss: 1.930097222328186\n",
      "Epoch: 19/20, Step: 2061/2061, Loss: 1.83431077003479\n",
      "Epoch: 20/20, Step: 2061/2061, Loss: 1.489152431488037\n"
     ]
    }
   ],
   "source": [
    "criteria = AngularPenaltySMLoss(\n",
    "    in_features=num_of_class,\n",
    "    out_features=num_of_class,\n",
    "    loss_type='sphereface',\n",
    ")\n",
    "optimizer = torch.optim.Adam(convModel3.parameters(), lr=learning_rate)\n",
    "train(convModel3, optimizer, criteria, train_set, num_of_epoch=20)"
   ]
  },
  {
   "cell_type": "code",
   "execution_count": 19,
   "id": "2f6abc41",
   "metadata": {
    "ExecuteTime": {
     "end_time": "2021-08-31T14:33:21.329445Z",
     "start_time": "2021-08-31T14:33:04.484446Z"
    }
   },
   "outputs": [
    {
     "name": "stdout",
     "output_type": "stream",
     "text": [
      "Accuracy: 0.6550218340611353%\n",
      "Mean Absolute Error: 28.086820602416992\n",
      "Minimum: 0.0, Maximum: 97.0, Median: 25.0\n",
      "\n",
      "Accuracy: 0.6830725376031053%\n",
      "Mean Absolute Error: 27.68055534362793\n",
      "Minimum: 0.0, Maximum: 100.0, Median: 24.0\n"
     ]
    }
   ],
   "source": [
    "eval(convModel3, test_set)\n",
    "print()\n",
    "eval(convModel3, train_set)"
   ]
  },
  {
   "cell_type": "code",
   "execution_count": null,
   "id": "801ebb36",
   "metadata": {},
   "outputs": [],
   "source": []
  }
 ],
 "metadata": {
  "kernelspec": {
   "display_name": "Python 3",
   "language": "python",
   "name": "python3"
  },
  "language_info": {
   "codemirror_mode": {
    "name": "ipython",
    "version": 3
   },
   "file_extension": ".py",
   "mimetype": "text/x-python",
   "name": "python",
   "nbconvert_exporter": "python",
   "pygments_lexer": "ipython3",
   "version": "3.8.8"
  },
  "varInspector": {
   "cols": {
    "lenName": 16,
    "lenType": 16,
    "lenVar": 40
   },
   "kernels_config": {
    "python": {
     "delete_cmd_postfix": "",
     "delete_cmd_prefix": "del ",
     "library": "var_list.py",
     "varRefreshCmd": "print(var_dic_list())"
    },
    "r": {
     "delete_cmd_postfix": ") ",
     "delete_cmd_prefix": "rm(",
     "library": "var_list.r",
     "varRefreshCmd": "cat(var_dic_list()) "
    }
   },
   "types_to_exclude": [
    "module",
    "function",
    "builtin_function_or_method",
    "instance",
    "_Feature"
   ],
   "window_display": false
  }
 },
 "nbformat": 4,
 "nbformat_minor": 5
}
