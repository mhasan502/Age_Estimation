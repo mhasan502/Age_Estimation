{
 "cells": [
  {
   "cell_type": "code",
   "execution_count": 1,
   "id": "06aabb63",
   "metadata": {
    "ExecuteTime": {
     "end_time": "2021-09-20T15:11:50.919611Z",
     "start_time": "2021-09-20T15:11:48.780614Z"
    }
   },
   "outputs": [],
   "source": [
    "import torch\n",
    "from torch import nn\n",
    "import pretrainedmodels\n",
    "\n",
    "from utils.train import train\n",
    "from utils.evaluation import evaluation\n",
    "from utils.loader import get_loader, get_image_list\n",
    "from utils.losses import CostSensitiveRegularizedLoss\n",
    "\n",
    "import warnings\n",
    "warnings.filterwarnings(\"ignore\", category=UserWarning)\n",
    "warnings.filterwarnings(\"ignore\", category=DeprecationWarning)"
   ]
  },
  {
   "cell_type": "code",
   "execution_count": 2,
   "id": "cb64b0db",
   "metadata": {
    "ExecuteTime": {
     "end_time": "2021-09-20T15:11:50.935611Z",
     "start_time": "2021-09-20T15:11:50.920614Z"
    }
   },
   "outputs": [],
   "source": [
    "# hyper params\n",
    "num_of_class = 102\n",
    "learning_rate = 1e-04\n",
    "batch_size = 128\n",
    "input_size = 224\n",
    "device = torch.device(\"cuda\")\n",
    "test_size = 0.2\n",
    "train_size = 0.7\n",
    "val_size = 0.1\n",
    "directoryAgeDB = 'AgeDB/'"
   ]
  },
  {
   "cell_type": "code",
   "execution_count": 3,
   "id": "6de83481",
   "metadata": {
    "ExecuteTime": {
     "end_time": "2021-09-20T15:11:50.950611Z",
     "start_time": "2021-09-20T15:11:50.936614Z"
    }
   },
   "outputs": [],
   "source": [
    "def findAge(image_list):\n",
    "    listofzeros = [0] * 102\n",
    "    same_age = [i for i in range(0, 102)]\n",
    "    age_number = dict(zip(same_age, listofzeros))\n",
    "    sum = 0\n",
    "\n",
    "    for i in range(len(image_list)):\n",
    "\n",
    "        if image_list[i]['age'] in age_number:\n",
    "            age_number[image_list[i]['age']] += 1\n",
    "            sum += 1\n",
    "\n",
    "    print(sum)\n",
    "    return dict(age_number)\n"
   ]
  },
  {
   "cell_type": "code",
   "execution_count": 4,
   "id": "e5b36689",
   "metadata": {
    "ExecuteTime": {
     "end_time": "2021-09-20T15:13:12.843613Z",
     "start_time": "2021-09-20T15:11:50.951612Z"
    }
   },
   "outputs": [
    {
     "data": {
      "application/vnd.jupyter.widget-view+json": {
       "model_id": "c58995aa95b44513807479f60b4b140e",
       "version_major": 2,
       "version_minor": 0
      },
      "text/plain": [
       "  0%|          | 0/11541 [00:00<?, ?it/s]"
      ]
     },
     "metadata": {},
     "output_type": "display_data"
    },
    {
     "name": "stdout",
     "output_type": "stream",
     "text": [
      "Train Set Length:  34623\n",
      "Test Set Length:  3298\n",
      "Validation Set Length:  1649\n",
      "Total:  39570\n"
     ]
    }
   ],
   "source": [
    "train_image_list, test_image_list, validate_image_list = get_image_list(\n",
    "    train_size=train_size, \n",
    "    test_size=test_size, \n",
    "    val_size=val_size, \n",
    "    directory=directoryAgeDB,\n",
    ")\n",
    "\n",
    "train_loader, test_loader, validation_loader = get_loader(\n",
    "    input_size=input_size,\n",
    "    train_image_list=train_image_list,\n",
    "    test_image_list=test_image_list, \n",
    "    validate_image_list=validate_image_list, \n",
    "    batch_size=batch_size,\n",
    "    train_augment=3,\n",
    ")"
   ]
  },
  {
   "cell_type": "code",
   "execution_count": 5,
   "id": "fc17c22e",
   "metadata": {
    "ExecuteTime": {
     "end_time": "2021-09-20T15:13:14.679611Z",
     "start_time": "2021-09-20T15:13:12.845613Z"
    }
   },
   "outputs": [],
   "source": [
    "ResNet18 = pretrainedmodels.resnet18(pretrained='imagenet')\n",
    "ResNet18.last_linear = nn.Linear(\n",
    "    in_features=ResNet18.last_linear.in_features, \n",
    "    out_features=num_of_class, \n",
    "    bias=False\n",
    ")\n",
    "resnetModel = ResNet18.to(device)"
   ]
  },
  {
   "cell_type": "code",
   "execution_count": 6,
   "id": "fed7d490",
   "metadata": {
    "ExecuteTime": {
     "end_time": "2021-09-20T15:13:15.210611Z",
     "start_time": "2021-09-20T15:13:14.680613Z"
    }
   },
   "outputs": [],
   "source": [
    "resnet1 = pretrainedmodels.resnet18(pretrained='imagenet')\n",
    "resnet1.last_linear = nn.Linear(\n",
    "    in_features=resnet1.last_linear.in_features, \n",
    "    out_features=num_of_class, \n",
    "    bias=False\n",
    ")\n",
    "resnet2 = pretrainedmodels.resnet18(pretrained='imagenet')\n",
    "resnet2.last_linear = nn.Linear(\n",
    "    in_features=resnet2.last_linear.in_features, \n",
    "    out_features=num_of_class, \n",
    "    bias=False\n",
    ")\n",
    "resnet1 = resnet1.to(device)\n",
    "resnet2 = resnet2.to(device)"
   ]
  },
  {
   "cell_type": "code",
   "execution_count": 7,
   "id": "3ca9b2a2",
   "metadata": {
    "ExecuteTime": {
     "end_time": "2021-09-20T15:13:15.225611Z",
     "start_time": "2021-09-20T15:13:15.212614Z"
    }
   },
   "outputs": [],
   "source": [
    "criteria = nn.CrossEntropyLoss()\n",
    "optimizer = torch.optim.Adam(resnet1.parameters(), lr=learning_rate, weight_decay=1e-1)\n",
    "model_name = 'baseline-aug.pth'"
   ]
  },
  {
   "cell_type": "code",
   "execution_count": 8,
   "id": "6ed4bb3e",
   "metadata": {
    "ExecuteTime": {
     "end_time": "2021-09-20T15:18:15.148643Z",
     "start_time": "2021-09-20T15:13:15.227613Z"
    },
    "scrolled": true
   },
   "outputs": [
    {
     "name": "stdout",
     "output_type": "stream",
     "text": [
      "Epoch: 1/5, Train Loss: 3.9415155266483772,  Validation Loss: 3.800230154624352\n",
      "Validation Loss Decreased(inf ---> 3.800230154624352)\n",
      "Epoch: 2/5, Train Loss: 3.483887313476788,  Validation Loss: 3.7592983612647424\n",
      "Validation Loss Decreased(3.800230154624352 ---> 3.7592983612647424)\n",
      "Epoch: 3/5, Train Loss: 3.3656764531927355,  Validation Loss: 3.780012607574463\n",
      "Epoch: 4/5, Train Loss: 3.3038167988682146,  Validation Loss: 3.7619671454796424\n",
      "Epoch: 5/5, Train Loss: 3.260275715831461,  Validation Loss: 3.803414509846614\n"
     ]
    },
    {
     "data": {
      "image/png": "[encoded data removed]",
      "text/plain": [
       "<Figure size 432x288 with 1 Axes>"
      ]
     },
     "metadata": {
      "needs_background": "light"
     },
     "output_type": "display_data"
    }
   ],
   "source": [
    "train(resnet1, optimizer, criteria, train_loader, validation_loader, num_of_epoch=5, model_name=model_name)"
   ]
  },
  {
   "cell_type": "code",
   "execution_count": 9,
   "id": "10b735ef",
   "metadata": {
    "ExecuteTime": {
     "end_time": "2021-09-20T15:18:52.682168Z",
     "start_time": "2021-09-20T15:18:15.149644Z"
    }
   },
   "outputs": [
    {
     "name": "stdout",
     "output_type": "stream",
     "text": [
      "Mean Absolute Error: 7.932506938934326\n",
      "Minimum: 0.0, Maximum: 55.0, Median: 6.0\n",
      "Mean Absolute Error: 6.174662635803223\n",
      "Minimum: 0.0, Maximum: 63.0, Median: 5.0\n"
     ]
    }
   ],
   "source": [
    "resnet1.load_state_dict(torch.load(model_name))\n",
    "loss_per_class = evaluation(resnet1, test_loader)\n",
    "_ = evaluation(resnet1, train_loader)"
   ]
  },
  {
   "cell_type": "code",
   "execution_count": 10,
   "id": "96d5fe78",
   "metadata": {
    "ExecuteTime": {
     "end_time": "2021-09-20T15:18:52.745164Z",
     "start_time": "2021-09-20T15:18:52.683165Z"
    }
   },
   "outputs": [
    {
     "name": "stdout",
     "output_type": "stream",
     "text": [
      "3298\n",
      "Age: Test Sample: Loss\n",
      "1 : 1 : 40.00\n",
      "2  No Sample\n",
      "3 : 2 : 29.50\n",
      "4 : 1 : 34.00\n",
      "5 : 1 : 30.00\n",
      "6 : 2 : 20.00\n",
      "7 : 2 : 27.00\n",
      "8 : 2 : 17.00\n",
      "9 : 1 : 26.00\n",
      "10 : 3 : 13.33\n",
      "11 : 4 : 17.25\n",
      "12 : 3 : 8.33\n",
      "13 : 4 : 15.50\n",
      "14 : 5 : 14.00\n",
      "15 : 9 : 12.33\n",
      "16 : 10 : 10.20\n",
      "17 : 16 : 10.00\n",
      "18 : 24 : 7.33\n",
      "19 : 22 : 10.64\n",
      "20 : 32 : 8.47\n",
      "21 : 33 : 9.06\n",
      "22 : 37 : 8.57\n",
      "23 : 42 : 6.93\n",
      "24 : 52 : 6.65\n",
      "25 : 57 : 5.32\n",
      "26 : 55 : 5.07\n",
      "27 : 61 : 5.66\n",
      "28 : 69 : 4.62\n",
      "29 : 62 : 5.84\n",
      "30 : 77 : 4.97\n",
      "31 : 63 : 6.79\n",
      "32 : 75 : 5.67\n",
      "33 : 67 : 5.16\n",
      "34 : 72 : 6.33\n",
      "35 : 82 : 5.91\n",
      "36 : 69 : 5.91\n",
      "37 : 74 : 7.45\n",
      "38 : 76 : 6.47\n",
      "39 : 64 : 6.42\n",
      "40 : 77 : 7.42\n",
      "41 : 64 : 6.80\n",
      "42 : 71 : 8.59\n",
      "43 : 65 : 8.74\n",
      "44 : 56 : 8.34\n",
      "45 : 68 : 8.75\n",
      "46 : 57 : 8.68\n",
      "47 : 58 : 7.71\n",
      "48 : 62 : 8.34\n",
      "49 : 53 : 9.77\n",
      "50 : 63 : 8.79\n",
      "51 : 57 : 9.35\n",
      "52 : 62 : 8.00\n",
      "53 : 50 : 10.56\n",
      "54 : 51 : 7.43\n",
      "55 : 59 : 10.68\n",
      "56 : 45 : 8.29\n",
      "57 : 49 : 9.88\n",
      "58 : 49 : 8.22\n",
      "59 : 43 : 7.40\n",
      "60 : 49 : 7.18\n",
      "61 : 41 : 8.78\n",
      "62 : 48 : 8.73\n",
      "63 : 44 : 9.23\n",
      "64 : 39 : 7.03\n",
      "65 : 46 : 7.04\n",
      "66 : 35 : 8.26\n",
      "67 : 35 : 6.83\n",
      "68 : 43 : 5.74\n",
      "69 : 30 : 8.73\n",
      "70 : 43 : 4.30\n",
      "71 : 29 : 8.34\n",
      "72 : 35 : 7.77\n",
      "73 : 31 : 6.52\n",
      "74 : 28 : 8.25\n",
      "75 : 32 : 6.97\n",
      "76 : 22 : 6.68\n",
      "77 : 21 : 8.62\n",
      "78 : 21 : 10.00\n",
      "79 : 15 : 9.80\n",
      "80 : 18 : 9.56\n",
      "81 : 15 : 13.33\n",
      "82 : 14 : 11.07\n",
      "83 : 11 : 7.36\n",
      "84 : 9 : 9.11\n",
      "85 : 12 : 10.92\n",
      "86 : 7 : 11.71\n",
      "87 : 6 : 10.33\n",
      "88 : 4 : 15.50\n",
      "89 : 4 : 14.00\n",
      "90 : 4 : 10.00\n",
      "91 : 3 : 16.00\n",
      "92 : 2 : 22.00\n",
      "93 : 3 : 16.33\n",
      "94 : 1 : 14.00\n",
      "95 : 2 : 35.00\n",
      "96 : 1 : 26.00\n",
      "97 : 1 : 27.00\n",
      "98 : 1 : 28.00\n",
      "99 : 1 : 19.00\n",
      "100 : 1 : 30.00\n",
      "101 : 1 : 21.00\n"
     ]
    }
   ],
   "source": [
    "sample_per_class = findAge(test_image_list)\n",
    "print('Age: Test Sample: Loss')\n",
    "for i in range(1, 102):\n",
    "    if sample_per_class[i] == 0:\n",
    "        print(i,' No Sample')\n",
    "    else:\n",
    "        print(i,':', sample_per_class[i],':', format(loss_per_class[i].item()/sample_per_class[i],'.2f'))"
   ]
  },
  {
   "cell_type": "code",
   "execution_count": 11,
   "id": "f62df95c",
   "metadata": {
    "ExecuteTime": {
     "end_time": "2021-09-20T15:22:13.640031Z",
     "start_time": "2021-09-20T15:18:52.746165Z"
    }
   },
   "outputs": [
    {
     "data": {
      "application/vnd.jupyter.widget-view+json": {
       "model_id": "92124d0373d44bfdbdfbb45a15bf1b0e",
       "version_major": 2,
       "version_minor": 0
      },
      "text/plain": [
       "  0%|          | 0/11541 [00:00<?, ?it/s]"
      ]
     },
     "metadata": {},
     "output_type": "display_data"
    },
    {
     "name": "stdout",
     "output_type": "stream",
     "text": [
      "Train Set Length:  11541\n",
      "Test Set Length:  3298\n",
      "Validation Set Length:  1649\n",
      "Total:  16488\n",
      "Epoch: 1/5, Train Loss: 4.29024434875656,  Validation Loss: 4.051656136145959\n",
      "Validation Loss Decreased(inf ---> 4.051656136145959)\n",
      "Epoch: 2/5, Train Loss: 3.8197100581703607,  Validation Loss: 3.8792674724872294\n",
      "Validation Loss Decreased(4.051656136145959 ---> 3.8792674724872294)\n",
      "Epoch: 3/5, Train Loss: 3.543857244344858,  Validation Loss: 3.8180128060854397\n",
      "Validation Loss Decreased(3.8792674724872294 ---> 3.8180128060854397)\n",
      "Epoch: 4/5, Train Loss: 3.260190251109364,  Validation Loss: 3.8348507697765646\n",
      "Epoch: 5/5, Train Loss: 2.920554837027749,  Validation Loss: 3.923731492115901\n"
     ]
    },
    {
     "data": {
      "image/png": "[encoded data removed]",
      "text/plain": [
       "<Figure size 432x288 with 1 Axes>"
      ]
     },
     "metadata": {
      "needs_background": "light"
     },
     "output_type": "display_data"
    }
   ],
   "source": [
    "train_loader, test_loader, validation_loader = get_loader(\n",
    "    input_size=input_size,\n",
    "    train_image_list=train_image_list,\n",
    "    test_image_list=test_image_list, \n",
    "    validate_image_list=validate_image_list, \n",
    "    batch_size=batch_size,\n",
    "    train_augment=1,\n",
    ")\n",
    "criteria = nn.CrossEntropyLoss()\n",
    "optimizer = torch.optim.Adam(resnet2.parameters(), lr=learning_rate, weight_decay=1e-1)\n",
    "model_name = 'baseline.pth'\n",
    "train(resnet2, optimizer, criteria, train_loader, validation_loader, num_of_epoch=5, model_name=model_name)"
   ]
  },
  {
   "cell_type": "code",
   "execution_count": 12,
   "id": "9e75be98",
   "metadata": {
    "ExecuteTime": {
     "end_time": "2021-09-20T15:22:33.981029Z",
     "start_time": "2021-09-20T15:22:13.641032Z"
    }
   },
   "outputs": [
    {
     "name": "stdout",
     "output_type": "stream",
     "text": [
      "Mean Absolute Error: 8.157064437866211\n",
      "Minimum: 0.0, Maximum: 57.0, Median: 7.0\n",
      "Mean Absolute Error: 6.032085704803467\n",
      "Minimum: 0.0, Maximum: 56.0, Median: 4.0\n"
     ]
    }
   ],
   "source": [
    "resnet2.load_state_dict(torch.load(model_name))\n",
    "loss_per_class = evaluation(resnet2, test_loader)\n",
    "_ = evaluation(resnet2, train_loader)"
   ]
  },
  {
   "cell_type": "code",
   "execution_count": 13,
   "id": "e4657349",
   "metadata": {
    "ExecuteTime": {
     "end_time": "2021-09-20T15:22:34.059031Z",
     "start_time": "2021-09-20T15:22:33.983033Z"
    }
   },
   "outputs": [
    {
     "name": "stdout",
     "output_type": "stream",
     "text": [
      "3298\n",
      "Age: Test Sample: Loss\n",
      "1 : 1 : 50.00\n",
      "2  No Sample\n",
      "3 : 2 : 40.00\n",
      "4 : 1 : 26.00\n",
      "5 : 1 : 30.00\n",
      "6 : 2 : 19.00\n",
      "7 : 2 : 34.50\n",
      "8 : 2 : 30.00\n",
      "9 : 1 : 14.00\n",
      "10 : 3 : 17.33\n",
      "11 : 4 : 24.75\n",
      "12 : 3 : 19.33\n",
      "13 : 4 : 15.50\n",
      "14 : 5 : 15.20\n",
      "15 : 9 : 14.89\n",
      "16 : 10 : 14.00\n",
      "17 : 16 : 12.06\n",
      "18 : 24 : 9.08\n",
      "19 : 22 : 14.23\n",
      "20 : 32 : 11.12\n",
      "21 : 33 : 12.33\n",
      "22 : 37 : 10.27\n",
      "23 : 42 : 7.38\n",
      "24 : 52 : 8.77\n",
      "25 : 57 : 7.04\n",
      "26 : 55 : 7.85\n",
      "27 : 61 : 8.36\n",
      "28 : 69 : 6.62\n",
      "29 : 62 : 6.90\n",
      "30 : 77 : 7.61\n",
      "31 : 63 : 6.81\n",
      "32 : 75 : 6.04\n",
      "33 : 67 : 5.46\n",
      "34 : 72 : 6.92\n",
      "35 : 82 : 7.48\n",
      "36 : 69 : 6.70\n",
      "37 : 74 : 6.88\n",
      "38 : 76 : 6.51\n",
      "39 : 64 : 6.48\n",
      "40 : 77 : 6.86\n",
      "41 : 64 : 7.03\n",
      "42 : 71 : 7.51\n",
      "43 : 65 : 7.17\n",
      "44 : 56 : 7.09\n",
      "45 : 68 : 7.46\n",
      "46 : 57 : 8.19\n",
      "47 : 58 : 6.60\n",
      "48 : 62 : 7.74\n",
      "49 : 53 : 7.75\n",
      "50 : 63 : 8.62\n",
      "51 : 57 : 10.32\n",
      "52 : 62 : 7.15\n",
      "53 : 50 : 9.94\n",
      "54 : 51 : 8.08\n",
      "55 : 59 : 8.93\n",
      "56 : 45 : 7.67\n",
      "57 : 49 : 10.04\n",
      "58 : 49 : 8.47\n",
      "59 : 43 : 8.47\n",
      "60 : 49 : 8.94\n",
      "61 : 41 : 7.88\n",
      "62 : 48 : 9.27\n",
      "63 : 44 : 8.09\n",
      "64 : 39 : 7.95\n",
      "65 : 46 : 6.07\n",
      "66 : 35 : 7.74\n",
      "67 : 35 : 8.40\n",
      "68 : 43 : 6.74\n",
      "69 : 30 : 7.63\n",
      "70 : 43 : 5.58\n",
      "71 : 29 : 7.41\n",
      "72 : 35 : 7.23\n",
      "73 : 31 : 6.03\n",
      "74 : 28 : 9.82\n",
      "75 : 32 : 6.75\n",
      "76 : 22 : 5.68\n",
      "77 : 21 : 9.38\n",
      "78 : 21 : 10.95\n",
      "79 : 15 : 9.53\n",
      "80 : 18 : 10.72\n",
      "81 : 15 : 14.27\n",
      "82 : 14 : 8.86\n",
      "83 : 11 : 9.91\n",
      "84 : 9 : 13.56\n",
      "85 : 12 : 11.08\n",
      "86 : 7 : 11.00\n",
      "87 : 6 : 11.33\n",
      "88 : 4 : 20.50\n",
      "89 : 4 : 18.00\n",
      "90 : 4 : 14.00\n",
      "91 : 3 : 16.00\n",
      "92 : 2 : 31.00\n",
      "93 : 3 : 18.33\n",
      "94 : 1 : 14.00\n",
      "95 : 2 : 27.50\n",
      "96 : 1 : 38.00\n",
      "97 : 1 : 32.00\n",
      "98 : 1 : 27.00\n",
      "99 : 1 : 19.00\n",
      "100 : 1 : 42.00\n",
      "101 : 1 : 21.00\n"
     ]
    }
   ],
   "source": [
    "sample_per_class = findAge(test_image_list)\n",
    "print('Age: Test Sample: Loss')\n",
    "for i in range(1, 102):\n",
    "    if sample_per_class[i] == 0:\n",
    "        print(i,' No Sample')\n",
    "    else:\n",
    "        print(i,':', sample_per_class[i],':', format(loss_per_class[i].item()/sample_per_class[i],'.2f'))"
   ]
  }
 ],
 "metadata": {
  "kernelspec": {
   "display_name": "Python 3",
   "language": "python",
   "name": "python3"
  },
  "language_info": {
   "codemirror_mode": {
    "name": "ipython",
    "version": 3
   },
   "file_extension": ".py",
   "mimetype": "text/x-python",
   "name": "python",
   "nbconvert_exporter": "python",
   "pygments_lexer": "ipython3",
   "version": "3.8.8"
  },
  "varInspector": {
   "cols": {
    "lenName": 16,
    "lenType": 16,
    "lenVar": 40
   },
   "kernels_config": {
    "python": {
     "delete_cmd_postfix": "",
     "delete_cmd_prefix": "del ",
     "library": "var_list.py",
     "varRefreshCmd": "print(var_dic_list())"
    },
    "r": {
     "delete_cmd_postfix": ") ",
     "delete_cmd_prefix": "rm(",
     "library": "var_list.r",
     "varRefreshCmd": "cat(var_dic_list()) "
    }
   },
   "types_to_exclude": [
    "module",
    "function",
    "builtin_function_or_method",
    "instance",
    "_Feature"
   ],
   "window_display": false
  }
 },
 "nbformat": 4,
 "nbformat_minor": 5
}
