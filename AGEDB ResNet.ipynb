{
 "cells": [
  {
   "cell_type": "code",
   "execution_count": 1,
   "id": "06aabb63",
   "metadata": {
    "ExecuteTime": {
     "end_time": "2021-08-22T20:01:29.298000Z",
     "start_time": "2021-08-22T20:01:27.865000Z"
    }
   },
   "outputs": [],
   "source": [
    "import os\n",
    "import torch\n",
    "from torch import nn\n",
    "from torch.utils.data import DataLoader, Dataset\n",
    "import torchvision\n",
    "from torchvision.transforms import ToTensor, Compose, Grayscale, Resize, CenterCrop\n",
    "import matplotlib.pyplot as plt\n",
    "from PIL import Image\n",
    "from parse import parse\n",
    "from custom_loader import AgeDBDataset\n",
    "from custom_loss_functions import AngularPenaltySMLoss\n",
    "from tqdm import tqdm\n",
    "import pretrainedmodels\n",
    "\n",
    "import warnings\n",
    "warnings.filterwarnings(\"ignore\")"
   ]
  },
  {
   "cell_type": "code",
   "execution_count": 2,
   "id": "cb64b0db",
   "metadata": {
    "ExecuteTime": {
     "end_time": "2021-08-22T20:01:29.312998Z",
     "start_time": "2021-08-22T20:01:29.298999Z"
    }
   },
   "outputs": [],
   "source": [
    "# hyper params\n",
    "num_of_class = 79\n",
    "hidden_unit = 256\n",
    "learning_rate = 1e-04\n",
    "batch_size = 64\n",
    "device = torch.device(\"cuda\")"
   ]
  },
  {
   "cell_type": "code",
   "execution_count": 3,
   "id": "6de83481",
   "metadata": {
    "ExecuteTime": {
     "end_time": "2021-08-22T20:01:29.848000Z",
     "start_time": "2021-08-22T20:01:29.314002Z"
    }
   },
   "outputs": [],
   "source": [
    "dataset = AgeDBDataset(\n",
    "    directory = 'cropped_face/',\n",
    "    transform = Compose([\n",
    "        Resize(size=(64,64)),\n",
    "        CenterCrop(size=64),\n",
    "        Grayscale(num_output_channels=1),\n",
    "        ToTensor(),\n",
    "    ]),\n",
    "    device = device,\n",
    ")"
   ]
  },
  {
   "cell_type": "code",
   "execution_count": 4,
   "id": "db16a8b9",
   "metadata": {
    "ExecuteTime": {
     "end_time": "2021-08-22T20:01:29.863998Z",
     "start_time": "2021-08-22T20:01:29.848999Z"
    }
   },
   "outputs": [
    {
     "data": {
      "text/plain": [
       "15508"
      ]
     },
     "execution_count": 4,
     "metadata": {},
     "output_type": "execute_result"
    }
   ],
   "source": [
    "len(dataset)"
   ]
  },
  {
   "cell_type": "code",
   "execution_count": 5,
   "id": "64cc1bff",
   "metadata": {
    "ExecuteTime": {
     "end_time": "2021-08-22T20:01:29.880001Z",
     "start_time": "2021-08-22T20:01:29.865002Z"
    }
   },
   "outputs": [],
   "source": [
    "train_set, validation_set, test_set = dataset.get_loaders(\n",
    "    batch_size=batch_size,\n",
    "    train_size=0.8,\n",
    "    test_size=0.2,\n",
    ")"
   ]
  },
  {
   "cell_type": "code",
   "execution_count": 6,
   "id": "5641b0b5",
   "metadata": {
    "ExecuteTime": {
     "end_time": "2021-08-22T20:01:30.308001Z",
     "start_time": "2021-08-22T20:01:29.880999Z"
    }
   },
   "outputs": [],
   "source": [
    "model = pretrainedmodels.resnet34(pretrained='imagenet')"
   ]
  },
  {
   "cell_type": "code",
   "execution_count": 7,
   "id": "81c9cc1c",
   "metadata": {
    "ExecuteTime": {
     "end_time": "2021-08-22T20:01:30.324001Z",
     "start_time": "2021-08-22T20:01:30.310002Z"
    }
   },
   "outputs": [
    {
     "data": {
      "text/plain": [
       "ResNet(\n",
       "  (conv1): Conv2d(1, 64, kernel_size=(7, 7), stride=(2, 2), padding=(3, 3), bias=False)\n",
       "  (bn1): BatchNorm2d(64, eps=1e-05, momentum=0.1, affine=True, track_running_stats=True)\n",
       "  (relu): ReLU(inplace=True)\n",
       "  (maxpool): MaxPool2d(kernel_size=3, stride=2, padding=1, dilation=1, ceil_mode=False)\n",
       "  (layer1): Sequential(\n",
       "    (0): BasicBlock(\n",
       "      (conv1): Conv2d(64, 64, kernel_size=(3, 3), stride=(1, 1), padding=(1, 1), bias=False)\n",
       "      (bn1): BatchNorm2d(64, eps=1e-05, momentum=0.1, affine=True, track_running_stats=True)\n",
       "      (relu): ReLU(inplace=True)\n",
       "      (conv2): Conv2d(64, 64, kernel_size=(3, 3), stride=(1, 1), padding=(1, 1), bias=False)\n",
       "      (bn2): BatchNorm2d(64, eps=1e-05, momentum=0.1, affine=True, track_running_stats=True)\n",
       "    )\n",
       "    (1): BasicBlock(\n",
       "      (conv1): Conv2d(64, 64, kernel_size=(3, 3), stride=(1, 1), padding=(1, 1), bias=False)\n",
       "      (bn1): BatchNorm2d(64, eps=1e-05, momentum=0.1, affine=True, track_running_stats=True)\n",
       "      (relu): ReLU(inplace=True)\n",
       "      (conv2): Conv2d(64, 64, kernel_size=(3, 3), stride=(1, 1), padding=(1, 1), bias=False)\n",
       "      (bn2): BatchNorm2d(64, eps=1e-05, momentum=0.1, affine=True, track_running_stats=True)\n",
       "    )\n",
       "    (2): BasicBlock(\n",
       "      (conv1): Conv2d(64, 64, kernel_size=(3, 3), stride=(1, 1), padding=(1, 1), bias=False)\n",
       "      (bn1): BatchNorm2d(64, eps=1e-05, momentum=0.1, affine=True, track_running_stats=True)\n",
       "      (relu): ReLU(inplace=True)\n",
       "      (conv2): Conv2d(64, 64, kernel_size=(3, 3), stride=(1, 1), padding=(1, 1), bias=False)\n",
       "      (bn2): BatchNorm2d(64, eps=1e-05, momentum=0.1, affine=True, track_running_stats=True)\n",
       "    )\n",
       "  )\n",
       "  (layer2): Sequential(\n",
       "    (0): BasicBlock(\n",
       "      (conv1): Conv2d(64, 128, kernel_size=(3, 3), stride=(2, 2), padding=(1, 1), bias=False)\n",
       "      (bn1): BatchNorm2d(128, eps=1e-05, momentum=0.1, affine=True, track_running_stats=True)\n",
       "      (relu): ReLU(inplace=True)\n",
       "      (conv2): Conv2d(128, 128, kernel_size=(3, 3), stride=(1, 1), padding=(1, 1), bias=False)\n",
       "      (bn2): BatchNorm2d(128, eps=1e-05, momentum=0.1, affine=True, track_running_stats=True)\n",
       "      (downsample): Sequential(\n",
       "        (0): Conv2d(64, 128, kernel_size=(1, 1), stride=(2, 2), bias=False)\n",
       "        (1): BatchNorm2d(128, eps=1e-05, momentum=0.1, affine=True, track_running_stats=True)\n",
       "      )\n",
       "    )\n",
       "    (1): BasicBlock(\n",
       "      (conv1): Conv2d(128, 128, kernel_size=(3, 3), stride=(1, 1), padding=(1, 1), bias=False)\n",
       "      (bn1): BatchNorm2d(128, eps=1e-05, momentum=0.1, affine=True, track_running_stats=True)\n",
       "      (relu): ReLU(inplace=True)\n",
       "      (conv2): Conv2d(128, 128, kernel_size=(3, 3), stride=(1, 1), padding=(1, 1), bias=False)\n",
       "      (bn2): BatchNorm2d(128, eps=1e-05, momentum=0.1, affine=True, track_running_stats=True)\n",
       "    )\n",
       "    (2): BasicBlock(\n",
       "      (conv1): Conv2d(128, 128, kernel_size=(3, 3), stride=(1, 1), padding=(1, 1), bias=False)\n",
       "      (bn1): BatchNorm2d(128, eps=1e-05, momentum=0.1, affine=True, track_running_stats=True)\n",
       "      (relu): ReLU(inplace=True)\n",
       "      (conv2): Conv2d(128, 128, kernel_size=(3, 3), stride=(1, 1), padding=(1, 1), bias=False)\n",
       "      (bn2): BatchNorm2d(128, eps=1e-05, momentum=0.1, affine=True, track_running_stats=True)\n",
       "    )\n",
       "    (3): BasicBlock(\n",
       "      (conv1): Conv2d(128, 128, kernel_size=(3, 3), stride=(1, 1), padding=(1, 1), bias=False)\n",
       "      (bn1): BatchNorm2d(128, eps=1e-05, momentum=0.1, affine=True, track_running_stats=True)\n",
       "      (relu): ReLU(inplace=True)\n",
       "      (conv2): Conv2d(128, 128, kernel_size=(3, 3), stride=(1, 1), padding=(1, 1), bias=False)\n",
       "      (bn2): BatchNorm2d(128, eps=1e-05, momentum=0.1, affine=True, track_running_stats=True)\n",
       "    )\n",
       "  )\n",
       "  (layer3): Sequential(\n",
       "    (0): BasicBlock(\n",
       "      (conv1): Conv2d(128, 256, kernel_size=(3, 3), stride=(2, 2), padding=(1, 1), bias=False)\n",
       "      (bn1): BatchNorm2d(256, eps=1e-05, momentum=0.1, affine=True, track_running_stats=True)\n",
       "      (relu): ReLU(inplace=True)\n",
       "      (conv2): Conv2d(256, 256, kernel_size=(3, 3), stride=(1, 1), padding=(1, 1), bias=False)\n",
       "      (bn2): BatchNorm2d(256, eps=1e-05, momentum=0.1, affine=True, track_running_stats=True)\n",
       "      (downsample): Sequential(\n",
       "        (0): Conv2d(128, 256, kernel_size=(1, 1), stride=(2, 2), bias=False)\n",
       "        (1): BatchNorm2d(256, eps=1e-05, momentum=0.1, affine=True, track_running_stats=True)\n",
       "      )\n",
       "    )\n",
       "    (1): BasicBlock(\n",
       "      (conv1): Conv2d(256, 256, kernel_size=(3, 3), stride=(1, 1), padding=(1, 1), bias=False)\n",
       "      (bn1): BatchNorm2d(256, eps=1e-05, momentum=0.1, affine=True, track_running_stats=True)\n",
       "      (relu): ReLU(inplace=True)\n",
       "      (conv2): Conv2d(256, 256, kernel_size=(3, 3), stride=(1, 1), padding=(1, 1), bias=False)\n",
       "      (bn2): BatchNorm2d(256, eps=1e-05, momentum=0.1, affine=True, track_running_stats=True)\n",
       "    )\n",
       "    (2): BasicBlock(\n",
       "      (conv1): Conv2d(256, 256, kernel_size=(3, 3), stride=(1, 1), padding=(1, 1), bias=False)\n",
       "      (bn1): BatchNorm2d(256, eps=1e-05, momentum=0.1, affine=True, track_running_stats=True)\n",
       "      (relu): ReLU(inplace=True)\n",
       "      (conv2): Conv2d(256, 256, kernel_size=(3, 3), stride=(1, 1), padding=(1, 1), bias=False)\n",
       "      (bn2): BatchNorm2d(256, eps=1e-05, momentum=0.1, affine=True, track_running_stats=True)\n",
       "    )\n",
       "    (3): BasicBlock(\n",
       "      (conv1): Conv2d(256, 256, kernel_size=(3, 3), stride=(1, 1), padding=(1, 1), bias=False)\n",
       "      (bn1): BatchNorm2d(256, eps=1e-05, momentum=0.1, affine=True, track_running_stats=True)\n",
       "      (relu): ReLU(inplace=True)\n",
       "      (conv2): Conv2d(256, 256, kernel_size=(3, 3), stride=(1, 1), padding=(1, 1), bias=False)\n",
       "      (bn2): BatchNorm2d(256, eps=1e-05, momentum=0.1, affine=True, track_running_stats=True)\n",
       "    )\n",
       "    (4): BasicBlock(\n",
       "      (conv1): Conv2d(256, 256, kernel_size=(3, 3), stride=(1, 1), padding=(1, 1), bias=False)\n",
       "      (bn1): BatchNorm2d(256, eps=1e-05, momentum=0.1, affine=True, track_running_stats=True)\n",
       "      (relu): ReLU(inplace=True)\n",
       "      (conv2): Conv2d(256, 256, kernel_size=(3, 3), stride=(1, 1), padding=(1, 1), bias=False)\n",
       "      (bn2): BatchNorm2d(256, eps=1e-05, momentum=0.1, affine=True, track_running_stats=True)\n",
       "    )\n",
       "    (5): BasicBlock(\n",
       "      (conv1): Conv2d(256, 256, kernel_size=(3, 3), stride=(1, 1), padding=(1, 1), bias=False)\n",
       "      (bn1): BatchNorm2d(256, eps=1e-05, momentum=0.1, affine=True, track_running_stats=True)\n",
       "      (relu): ReLU(inplace=True)\n",
       "      (conv2): Conv2d(256, 256, kernel_size=(3, 3), stride=(1, 1), padding=(1, 1), bias=False)\n",
       "      (bn2): BatchNorm2d(256, eps=1e-05, momentum=0.1, affine=True, track_running_stats=True)\n",
       "    )\n",
       "  )\n",
       "  (layer4): Sequential(\n",
       "    (0): BasicBlock(\n",
       "      (conv1): Conv2d(256, 512, kernel_size=(3, 3), stride=(2, 2), padding=(1, 1), bias=False)\n",
       "      (bn1): BatchNorm2d(512, eps=1e-05, momentum=0.1, affine=True, track_running_stats=True)\n",
       "      (relu): ReLU(inplace=True)\n",
       "      (conv2): Conv2d(512, 512, kernel_size=(3, 3), stride=(1, 1), padding=(1, 1), bias=False)\n",
       "      (bn2): BatchNorm2d(512, eps=1e-05, momentum=0.1, affine=True, track_running_stats=True)\n",
       "      (downsample): Sequential(\n",
       "        (0): Conv2d(256, 512, kernel_size=(1, 1), stride=(2, 2), bias=False)\n",
       "        (1): BatchNorm2d(512, eps=1e-05, momentum=0.1, affine=True, track_running_stats=True)\n",
       "      )\n",
       "    )\n",
       "    (1): BasicBlock(\n",
       "      (conv1): Conv2d(512, 512, kernel_size=(3, 3), stride=(1, 1), padding=(1, 1), bias=False)\n",
       "      (bn1): BatchNorm2d(512, eps=1e-05, momentum=0.1, affine=True, track_running_stats=True)\n",
       "      (relu): ReLU(inplace=True)\n",
       "      (conv2): Conv2d(512, 512, kernel_size=(3, 3), stride=(1, 1), padding=(1, 1), bias=False)\n",
       "      (bn2): BatchNorm2d(512, eps=1e-05, momentum=0.1, affine=True, track_running_stats=True)\n",
       "    )\n",
       "    (2): BasicBlock(\n",
       "      (conv1): Conv2d(512, 512, kernel_size=(3, 3), stride=(1, 1), padding=(1, 1), bias=False)\n",
       "      (bn1): BatchNorm2d(512, eps=1e-05, momentum=0.1, affine=True, track_running_stats=True)\n",
       "      (relu): ReLU(inplace=True)\n",
       "      (conv2): Conv2d(512, 512, kernel_size=(3, 3), stride=(1, 1), padding=(1, 1), bias=False)\n",
       "      (bn2): BatchNorm2d(512, eps=1e-05, momentum=0.1, affine=True, track_running_stats=True)\n",
       "    )\n",
       "  )\n",
       "  (avgpool): AdaptiveAvgPool2d(output_size=(1, 1))\n",
       "  (fc): None\n",
       "  (last_linear): Linear(in_features=512, out_features=79, bias=True)\n",
       ")"
      ]
     },
     "execution_count": 7,
     "metadata": {},
     "output_type": "execute_result"
    }
   ],
   "source": [
    "model.conv1 = nn.Conv2d(\n",
    "    in_channels=1, \n",
    "    out_channels=model.conv1.out_channels,\n",
    "    kernel_size=model.conv1.kernel_size,\n",
    "    stride=model.conv1.stride,\n",
    "    padding=model.conv1.padding,\n",
    "    bias=model.conv1.bias,\n",
    ")\n",
    "model.last_linear = nn.Linear(in_features=model.last_linear.in_features, out_features=num_of_class, bias=True)\n",
    "model"
   ]
  },
  {
   "cell_type": "code",
   "execution_count": 8,
   "id": "6938c26a",
   "metadata": {
    "ExecuteTime": {
     "end_time": "2021-08-22T20:01:31.858000Z",
     "start_time": "2021-08-22T20:01:30.326001Z"
    }
   },
   "outputs": [],
   "source": [
    "convModel = model.to(device)"
   ]
  },
  {
   "cell_type": "code",
   "execution_count": 9,
   "id": "fed7d490",
   "metadata": {
    "ExecuteTime": {
     "end_time": "2021-08-22T20:01:31.873998Z",
     "start_time": "2021-08-22T20:01:31.858999Z"
    }
   },
   "outputs": [],
   "source": [
    "# Training loop\n",
    "def train(model, optimizer, criterion, train_loader, num_of_epoch):\n",
    "    total_step = len(train_loader)\n",
    "    for epoch in range(num_of_epoch):\n",
    "        for i, (imgs, labels) in (enumerate(train_loader)):\n",
    "            imgs = imgs.to(device)\n",
    "            labels = torch.as_tensor(labels['age']).to(device)\n",
    "            \n",
    "            outputs = model(imgs)\n",
    "            loss = criterion(outputs, labels)\n",
    "            optimizer.zero_grad()\n",
    "            loss.backward()\n",
    "            optimizer.step()\n",
    "            \n",
    "            if (i+1)%total_step == 0:\n",
    "                print(f\"Epoch: {epoch+1}/{num_of_epoch}, Step: {i+1}/{total_step}, Loss: {loss.item()}\")"
   ]
  },
  {
   "cell_type": "code",
   "execution_count": 10,
   "id": "3ca9b2a2",
   "metadata": {
    "ExecuteTime": {
     "end_time": "2021-08-22T20:01:31.890001Z",
     "start_time": "2021-08-22T20:01:31.875001Z"
    }
   },
   "outputs": [],
   "source": [
    "criteria = nn.CrossEntropyLoss()\n",
    "optimizer = torch.optim.Adam(convModel.parameters(), lr=learning_rate)"
   ]
  },
  {
   "cell_type": "code",
   "execution_count": 11,
   "id": "6ed4bb3e",
   "metadata": {
    "ExecuteTime": {
     "end_time": "2021-08-22T20:11:14.320825Z",
     "start_time": "2021-08-22T20:01:31.891001Z"
    },
    "scrolled": true
   },
   "outputs": [
    {
     "name": "stdout",
     "output_type": "stream",
     "text": [
      "Epoch: 1/50, Step: 194/194, Loss: 4.011711597442627\n",
      "Epoch: 2/50, Step: 194/194, Loss: 3.736320972442627\n",
      "Epoch: 3/50, Step: 194/194, Loss: 3.3835980892181396\n",
      "Epoch: 4/50, Step: 194/194, Loss: 2.572436809539795\n",
      "Epoch: 5/50, Step: 194/194, Loss: 1.8246232271194458\n",
      "Epoch: 6/50, Step: 194/194, Loss: 1.3095355033874512\n",
      "Epoch: 7/50, Step: 194/194, Loss: 0.7669467329978943\n",
      "Epoch: 8/50, Step: 194/194, Loss: 0.49597838521003723\n",
      "Epoch: 9/50, Step: 194/194, Loss: 0.23186105489730835\n",
      "Epoch: 10/50, Step: 194/194, Loss: 0.18123576045036316\n",
      "Epoch: 11/50, Step: 194/194, Loss: 0.12190712988376617\n",
      "Epoch: 12/50, Step: 194/194, Loss: 0.06537696719169617\n",
      "Epoch: 13/50, Step: 194/194, Loss: 0.02215374819934368\n",
      "Epoch: 14/50, Step: 194/194, Loss: 0.015214829705655575\n",
      "Epoch: 15/50, Step: 194/194, Loss: 0.010412212461233139\n",
      "Epoch: 16/50, Step: 194/194, Loss: 0.016510294750332832\n",
      "Epoch: 17/50, Step: 194/194, Loss: 0.005272837355732918\n",
      "Epoch: 18/50, Step: 194/194, Loss: 0.008008151315152645\n",
      "Epoch: 19/50, Step: 194/194, Loss: 0.004240693058818579\n",
      "Epoch: 20/50, Step: 194/194, Loss: 0.001534645794890821\n",
      "Epoch: 21/50, Step: 194/194, Loss: 0.0016723953885957599\n",
      "Epoch: 22/50, Step: 194/194, Loss: 1.4530863761901855\n",
      "Epoch: 23/50, Step: 194/194, Loss: 0.7033860683441162\n",
      "Epoch: 24/50, Step: 194/194, Loss: 0.06472431868314743\n",
      "Epoch: 25/50, Step: 194/194, Loss: 0.013014528900384903\n",
      "Epoch: 26/50, Step: 194/194, Loss: 0.005783614702522755\n",
      "Epoch: 27/50, Step: 194/194, Loss: 0.0028281291015446186\n",
      "Epoch: 28/50, Step: 194/194, Loss: 0.0015764087438583374\n",
      "Epoch: 29/50, Step: 194/194, Loss: 0.0011898820521309972\n",
      "Epoch: 30/50, Step: 194/194, Loss: 0.0009999577887356281\n",
      "Epoch: 31/50, Step: 194/194, Loss: 0.000864425441250205\n",
      "Epoch: 32/50, Step: 194/194, Loss: 0.0007609370513819158\n",
      "Epoch: 33/50, Step: 194/194, Loss: 0.0006778783863410354\n",
      "Epoch: 34/50, Step: 194/194, Loss: 0.0006086106295697391\n",
      "Epoch: 35/50, Step: 194/194, Loss: 0.0005492274067364633\n",
      "Epoch: 36/50, Step: 194/194, Loss: 0.0004975866177119315\n",
      "Epoch: 37/50, Step: 194/194, Loss: 0.0004522763192653656\n",
      "Epoch: 38/50, Step: 194/194, Loss: 0.0004118138167541474\n",
      "Epoch: 39/50, Step: 194/194, Loss: 0.0003755513171199709\n",
      "Epoch: 40/50, Step: 194/194, Loss: 0.00034296480589546263\n",
      "Epoch: 41/50, Step: 194/194, Loss: 0.0003134611761197448\n",
      "Epoch: 42/50, Step: 194/194, Loss: 0.0002867520088329911\n",
      "Epoch: 43/50, Step: 194/194, Loss: 0.00026253092801198363\n",
      "Epoch: 44/50, Step: 194/194, Loss: 0.0002403811231488362\n",
      "Epoch: 45/50, Step: 194/194, Loss: 0.00022029840329196304\n",
      "Epoch: 46/50, Step: 194/194, Loss: 0.0002018924569711089\n",
      "Epoch: 47/50, Step: 194/194, Loss: 0.00018508387438487262\n",
      "Epoch: 48/50, Step: 194/194, Loss: 0.0001697403349680826\n",
      "Epoch: 49/50, Step: 194/194, Loss: 0.00015563027409370989\n",
      "Epoch: 50/50, Step: 194/194, Loss: 0.00014264558558352292\n"
     ]
    }
   ],
   "source": [
    "train(convModel, optimizer, criteria, train_set, num_of_epoch=50)"
   ]
  },
  {
   "cell_type": "code",
   "execution_count": 12,
   "id": "0bed19c7",
   "metadata": {
    "ExecuteTime": {
     "end_time": "2021-08-22T20:11:14.336825Z",
     "start_time": "2021-08-22T20:11:14.321827Z"
    }
   },
   "outputs": [],
   "source": [
    "# Evaluation\n",
    "def eval(model, test_loader):\n",
    "    with torch.no_grad():\n",
    "        correct = 0\n",
    "        total = 0\n",
    "        for imgs, labels in (test_loader):\n",
    "            imgs = imgs.to(device)\n",
    "            labels = torch.as_tensor(labels['age']).to(device)\n",
    "            outputs = model(imgs)\n",
    "            \n",
    "            _, pred = torch.max(outputs.data, 1)\n",
    "            total += labels.size(0)\n",
    "            correct += (pred == labels).sum().item()\n",
    "            \n",
    "    print(f\"Accuracy: {(100*correct)/total}%\")\n"
   ]
  },
  {
   "cell_type": "code",
   "execution_count": 13,
   "id": "10b735ef",
   "metadata": {
    "ExecuteTime": {
     "end_time": "2021-08-22T20:11:15.946825Z",
     "start_time": "2021-08-22T20:11:14.337825Z"
    }
   },
   "outputs": [
    {
     "name": "stdout",
     "output_type": "stream",
     "text": [
      "Accuracy: 4.579168010319252%\n"
     ]
    }
   ],
   "source": [
    "eval(convModel, test_set)"
   ]
  },
  {
   "cell_type": "code",
   "execution_count": 14,
   "id": "96d5fe78",
   "metadata": {
    "ExecuteTime": {
     "end_time": "2021-08-22T20:11:22.730828Z",
     "start_time": "2021-08-22T20:11:15.947825Z"
    }
   },
   "outputs": [
    {
     "name": "stdout",
     "output_type": "stream",
     "text": [
      "Accuracy: 100.0%\n"
     ]
    }
   ],
   "source": [
    "eval(convModel, train_set)"
   ]
  },
  {
   "cell_type": "code",
   "execution_count": null,
   "id": "2e6f1225",
   "metadata": {},
   "outputs": [],
   "source": []
  }
 ],
 "metadata": {
  "kernelspec": {
   "display_name": "Python 3",
   "language": "python",
   "name": "python3"
  },
  "language_info": {
   "codemirror_mode": {
    "name": "ipython",
    "version": 3
   },
   "file_extension": ".py",
   "mimetype": "text/x-python",
   "name": "python",
   "nbconvert_exporter": "python",
   "pygments_lexer": "ipython3",
   "version": "3.8.8"
  },
  "notify_time": "5",
  "varInspector": {
   "cols": {
    "lenName": 16,
    "lenType": 16,
    "lenVar": 40
   },
   "kernels_config": {
    "python": {
     "delete_cmd_postfix": "",
     "delete_cmd_prefix": "del ",
     "library": "var_list.py",
     "varRefreshCmd": "print(var_dic_list())"
    },
    "r": {
     "delete_cmd_postfix": ") ",
     "delete_cmd_prefix": "rm(",
     "library": "var_list.r",
     "varRefreshCmd": "cat(var_dic_list()) "
    }
   },
   "types_to_exclude": [
    "module",
    "function",
    "builtin_function_or_method",
    "instance",
    "_Feature"
   ],
   "window_display": false
  }
 },
 "nbformat": 4,
 "nbformat_minor": 5
}
