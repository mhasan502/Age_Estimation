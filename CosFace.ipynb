{
 "cells": [
  {
   "cell_type": "code",
   "execution_count": 1,
   "id": "06aabb63",
   "metadata": {
    "ExecuteTime": {
     "end_time": "2021-09-20T16:10:06.900075Z",
     "start_time": "2021-09-20T16:10:03.557394Z"
    },
    "hide_input": false
   },
   "outputs": [],
   "source": [
    "import torch\n",
    "from torch import nn\n",
    "import pretrainedmodels\n",
    "\n",
    "from utils.train import train\n",
    "from utils.evaluation import evaluation\n",
    "from utils.loader import get_loader, get_image_list\n",
    "from utils.losses import CostSensitiveRegularizedLoss\n",
    "\n",
    "import warnings\n",
    "warnings.filterwarnings(\"ignore\", category=UserWarning)\n",
    "warnings.filterwarnings(\"ignore\", category=DeprecationWarning)"
   ]
  },
  {
   "cell_type": "code",
   "execution_count": 2,
   "id": "cb64b0db",
   "metadata": {
    "ExecuteTime": {
     "end_time": "2021-09-20T16:10:06.916076Z",
     "start_time": "2021-09-20T16:10:06.901076Z"
    },
    "hide_input": false
   },
   "outputs": [],
   "source": [
    "# hyper params\n",
    "num_of_class = 102\n",
    "learning_rate = 1e-04\n",
    "batch_size = 128\n",
    "input_size = 224\n",
    "device = torch.device(\"cuda\")\n",
    "test_size = 0.2\n",
    "train_size = 0.7\n",
    "val_size = 0.1\n",
    "directoryAgeDB = 'AgeDB/'"
   ]
  },
  {
   "cell_type": "code",
   "execution_count": 3,
   "id": "6d920459",
   "metadata": {
    "ExecuteTime": {
     "end_time": "2021-09-20T16:10:06.932076Z",
     "start_time": "2021-09-20T16:10:06.918078Z"
    },
    "code_folding": [],
    "hide_input": false
   },
   "outputs": [],
   "source": [
    "def findAge(image_list):\n",
    "    listofzeros = [0] * 102\n",
    "    same_age = [i for i in range(0, 102)]\n",
    "    age_number = dict(zip(same_age, listofzeros))\n",
    "    sum = 0\n",
    "\n",
    "    for i in range(len(image_list)):\n",
    "\n",
    "        if image_list[i]['age'] in age_number:\n",
    "            age_number[image_list[i]['age']] += 1\n",
    "            sum += 1\n",
    "\n",
    "    print(sum)\n",
    "    return dict(age_number)\n"
   ]
  },
  {
   "cell_type": "code",
   "execution_count": 4,
   "id": "f8ae2b44",
   "metadata": {
    "ExecuteTime": {
     "end_time": "2021-09-20T16:11:44.871886Z",
     "start_time": "2021-09-20T16:10:06.933075Z"
    },
    "hide_input": false
   },
   "outputs": [
    {
     "data": {
      "application/vnd.jupyter.widget-view+json": {
       "model_id": "80797b1fa5e74d58a189cead7f1cf058",
       "version_major": 2,
       "version_minor": 0
      },
      "text/plain": [
       "  0%|          | 0/11541 [00:00<?, ?it/s]"
      ]
     },
     "metadata": {},
     "output_type": "display_data"
    },
    {
     "name": "stdout",
     "output_type": "stream",
     "text": [
      "Train Set Length:  34623\n",
      "Test Set Length:  3298\n",
      "Validation Set Length:  1649\n",
      "Total:  39570\n"
     ]
    }
   ],
   "source": [
    "train_image_list, test_image_list, validate_image_list = get_image_list(\n",
    "    train_size=train_size, \n",
    "    test_size=test_size, \n",
    "    val_size=val_size, \n",
    "    directory=directoryAgeDB,\n",
    ")\n",
    "\n",
    "train_loader, test_loader, validation_loader = get_loader(\n",
    "    input_size=input_size,\n",
    "    train_image_list=train_image_list,\n",
    "    test_image_list=test_image_list, \n",
    "    validate_image_list=validate_image_list, \n",
    "    batch_size=batch_size,\n",
    "    train_augment=3,\n",
    ")"
   ]
  },
  {
   "cell_type": "code",
   "execution_count": 5,
   "id": "5641b0b5",
   "metadata": {
    "ExecuteTime": {
     "end_time": "2021-09-20T16:11:48.045884Z",
     "start_time": "2021-09-20T16:11:44.874886Z"
    },
    "code_folding": [],
    "hide_input": false
   },
   "outputs": [],
   "source": [
    "resnet1 = pretrainedmodels.resnet18(pretrained='imagenet')\n",
    "resnet1.last_linear = nn.Linear(\n",
    "    in_features=resnet1.last_linear.in_features, \n",
    "    out_features=num_of_class, \n",
    "    bias=False\n",
    ")\n",
    "resnet2 = pretrainedmodels.resnet18(pretrained='imagenet')\n",
    "resnet2.last_linear = nn.Linear(\n",
    "    in_features=resnet2.last_linear.in_features, \n",
    "    out_features=num_of_class, \n",
    "    bias=False\n",
    ")\n",
    "resnet1 = resnet1.to(device)\n",
    "resnet2 = resnet2.to(device)"
   ]
  },
  {
   "cell_type": "code",
   "execution_count": 6,
   "id": "3ca9b2a2",
   "metadata": {
    "ExecuteTime": {
     "end_time": "2021-09-20T16:11:48.093885Z",
     "start_time": "2021-09-20T16:11:48.046887Z"
    },
    "hide_input": false
   },
   "outputs": [],
   "source": [
    "from pytorch_metric_learning.losses import CosFaceLoss\n",
    "criteria = CosFaceLoss(num_classes=num_of_class, embedding_size=num_of_class)\n",
    "optimizer = torch.optim.Adam(resnet1.parameters(), lr=learning_rate, weight_decay=1e-1)\n",
    "model_name = 'cosface-aug.pth'"
   ]
  },
  {
   "cell_type": "code",
   "execution_count": 7,
   "id": "6ed4bb3e",
   "metadata": {
    "ExecuteTime": {
     "end_time": "2021-09-20T16:19:41.125218Z",
     "start_time": "2021-09-20T16:11:48.095887Z"
    },
    "hide_input": false
   },
   "outputs": [
    {
     "name": "stdout",
     "output_type": "stream",
     "text": [
      "Epoch: 1/5, Train Loss: 27.590712719737823,  Validation Loss: 26.579018812913162\n",
      "Validation Loss Decreased(inf ---> 26.579018812913162)\n",
      "Epoch: 2/5, Train Loss: 25.504153051059625,  Validation Loss: 26.909641559307392\n",
      "Epoch: 3/5, Train Loss: 24.592334008304835,  Validation Loss: 27.91579422583947\n",
      "Epoch: 4/5, Train Loss: 23.487289372405442,  Validation Loss: 30.819516988900993\n",
      "Epoch: 5/5, Train Loss: 21.00188089912668,  Validation Loss: 35.536054171048676\n"
     ]
    },
    {
     "data": {
      "image/png": "[encoded data removed]",
      "text/plain": [
       "<Figure size 432x288 with 1 Axes>"
      ]
     },
     "metadata": {
      "needs_background": "light"
     },
     "output_type": "display_data"
    }
   ],
   "source": [
    "train(resnet1, optimizer, criteria, train_loader, validation_loader, num_of_epoch=5, model_name=model_name)"
   ]
  },
  {
   "cell_type": "code",
   "execution_count": 8,
   "id": "10b735ef",
   "metadata": {
    "ExecuteTime": {
     "end_time": "2021-09-20T16:20:29.598228Z",
     "start_time": "2021-09-20T16:19:41.128221Z"
    }
   },
   "outputs": [
    {
     "name": "stdout",
     "output_type": "stream",
     "text": [
      "Mean Absolute Error: 29.669496536254883\n",
      "Minimum: 0.0, Maximum: 96.0, Median: 29.0\n",
      "Mean Absolute Error: 29.79450035095215\n",
      "Minimum: 0.0, Maximum: 96.0, Median: 30.0\n"
     ]
    }
   ],
   "source": [
    "resnet1.load_state_dict(torch.load(model_name))\n",
    "loss_per_class = evaluation(resnet1, test_loader)\n",
    "_ = evaluation(resnet1, train_loader)"
   ]
  },
  {
   "cell_type": "code",
   "execution_count": 9,
   "id": "6452b440",
   "metadata": {
    "ExecuteTime": {
     "end_time": "2021-09-20T16:20:29.661227Z",
     "start_time": "2021-09-20T16:20:29.601235Z"
    }
   },
   "outputs": [
    {
     "name": "stdout",
     "output_type": "stream",
     "text": [
      "3298\n",
      "Age: Test Sample: Loss\n",
      "1 : 1 : 76.00\n",
      "2  No Sample\n",
      "3 : 2 : 96.00\n",
      "4 : 1 : 95.00\n",
      "5 : 1 : 45.00\n",
      "6 : 2 : 68.50\n",
      "7 : 2 : 61.00\n",
      "8 : 2 : 42.00\n",
      "9 : 1 : 59.00\n",
      "10 : 3 : 46.00\n",
      "11 : 4 : 64.75\n",
      "12 : 3 : 56.00\n",
      "13 : 4 : 62.75\n",
      "14 : 5 : 56.60\n",
      "15 : 9 : 49.00\n",
      "16 : 10 : 53.30\n",
      "17 : 16 : 54.44\n",
      "18 : 24 : 46.04\n",
      "19 : 22 : 45.95\n",
      "20 : 32 : 45.97\n",
      "21 : 33 : 46.48\n",
      "22 : 37 : 42.65\n",
      "23 : 42 : 41.45\n",
      "24 : 52 : 39.48\n",
      "25 : 57 : 40.14\n",
      "26 : 55 : 39.24\n",
      "27 : 61 : 38.80\n",
      "28 : 69 : 37.23\n",
      "29 : 62 : 37.29\n",
      "30 : 77 : 38.48\n",
      "31 : 63 : 34.48\n",
      "32 : 75 : 34.84\n",
      "33 : 67 : 34.27\n",
      "34 : 72 : 34.75\n",
      "35 : 82 : 32.13\n",
      "36 : 69 : 35.57\n",
      "37 : 74 : 31.23\n",
      "38 : 76 : 31.08\n",
      "39 : 64 : 29.84\n",
      "40 : 77 : 29.21\n",
      "41 : 64 : 28.08\n",
      "42 : 71 : 29.34\n",
      "43 : 65 : 27.75\n",
      "44 : 56 : 28.00\n",
      "45 : 68 : 29.13\n",
      "46 : 57 : 24.44\n",
      "47 : 58 : 24.38\n",
      "48 : 62 : 25.11\n",
      "49 : 53 : 24.62\n",
      "50 : 63 : 26.62\n",
      "51 : 57 : 25.68\n",
      "52 : 62 : 25.37\n",
      "53 : 50 : 24.90\n",
      "54 : 51 : 24.57\n",
      "55 : 59 : 23.39\n",
      "56 : 45 : 24.53\n",
      "57 : 49 : 24.02\n",
      "58 : 49 : 22.20\n",
      "59 : 43 : 24.30\n",
      "60 : 49 : 21.20\n",
      "61 : 41 : 21.51\n",
      "62 : 48 : 23.90\n",
      "63 : 44 : 20.48\n",
      "64 : 39 : 23.87\n",
      "65 : 46 : 22.30\n",
      "66 : 35 : 21.74\n",
      "67 : 35 : 19.54\n",
      "68 : 43 : 21.14\n",
      "69 : 30 : 19.43\n",
      "70 : 43 : 19.56\n",
      "71 : 29 : 25.07\n",
      "72 : 35 : 21.40\n",
      "73 : 31 : 15.84\n",
      "74 : 28 : 16.68\n",
      "75 : 32 : 16.81\n",
      "76 : 22 : 20.86\n",
      "77 : 21 : 17.00\n",
      "78 : 21 : 18.67\n",
      "79 : 15 : 27.73\n",
      "80 : 18 : 14.00\n",
      "81 : 15 : 15.60\n",
      "82 : 14 : 34.43\n",
      "83 : 11 : 29.09\n",
      "84 : 9 : 29.44\n",
      "85 : 12 : 22.00\n",
      "86 : 7 : 51.86\n",
      "87 : 6 : 25.33\n",
      "88 : 4 : 22.00\n",
      "89 : 4 : 8.00\n",
      "90 : 4 : 23.00\n",
      "91 : 3 : 26.67\n",
      "92 : 2 : 40.00\n",
      "93 : 3 : 49.33\n",
      "94 : 1 : 67.00\n",
      "95 : 2 : 18.00\n",
      "96 : 1 : 69.00\n",
      "97 : 1 : 20.00\n",
      "98 : 1 : 71.00\n",
      "99 : 1 : 22.00\n",
      "100 : 1 : 23.00\n",
      "101 : 1 : 74.00\n"
     ]
    }
   ],
   "source": [
    "sample_per_class = findAge(test_image_list)\n",
    "print('Age: Test Sample: Loss')\n",
    "for i in range(1, 102):\n",
    "    if sample_per_class[i] == 0:\n",
    "        print(i,' No Sample')\n",
    "    else:\n",
    "        print(i,':', sample_per_class[i],':', format(loss_per_class[i].item()/sample_per_class[i],'.2f'))"
   ]
  },
  {
   "cell_type": "code",
   "execution_count": 10,
   "id": "38bb6666",
   "metadata": {
    "ExecuteTime": {
     "end_time": "2021-09-20T16:23:53.232290Z",
     "start_time": "2021-09-20T16:20:29.662228Z"
    }
   },
   "outputs": [
    {
     "data": {
      "application/vnd.jupyter.widget-view+json": {
       "model_id": "70ba94b0edf94858b9223a7d6e21b569",
       "version_major": 2,
       "version_minor": 0
      },
      "text/plain": [
       "  0%|          | 0/11541 [00:00<?, ?it/s]"
      ]
     },
     "metadata": {},
     "output_type": "display_data"
    },
    {
     "name": "stdout",
     "output_type": "stream",
     "text": [
      "Train Set Length:  11541\n",
      "Test Set Length:  3298\n",
      "Validation Set Length:  1649\n",
      "Total:  16488\n",
      "Epoch: 1/5, Train Loss: 29.32995506957337,  Validation Loss: 27.268490131084736\n",
      "Validation Loss Decreased(inf ---> 27.268490131084736)\n",
      "Epoch: 2/5, Train Loss: 26.09680683010227,  Validation Loss: 27.040675823505108\n",
      "Validation Loss Decreased(27.268490131084736 ---> 27.040675823505108)\n",
      "Epoch: 3/5, Train Loss: 24.877657418722634,  Validation Loss: 27.57297603900616\n",
      "Epoch: 4/5, Train Loss: 23.278796772380453,  Validation Loss: 29.789808860191933\n",
      "Epoch: 5/5, Train Loss: 18.935852711017315,  Validation Loss: 37.337444892296425\n"
     ]
    },
    {
     "data": {
      "image/png": "[encoded data removed]",
      "text/plain": [
       "<Figure size 432x288 with 1 Axes>"
      ]
     },
     "metadata": {
      "needs_background": "light"
     },
     "output_type": "display_data"
    }
   ],
   "source": [
    "train_loader, test_loader, validation_loader = get_loader(\n",
    "    input_size=input_size,\n",
    "    train_image_list=train_image_list,\n",
    "    test_image_list=test_image_list, \n",
    "    validate_image_list=validate_image_list, \n",
    "    batch_size=batch_size,\n",
    "    train_augment=1,\n",
    ")\n",
    "criteria = CosFaceLoss(num_classes=num_of_class, embedding_size=num_of_class)\n",
    "optimizer = torch.optim.Adam(resnet2.parameters(), lr=learning_rate, weight_decay=1e-1)\n",
    "model_name = 'cosface.pth'\n",
    "train(resnet2, optimizer, criteria, train_loader, validation_loader, num_of_epoch=5, model_name=model_name)"
   ]
  },
  {
   "cell_type": "code",
   "execution_count": 11,
   "id": "647a89b6",
   "metadata": {
    "ExecuteTime": {
     "end_time": "2021-09-20T16:24:20.208329Z",
     "start_time": "2021-09-20T16:23:53.234290Z"
    }
   },
   "outputs": [
    {
     "name": "stdout",
     "output_type": "stream",
     "text": [
      "Mean Absolute Error: 20.90448760986328\n",
      "Minimum: 0.0, Maximum: 81.0, Median: 18.0\n",
      "Mean Absolute Error: 20.7838134765625\n",
      "Minimum: 0.0, Maximum: 83.0, Median: 18.0\n"
     ]
    }
   ],
   "source": [
    "resnet2.load_state_dict(torch.load(model_name))\n",
    "loss_per_class = evaluation(resnet2, test_loader)\n",
    "_ = evaluation(resnet2, train_loader)"
   ]
  },
  {
   "cell_type": "code",
   "execution_count": 12,
   "id": "4cac931a",
   "metadata": {
    "ExecuteTime": {
     "end_time": "2021-09-20T16:24:20.336328Z",
     "start_time": "2021-09-20T16:24:20.210327Z"
    }
   },
   "outputs": [
    {
     "name": "stdout",
     "output_type": "stream",
     "text": [
      "3298\n",
      "Age: Test Sample: Loss\n",
      "1 : 1 : 56.00\n",
      "2  No Sample\n",
      "3 : 2 : 68.00\n",
      "4 : 1 : 53.00\n",
      "5 : 1 : 66.00\n",
      "6 : 2 : 58.00\n",
      "7 : 2 : 64.00\n",
      "8 : 2 : 63.00\n",
      "9 : 1 : 62.00\n",
      "10 : 3 : 56.33\n",
      "11 : 4 : 58.25\n",
      "12 : 3 : 56.67\n",
      "13 : 4 : 49.25\n",
      "14 : 5 : 43.80\n",
      "15 : 9 : 50.56\n",
      "16 : 10 : 50.10\n",
      "17 : 16 : 48.75\n",
      "18 : 24 : 46.62\n",
      "19 : 22 : 45.64\n",
      "20 : 32 : 47.09\n",
      "21 : 33 : 42.58\n",
      "22 : 37 : 45.97\n",
      "23 : 42 : 43.33\n",
      "24 : 52 : 39.96\n",
      "25 : 57 : 37.91\n",
      "26 : 55 : 39.40\n",
      "27 : 61 : 36.39\n",
      "28 : 69 : 36.87\n",
      "29 : 62 : 34.32\n",
      "30 : 77 : 32.75\n",
      "31 : 63 : 34.32\n",
      "32 : 75 : 31.72\n",
      "33 : 67 : 30.76\n",
      "34 : 72 : 27.67\n",
      "35 : 82 : 27.55\n",
      "36 : 69 : 24.58\n",
      "37 : 74 : 25.97\n",
      "38 : 76 : 24.22\n",
      "39 : 64 : 22.30\n",
      "40 : 77 : 22.14\n",
      "41 : 64 : 19.12\n",
      "42 : 71 : 19.17\n",
      "43 : 65 : 16.66\n",
      "44 : 56 : 15.38\n",
      "45 : 68 : 14.47\n",
      "46 : 57 : 13.05\n",
      "47 : 58 : 12.66\n",
      "48 : 62 : 12.10\n",
      "49 : 53 : 10.25\n",
      "50 : 63 : 8.56\n",
      "51 : 57 : 7.11\n",
      "52 : 62 : 5.90\n",
      "53 : 50 : 6.26\n",
      "54 : 51 : 3.27\n",
      "55 : 59 : 3.49\n",
      "56 : 45 : 3.24\n",
      "57 : 49 : 0.71\n",
      "58 : 49 : 1.98\n",
      "59 : 43 : 2.00\n",
      "60 : 49 : 3.02\n",
      "61 : 41 : 4.22\n",
      "62 : 48 : 5.08\n",
      "63 : 44 : 5.89\n",
      "64 : 39 : 6.82\n",
      "65 : 46 : 8.22\n",
      "66 : 35 : 9.00\n",
      "67 : 35 : 10.00\n",
      "68 : 43 : 10.84\n",
      "69 : 30 : 12.00\n",
      "70 : 43 : 12.72\n",
      "71 : 29 : 14.00\n",
      "72 : 35 : 14.80\n",
      "73 : 31 : 16.00\n",
      "74 : 28 : 18.71\n",
      "75 : 32 : 17.56\n",
      "76 : 22 : 19.00\n",
      "77 : 21 : 20.00\n",
      "78 : 21 : 21.00\n",
      "79 : 15 : 22.00\n",
      "80 : 18 : 23.00\n",
      "81 : 15 : 24.00\n",
      "82 : 14 : 25.00\n",
      "83 : 11 : 26.00\n",
      "84 : 9 : 27.00\n",
      "85 : 12 : 27.42\n",
      "86 : 7 : 29.00\n",
      "87 : 6 : 30.00\n",
      "88 : 4 : 31.00\n",
      "89 : 4 : 32.00\n",
      "90 : 4 : 33.00\n",
      "91 : 3 : 34.00\n",
      "92 : 2 : 35.00\n",
      "93 : 3 : 36.00\n",
      "94 : 1 : 37.00\n",
      "95 : 2 : 38.00\n",
      "96 : 1 : 39.00\n",
      "97 : 1 : 40.00\n",
      "98 : 1 : 41.00\n",
      "99 : 1 : 42.00\n",
      "100 : 1 : 43.00\n",
      "101 : 1 : 44.00\n"
     ]
    }
   ],
   "source": [
    "sample_per_class = findAge(test_image_list)\n",
    "print('Age: Test Sample: Loss')\n",
    "for i in range(1, 102):\n",
    "    if sample_per_class[i] == 0:\n",
    "        print(i,' No Sample')\n",
    "    else:\n",
    "        print(i,':', sample_per_class[i],':', format(loss_per_class[i].item()/sample_per_class[i],'.2f'))"
   ]
  }
 ],
 "metadata": {
  "kernelspec": {
   "display_name": "Python 3",
   "language": "python",
   "name": "python3"
  },
  "language_info": {
   "codemirror_mode": {
    "name": "ipython",
    "version": 3
   },
   "file_extension": ".py",
   "mimetype": "text/x-python",
   "name": "python",
   "nbconvert_exporter": "python",
   "pygments_lexer": "ipython3",
   "version": "3.8.8"
  },
  "varInspector": {
   "cols": {
    "lenName": 16,
    "lenType": 16,
    "lenVar": 40
   },
   "kernels_config": {
    "python": {
     "delete_cmd_postfix": "",
     "delete_cmd_prefix": "del ",
     "library": "var_list.py",
     "varRefreshCmd": "print(var_dic_list())"
    },
    "r": {
     "delete_cmd_postfix": ") ",
     "delete_cmd_prefix": "rm(",
     "library": "var_list.r",
     "varRefreshCmd": "cat(var_dic_list()) "
    }
   },
   "types_to_exclude": [
    "module",
    "function",
    "builtin_function_or_method",
    "instance",
    "_Feature"
   ],
   "window_display": false
  }
 },
 "nbformat": 4,
 "nbformat_minor": 5
}
