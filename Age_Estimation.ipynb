{
  "nbformat": 4,
  "nbformat_minor": 0,
  "metadata": {
    "colab": {
      "name": "Age_Estimation.ipynb",
      "provenance": [],
      "authorship_tag": "ABX9TyN162EtqGCrVaSGIPo343/y",
      "include_colab_link": true
    },
    "kernelspec": {
      "name": "python3",
      "display_name": "Python 3"
    },
    "language_info": {
      "name": "python"
    }
  },
  "cells": [
    {
      "cell_type": "markdown",
      "metadata": {
        "id": "view-in-github",
        "colab_type": "text"
      },
      "source": [
        "<a href=\"https://colab.research.google.com/github/mhasan502/Age_Estimation/blob/Jibon/Age_Estimation.ipynb\" target=\"_parent\"><img src=\"https://colab.research.google.com/assets/colab-badge.svg\" alt=\"Open In Colab\"/></a>"
      ]
    },
    {
      "cell_type": "markdown",
      "metadata": {
        "id": "DyImaSzyRAwq"
      },
      "source": [
        "# custom_loader"
      ]
    },
    {
      "cell_type": "code",
      "metadata": {
        "colab": {
          "base_uri": "https://localhost:8080/"
        },
        "id": "i4oVz83oOP7S",
        "outputId": "4d466b6e-a2ca-4eab-92e7-92e6215ba1ea"
      },
      "source": [
        "!pip install parse"
      ],
      "execution_count": 135,
      "outputs": [
        {
          "output_type": "stream",
          "text": [
            "Requirement already satisfied: parse in /usr/local/lib/python3.7/dist-packages (1.19.0)\n"
          ],
          "name": "stdout"
        }
      ]
    },
    {
      "cell_type": "code",
      "metadata": {
        "id": "DhncBiQYoMy2"
      },
      "source": [
        "import os\n",
        "import sys\n",
        "import torch\n",
        "from PIL import Image\n",
        "from parse import parse\n",
        "from torch.utils.data import DataLoader, Dataset"
      ],
      "execution_count": 136,
      "outputs": []
    },
    {
      "cell_type": "code",
      "metadata": {
        "id": "lv1i-ZpPOoUz"
      },
      "source": [
        "class AgeDBHandler:\n",
        "    def __init__(self, datasets_dir, preload=False, use_preprocessed=True, device: torch.device = torch.device('cpu')):\n",
        "        self.device = device\n",
        "        self.preload = preload\n",
        "\n",
        "        self.datasets_dir = datasets_dir\n",
        "        self.directory = os.path.join(datasets_dir, 'AgeDB')\n",
        "\n",
        "        self.trainDataset = None\n",
        "        self.testDataset = None\n",
        "        self.validateDataset = None\n",
        "\n",
        "        self._prepare_on_disk()\n",
        "\n",
        "    def get_loaders(self, transform, train_size=0.7, validate_size=0.2, test_size=0.1, batch_size=15, **kwargs):\n",
        "        if round(train_size + validate_size + test_size, 1) > 1.0:\n",
        "            sys.exit(\"Sum of the percentages should be less than 1. it's \" +\n",
        "                     str(train_size + validate_size + test_size) + \" now!\")\n",
        "\n",
        "        dataset = AgeDBDataset(directory=self.directory,\n",
        "                               transform=transform,\n",
        "                               preload=self.preload,\n",
        "                               device=self.device,\n",
        "                               **kwargs)\n",
        "\n",
        "        train_len = int(len(dataset) * train_size)\n",
        "        validate_len = int(len(dataset) * validate_size)\n",
        "        test_len = int(len(dataset) * test_size)\n",
        "        others_len = len(dataset) - train_len - validate_len - test_len\n",
        "\n",
        "        self.trainDataset, self.validateDataset, self.testDataset, _ = torch.utils.data.random_split(\n",
        "            dataset, [train_len, validate_len, test_len, others_len])\n",
        "\n",
        "        # noinspection PyUnusedLocal\n",
        "        dataset = None\n",
        "\n",
        "        train_loader = DataLoader(self.trainDataset, batch_size=batch_size)\n",
        "        validate_loader = DataLoader(self.validateDataset, batch_size=batch_size)\n",
        "        test_loader = DataLoader(self.testDataset, batch_size=batch_size)\n",
        "\n",
        "        return train_loader, validate_loader, test_loader\n",
        "\n",
        "    def _prepare_on_disk(self):\n",
        "        if os.path.exists(self.directory):\n",
        "            if len(os.listdir(self.directory)) != 0:\n",
        "                print('AgeDB Already Exists on ' +\n",
        "                      self.directory + '.We will use it!')\n",
        "                return\n",
        "            \n",
        "        print('Could not find AgeDB on', self.directory)\n",
        "        print('Looking for ', self.zipFile)"
      ],
      "execution_count": 137,
      "outputs": []
    },
    {
      "cell_type": "code",
      "metadata": {
        "id": "7oAr4OxhOr9S"
      },
      "source": [
        "class AgeDBDataset(Dataset):\n",
        "    def __init__(self, directory, transform, preload=False, device: torch.device = torch.device('cpu'), **kwargs):\n",
        "        self.device = device\n",
        "        self.directory = directory if kwargs.get('usePreprocessed', 0) == 0 else os.path.join(directory, 'preProcessed')\n",
        "        self.transform = transform\n",
        "        gender_to_class_id = {'m': 0, 'f': 1}\n",
        "        self.labels = []\n",
        "        self.images = []\n",
        "        self.preload = preload\n",
        "\n",
        "        for i, file in enumerate(os.listdir(self.directory)):\n",
        "            if file.endswith(('_2.jpg', '_3.jpg')):  # TODO\n",
        "                continue\n",
        "            file_labels = parse('{}_{person}_{age}_{gender}.jpg', file)\n",
        "            \n",
        "            if file_labels is None:\n",
        "                continue\n",
        "                \n",
        "            if self.preload:\n",
        "                image = Image.open(os.path.join(self.directory, file)).convert('RGB')\n",
        "                \n",
        "                if self.transform is not None:\n",
        "                    image = self.transform(image).to(self.device)\n",
        "            else:\n",
        "                image = os.path.join(self.directory, file)\n",
        "\n",
        "            self.images.append(image)\n",
        "            person = str(file_labels['person'])\n",
        "            gender = gender_to_class_id[file_labels['gender']]\n",
        "            age = int(file_labels['age'])\n",
        "            self.labels.append({\n",
        "                'person': person,\n",
        "                'age': age,\n",
        "                'gender': gender\n",
        "            })\n",
        "        pass\n",
        "\n",
        "    def __len__(self):\n",
        "        return len(self.labels)\n",
        "\n",
        "    def __getitem__(self, idx):\n",
        "        if torch.is_tensor(idx):\n",
        "            idx = idx.tolist()\n",
        "\n",
        "        image = self.images[idx]\n",
        "\n",
        "        if not self.preload:\n",
        "            image = Image.open(image).convert('RGB')\n",
        "            if self.transform is not None:\n",
        "                image = self.transform(image).to(self.device)\n",
        "\n",
        "        labels = {\n",
        "            'person': self.labels[idx]['person'], \n",
        "            'age': self.labels[idx]['age'], \n",
        "            'gender': self.labels[idx]['gender']\n",
        "            }\n",
        "        return image.to(self.device), labels"
      ],
      "execution_count": 138,
      "outputs": []
    },
    {
      "cell_type": "markdown",
      "metadata": {
        "id": "sSyRs2ev4pd7"
      },
      "source": [
        "# Preprocessing"
      ]
    },
    {
      "cell_type": "code",
      "metadata": {
        "id": "djX4bEOrQPk7"
      },
      "source": [
        "from torch import nn\n",
        "from torchvision import datasets\n",
        "import torchvision\n",
        "from torchvision.transforms import ToTensor\n",
        "import matplotlib.pyplot as plt"
      ],
      "execution_count": 139,
      "outputs": []
    },
    {
      "cell_type": "code",
      "metadata": {
        "colab": {
          "base_uri": "https://localhost:8080/"
        },
        "id": "YWe2vtzS45kx",
        "outputId": "7959f609-99d7-4a2a-9400-3d3ed477775f"
      },
      "source": [
        "device = torch.device(\"cuda\") if torch.cuda.is_available() else torch.device(\"cpu\")\n",
        "device"
      ],
      "execution_count": 140,
      "outputs": [
        {
          "output_type": "execute_result",
          "data": {
            "text/plain": [
              "device(type='cpu')"
            ]
          },
          "metadata": {
            "tags": []
          },
          "execution_count": 140
        }
      ]
    },
    {
      "cell_type": "markdown",
      "metadata": {
        "id": "KuNwEzTRQmr6"
      },
      "source": [
        "## Loading Dataset"
      ]
    },
    {
      "cell_type": "code",
      "metadata": {
        "colab": {
          "base_uri": "https://localhost:8080/"
        },
        "id": "gq-Z6OzeZZgU",
        "outputId": "13b09aac-ab3b-403c-e324-df8d87da1185"
      },
      "source": [
        "from google.colab import drive\n",
        "drive.mount('/content/gdrive')"
      ],
      "execution_count": 141,
      "outputs": [
        {
          "output_type": "stream",
          "text": [
            "Drive already mounted at /content/gdrive; to attempt to forcibly remount, call drive.mount(\"/content/gdrive\", force_remount=True).\n"
          ],
          "name": "stdout"
        }
      ]
    },
    {
      "cell_type": "code",
      "metadata": {
        "id": "WwhQoytMQSI5"
      },
      "source": [
        "dataset = AgeDBDataset(\n",
        "    directory = '/content/gdrive/MyDrive/Colab Notebooks/AgeDBDataset/AgeDB',\n",
        "    transform = ToTensor(),\n",
        "    device = device\n",
        ")"
      ],
      "execution_count": 142,
      "outputs": []
    },
    {
      "cell_type": "markdown",
      "metadata": {
        "id": "l08dWwUNQahn"
      },
      "source": [
        "# Dataset Attributes"
      ]
    },
    {
      "cell_type": "code",
      "metadata": {
        "id": "mWbrU3L2QVTB",
        "colab": {
          "base_uri": "https://localhost:8080/"
        },
        "outputId": "c3e46a65-626b-4416-f31d-573dc214759f"
      },
      "source": [
        "len(dataset)"
      ],
      "execution_count": 143,
      "outputs": [
        {
          "output_type": "execute_result",
          "data": {
            "text/plain": [
              "16488"
            ]
          },
          "metadata": {
            "tags": []
          },
          "execution_count": 143
        }
      ]
    },
    {
      "cell_type": "code",
      "metadata": {
        "colab": {
          "base_uri": "https://localhost:8080/"
        },
        "id": "9NO0Frjn-4Tc",
        "outputId": "b3c6fe1c-d135-4dd1-89de-9ec1e6e08d4b"
      },
      "source": [
        "dataset[0]"
      ],
      "execution_count": 144,
      "outputs": [
        {
          "output_type": "execute_result",
          "data": {
            "text/plain": [
              "(tensor([[[0.4196, 0.4157, 0.4157,  ..., 0.5020, 0.4824, 0.4667],\n",
              "          [0.4196, 0.4196, 0.4157,  ..., 0.4980, 0.4745, 0.4588],\n",
              "          [0.4235, 0.4196, 0.4157,  ..., 0.4902, 0.4667, 0.4510],\n",
              "          ...,\n",
              "          [0.2549, 0.2588, 0.2627,  ..., 0.0627, 0.0627, 0.0667],\n",
              "          [0.2471, 0.2510, 0.2549,  ..., 0.0627, 0.0588, 0.0627],\n",
              "          [0.2392, 0.2431, 0.2471,  ..., 0.0627, 0.0588, 0.0627]],\n",
              " \n",
              "         [[0.3333, 0.3294, 0.3294,  ..., 0.4314, 0.4118, 0.3961],\n",
              "          [0.3333, 0.3333, 0.3294,  ..., 0.4275, 0.4039, 0.3882],\n",
              "          [0.3373, 0.3333, 0.3294,  ..., 0.4196, 0.3961, 0.3804],\n",
              "          ...,\n",
              "          [0.1961, 0.2000, 0.2039,  ..., 0.0667, 0.0667, 0.0706],\n",
              "          [0.1882, 0.1922, 0.1961,  ..., 0.0667, 0.0627, 0.0667],\n",
              "          [0.1804, 0.1843, 0.1882,  ..., 0.0667, 0.0627, 0.0667]],\n",
              " \n",
              "         [[0.2824, 0.2784, 0.2784,  ..., 0.3843, 0.3647, 0.3569],\n",
              "          [0.2824, 0.2824, 0.2784,  ..., 0.3804, 0.3569, 0.3490],\n",
              "          [0.2863, 0.2824, 0.2784,  ..., 0.3725, 0.3490, 0.3412],\n",
              "          ...,\n",
              "          [0.1843, 0.1882, 0.1922,  ..., 0.0824, 0.0824, 0.0863],\n",
              "          [0.1765, 0.1804, 0.1843,  ..., 0.0824, 0.0784, 0.0824],\n",
              "          [0.1686, 0.1725, 0.1765,  ..., 0.0824, 0.0784, 0.0824]]]),\n",
              " {'age': 32, 'gender': 1, 'person': 'KateOMara'})"
            ]
          },
          "metadata": {
            "tags": []
          },
          "execution_count": 144
        }
      ]
    },
    {
      "cell_type": "code",
      "metadata": {
        "id": "DV5NQW5ZRZ83",
        "colab": {
          "base_uri": "https://localhost:8080/"
        },
        "outputId": "200c1084-92aa-4cf4-bc28-bc6368a5cfff"
      },
      "source": [
        "type(dataset[0])"
      ],
      "execution_count": 145,
      "outputs": [
        {
          "output_type": "execute_result",
          "data": {
            "text/plain": [
              "tuple"
            ]
          },
          "metadata": {
            "tags": []
          },
          "execution_count": 145
        }
      ]
    },
    {
      "cell_type": "code",
      "metadata": {
        "id": "ljt3JQDvQW-J",
        "colab": {
          "base_uri": "https://localhost:8080/"
        },
        "outputId": "975be822-a75c-4a18-f983-729ff665a025"
      },
      "source": [
        "dataset.labels[0]"
      ],
      "execution_count": 146,
      "outputs": [
        {
          "output_type": "execute_result",
          "data": {
            "text/plain": [
              "{'age': 32, 'gender': 1, 'person': 'KateOMara'}"
            ]
          },
          "metadata": {
            "tags": []
          },
          "execution_count": 146
        }
      ]
    },
    {
      "cell_type": "code",
      "metadata": {
        "colab": {
          "base_uri": "https://localhost:8080/"
        },
        "id": "gljRTyWyANru",
        "outputId": "7d7343d5-7fd1-40a7-aa55-b0b2a918df99"
      },
      "source": [
        "print(dataset.images[0])"
      ],
      "execution_count": 147,
      "outputs": [
        {
          "output_type": "stream",
          "text": [
            "/content/gdrive/MyDrive/Colab Notebooks/AgeDBDataset/AgeDB/15588_KateOMara_32_f.jpg\n"
          ],
          "name": "stdout"
        }
      ]
    },
    {
      "cell_type": "code",
      "metadata": {
        "colab": {
          "base_uri": "https://localhost:8080/",
          "height": 286
        },
        "id": "KkQADYC1AVEM",
        "outputId": "04f9ef77-a135-421e-b9bf-fe5811e60176"
      },
      "source": [
        "plt.figure()\n",
        "plt.imshow(plt.imread(dataset.images[0]))"
      ],
      "execution_count": 148,
      "outputs": [
        {
          "output_type": "execute_result",
          "data": {
            "text/plain": [
              "<matplotlib.image.AxesImage at 0x7f4cab780f90>"
            ]
          },
          "metadata": {
            "tags": []
          },
          "execution_count": 148
        },
        {
          "output_type": "display_data",
          "data": {
            "image/png": "[encoded data removed]",
            "text/plain": [
              "<Figure size 432x288 with 1 Axes>"
            ]
          },
          "metadata": {
            "tags": [],
            "needs_background": "light"
          }
        }
      ]
    },
    {
      "cell_type": "code",
      "metadata": {
        "colab": {
          "base_uri": "https://localhost:8080/",
          "height": 303
        },
        "id": "UR-IGrDJBN60",
        "outputId": "43c8b826-2402-4d02-b9fe-442ff299333f"
      },
      "source": [
        "print(dataset.images[1])\n",
        "\n",
        "plt.figure()\n",
        "plt.imshow(plt.imread(dataset.images[1]))"
      ],
      "execution_count": 149,
      "outputs": [
        {
          "output_type": "stream",
          "text": [
            "/content/gdrive/MyDrive/Colab Notebooks/AgeDBDataset/AgeDB/15658_KatharineRoss_68_f.jpg\n"
          ],
          "name": "stdout"
        },
        {
          "output_type": "execute_result",
          "data": {
            "text/plain": [
              "<matplotlib.image.AxesImage at 0x7f4ca4bc0c50>"
            ]
          },
          "metadata": {
            "tags": []
          },
          "execution_count": 149
        },
        {
          "output_type": "display_data",
          "data": {
            "image/png": "[encoded data removed]",
            "text/plain": [
              "<Figure size 432x288 with 1 Axes>"
            ]
          },
          "metadata": {
            "tags": [],
            "needs_background": "light"
          }
        }
      ]
    },
    {
      "cell_type": "code",
      "metadata": {
        "colab": {
          "base_uri": "https://localhost:8080/"
        },
        "id": "XarAZumKEBzT",
        "outputId": "a1451342-ad95-47d3-94ad-2105a44cd998"
      },
      "source": [
        "dataset.labels[1]"
      ],
      "execution_count": 150,
      "outputs": [
        {
          "output_type": "execute_result",
          "data": {
            "text/plain": [
              "{'age': 68, 'gender': 1, 'person': 'KatharineRoss'}"
            ]
          },
          "metadata": {
            "tags": []
          },
          "execution_count": 150
        }
      ]
    },
    {
      "cell_type": "code",
      "metadata": {
        "id": "tyINdKGfAY4T"
      },
      "source": [
        "age = []\n",
        "gender = []\n",
        "for i in range(len(dataset)):\n",
        "    age.append(dataset.labels[i]['age'])\n",
        "    gender.append(dataset.labels[i]['gender'])"
      ],
      "execution_count": 151,
      "outputs": []
    },
    {
      "cell_type": "code",
      "metadata": {
        "colab": {
          "base_uri": "https://localhost:8080/"
        },
        "id": "4Vq87-6TAbFL",
        "outputId": "4d479de4-3945-4f0c-9d72-f530b14d5cc4"
      },
      "source": [
        "print(\"Highest Age Value: \"+str(max(age))+\"\\nLowest Age Value: \"+str(min(age)))"
      ],
      "execution_count": 152,
      "outputs": [
        {
          "output_type": "stream",
          "text": [
            "Highest Age Value: 101\n",
            "Lowest Age Value: 1\n"
          ],
          "name": "stdout"
        }
      ]
    },
    {
      "cell_type": "code",
      "metadata": {
        "colab": {
          "base_uri": "https://localhost:8080/",
          "height": 265
        },
        "id": "GQdTzFKXAeKS",
        "outputId": "a7baf524-f0dd-4510-d377-95dab9d706ab"
      },
      "source": [
        "plt.plot(age)\n",
        "\n",
        "plt.show()"
      ],
      "execution_count": 153,
      "outputs": [
        {
          "output_type": "display_data",
          "data": {
            "image/png": "[encoded data removed]",
            "text/plain": [
              "<Figure size 432x288 with 1 Axes>"
            ]
          },
          "metadata": {
            "tags": [],
            "needs_background": "light"
          }
        }
      ]
    },
    {
      "cell_type": "code",
      "metadata": {
        "id": "9e2u96zKAhbN",
        "colab": {
          "base_uri": "https://localhost:8080/"
        },
        "outputId": "5febc645-caae-4434-b414-55cb01c0cd8a"
      },
      "source": [
        "listofzeros = [0] * len(dataset)\n",
        "same_age = [i for i in range(min(age), max(age) + 1)]\n",
        "\n",
        "age_number = dict(zip(same_age, listofzeros))\n",
        "age_number"
      ],
      "execution_count": 154,
      "outputs": [
        {
          "output_type": "execute_result",
          "data": {
            "text/plain": [
              "{1: 0,\n",
              " 2: 0,\n",
              " 3: 0,\n",
              " 4: 0,\n",
              " 5: 0,\n",
              " 6: 0,\n",
              " 7: 0,\n",
              " 8: 0,\n",
              " 9: 0,\n",
              " 10: 0,\n",
              " 11: 0,\n",
              " 12: 0,\n",
              " 13: 0,\n",
              " 14: 0,\n",
              " 15: 0,\n",
              " 16: 0,\n",
              " 17: 0,\n",
              " 18: 0,\n",
              " 19: 0,\n",
              " 20: 0,\n",
              " 21: 0,\n",
              " 22: 0,\n",
              " 23: 0,\n",
              " 24: 0,\n",
              " 25: 0,\n",
              " 26: 0,\n",
              " 27: 0,\n",
              " 28: 0,\n",
              " 29: 0,\n",
              " 30: 0,\n",
              " 31: 0,\n",
              " 32: 0,\n",
              " 33: 0,\n",
              " 34: 0,\n",
              " 35: 0,\n",
              " 36: 0,\n",
              " 37: 0,\n",
              " 38: 0,\n",
              " 39: 0,\n",
              " 40: 0,\n",
              " 41: 0,\n",
              " 42: 0,\n",
              " 43: 0,\n",
              " 44: 0,\n",
              " 45: 0,\n",
              " 46: 0,\n",
              " 47: 0,\n",
              " 48: 0,\n",
              " 49: 0,\n",
              " 50: 0,\n",
              " 51: 0,\n",
              " 52: 0,\n",
              " 53: 0,\n",
              " 54: 0,\n",
              " 55: 0,\n",
              " 56: 0,\n",
              " 57: 0,\n",
              " 58: 0,\n",
              " 59: 0,\n",
              " 60: 0,\n",
              " 61: 0,\n",
              " 62: 0,\n",
              " 63: 0,\n",
              " 64: 0,\n",
              " 65: 0,\n",
              " 66: 0,\n",
              " 67: 0,\n",
              " 68: 0,\n",
              " 69: 0,\n",
              " 70: 0,\n",
              " 71: 0,\n",
              " 72: 0,\n",
              " 73: 0,\n",
              " 74: 0,\n",
              " 75: 0,\n",
              " 76: 0,\n",
              " 77: 0,\n",
              " 78: 0,\n",
              " 79: 0,\n",
              " 80: 0,\n",
              " 81: 0,\n",
              " 82: 0,\n",
              " 83: 0,\n",
              " 84: 0,\n",
              " 85: 0,\n",
              " 86: 0,\n",
              " 87: 0,\n",
              " 88: 0,\n",
              " 89: 0,\n",
              " 90: 0,\n",
              " 91: 0,\n",
              " 92: 0,\n",
              " 93: 0,\n",
              " 94: 0,\n",
              " 95: 0,\n",
              " 96: 0,\n",
              " 97: 0,\n",
              " 98: 0,\n",
              " 99: 0,\n",
              " 100: 0,\n",
              " 101: 0}"
            ]
          },
          "metadata": {
            "tags": []
          },
          "execution_count": 154
        }
      ]
    },
    {
      "cell_type": "code",
      "metadata": {
        "colab": {
          "base_uri": "https://localhost:8080/"
        },
        "id": "0RsQrRHOP4po",
        "outputId": "bea2091f-c1a1-45d9-f08f-9bf86b9f2227"
      },
      "source": [
        "for i in range(len(dataset)):\n",
        "    if dataset.labels[i]['age'] in age_number:\n",
        "        age_number[dataset.labels[i]['age']] += 1\n",
        "    \n",
        "age_number"
      ],
      "execution_count": 155,
      "outputs": [
        {
          "output_type": "execute_result",
          "data": {
            "text/plain": [
              "{1: 1,\n",
              " 2: 0,\n",
              " 3: 8,\n",
              " 4: 2,\n",
              " 5: 4,\n",
              " 6: 8,\n",
              " 7: 11,\n",
              " 8: 8,\n",
              " 9: 6,\n",
              " 10: 13,\n",
              " 11: 20,\n",
              " 12: 14,\n",
              " 13: 22,\n",
              " 14: 23,\n",
              " 15: 43,\n",
              " 16: 52,\n",
              " 17: 82,\n",
              " 18: 120,\n",
              " 19: 110,\n",
              " 20: 161,\n",
              " 21: 163,\n",
              " 22: 183,\n",
              " 23: 212,\n",
              " 24: 259,\n",
              " 25: 284,\n",
              " 26: 275,\n",
              " 27: 304,\n",
              " 28: 347,\n",
              " 29: 313,\n",
              " 30: 385,\n",
              " 31: 316,\n",
              " 32: 378,\n",
              " 33: 338,\n",
              " 34: 362,\n",
              " 35: 413,\n",
              " 36: 347,\n",
              " 37: 370,\n",
              " 38: 382,\n",
              " 39: 321,\n",
              " 40: 386,\n",
              " 41: 320,\n",
              " 42: 356,\n",
              " 43: 325,\n",
              " 44: 281,\n",
              " 45: 342,\n",
              " 46: 287,\n",
              " 47: 289,\n",
              " 48: 311,\n",
              " 49: 267,\n",
              " 50: 317,\n",
              " 51: 287,\n",
              " 52: 310,\n",
              " 53: 250,\n",
              " 54: 258,\n",
              " 55: 294,\n",
              " 56: 227,\n",
              " 57: 243,\n",
              " 58: 246,\n",
              " 59: 213,\n",
              " 60: 245,\n",
              " 61: 207,\n",
              " 62: 238,\n",
              " 63: 218,\n",
              " 64: 193,\n",
              " 65: 231,\n",
              " 66: 177,\n",
              " 67: 177,\n",
              " 68: 215,\n",
              " 69: 150,\n",
              " 70: 216,\n",
              " 71: 145,\n",
              " 72: 175,\n",
              " 73: 156,\n",
              " 74: 138,\n",
              " 75: 158,\n",
              " 76: 109,\n",
              " 77: 104,\n",
              " 78: 106,\n",
              " 79: 76,\n",
              " 80: 91,\n",
              " 81: 76,\n",
              " 82: 68,\n",
              " 83: 57,\n",
              " 84: 43,\n",
              " 85: 58,\n",
              " 86: 35,\n",
              " 87: 30,\n",
              " 88: 21,\n",
              " 89: 19,\n",
              " 90: 19,\n",
              " 91: 17,\n",
              " 92: 11,\n",
              " 93: 15,\n",
              " 94: 7,\n",
              " 95: 9,\n",
              " 96: 2,\n",
              " 97: 1,\n",
              " 98: 2,\n",
              " 99: 1,\n",
              " 100: 2,\n",
              " 101: 1}"
            ]
          },
          "metadata": {
            "tags": []
          },
          "execution_count": 155
        }
      ]
    },
    {
      "cell_type": "code",
      "metadata": {
        "colab": {
          "base_uri": "https://localhost:8080/",
          "height": 295
        },
        "id": "qdaVWdbOVnYv",
        "outputId": "95106a09-b524-49e1-dcf9-6b8aaf2001dd"
      },
      "source": [
        "age_amount = age_number.items()\n",
        "x, y = zip(*age_amount)\n",
        "\n",
        "plt.plot(x, y)\n",
        "plt.title(\"Images per Age\")\n",
        "plt.xlabel(\"Age\")\n",
        "plt.ylabel(\"Number of Images\")\n",
        "\n",
        "plt.grid()\n",
        "plt.show()  "
      ],
      "execution_count": 156,
      "outputs": [
        {
          "output_type": "display_data",
          "data": {
            "image/png": "[encoded data removed]",
            "text/plain": [
              "<Figure size 432x288 with 1 Axes>"
            ]
          },
          "metadata": {
            "tags": [],
            "needs_background": "light"
          }
        }
      ]
    },
    {
      "cell_type": "code",
      "metadata": {
        "colab": {
          "base_uri": "https://localhost:8080/",
          "height": 265
        },
        "id": "OQAIFkFh8l6L",
        "outputId": "22862ace-dcfc-4fd9-dcdb-2cf83be37b3d"
      },
      "source": [
        "plt.hist(y)\n",
        "plt.show() "
      ],
      "execution_count": 157,
      "outputs": [
        {
          "output_type": "display_data",
          "data": {
            "image/png": "[encoded data removed]",
            "text/plain": [
              "<Figure size 432x288 with 1 Axes>"
            ]
          },
          "metadata": {
            "tags": [],
            "needs_background": "light"
          }
        }
      ]
    },
    {
      "cell_type": "code",
      "metadata": {
        "colab": {
          "base_uri": "https://localhost:8080/"
        },
        "id": "6hffodIqcKH0",
        "outputId": "4102a28c-0adb-4b5e-aa73-05847be90f78"
      },
      "source": [
        "dataset.labels[i]['gender']"
      ],
      "execution_count": 158,
      "outputs": [
        {
          "output_type": "execute_result",
          "data": {
            "text/plain": [
              "0"
            ]
          },
          "metadata": {
            "tags": []
          },
          "execution_count": 158
        }
      ]
    },
    {
      "cell_type": "code",
      "metadata": {
        "colab": {
          "base_uri": "https://localhost:8080/"
        },
        "id": "gPvTnPElOzVS",
        "outputId": "d7d5e3ee-e671-448f-c806-289937942377"
      },
      "source": [
        "num_gender = {0: 0, 1: 0}\n",
        "for i in range(len(dataset)):                         # {'m': 0, 'f': 1}\n",
        "    if dataset.labels[i]['gender'] in num_gender:\n",
        "        num_gender[dataset.labels[i]['gender']] += 1\n",
        "    \n",
        "num_gender"
      ],
      "execution_count": 159,
      "outputs": [
        {
          "output_type": "execute_result",
          "data": {
            "text/plain": [
              "{0: 9788, 1: 6700}"
            ]
          },
          "metadata": {
            "tags": []
          },
          "execution_count": 159
        }
      ]
    },
    {
      "cell_type": "code",
      "metadata": {
        "colab": {
          "base_uri": "https://localhost:8080/",
          "height": 281
        },
        "id": "2l1xCL8MdKdV",
        "outputId": "929999a7-b211-43b1-beac-908026e63bd2"
      },
      "source": [
        "gender_amount = num_gender.items()\n",
        "_, y = zip(*gender_amount)\n",
        "\n",
        "plt.title(\"Images per Gender\")\n",
        "\n",
        "plt.grid()\n",
        "plt.bar(['Male', 'Female'], y, width = 0.1)\n",
        "plt.show()  "
      ],
      "execution_count": 160,
      "outputs": [
        {
          "output_type": "display_data",
          "data": {
            "image/png": "[encoded data removed]",
            "text/plain": [
              "<Figure size 432x288 with 1 Axes>"
            ]
          },
          "metadata": {
            "tags": [],
            "needs_background": "light"
          }
        }
      ]
    },
    {
      "cell_type": "code",
      "metadata": {
        "colab": {
          "base_uri": "https://localhost:8080/",
          "height": 264
        },
        "id": "bNokrDSRgAtw",
        "outputId": "7a022c7b-5d57-4432-cbbe-7f1639504fc1"
      },
      "source": [
        "gender_amount = num_gender.items()\n",
        "_, y = zip(*gender_amount)\n",
        "\n",
        "plt.title(\"Images per Gender\")\n",
        "mylabels = [\"Male\", \"Female\"]\n",
        "myexplode = [0.03, 0]\n",
        "\n",
        "plt.grid()\n",
        "plt.pie(y, labels = mylabels, explode = myexplode, autopct='%1.2f%%')\n",
        "plt.show() "
      ],
      "execution_count": 161,
      "outputs": [
        {
          "output_type": "display_data",
          "data": {
            "image/png": "[encoded data removed]",
            "text/plain": [
              "<Figure size 432x288 with 1 Axes>"
            ]
          },
          "metadata": {
            "tags": []
          }
        }
      ]
    },
    {
      "cell_type": "code",
      "metadata": {
        "colab": {
          "base_uri": "https://localhost:8080/"
        },
        "id": "jEfq6xzLIyoh",
        "outputId": "599403f3-8fe0-4646-a05f-d7f104bc99d2"
      },
      "source": [
        "people = []\n",
        "for i in range(len(dataset)):\n",
        "    if dataset.labels[i]['person'] not in people:\n",
        "        people.append(dataset.labels[i]['person'])\n",
        "sorted(people)"
      ],
      "execution_count": 164,
      "outputs": [
        {
          "output_type": "execute_result",
          "data": {
            "text/plain": [
              "['AbeVigoda',\n",
              " 'AdolfHitlerr',\n",
              " 'AlCorley',\n",
              " 'AlKapone',\n",
              " 'AlPacino',\n",
              " 'AlainDelon',\n",
              " 'AlanRickman',\n",
              " 'AlanYoung',\n",
              " 'AlbertCamus',\n",
              " 'AlbertSchweitzer',\n",
              " 'AlbertoSordi',\n",
              " 'AlecGuinness',\n",
              " 'AlejandroRey',\n",
              " 'AlexanderGrahamBell',\n",
              " 'AlexandrakisAlekos',\n",
              " 'AliMacGraw',\n",
              " 'AlikiBoug',\n",
              " 'AmandaBlake',\n",
              " 'AmandaRedman',\n",
              " 'AndreMarieAmpКre',\n",
              " 'AndreasPapantreou',\n",
              " 'AndyGriffith',\n",
              " 'AngelaLansbury',\n",
              " 'AngieDickinson',\n",
              " 'AnitaEkberg',\n",
              " 'AnjelicaHuston',\n",
              " 'AnnJillian',\n",
              " 'AnnMargret',\n",
              " 'AnnMiller',\n",
              " 'AnnaMassey',\n",
              " 'AnneBancroft',\n",
              " 'AnneBaxter',\n",
              " 'AnnetteBening',\n",
              " 'AnnieGirardot',\n",
              " 'AnthonyAndrews',\n",
              " 'AnthonyHopkins',\n",
              " 'AnthonyPerkins',\n",
              " 'AnthonyQuayle',\n",
              " 'Arletty',\n",
              " 'ArmandAssante',\n",
              " 'ArnoldSchwarzenegger',\n",
              " 'AudreyHepburn',\n",
              " 'AvaGardner',\n",
              " 'BarbaraBain',\n",
              " 'BarbaraBouchet',\n",
              " 'BarbaraStanwyck',\n",
              " 'BarbraStreisand',\n",
              " 'BeaArthur',\n",
              " 'BenGazzara',\n",
              " 'BernadetteLafont',\n",
              " 'BerryGordy',\n",
              " 'BertrandRussell',\n",
              " 'BetteDavis',\n",
              " 'BetteMidler',\n",
              " 'BettyGarrett',\n",
              " 'BettyGrable',\n",
              " 'BeverlyRoberts',\n",
              " 'BillCosby',\n",
              " 'BillMurray',\n",
              " 'BillNighy',\n",
              " 'BoDerek',\n",
              " 'BobDylan',\n",
              " 'BobHope',\n",
              " 'BonnieHunt',\n",
              " 'Bono',\n",
              " 'BorisKarloff',\n",
              " 'BrianDennehy',\n",
              " 'BruceWillis',\n",
              " 'BurtLancaster',\n",
              " 'BurtReynolds',\n",
              " 'CHARLIERUGGLES',\n",
              " 'CarlMarx',\n",
              " 'CarlSagan',\n",
              " 'CarlosSantana',\n",
              " 'Carroll',\n",
              " 'CaryGrant',\n",
              " 'CatherineDeneuve',\n",
              " 'CatherineSchell',\n",
              " 'CatherineSpaak',\n",
              " 'CelesteHolm',\n",
              " 'CharlesBoyer',\n",
              " 'CharlesBronson',\n",
              " 'CharlesDarwin',\n",
              " 'CharlesGrodin',\n",
              " 'CharlieChaplin',\n",
              " 'CharlieSheen',\n",
              " 'CharltonHeaston',\n",
              " 'ChevyChase',\n",
              " 'ChristopherEccleston',\n",
              " 'ChristopherPlummer',\n",
              " 'ChristopherWalken',\n",
              " 'ChuckNorris',\n",
              " 'ClarkGable',\n",
              " 'ClaudeLВviStrauss',\n",
              " 'ClaudeRich',\n",
              " 'ClaudetteColbert',\n",
              " 'ClaudiaCardinale',\n",
              " 'ClerkMaxwell',\n",
              " 'CliffRobertson',\n",
              " 'ClintEastwood',\n",
              " 'ClintWalker',\n",
              " 'ConnieBooth',\n",
              " 'ConradHilton',\n",
              " 'CybillShepherd',\n",
              " 'CydCharisse',\n",
              " 'CyndiLauper',\n",
              " 'DaliahLavi',\n",
              " 'DanaAndrews',\n",
              " 'DanielleDarrieux',\n",
              " 'DannyDeVito',\n",
              " 'DannyGlover',\n",
              " 'DavidCarradine',\n",
              " 'DavidMcCallum',\n",
              " 'DavidNiven',\n",
              " 'DavidSarnoff',\n",
              " 'Davis',\n",
              " 'DebbieReynolds',\n",
              " 'DeborahKerr',\n",
              " 'DebraPaget',\n",
              " 'Dee',\n",
              " 'Dench',\n",
              " 'DenzelWashington',\n",
              " 'DerekJacobi',\n",
              " 'DianneWiest',\n",
              " 'DickVanDyke',\n",
              " 'DickieMoore',\n",
              " 'DirkBogarde',\n",
              " 'DonJohnson',\n",
              " 'DonnaDouglas',\n",
              " 'DonnaReed',\n",
              " 'DorisDay',\n",
              " 'DustinHoffman',\n",
              " 'DyanCannon',\n",
              " 'EdHarris',\n",
              " 'EdwardFox',\n",
              " 'EdwardGRobinson',\n",
              " 'EdwardTeller',\n",
              " 'EdwigeFenech',\n",
              " 'Einstain',\n",
              " 'ElVenizelos',\n",
              " 'EliWallach',\n",
              " 'ElizabethTaylor',\n",
              " 'ElkeSommer',\n",
              " 'EllenBurstyn',\n",
              " 'ElliottGould',\n",
              " 'ElsaMartinelli',\n",
              " 'ElvisPresley',\n",
              " 'EmmaThompson',\n",
              " 'EnricoFermi',\n",
              " 'ErinGray',\n",
              " 'ErnestBorgnine',\n",
              " 'ErnestHemingway',\n",
              " 'ErnestRutherford',\n",
              " 'ErrolFlynn',\n",
              " 'EsteeLauder',\n",
              " 'EstherWilliams',\n",
              " 'EvaMarieSaint',\n",
              " 'FaradayMichael',\n",
              " 'FayeDunaway',\n",
              " 'Fernandel',\n",
              " 'FernandoRey',\n",
              " 'FessParker',\n",
              " 'FidelCastro',\n",
              " 'FlemingAlex',\n",
              " 'Fotopoulos',\n",
              " 'FrancesDee',\n",
              " 'FrancescaAnnis',\n",
              " 'FrankSinatra',\n",
              " 'FranklinDRoosevelt',\n",
              " 'FredAstaire',\n",
              " 'FredMacMurray',\n",
              " 'FrederickSanger',\n",
              " 'FriedrichNietzsche',\n",
              " 'GabrielGarciaMarquez',\n",
              " 'Gaddafi',\n",
              " 'GalileoGalilei',\n",
              " 'GaryOldman',\n",
              " 'Garycooper',\n",
              " 'GenaRowlands',\n",
              " 'GeneHackman',\n",
              " 'GeneWilder',\n",
              " 'GeorgeCScott',\n",
              " 'GeorgeHWBush',\n",
              " 'GeorgeMontgomery',\n",
              " 'GeorgePeppard',\n",
              " 'GeorgesMarchal',\n",
              " 'GeraldineChaplin',\n",
              " 'GeraldinePage',\n",
              " 'GilbertRoland',\n",
              " 'GingerRogers',\n",
              " 'GiorgosSeferis',\n",
              " 'GiulianoGemma',\n",
              " 'GladysCooper',\n",
              " 'GlendaJackson',\n",
              " 'GlennClose',\n",
              " 'GloriaSwanson',\n",
              " 'GoldieHawn',\n",
              " 'Gorbachev',\n",
              " 'GordonThomson',\n",
              " 'GraceKelly',\n",
              " 'GreerGarson',\n",
              " 'GregorMendel',\n",
              " 'GregoryPeck',\n",
              " 'GretaGarbo',\n",
              " 'HarrisonFord',\n",
              " 'HarrySTruman',\n",
              " 'HarveyKeitel',\n",
              " 'HatzidakisManos',\n",
              " 'HedyLamarr',\n",
              " 'HeinrichHertz',\n",
              " 'HelenHayes',\n",
              " 'HelenHunt',\n",
              " 'HelmutBerger',\n",
              " 'HenryFonda',\n",
              " 'HerbertLom',\n",
              " 'HorstBuchholz',\n",
              " 'Houston',\n",
              " 'HowardKeel',\n",
              " 'HumphreyBogard',\n",
              " 'IanHolm',\n",
              " 'IanMcKellen',\n",
              " 'IlyaPrigogine',\n",
              " 'ImeldaStaunton',\n",
              " 'IngridBergman',\n",
              " 'IreneDunne',\n",
              " 'IsabelleAdjani',\n",
              " 'IsabelleHuppert',\n",
              " 'JPMorgan',\n",
              " 'JPaulGetty',\n",
              " 'JWMarriott',\n",
              " 'JackColeman',\n",
              " 'JackLarson',\n",
              " 'JackLemon',\n",
              " 'JackNicolson',\n",
              " 'JamesArness',\n",
              " 'JamesBest',\n",
              " 'JamesCaan',\n",
              " 'JamesCagney',\n",
              " 'JamesCoburn',\n",
              " 'JamesGarner',\n",
              " 'JamesStewart',\n",
              " 'JamesWoods',\n",
              " 'JamieLeeCurtis',\n",
              " 'JaneAsher',\n",
              " 'JaneBirkin',\n",
              " 'JaneFonda',\n",
              " 'JanePowell',\n",
              " 'JaneRussell',\n",
              " 'JaneWyman',\n",
              " 'JanetEllis',\n",
              " 'JanetGaynor',\n",
              " 'JanetLeigh',\n",
              " 'JeanClaudeVanDamme',\n",
              " 'JeanGabin',\n",
              " 'JeanMarais',\n",
              " 'JeanPaulBelmondo',\n",
              " 'JeanPeters',\n",
              " 'JeanetteMacDonald',\n",
              " 'JeanneMoreau',\n",
              " 'JeffBridges',\n",
              " 'JeffDaniels',\n",
              " 'JeffGoldblum',\n",
              " 'JeffreyJones',\n",
              " 'JenniferAniston',\n",
              " 'JenniferJones',\n",
              " 'JeremyKemp',\n",
              " 'JerryLewis',\n",
              " 'JessicaTandy',\n",
              " 'JhonLenon',\n",
              " 'JoanCollins',\n",
              " 'JoanCrawford',\n",
              " 'JoanCusack',\n",
              " 'JoanFontaine',\n",
              " 'JoanLeslie',\n",
              " 'JoanLorring',\n",
              " 'JoanneWoodward',\n",
              " 'JodieFoster',\n",
              " 'JohnCassavetes',\n",
              " 'JohnCleese',\n",
              " 'JohnDRockefeller',\n",
              " 'JohnDerek',\n",
              " 'JohnForsythe',\n",
              " 'JohnGarfield',\n",
              " 'JohnHuston',\n",
              " 'JohnJames',\n",
              " 'JohnLithgow',\n",
              " 'JohnMalkovich',\n",
              " 'JohnTravolta',\n",
              " 'JohnVernon',\n",
              " 'JohnWayne',\n",
              " 'JohnnyCash',\n",
              " 'JonFinch',\n",
              " 'JonVoight',\n",
              " 'JosephCotten',\n",
              " 'JosephStalin',\n",
              " 'JudyDavis',\n",
              " 'JudyGarland',\n",
              " 'JudyHolliday',\n",
              " 'JuliaRoberts',\n",
              " 'JulieAdams',\n",
              " 'JulieAndrews',\n",
              " 'JulieBishop',\n",
              " 'JulieChristie',\n",
              " 'JulieHagerty',\n",
              " 'JuneAllyson',\n",
              " 'JuneLockhart',\n",
              " 'KateOMara',\n",
              " 'KatharineHepburn',\n",
              " 'KatharineRoss',\n",
              " 'KathleenTurner',\n",
              " 'KathrynGrayson',\n",
              " 'KathrynHays',\n",
              " 'KathyBates',\n",
              " 'KennethBranagh',\n",
              " 'KevinBacon',\n",
              " 'KevinCostner',\n",
              " 'KevinSpacey',\n",
              " 'KimBasinger',\n",
              " 'KimNovak',\n",
              " 'KirkDouglas',\n",
              " 'KlausKinski',\n",
              " 'Konstantaras',\n",
              " 'KostasVoutsas',\n",
              " 'KostasXatzixristos',\n",
              " 'KrisKristofferson',\n",
              " 'KristinScottThomas',\n",
              " 'LarryEllison',\n",
              " 'LauraAntonelli',\n",
              " 'LauraDern',\n",
              " 'LaurenBacall',\n",
              " 'LawrenceTierney',\n",
              " 'LeeJCobb',\n",
              " 'LeifErickson',\n",
              " 'LelandStanford',\n",
              " 'LeslieCaron',\n",
              " 'LeslieNielsen',\n",
              " 'LexBarker',\n",
              " 'LiamNeeson',\n",
              " 'LilliPalmer',\n",
              " 'LindaEvans',\n",
              " 'LindsayWagner',\n",
              " 'LinoVentura',\n",
              " 'LivUllmann',\n",
              " 'LizaMinelli',\n",
              " 'LorettaYoung',\n",
              " 'LorneGreene',\n",
              " 'LouCostello',\n",
              " 'LouisJourdan',\n",
              " 'LuiseRainer',\n",
              " 'LyleTalbot',\n",
              " 'MaggieSmith',\n",
              " 'MarcelloMastroianni',\n",
              " 'MargaretNolan',\n",
              " 'MargaretOBrien',\n",
              " 'MargaretThatcher',\n",
              " 'MargeChampion',\n",
              " 'MariaCallas',\n",
              " 'MarieCurie',\n",
              " 'MarietteHartley',\n",
              " 'MarisaPavan',\n",
              " 'MarleneDietrich',\n",
              " 'MarlonBrando',\n",
              " 'MartinLutherKing',\n",
              " 'MartinScorsese',\n",
              " 'MartinSheen',\n",
              " 'MaryPickford',\n",
              " 'MaryTamm',\n",
              " 'MaryTylerMoore',\n",
              " 'MaureenOHara',\n",
              " 'MaximilianShell',\n",
              " 'MegRyan',\n",
              " 'MelBrooks',\n",
              " 'MelFerrer',\n",
              " 'MelGibson',\n",
              " 'MelindaDillion',\n",
              " 'MendeleievDmitri',\n",
              " 'MerkouriMelina',\n",
              " 'MerylStreep',\n",
              " 'MichaelBloomberg',\n",
              " 'MichaelCaine',\n",
              " 'MichaelKeaton',\n",
              " 'MichaelPalin',\n",
              " 'MichaelSarrazin',\n",
              " 'MichaelYork',\n",
              " 'MichelPiccoli',\n",
              " 'MichellePfeiffer',\n",
              " 'MickJagger',\n",
              " 'MickeyRooney',\n",
              " 'MikeConnors',\n",
              " 'MireilleDarc',\n",
              " 'MonicaVitti',\n",
              " 'MorganFreeman ',\n",
              " 'Mparkoulis',\n",
              " 'MuhammadAli',\n",
              " 'MurrayHamilton',\n",
              " 'MylКneDemongeot',\n",
              " 'MyrnaLoy',\n",
              " 'NeildeGrasseTyson ',\n",
              " 'NelsonMandela',\n",
              " 'NewmanPaul',\n",
              " 'NickNolte',\n",
              " 'NicolasSarkozy',\n",
              " 'NielsBohr',\n",
              " 'NormaShearer',\n",
              " 'OdysseasElytis',\n",
              " 'OliviaHussey',\n",
              " 'OliviadeHavilland',\n",
              " 'OmarSharif',\n",
              " 'Onasis',\n",
              " 'OrnellaMuti',\n",
              " 'OrsonWelles',\n",
              " 'PabloPicasso',\n",
              " 'PamelaSueMartin',\n",
              " 'PatriciaNeal',\n",
              " 'PatrickStewart',\n",
              " 'PatrickSwayze',\n",
              " 'PaulAnka',\n",
              " 'PaulmcCartney',\n",
              " 'PeggyAshcroft',\n",
              " 'PeggyLipton',\n",
              " 'Pele',\n",
              " 'PeterFalk',\n",
              " 'PeterFonda',\n",
              " 'PeterGraves',\n",
              " 'PeterMarkRichman',\n",
              " 'PeterOToole',\n",
              " 'PeterSellers',\n",
              " 'PeterUstinov',\n",
              " 'PhilHartman',\n",
              " 'PiaLindstrom',\n",
              " 'PierceBrosnan',\n",
              " 'QueenElizabet',\n",
              " 'RabindranathTagore',\n",
              " 'RafVallone',\n",
              " 'RalphMacchio',\n",
              " 'RandolphScott',\n",
              " 'RaquelWelch',\n",
              " 'RayDanton',\n",
              " 'RayLiotta',\n",
              " 'ReginaldOwen',\n",
              " 'RexHarrison',\n",
              " 'RicardoMontalbаn',\n",
              " 'RichardAttenborough',\n",
              " 'RichardBoone',\n",
              " 'RichardBurton',\n",
              " 'RichardChamberlain',\n",
              " 'RichardCrenna',\n",
              " 'RichardPryor',\n",
              " 'RingoStarr',\n",
              " 'RitaHayworth',\n",
              " 'RitaLeviMontalcini',\n",
              " 'RobertDeNiro',\n",
              " 'RobertDuvall',\n",
              " 'RobertMitchum',\n",
              " 'RobertMorley',\n",
              " 'RobertOppenheimer',\n",
              " 'RobertPowell',\n",
              " 'RobertRedford',\n",
              " 'RobertRyan',\n",
              " 'RockHudson',\n",
              " 'RodTaylor',\n",
              " 'RogerAllam',\n",
              " 'RogerMoore',\n",
              " 'RomanPolanski',\n",
              " 'RomySchneider',\n",
              " 'RonPerlman',\n",
              " 'RonaldReagan',\n",
              " 'RoseMarie',\n",
              " 'Ross',\n",
              " 'RowanAtkinson',\n",
              " 'RoyRogers',\n",
              " 'RoyScheider',\n",
              " 'RutgerHauer',\n",
              " 'RuthGordon',\n",
              " 'RyanONeal',\n",
              " 'SamElliott',\n",
              " 'SamNeill',\n",
              " 'SamuelJacksonn',\n",
              " 'SarahDouglas',\n",
              " 'SartreJeanPaul',\n",
              " 'ScottGlenn',\n",
              " 'SeanConnery',\n",
              " 'SerenaWilliams',\n",
              " 'ShelleyWinters',\n",
              " 'ShirleyJones',\n",
              " 'ShirleyMacLaine',\n",
              " 'SidneyPoitier',\n",
              " 'SigourneyWeaver',\n",
              " 'SilvanaMangano',\n",
              " 'SimonMacCorkindale',\n",
              " 'SimoneSignoret',\n",
              " 'Soljenitsyne',\n",
              " 'SophiaLoren',\n",
              " 'SpencerTracy',\n",
              " 'StacyKeach',\n",
              " 'StefaniePowers',\n",
              " 'StephenHawking',\n",
              " 'SteveJobsb',\n",
              " 'SteveKanaly',\n",
              " 'SteveMartin',\n",
              " 'SteveMcQueen',\n",
              " 'StevenBerkoff',\n",
              " 'StevenSeagal',\n",
              " 'StevenSpielberg',\n",
              " 'StВphaneAudran',\n",
              " 'SusanGeorge',\n",
              " 'SusanHayward',\n",
              " 'SusanSarandon',\n",
              " 'SusannahYork',\n",
              " 'SylvesterStallone',\n",
              " 'TanyaRoberts',\n",
              " 'TellySavalas',\n",
              " 'TerryMoore',\n",
              " 'Thanasisveggos',\n",
              " 'ThelmaRitter',\n",
              " 'TheodorakisMikis',\n",
              " 'TheodoreRoosevelt',\n",
              " 'ThomasTerry',\n",
              " 'TildaSwinton',\n",
              " 'TimCurry',\n",
              " 'TimothyDalton',\n",
              " 'TippiHedren',\n",
              " 'TomHanks',\n",
              " 'TomHulce',\n",
              " 'TomJones',\n",
              " 'TomasMilian',\n",
              " 'TommyLeeJones',\n",
              " 'TommySands',\n",
              " 'TonyBlair',\n",
              " 'TonyCurtis',\n",
              " 'Turner',\n",
              " 'Tyson',\n",
              " 'UgoTognazzi',\n",
              " 'UrsulaAndress',\n",
              " 'ValerieHarper',\n",
              " 'VanessaRedgrave',\n",
              " 'VeraEllen',\n",
              " 'VeronicaLake',\n",
              " 'VictorMature',\n",
              " 'VincentPrice',\n",
              " 'VirnaLisi',\n",
              " 'VittorioGassman',\n",
              " 'VivienLeigh',\n",
              " 'WEBDuBois',\n",
              " 'WaltDisney',\n",
              " 'WalterPidgeon',\n",
              " 'WarrenBeatty',\n",
              " 'WillSmith ',\n",
              " 'WilliamDafoe',\n",
              " 'WilliamHolden',\n",
              " 'WilliamShatner',\n",
              " 'WinstonChurchill',\n",
              " 'WoodyAllen',\n",
              " 'YannisRitsos',\n",
              " 'YvesMontand',\n",
              " 'YvonneDeCarlo',\n",
              " 'ZsaZsaGabor',\n",
              " 'akistsoxatzopoulos',\n",
              " 'angelamerkel',\n",
              " 'cambell',\n",
              " 'campbell',\n",
              " 'mahatmagandhi',\n",
              " 'merrillcharles',\n",
              " 'michaeljackson',\n",
              " 'mitsotakis',\n",
              " 'motherTereza',\n",
              " 'tomselleck']"
            ]
          },
          "metadata": {
            "tags": []
          },
          "execution_count": 164
        }
      ]
    },
    {
      "cell_type": "code",
      "metadata": {
        "colab": {
          "base_uri": "https://localhost:8080/"
        },
        "id": "VkuZ9POAl6di",
        "outputId": "8490b904-91b9-497f-d4af-8d87f46c7674"
      },
      "source": [
        "len(people)"
      ],
      "execution_count": 165,
      "outputs": [
        {
          "output_type": "execute_result",
          "data": {
            "text/plain": [
              "567"
            ]
          },
          "metadata": {
            "tags": []
          },
          "execution_count": 165
        }
      ]
    },
    {
      "cell_type": "code",
      "metadata": {
        "id": "sVseFCCXB3pO"
      },
      "source": [
        "# Image per age X\n",
        "# Image per gender X\n",
        "# Image per person \n",
        "# Age per gemder per image\n",
        "# Age per person per image\n",
        "# "
      ],
      "execution_count": 162,
      "outputs": []
    }
  ]
}