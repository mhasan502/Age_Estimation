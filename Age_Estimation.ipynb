{
  "nbformat": 4,
  "nbformat_minor": 0,
  "metadata": {
    "colab": {
      "name": "Age_Estimation.ipynb",
      "provenance": [],
      "authorship_tag": "ABX9TyPmmqiH9pjYyIqfSh3ujJkT",
      "include_colab_link": true
    },
    "kernelspec": {
      "name": "python3",
      "display_name": "Python 3"
    },
    "language_info": {
      "name": "python"
    }
  },
  "cells": [
    {
      "cell_type": "markdown",
      "metadata": {
        "id": "view-in-github",
        "colab_type": "text"
      },
      "source": [
        "<a href=\"https://colab.research.google.com/github/mhasan502/Age_Estimation/blob/master/Age_Estimation.ipynb\" target=\"_parent\"><img src=\"https://colab.research.google.com/assets/colab-badge.svg\" alt=\"Open In Colab\"/></a>"
      ]
    },
    {
      "cell_type": "markdown",
      "metadata": {
        "id": "DyImaSzyRAwq"
      },
      "source": [
        "# custom_loader"
      ]
    },
    {
      "cell_type": "code",
      "metadata": {
        "colab": {
          "base_uri": "https://localhost:8080/"
        },
        "id": "i4oVz83oOP7S",
        "outputId": "4b148707-bacc-4906-a3fa-114bb2c077c2"
      },
      "source": [
        "!pip install parse"
      ],
      "execution_count": 2,
      "outputs": [
        {
          "output_type": "stream",
          "text": [
            "Collecting parse\n",
            "  Downloading parse-1.19.0.tar.gz (30 kB)\n",
            "Building wheels for collected packages: parse\n",
            "  Building wheel for parse (setup.py) ... \u001b[?25l\u001b[?25hdone\n",
            "  Created wheel for parse: filename=parse-1.19.0-py3-none-any.whl size=24591 sha256=fc101015c983b5d72c599f801b2874e96c215cf5fb2386286b956a03dda36381\n",
            "  Stored in directory: /root/.cache/pip/wheels/9c/aa/cc/f2228050ccb40f22144b073f15a2c84f11204f29fc0dce028e\n",
            "Successfully built parse\n",
            "Installing collected packages: parse\n",
            "Successfully installed parse-1.19.0\n"
          ],
          "name": "stdout"
        }
      ]
    },
    {
      "cell_type": "code",
      "metadata": {
        "id": "DhncBiQYoMy2"
      },
      "source": [
        "import os\n",
        "import sys\n",
        "import torch\n",
        "from PIL import Image\n",
        "from parse import parse\n",
        "from torch.utils.data import DataLoader, Dataset"
      ],
      "execution_count": 3,
      "outputs": []
    },
    {
      "cell_type": "code",
      "metadata": {
        "id": "lv1i-ZpPOoUz"
      },
      "source": [
        "class AgeDBHandler:\n",
        "    def __init__(self, datasets_dir, preload=False, use_preprocessed=True, device: torch.device = torch.device('cpu')):\n",
        "        self.device = device\n",
        "        self.preload = preload\n",
        "\n",
        "        self.datasets_dir = datasets_dir\n",
        "        self.directory = os.path.join(datasets_dir, 'AgeDB')\n",
        "\n",
        "        self.trainDataset = None\n",
        "        self.testDataset = None\n",
        "        self.validateDataset = None\n",
        "\n",
        "        self._prepare_on_disk()\n",
        "\n",
        "    def get_loaders(self, transform, train_size=0.7, validate_size=0.2, test_size=0.1, batch_size=15, **kwargs):\n",
        "        if round(train_size + validate_size + test_size, 1) > 1.0:\n",
        "            sys.exit(\"Sum of the percentages should be less than 1. it's \" +\n",
        "                     str(train_size + validate_size + test_size) + \" now!\")\n",
        "\n",
        "        dataset = AgeDBDataset(directory=self.directory,\n",
        "                               transform=transform,\n",
        "                               preload=self.preload,\n",
        "                               device=self.device,\n",
        "                               **kwargs)\n",
        "\n",
        "        train_len = int(len(dataset) * train_size)\n",
        "        validate_len = int(len(dataset) * validate_size)\n",
        "        test_len = int(len(dataset) * test_size)\n",
        "        others_len = len(dataset) - train_len - validate_len - test_len\n",
        "\n",
        "        self.trainDataset, self.validateDataset, self.testDataset, _ = torch.utils.data.random_split(\n",
        "            dataset, [train_len, validate_len, test_len, others_len])\n",
        "\n",
        "        # noinspection PyUnusedLocal\n",
        "        dataset = None\n",
        "\n",
        "        train_loader = DataLoader(self.trainDataset, batch_size=batch_size)\n",
        "        validate_loader = DataLoader(self.validateDataset, batch_size=batch_size)\n",
        "        test_loader = DataLoader(self.testDataset, batch_size=batch_size)\n",
        "\n",
        "        return train_loader, validate_loader, test_loader\n",
        "\n",
        "    def _prepare_on_disk(self):\n",
        "        if os.path.exists(self.directory):\n",
        "            if len(os.listdir(self.directory)) != 0:\n",
        "                print('AgeDB Already Exists on ' +\n",
        "                      self.directory + '.We will use it!')\n",
        "                return\n",
        "            \n",
        "        print('Could not find AgeDB on', self.directory)\n",
        "        print('Looking for ', self.zipFile)"
      ],
      "execution_count": 4,
      "outputs": []
    },
    {
      "cell_type": "code",
      "metadata": {
        "id": "7oAr4OxhOr9S"
      },
      "source": [
        "class AgeDBDataset(Dataset):\n",
        "    def __init__(self, directory, transform, preload=False, device: torch.device = torch.device('cpu'), **kwargs):\n",
        "        self.device = device\n",
        "        self.directory = directory if kwargs.get('usePreprocessed', 0) == 0 else os.path.join(directory, 'preProcessed')\n",
        "        self.transform = transform\n",
        "        gender_to_class_id = {'m': 0, 'f': 1}\n",
        "        self.labels = []\n",
        "        self.images = []\n",
        "        self.preload = preload\n",
        "\n",
        "        for i, file in enumerate(os.listdir(self.directory)):\n",
        "            if file.endswith(('_2.jpg', '_3.jpg')):  # TODO\n",
        "                continue\n",
        "            file_labels = parse('{}_{}_{age}_{gender}.jpg', file)\n",
        "            \n",
        "            if file_labels is None:\n",
        "                continue\n",
        "                \n",
        "            if self.preload:\n",
        "                image = Image.open(os.path.join(self.directory, file)).convert('RGB')\n",
        "                \n",
        "                if self.transform is not None:\n",
        "                    image = self.transform(image).to(self.device)\n",
        "            else:\n",
        "                image = os.path.join(self.directory, file)\n",
        "\n",
        "            self.images.append(image)\n",
        "            gender = gender_to_class_id[file_labels['gender']]\n",
        "            age = int(file_labels['age'])\n",
        "            self.labels.append({\n",
        "                'age': age,\n",
        "                'gender': gender\n",
        "            })\n",
        "        pass\n",
        "\n",
        "    def __len__(self):\n",
        "        return len(self.labels)\n",
        "\n",
        "    def __getitem__(self, idx):\n",
        "        if torch.is_tensor(idx):\n",
        "            idx = idx.tolist()\n",
        "\n",
        "        image = self.images[idx]\n",
        "\n",
        "        if not self.preload:\n",
        "            image = Image.open(image).convert('RGB')\n",
        "            if self.transform is not None:\n",
        "                image = self.transform(image).to(self.device)\n",
        "\n",
        "        labels = {\n",
        "            'age': self.labels[idx]['age'], \n",
        "            'gender': self.labels[idx]['gender']\n",
        "            }\n",
        "        return image.to(self.device), labels"
      ],
      "execution_count": 5,
      "outputs": []
    },
    {
      "cell_type": "markdown",
      "metadata": {
        "id": "sSyRs2ev4pd7"
      },
      "source": [
        "# Preprocessing"
      ]
    },
    {
      "cell_type": "code",
      "metadata": {
        "id": "djX4bEOrQPk7"
      },
      "source": [
        "from torch import nn\n",
        "from torchvision import datasets\n",
        "import torchvision\n",
        "from torchvision.transforms import ToTensor\n",
        "import matplotlib.pyplot as plt"
      ],
      "execution_count": 6,
      "outputs": []
    },
    {
      "cell_type": "code",
      "metadata": {
        "colab": {
          "base_uri": "https://localhost:8080/"
        },
        "id": "YWe2vtzS45kx",
        "outputId": "b1719732-161a-4b54-d2a5-c78d70755ae4"
      },
      "source": [
        "device = torch.device(\"cuda\") if torch.cuda.is_available() else torch.device(\"cpu\")\n",
        "device"
      ],
      "execution_count": 7,
      "outputs": [
        {
          "output_type": "execute_result",
          "data": {
            "text/plain": [
              "device(type='cpu')"
            ]
          },
          "metadata": {
            "tags": []
          },
          "execution_count": 7
        }
      ]
    },
    {
      "cell_type": "markdown",
      "metadata": {
        "id": "KuNwEzTRQmr6"
      },
      "source": [
        "## Loading Dataset"
      ]
    },
    {
      "cell_type": "code",
      "metadata": {
        "colab": {
          "base_uri": "https://localhost:8080/"
        },
        "id": "gq-Z6OzeZZgU",
        "outputId": "3a15d67b-33b0-437b-9ca6-3d8eb0fc2313"
      },
      "source": [
        "from google.colab import drive\n",
        "drive.mount('/content/gdrive')"
      ],
      "execution_count": 8,
      "outputs": [
        {
          "output_type": "stream",
          "text": [
            "Mounted at /content/gdrive\n"
          ],
          "name": "stdout"
        }
      ]
    },
    {
      "cell_type": "code",
      "metadata": {
        "id": "WwhQoytMQSI5"
      },
      "source": [
        "dataset = AgeDBDataset(\n",
        "    directory = '/content/gdrive/MyDrive/Colab Notebooks/AgeDBDataset/AgeDB',\n",
        "    transform = ToTensor(),\n",
        "    device = device\n",
        ")"
      ],
      "execution_count": 9,
      "outputs": []
    },
    {
      "cell_type": "markdown",
      "metadata": {
        "id": "l08dWwUNQahn"
      },
      "source": [
        "# Dataset Attributes"
      ]
    },
    {
      "cell_type": "code",
      "metadata": {
        "id": "mWbrU3L2QVTB",
        "colab": {
          "base_uri": "https://localhost:8080/"
        },
        "outputId": "b68fca20-ce7c-4b32-a557-ddb0e6895417"
      },
      "source": [
        "len(dataset)"
      ],
      "execution_count": 10,
      "outputs": [
        {
          "output_type": "execute_result",
          "data": {
            "text/plain": [
              "16488"
            ]
          },
          "metadata": {
            "tags": []
          },
          "execution_count": 10
        }
      ]
    },
    {
      "cell_type": "code",
      "metadata": {
        "colab": {
          "base_uri": "https://localhost:8080/"
        },
        "id": "9NO0Frjn-4Tc",
        "outputId": "cb53e9e2-92cc-42ba-d615-807c47c37b46"
      },
      "source": [
        "dataset[0]"
      ],
      "execution_count": 11,
      "outputs": [
        {
          "output_type": "execute_result",
          "data": {
            "text/plain": [
              "(tensor([[[0.4196, 0.4157, 0.4157,  ..., 0.5020, 0.4824, 0.4667],\n",
              "          [0.4196, 0.4196, 0.4157,  ..., 0.4980, 0.4745, 0.4588],\n",
              "          [0.4235, 0.4196, 0.4157,  ..., 0.4902, 0.4667, 0.4510],\n",
              "          ...,\n",
              "          [0.2549, 0.2588, 0.2627,  ..., 0.0627, 0.0627, 0.0667],\n",
              "          [0.2471, 0.2510, 0.2549,  ..., 0.0627, 0.0588, 0.0627],\n",
              "          [0.2392, 0.2431, 0.2471,  ..., 0.0627, 0.0588, 0.0627]],\n",
              " \n",
              "         [[0.3333, 0.3294, 0.3294,  ..., 0.4314, 0.4118, 0.3961],\n",
              "          [0.3333, 0.3333, 0.3294,  ..., 0.4275, 0.4039, 0.3882],\n",
              "          [0.3373, 0.3333, 0.3294,  ..., 0.4196, 0.3961, 0.3804],\n",
              "          ...,\n",
              "          [0.1961, 0.2000, 0.2039,  ..., 0.0667, 0.0667, 0.0706],\n",
              "          [0.1882, 0.1922, 0.1961,  ..., 0.0667, 0.0627, 0.0667],\n",
              "          [0.1804, 0.1843, 0.1882,  ..., 0.0667, 0.0627, 0.0667]],\n",
              " \n",
              "         [[0.2824, 0.2784, 0.2784,  ..., 0.3843, 0.3647, 0.3569],\n",
              "          [0.2824, 0.2824, 0.2784,  ..., 0.3804, 0.3569, 0.3490],\n",
              "          [0.2863, 0.2824, 0.2784,  ..., 0.3725, 0.3490, 0.3412],\n",
              "          ...,\n",
              "          [0.1843, 0.1882, 0.1922,  ..., 0.0824, 0.0824, 0.0863],\n",
              "          [0.1765, 0.1804, 0.1843,  ..., 0.0824, 0.0784, 0.0824],\n",
              "          [0.1686, 0.1725, 0.1765,  ..., 0.0824, 0.0784, 0.0824]]]),\n",
              " {'age': 32, 'gender': 1})"
            ]
          },
          "metadata": {
            "tags": []
          },
          "execution_count": 11
        }
      ]
    },
    {
      "cell_type": "code",
      "metadata": {
        "id": "DV5NQW5ZRZ83",
        "colab": {
          "base_uri": "https://localhost:8080/"
        },
        "outputId": "83a877a6-3d53-455d-e8da-27e185e5d582"
      },
      "source": [
        "type(dataset[0])"
      ],
      "execution_count": 12,
      "outputs": [
        {
          "output_type": "execute_result",
          "data": {
            "text/plain": [
              "tuple"
            ]
          },
          "metadata": {
            "tags": []
          },
          "execution_count": 12
        }
      ]
    },
    {
      "cell_type": "code",
      "metadata": {
        "id": "ljt3JQDvQW-J",
        "colab": {
          "base_uri": "https://localhost:8080/"
        },
        "outputId": "d29210b8-83b8-4b88-85e3-53f1feddfd6d"
      },
      "source": [
        "dataset.labels[0]"
      ],
      "execution_count": 13,
      "outputs": [
        {
          "output_type": "execute_result",
          "data": {
            "text/plain": [
              "{'age': 32, 'gender': 1}"
            ]
          },
          "metadata": {
            "tags": []
          },
          "execution_count": 13
        }
      ]
    },
    {
      "cell_type": "code",
      "metadata": {
        "colab": {
          "base_uri": "https://localhost:8080/"
        },
        "id": "gljRTyWyANru",
        "outputId": "278a5d0a-9b1e-4d5b-8885-dedfef609a9c"
      },
      "source": [
        "print(dataset.images[0])"
      ],
      "execution_count": 14,
      "outputs": [
        {
          "output_type": "stream",
          "text": [
            "/content/gdrive/MyDrive/Colab Notebooks/AgeDBDataset/AgeDB/15588_KateOMara_32_f.jpg\n"
          ],
          "name": "stdout"
        }
      ]
    },
    {
      "cell_type": "code",
      "metadata": {
        "colab": {
          "base_uri": "https://localhost:8080/",
          "height": 286
        },
        "id": "KkQADYC1AVEM",
        "outputId": "47910aa1-2481-4492-8af9-0f6da18d68c2"
      },
      "source": [
        "plt.figure()\n",
        "plt.imshow(plt.imread(dataset.images[0]))"
      ],
      "execution_count": 15,
      "outputs": [
        {
          "output_type": "execute_result",
          "data": {
            "text/plain": [
              "<matplotlib.image.AxesImage at 0x7f3ad0320490>"
            ]
          },
          "metadata": {
            "tags": []
          },
          "execution_count": 15
        },
        {
          "output_type": "display_data",
          "data": {
            "image/png": "[encoded data removed]",
            "text/plain": [
              "<Figure size 432x288 with 1 Axes>"
            ]
          },
          "metadata": {
            "tags": [],
            "needs_background": "light"
          }
        }
      ]
    },
    {
      "cell_type": "code",
      "metadata": {
        "id": "tyINdKGfAY4T"
      },
      "source": [
        "age = []\n",
        "gender = []\n",
        "for i in range(len(dataset)):\n",
        "    age.append(dataset.labels[i]['age'])\n",
        "    gender.append(dataset.labels[i]['gender'])"
      ],
      "execution_count": 16,
      "outputs": []
    },
    {
      "cell_type": "code",
      "metadata": {
        "colab": {
          "base_uri": "https://localhost:8080/"
        },
        "id": "4Vq87-6TAbFL",
        "outputId": "e8db669c-e4e4-4647-8285-90b26c8cc5fc"
      },
      "source": [
        "print(\"Highest Age Value: \"+str(max(age))+\"\\nLowest Age Value: \"+str(min(age)))"
      ],
      "execution_count": 17,
      "outputs": [
        {
          "output_type": "stream",
          "text": [
            "Highest Age Value: 101\n",
            "Lowest Age Value: 1\n"
          ],
          "name": "stdout"
        }
      ]
    },
    {
      "cell_type": "code",
      "metadata": {
        "colab": {
          "base_uri": "https://localhost:8080/",
          "height": 265
        },
        "id": "GQdTzFKXAeKS",
        "outputId": "378719cb-b478-4098-cc94-548416b03ba1"
      },
      "source": [
        "plt.plot(age)\n",
        "plt.show()"
      ],
      "execution_count": 25,
      "outputs": [
        {
          "output_type": "display_data",
          "data": {
            "image/png": "[encoded data removed]",
            "text/plain": [
              "<Figure size 432x288 with 1 Axes>"
            ]
          },
          "metadata": {
            "tags": [],
            "needs_background": "light"
          }
        }
      ]
    },
    {
      "cell_type": "code",
      "metadata": {
        "id": "9e2u96zKAhbN",
        "colab": {
          "base_uri": "https://localhost:8080/"
        },
        "outputId": "b950fdf8-6c2d-4fbc-e599-6eea853d32a3"
      },
      "source": [
        "listofzeros = [0] * len(dataset)\n",
        "same_age = [i for i in range(min(age), max(age) + 1)]\n",
        "\n",
        "age_number = dict(zip(same_age, listofzeros))\n",
        "age_number"
      ],
      "execution_count": 22,
      "outputs": [
        {
          "output_type": "execute_result",
          "data": {
            "text/plain": [
              "{1: 0,\n",
              " 2: 0,\n",
              " 3: 0,\n",
              " 4: 0,\n",
              " 5: 0,\n",
              " 6: 0,\n",
              " 7: 0,\n",
              " 8: 0,\n",
              " 9: 0,\n",
              " 10: 0,\n",
              " 11: 0,\n",
              " 12: 0,\n",
              " 13: 0,\n",
              " 14: 0,\n",
              " 15: 0,\n",
              " 16: 0,\n",
              " 17: 0,\n",
              " 18: 0,\n",
              " 19: 0,\n",
              " 20: 0,\n",
              " 21: 0,\n",
              " 22: 0,\n",
              " 23: 0,\n",
              " 24: 0,\n",
              " 25: 0,\n",
              " 26: 0,\n",
              " 27: 0,\n",
              " 28: 0,\n",
              " 29: 0,\n",
              " 30: 0,\n",
              " 31: 0,\n",
              " 32: 0,\n",
              " 33: 0,\n",
              " 34: 0,\n",
              " 35: 0,\n",
              " 36: 0,\n",
              " 37: 0,\n",
              " 38: 0,\n",
              " 39: 0,\n",
              " 40: 0,\n",
              " 41: 0,\n",
              " 42: 0,\n",
              " 43: 0,\n",
              " 44: 0,\n",
              " 45: 0,\n",
              " 46: 0,\n",
              " 47: 0,\n",
              " 48: 0,\n",
              " 49: 0,\n",
              " 50: 0,\n",
              " 51: 0,\n",
              " 52: 0,\n",
              " 53: 0,\n",
              " 54: 0,\n",
              " 55: 0,\n",
              " 56: 0,\n",
              " 57: 0,\n",
              " 58: 0,\n",
              " 59: 0,\n",
              " 60: 0,\n",
              " 61: 0,\n",
              " 62: 0,\n",
              " 63: 0,\n",
              " 64: 0,\n",
              " 65: 0,\n",
              " 66: 0,\n",
              " 67: 0,\n",
              " 68: 0,\n",
              " 69: 0,\n",
              " 70: 0,\n",
              " 71: 0,\n",
              " 72: 0,\n",
              " 73: 0,\n",
              " 74: 0,\n",
              " 75: 0,\n",
              " 76: 0,\n",
              " 77: 0,\n",
              " 78: 0,\n",
              " 79: 0,\n",
              " 80: 0,\n",
              " 81: 0,\n",
              " 82: 0,\n",
              " 83: 0,\n",
              " 84: 0,\n",
              " 85: 0,\n",
              " 86: 0,\n",
              " 87: 0,\n",
              " 88: 0,\n",
              " 89: 0,\n",
              " 90: 0,\n",
              " 91: 0,\n",
              " 92: 0,\n",
              " 93: 0,\n",
              " 94: 0,\n",
              " 95: 0,\n",
              " 96: 0,\n",
              " 97: 0,\n",
              " 98: 0,\n",
              " 99: 0,\n",
              " 100: 0,\n",
              " 101: 0}"
            ]
          },
          "metadata": {
            "tags": []
          },
          "execution_count": 22
        }
      ]
    },
    {
      "cell_type": "code",
      "metadata": {
        "colab": {
          "base_uri": "https://localhost:8080/"
        },
        "id": "0RsQrRHOP4po",
        "outputId": "a184e553-2440-4c87-b118-784aadaa5b07"
      },
      "source": [
        "for i in range(len(dataset)):\n",
        "    if dataset.labels[i]['age'] in age_number:\n",
        "        age_number[dataset.labels[i]['age']] += 1\n",
        "    \n",
        "age_number"
      ],
      "execution_count": 23,
      "outputs": [
        {
          "output_type": "execute_result",
          "data": {
            "text/plain": [
              "{1: 1,\n",
              " 2: 0,\n",
              " 3: 8,\n",
              " 4: 2,\n",
              " 5: 4,\n",
              " 6: 8,\n",
              " 7: 11,\n",
              " 8: 8,\n",
              " 9: 6,\n",
              " 10: 13,\n",
              " 11: 20,\n",
              " 12: 14,\n",
              " 13: 22,\n",
              " 14: 23,\n",
              " 15: 43,\n",
              " 16: 52,\n",
              " 17: 82,\n",
              " 18: 120,\n",
              " 19: 110,\n",
              " 20: 161,\n",
              " 21: 163,\n",
              " 22: 183,\n",
              " 23: 212,\n",
              " 24: 259,\n",
              " 25: 284,\n",
              " 26: 275,\n",
              " 27: 304,\n",
              " 28: 347,\n",
              " 29: 313,\n",
              " 30: 385,\n",
              " 31: 316,\n",
              " 32: 378,\n",
              " 33: 338,\n",
              " 34: 362,\n",
              " 35: 413,\n",
              " 36: 347,\n",
              " 37: 370,\n",
              " 38: 382,\n",
              " 39: 321,\n",
              " 40: 386,\n",
              " 41: 320,\n",
              " 42: 356,\n",
              " 43: 325,\n",
              " 44: 281,\n",
              " 45: 342,\n",
              " 46: 287,\n",
              " 47: 289,\n",
              " 48: 311,\n",
              " 49: 267,\n",
              " 50: 317,\n",
              " 51: 287,\n",
              " 52: 310,\n",
              " 53: 250,\n",
              " 54: 258,\n",
              " 55: 294,\n",
              " 56: 227,\n",
              " 57: 243,\n",
              " 58: 246,\n",
              " 59: 213,\n",
              " 60: 245,\n",
              " 61: 207,\n",
              " 62: 238,\n",
              " 63: 218,\n",
              " 64: 193,\n",
              " 65: 231,\n",
              " 66: 177,\n",
              " 67: 177,\n",
              " 68: 215,\n",
              " 69: 150,\n",
              " 70: 216,\n",
              " 71: 145,\n",
              " 72: 175,\n",
              " 73: 156,\n",
              " 74: 138,\n",
              " 75: 158,\n",
              " 76: 109,\n",
              " 77: 104,\n",
              " 78: 106,\n",
              " 79: 76,\n",
              " 80: 91,\n",
              " 81: 76,\n",
              " 82: 68,\n",
              " 83: 57,\n",
              " 84: 43,\n",
              " 85: 58,\n",
              " 86: 35,\n",
              " 87: 30,\n",
              " 88: 21,\n",
              " 89: 19,\n",
              " 90: 19,\n",
              " 91: 17,\n",
              " 92: 11,\n",
              " 93: 15,\n",
              " 94: 7,\n",
              " 95: 9,\n",
              " 96: 2,\n",
              " 97: 1,\n",
              " 98: 2,\n",
              " 99: 1,\n",
              " 100: 2,\n",
              " 101: 1}"
            ]
          },
          "metadata": {
            "tags": []
          },
          "execution_count": 23
        }
      ]
    },
    {
      "cell_type": "code",
      "metadata": {
        "id": "qdaVWdbOVnYv"
      },
      "source": [
        ""
      ],
      "execution_count": null,
      "outputs": []
    }
  ]
}