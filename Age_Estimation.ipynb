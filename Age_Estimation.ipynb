{
  "nbformat": 4,
  "nbformat_minor": 0,
  "metadata": {
    "colab": {
      "name": "Age_Estimation.ipynb",
      "provenance": [],
      "authorship_tag": "ABX9TyPTnqp/szygb/efGDcizktB",
      "include_colab_link": true
    },
    "kernelspec": {
      "name": "python3",
      "display_name": "Python 3"
    },
    "language_info": {
      "name": "python"
    },
    "accelerator": "GPU"
  },
  "cells": [
    {
      "cell_type": "markdown",
      "metadata": {
        "id": "view-in-github",
        "colab_type": "text"
      },
      "source": [
        "<a href=\"https://colab.research.google.com/github/mhasan502/Age_Estimation/blob/Jibon/Age_Estimation.ipynb\" target=\"_parent\"><img src=\"https://colab.research.google.com/assets/colab-badge.svg\" alt=\"Open In Colab\"/></a>"
      ]
    },
    {
      "cell_type": "markdown",
      "metadata": {
        "id": "DyImaSzyRAwq"
      },
      "source": [
        "# custom_loader"
      ]
    },
    {
      "cell_type": "markdown",
      "metadata": {
        "id": "w8jMafJQyp5U"
      },
      "source": [
        "## Installing Required Packages"
      ]
    },
    {
      "cell_type": "code",
      "metadata": {
        "colab": {
          "base_uri": "https://localhost:8080/"
        },
        "id": "i4oVz83oOP7S",
        "outputId": "02282c05-90fd-4547-8fb6-d27f71282079"
      },
      "source": [
        "!pip install parse\n",
        "!pip install decouple"
      ],
      "execution_count": 137,
      "outputs": [
        {
          "output_type": "stream",
          "text": [
            "Requirement already satisfied: parse in /usr/local/lib/python3.7/dist-packages (1.19.0)\n",
            "Requirement already satisfied: decouple in /usr/local/lib/python3.7/dist-packages (0.0.7)\n"
          ],
          "name": "stdout"
        }
      ]
    },
    {
      "cell_type": "markdown",
      "metadata": {
        "id": "JVsxAB54yhXc"
      },
      "source": [
        "## Importing Required Packages"
      ]
    },
    {
      "cell_type": "code",
      "metadata": {
        "id": "DhncBiQYoMy2"
      },
      "source": [
        "import os\n",
        "import sys\n",
        "import torch\n",
        "import zipfile\n",
        "import decouple\n",
        "from PIL import Image\n",
        "from parse import parse\n",
        "from torch.utils.data import DataLoader, Dataset\n",
        "\n",
        "# zip_pass = decouple.config(\"ZIP_KEY\")"
      ],
      "execution_count": 138,
      "outputs": []
    },
    {
      "cell_type": "markdown",
      "metadata": {
        "id": "QlLMzXg0zAeG"
      },
      "source": [
        "## DataLoader Classes"
      ]
    },
    {
      "cell_type": "code",
      "metadata": {
        "id": "lv1i-ZpPOoUz"
      },
      "source": [
        "class AgeDBHandler:\n",
        "    def __init__(self, datasets_dir, preload=False, device: torch.device = torch.device('cpu')):\n",
        "        self.device = device\n",
        "        self.preload = preload\n",
        "\n",
        "        self.datasets_dir = datasets_dir\n",
        "        self.directory = os.path.join(datasets_dir, 'AgeDB')\n",
        "        self.zipFile = os.path.join(datasets_dir, 'AgeDB.zip')\n",
        "\n",
        "        self.trainDataset = None\n",
        "        self.testDataset = None\n",
        "        self.validateDataset = None\n",
        "\n",
        "        self._prepare_on_disk()\n",
        "    \n",
        "    def _prepare_on_disk(self):\n",
        "        if os.path.exists(self.directory):\n",
        "            if len(os.listdir(self.directory)) != 0:    # Already directory exists\n",
        "                return\n",
        "        \n",
        "        print('Could not find AgeDB on', self.directory)\n",
        "        print('Looking for ', self.zipFile)\n",
        "\n",
        "        if os.path.exists(self.zipFile):\n",
        "\n",
        "            print(self.zipFile, 'is found. Trying to extract:')\n",
        "            with zipfile.ZipFile(self.zipFile) as zf:\n",
        "                zf.extractall(pwd=zip_pass, path=self.datasets_dir)\n",
        "\n",
        "            print('Successfully extracted')\n",
        "\n",
        "        else:\n",
        "            sys.exit('AgeDB Zip file not found!')\n"
      ],
      "execution_count": 139,
      "outputs": []
    },
    {
      "cell_type": "code",
      "metadata": {
        "id": "7oAr4OxhOr9S"
      },
      "source": [
        "class AgeDBDataset(Dataset):\n",
        "    def __init__(self, directory, transform, preload=False, device: torch.device = torch.device('cpu'), **kwargs):\n",
        "        self.device = device\n",
        "        self.directory = directory\n",
        "        self.transform = transform        \n",
        "        self.labels = []\n",
        "        self.images = []\n",
        "        self.preload = preload\n",
        "        \n",
        "        for i, file in enumerate(sorted(os.listdir(self.directory))):\n",
        "            file_labels = parse('{}_{person}_{age}_{gender}.jpg', file)\n",
        "            \n",
        "            if file_labels is None:\n",
        "                continue\n",
        "                \n",
        "            if self.preload:\n",
        "                image = Image.open(os.path.join(self.directory, file)).convert('RGB')\n",
        "                \n",
        "                if self.transform is not None:\n",
        "                    image = self.transform(image).to(self.device)\n",
        "            else:\n",
        "                image = os.path.join(self.directory, file)\n",
        "\n",
        "            self.images.append(image)\n",
        "            gender_to_class_id = {\n",
        "                'm': 0,\n",
        "                'f': 1\n",
        "                }\n",
        "            gender = gender_to_class_id[file_labels['gender']]\n",
        "            person = str(file_labels['person'])\n",
        "            age = int(file_labels['age'])\n",
        "            self.labels.append({\n",
        "                'person': person,\n",
        "                'age': age,\n",
        "                'gender': gender\n",
        "            })\n",
        "\n",
        "    def __len__(self):\n",
        "        return len(self.labels)\n",
        "\n",
        "    def __getitem__(self, idx):\n",
        "        if torch.is_tensor(idx):\n",
        "            idx = idx.tolist()\n",
        "\n",
        "        image = self.images[idx]\n",
        "\n",
        "        if not self.preload:\n",
        "            image = Image.open(image).convert('RGB')\n",
        "            if self.transform is not None:\n",
        "                image = self.transform(image).to(self.device)\n",
        "\n",
        "        labels = {\n",
        "            'person': self.labels[idx]['person'], \n",
        "            'age': self.labels[idx]['age'], \n",
        "            'gender': self.labels[idx]['gender']\n",
        "            }\n",
        "        return image.to(self.device), labels\n",
        "    \n",
        "\n",
        "    def get_loaders(self, transform, batch_size, train_size, test_size, **kwargs):\n",
        "\n",
        "        train_len = int(len(self) * train_size)\n",
        "        test_len = int(len(self) * test_size)\n",
        "        validate_len = len(self) - (train_len + test_len)\n",
        "\n",
        "        self.trainDataset, self.validateDataset, self.testDataset = torch.utils.data.random_split(\n",
        "            dataset = self, \n",
        "            lengths = [train_len, validate_len, test_len], \n",
        "            generator = torch.Generator().manual_seed(42)\n",
        "        )\n",
        "\n",
        "        train_loader = DataLoader(self.trainDataset, batch_size=batch_size)\n",
        "        validate_loader = DataLoader(self.validateDataset, batch_size=batch_size)\n",
        "        test_loader = DataLoader(self.testDataset, batch_size=batch_size)\n",
        "\n",
        "        return train_loader, validate_loader, test_loader\n"
      ],
      "execution_count": 140,
      "outputs": []
    },
    {
      "cell_type": "markdown",
      "metadata": {
        "id": "sSyRs2ev4pd7"
      },
      "source": [
        "# Preprocessing"
      ]
    },
    {
      "cell_type": "markdown",
      "metadata": {
        "id": "-ToqmtL-zS_R"
      },
      "source": [
        "## Importing Required Packages"
      ]
    },
    {
      "cell_type": "code",
      "metadata": {
        "id": "djX4bEOrQPk7"
      },
      "source": [
        "from torch import nn\n",
        "from torchvision import datasets\n",
        "import torchvision\n",
        "from torchvision.transforms import ToTensor\n",
        "import matplotlib.pyplot as plt\n",
        "from matplotlib.colors import LogNorm"
      ],
      "execution_count": 141,
      "outputs": []
    },
    {
      "cell_type": "code",
      "metadata": {
        "colab": {
          "base_uri": "https://localhost:8080/"
        },
        "id": "YWe2vtzS45kx",
        "outputId": "d148c0d3-465a-4877-d985-bf2a4a71c1a1"
      },
      "source": [
        "device = torch.device(\"cuda\") if torch.cuda.is_available() else torch.device(\"cpu\")\n",
        "device"
      ],
      "execution_count": 142,
      "outputs": [
        {
          "output_type": "execute_result",
          "data": {
            "text/plain": [
              "device(type='cuda')"
            ]
          },
          "metadata": {
            "tags": []
          },
          "execution_count": 142
        }
      ]
    },
    {
      "cell_type": "markdown",
      "metadata": {
        "id": "KuNwEzTRQmr6"
      },
      "source": [
        "## Loading Dataset"
      ]
    },
    {
      "cell_type": "code",
      "metadata": {
        "colab": {
          "base_uri": "https://localhost:8080/"
        },
        "id": "gq-Z6OzeZZgU",
        "outputId": "e50d6881-b959-4e1d-d21d-55c78b77e75a"
      },
      "source": [
        "from google.colab import drive\n",
        "drive.mount('/content/gdrive')"
      ],
      "execution_count": 143,
      "outputs": [
        {
          "output_type": "stream",
          "text": [
            "Drive already mounted at /content/gdrive; to attempt to forcibly remount, call drive.mount(\"/content/gdrive\", force_remount=True).\n"
          ],
          "name": "stdout"
        }
      ]
    },
    {
      "cell_type": "code",
      "metadata": {
        "colab": {
          "base_uri": "https://localhost:8080/"
        },
        "id": "Fa9UD7tv4da2",
        "outputId": "dc8a62ea-104d-4f95-b9a8-3e338a6fb812"
      },
      "source": [
        "inside = os.listdir('/content/gdrive/MyDrive/Colab Notebooks/AgeDBDataset/AgeDB/')\n",
        "for i in range(20):\n",
        "    print(inside[i])"
      ],
      "execution_count": 144,
      "outputs": [
        {
          "output_type": "stream",
          "text": [
            "15588_KateOMara_32_f.jpg\n",
            "15658_KatharineRoss_68_f.jpg\n",
            "15741_MaryTamm_40_f.jpg\n",
            "15661_KatharineRoss_72_f.jpg\n",
            "15621_KateOMara_70_f.jpg\n",
            "15646_KatharineRoss_46_f.jpg\n",
            "15851_StВphaneAudran_22_f.jpg\n",
            "15810_SarahDouglas_61_f.jpg\n",
            "15486_JeanetteMacDonald_46_f.jpg\n",
            "15831_StefaniePowers_56_f.jpg\n",
            "15670_KathrynGrayson_26_f.jpg\n",
            "15539_JulieBishop_36_f.jpg\n",
            "15696_KathrynGrayson_75_f.jpg\n",
            "15738_MaryTamm_33_f.jpg\n",
            "15853_StВphaneAudran_24_f.jpg\n",
            "15665_KathrynGrayson_21_f.jpg\n",
            "15815_StefaniePowers_24_f.jpg\n",
            "15748_MaryTamm_51_f.jpg\n",
            "15759_PamelaSueMartin_26_f.jpg\n",
            "15799_SarahDouglas_43_f.jpg\n"
          ],
          "name": "stdout"
        }
      ]
    },
    {
      "cell_type": "code",
      "metadata": {
        "colab": {
          "base_uri": "https://localhost:8080/"
        },
        "id": "l4VcWb-fB32o",
        "outputId": "a1f8a6e3-9446-4e2b-9800-273a741ac1b2"
      },
      "source": [
        "sorted_dir = sorted(os.listdir('/content/gdrive/MyDrive/Colab Notebooks/AgeDBDataset/AgeDB/'))\n",
        "for i in range(20):\n",
        "    print(sorted_dir[i])"
      ],
      "execution_count": 145,
      "outputs": [
        {
          "output_type": "stream",
          "text": [
            "0_MariaCallas_35_f.jpg\n",
            "10000_GlennClose_62_f.jpg\n",
            "10001_GoldieHawn_23_f.jpg\n",
            "10002_GoldieHawn_24_f.jpg\n",
            "10003_GoldieHawn_24_f.jpg\n",
            "10004_GoldieHawn_27_f.jpg\n",
            "10005_GoldieHawn_28_f.jpg\n",
            "10006_GoldieHawn_29_f.jpg\n",
            "10007_GoldieHawn_30_f.jpg\n",
            "10008_GoldieHawn_31_f.jpg\n",
            "10009_GoldieHawn_35_f.jpg\n",
            "1000_StephenHawking_1_m.jpg\n",
            "10010_GoldieHawn_35_f.jpg\n",
            "10011_GoldieHawn_37_f.jpg\n",
            "10012_GoldieHawn_39_f.jpg\n",
            "10013_GoldieHawn_44_f.jpg\n",
            "10014_GoldieHawn_45_f.jpg\n",
            "10015_GoldieHawn_45_f.jpg\n",
            "10016_GoldieHawn_50_f.jpg\n",
            "10017_GoldieHawn_51_f.jpg\n"
          ],
          "name": "stdout"
        }
      ]
    },
    {
      "cell_type": "code",
      "metadata": {
        "id": "WwhQoytMQSI5"
      },
      "source": [
        "dataset = AgeDBDataset(\n",
        "    directory = '/content/gdrive/MyDrive/Colab Notebooks/AgeDBDataset/AgeDB',\n",
        "    transform = ToTensor(),\n",
        "    device = device\n",
        ")"
      ],
      "execution_count": 146,
      "outputs": []
    },
    {
      "cell_type": "markdown",
      "metadata": {
        "id": "l08dWwUNQahn"
      },
      "source": [
        "## Dataset Attributes"
      ]
    },
    {
      "cell_type": "code",
      "metadata": {
        "id": "mWbrU3L2QVTB",
        "colab": {
          "base_uri": "https://localhost:8080/"
        },
        "outputId": "4283ac65-8899-426a-d53e-99fd83c5df90"
      },
      "source": [
        "len(dataset)"
      ],
      "execution_count": 147,
      "outputs": [
        {
          "output_type": "execute_result",
          "data": {
            "text/plain": [
              "16488"
            ]
          },
          "metadata": {
            "tags": []
          },
          "execution_count": 147
        }
      ]
    },
    {
      "cell_type": "code",
      "metadata": {
        "colab": {
          "base_uri": "https://localhost:8080/"
        },
        "id": "9NO0Frjn-4Tc",
        "outputId": "d378d436-cb8f-44b3-aed1-fe70aa71f395"
      },
      "source": [
        "dataset[0]"
      ],
      "execution_count": 148,
      "outputs": [
        {
          "output_type": "execute_result",
          "data": {
            "text/plain": [
              "(tensor([[[0.4275, 0.4314, 0.4353,  ..., 0.4118, 0.4118, 0.4078],\n",
              "          [0.4275, 0.4314, 0.4353,  ..., 0.4275, 0.4235, 0.4196],\n",
              "          [0.4275, 0.4314, 0.4353,  ..., 0.4471, 0.4471, 0.4431],\n",
              "          ...,\n",
              "          [0.6667, 0.6706, 0.6745,  ..., 0.7333, 0.7333, 0.7333],\n",
              "          [0.6706, 0.6745, 0.6784,  ..., 0.7176, 0.7176, 0.7176],\n",
              "          [0.6745, 0.6784, 0.6824,  ..., 0.6980, 0.6980, 0.6980]],\n",
              " \n",
              "         [[0.4275, 0.4314, 0.4353,  ..., 0.4039, 0.4039, 0.4000],\n",
              "          [0.4275, 0.4314, 0.4353,  ..., 0.4196, 0.4157, 0.4118],\n",
              "          [0.4275, 0.4314, 0.4353,  ..., 0.4392, 0.4392, 0.4353],\n",
              "          ...,\n",
              "          [0.6667, 0.6706, 0.6745,  ..., 0.7333, 0.7333, 0.7333],\n",
              "          [0.6706, 0.6745, 0.6784,  ..., 0.7176, 0.7176, 0.7176],\n",
              "          [0.6745, 0.6784, 0.6824,  ..., 0.6980, 0.6980, 0.6980]],\n",
              " \n",
              "         [[0.3804, 0.3843, 0.3882,  ..., 0.3529, 0.3529, 0.3490],\n",
              "          [0.3804, 0.3843, 0.3882,  ..., 0.3686, 0.3647, 0.3608],\n",
              "          [0.3804, 0.3843, 0.3882,  ..., 0.3882, 0.3882, 0.3843],\n",
              "          ...,\n",
              "          [0.6196, 0.6235, 0.6275,  ..., 0.6863, 0.6863, 0.6863],\n",
              "          [0.6235, 0.6275, 0.6314,  ..., 0.6706, 0.6706, 0.6706],\n",
              "          [0.6275, 0.6314, 0.6353,  ..., 0.6510, 0.6510, 0.6510]]],\n",
              "        device='cuda:0'), {'age': 35, 'gender': 1, 'person': 'MariaCallas'})"
            ]
          },
          "metadata": {
            "tags": []
          },
          "execution_count": 148
        }
      ]
    },
    {
      "cell_type": "code",
      "metadata": {
        "id": "DV5NQW5ZRZ83",
        "colab": {
          "base_uri": "https://localhost:8080/"
        },
        "outputId": "d765cb41-bd33-438b-9aaa-d330edcba2c5"
      },
      "source": [
        "type(dataset[0])"
      ],
      "execution_count": 149,
      "outputs": [
        {
          "output_type": "execute_result",
          "data": {
            "text/plain": [
              "tuple"
            ]
          },
          "metadata": {
            "tags": []
          },
          "execution_count": 149
        }
      ]
    },
    {
      "cell_type": "code",
      "metadata": {
        "id": "ljt3JQDvQW-J",
        "colab": {
          "base_uri": "https://localhost:8080/"
        },
        "outputId": "12b89a6f-4da7-4b67-be47-dc34e86aac46"
      },
      "source": [
        "dataset.labels[0]"
      ],
      "execution_count": 150,
      "outputs": [
        {
          "output_type": "execute_result",
          "data": {
            "text/plain": [
              "{'age': 35, 'gender': 1, 'person': 'MariaCallas'}"
            ]
          },
          "metadata": {
            "tags": []
          },
          "execution_count": 150
        }
      ]
    },
    {
      "cell_type": "code",
      "metadata": {
        "colab": {
          "base_uri": "https://localhost:8080/"
        },
        "id": "gljRTyWyANru",
        "outputId": "2f08b4cf-537a-4afc-fe54-97e820e96b0d"
      },
      "source": [
        "print(dataset.images[0])"
      ],
      "execution_count": 151,
      "outputs": [
        {
          "output_type": "stream",
          "text": [
            "/content/gdrive/MyDrive/Colab Notebooks/AgeDBDataset/AgeDB/0_MariaCallas_35_f.jpg\n"
          ],
          "name": "stdout"
        }
      ]
    },
    {
      "cell_type": "code",
      "metadata": {
        "colab": {
          "base_uri": "https://localhost:8080/",
          "height": 285
        },
        "id": "KkQADYC1AVEM",
        "outputId": "93bba9f0-d891-49be-f1fd-91d97f6645e9"
      },
      "source": [
        "plt.figure()\n",
        "plt.imshow(plt.imread(dataset.images[0]))"
      ],
      "execution_count": 152,
      "outputs": [
        {
          "output_type": "execute_result",
          "data": {
            "text/plain": [
              "<matplotlib.image.AxesImage at 0x7ff513a6a4d0>"
            ]
          },
          "metadata": {
            "tags": []
          },
          "execution_count": 152
        },
        {
          "output_type": "display_data",
          "data": {
            "image/png": "[encoded data removed]",
            "text/plain": [
              "<Figure size 432x288 with 1 Axes>"
            ]
          },
          "metadata": {
            "tags": [],
            "needs_background": "light"
          }
        }
      ]
    },
    {
      "cell_type": "code",
      "metadata": {
        "colab": {
          "base_uri": "https://localhost:8080/",
          "height": 303
        },
        "id": "UR-IGrDJBN60",
        "outputId": "87bca571-e646-47e1-eeff-13f2a2419d29"
      },
      "source": [
        "print(dataset.images[1])\n",
        "\n",
        "plt.figure()\n",
        "plt.imshow(plt.imread(dataset.images[1]))"
      ],
      "execution_count": 153,
      "outputs": [
        {
          "output_type": "stream",
          "text": [
            "/content/gdrive/MyDrive/Colab Notebooks/AgeDBDataset/AgeDB/10000_GlennClose_62_f.jpg\n"
          ],
          "name": "stdout"
        },
        {
          "output_type": "execute_result",
          "data": {
            "text/plain": [
              "<matplotlib.image.AxesImage at 0x7ff5138896d0>"
            ]
          },
          "metadata": {
            "tags": []
          },
          "execution_count": 153
        },
        {
          "output_type": "display_data",
          "data": {
            "image/png": "[encoded data removed]",
            "text/plain": [
              "<Figure size 432x288 with 1 Axes>"
            ]
          },
          "metadata": {
            "tags": [],
            "needs_background": "light"
          }
        }
      ]
    },
    {
      "cell_type": "code",
      "metadata": {
        "colab": {
          "base_uri": "https://localhost:8080/"
        },
        "id": "XarAZumKEBzT",
        "outputId": "b4bf8892-d191-4b50-e7f9-2830aec7b5be"
      },
      "source": [
        "dataset.labels[1]"
      ],
      "execution_count": 154,
      "outputs": [
        {
          "output_type": "execute_result",
          "data": {
            "text/plain": [
              "{'age': 62, 'gender': 1, 'person': 'GlennClose'}"
            ]
          },
          "metadata": {
            "tags": []
          },
          "execution_count": 154
        }
      ]
    },
    {
      "cell_type": "markdown",
      "metadata": {
        "id": "YzGxBYqxxX9s"
      },
      "source": [
        "## Data Visualization"
      ]
    },
    {
      "cell_type": "code",
      "metadata": {
        "id": "tyINdKGfAY4T"
      },
      "source": [
        "age = []\n",
        "gender = []\n",
        "for i in range(len(dataset)):\n",
        "    age.append(dataset.labels[i]['age'])\n",
        "    gender.append(dataset.labels[i]['gender'])"
      ],
      "execution_count": 155,
      "outputs": []
    },
    {
      "cell_type": "code",
      "metadata": {
        "colab": {
          "base_uri": "https://localhost:8080/"
        },
        "id": "4Vq87-6TAbFL",
        "outputId": "c230a90e-1dda-4a95-c7cc-d761d76659ae"
      },
      "source": [
        "print(\"Highest Age Value: \"+str(max(age))+\"\\nLowest Age Value: \"+str(min(age)))"
      ],
      "execution_count": 156,
      "outputs": [
        {
          "output_type": "stream",
          "text": [
            "Highest Age Value: 101\n",
            "Lowest Age Value: 1\n"
          ],
          "name": "stdout"
        }
      ]
    },
    {
      "cell_type": "code",
      "metadata": {
        "colab": {
          "base_uri": "https://localhost:8080/",
          "height": 265
        },
        "id": "GQdTzFKXAeKS",
        "outputId": "64814d9b-21f7-475c-a682-e07b0cb309f2"
      },
      "source": [
        "plt.plot(sorted(age))\n",
        "plt.show()"
      ],
      "execution_count": 157,
      "outputs": [
        {
          "output_type": "display_data",
          "data": {
            "image/png": "[encoded data removed]",
            "text/plain": [
              "<Figure size 432x288 with 1 Axes>"
            ]
          },
          "metadata": {
            "tags": [],
            "needs_background": "light"
          }
        }
      ]
    },
    {
      "cell_type": "code",
      "metadata": {
        "id": "9e2u96zKAhbN",
        "colab": {
          "base_uri": "https://localhost:8080/"
        },
        "outputId": "a8266f66-f1ad-4453-ca1e-bcc706e0d65a"
      },
      "source": [
        "listofzeros = [0] * len(dataset)\n",
        "same_age = [i for i in range(min(age), max(age) + 1)]\n",
        "\n",
        "age_number = dict(zip(same_age, listofzeros))\n",
        "copy_age = age_number.copy()\n",
        "age_number"
      ],
      "execution_count": 158,
      "outputs": [
        {
          "output_type": "execute_result",
          "data": {
            "text/plain": [
              "{1: 0,\n",
              " 2: 0,\n",
              " 3: 0,\n",
              " 4: 0,\n",
              " 5: 0,\n",
              " 6: 0,\n",
              " 7: 0,\n",
              " 8: 0,\n",
              " 9: 0,\n",
              " 10: 0,\n",
              " 11: 0,\n",
              " 12: 0,\n",
              " 13: 0,\n",
              " 14: 0,\n",
              " 15: 0,\n",
              " 16: 0,\n",
              " 17: 0,\n",
              " 18: 0,\n",
              " 19: 0,\n",
              " 20: 0,\n",
              " 21: 0,\n",
              " 22: 0,\n",
              " 23: 0,\n",
              " 24: 0,\n",
              " 25: 0,\n",
              " 26: 0,\n",
              " 27: 0,\n",
              " 28: 0,\n",
              " 29: 0,\n",
              " 30: 0,\n",
              " 31: 0,\n",
              " 32: 0,\n",
              " 33: 0,\n",
              " 34: 0,\n",
              " 35: 0,\n",
              " 36: 0,\n",
              " 37: 0,\n",
              " 38: 0,\n",
              " 39: 0,\n",
              " 40: 0,\n",
              " 41: 0,\n",
              " 42: 0,\n",
              " 43: 0,\n",
              " 44: 0,\n",
              " 45: 0,\n",
              " 46: 0,\n",
              " 47: 0,\n",
              " 48: 0,\n",
              " 49: 0,\n",
              " 50: 0,\n",
              " 51: 0,\n",
              " 52: 0,\n",
              " 53: 0,\n",
              " 54: 0,\n",
              " 55: 0,\n",
              " 56: 0,\n",
              " 57: 0,\n",
              " 58: 0,\n",
              " 59: 0,\n",
              " 60: 0,\n",
              " 61: 0,\n",
              " 62: 0,\n",
              " 63: 0,\n",
              " 64: 0,\n",
              " 65: 0,\n",
              " 66: 0,\n",
              " 67: 0,\n",
              " 68: 0,\n",
              " 69: 0,\n",
              " 70: 0,\n",
              " 71: 0,\n",
              " 72: 0,\n",
              " 73: 0,\n",
              " 74: 0,\n",
              " 75: 0,\n",
              " 76: 0,\n",
              " 77: 0,\n",
              " 78: 0,\n",
              " 79: 0,\n",
              " 80: 0,\n",
              " 81: 0,\n",
              " 82: 0,\n",
              " 83: 0,\n",
              " 84: 0,\n",
              " 85: 0,\n",
              " 86: 0,\n",
              " 87: 0,\n",
              " 88: 0,\n",
              " 89: 0,\n",
              " 90: 0,\n",
              " 91: 0,\n",
              " 92: 0,\n",
              " 93: 0,\n",
              " 94: 0,\n",
              " 95: 0,\n",
              " 96: 0,\n",
              " 97: 0,\n",
              " 98: 0,\n",
              " 99: 0,\n",
              " 100: 0,\n",
              " 101: 0}"
            ]
          },
          "metadata": {
            "tags": []
          },
          "execution_count": 158
        }
      ]
    },
    {
      "cell_type": "code",
      "metadata": {
        "colab": {
          "base_uri": "https://localhost:8080/"
        },
        "id": "0RsQrRHOP4po",
        "outputId": "75c88cc8-f565-4bc7-e845-01043e1a436d"
      },
      "source": [
        "for i in range(len(dataset)):\n",
        "    if dataset.labels[i]['age'] in age_number:\n",
        "        age_number[dataset.labels[i]['age']] += 1\n",
        "    \n",
        "age_number"
      ],
      "execution_count": 159,
      "outputs": [
        {
          "output_type": "execute_result",
          "data": {
            "text/plain": [
              "{1: 1,\n",
              " 2: 0,\n",
              " 3: 8,\n",
              " 4: 2,\n",
              " 5: 4,\n",
              " 6: 8,\n",
              " 7: 11,\n",
              " 8: 8,\n",
              " 9: 6,\n",
              " 10: 13,\n",
              " 11: 20,\n",
              " 12: 14,\n",
              " 13: 22,\n",
              " 14: 23,\n",
              " 15: 43,\n",
              " 16: 52,\n",
              " 17: 82,\n",
              " 18: 120,\n",
              " 19: 110,\n",
              " 20: 161,\n",
              " 21: 163,\n",
              " 22: 183,\n",
              " 23: 212,\n",
              " 24: 259,\n",
              " 25: 284,\n",
              " 26: 275,\n",
              " 27: 304,\n",
              " 28: 347,\n",
              " 29: 313,\n",
              " 30: 385,\n",
              " 31: 316,\n",
              " 32: 378,\n",
              " 33: 338,\n",
              " 34: 362,\n",
              " 35: 413,\n",
              " 36: 347,\n",
              " 37: 370,\n",
              " 38: 382,\n",
              " 39: 321,\n",
              " 40: 386,\n",
              " 41: 320,\n",
              " 42: 356,\n",
              " 43: 325,\n",
              " 44: 281,\n",
              " 45: 342,\n",
              " 46: 287,\n",
              " 47: 289,\n",
              " 48: 311,\n",
              " 49: 267,\n",
              " 50: 317,\n",
              " 51: 287,\n",
              " 52: 310,\n",
              " 53: 250,\n",
              " 54: 258,\n",
              " 55: 294,\n",
              " 56: 227,\n",
              " 57: 243,\n",
              " 58: 246,\n",
              " 59: 213,\n",
              " 60: 245,\n",
              " 61: 207,\n",
              " 62: 238,\n",
              " 63: 218,\n",
              " 64: 193,\n",
              " 65: 231,\n",
              " 66: 177,\n",
              " 67: 177,\n",
              " 68: 215,\n",
              " 69: 150,\n",
              " 70: 216,\n",
              " 71: 145,\n",
              " 72: 175,\n",
              " 73: 156,\n",
              " 74: 138,\n",
              " 75: 158,\n",
              " 76: 109,\n",
              " 77: 104,\n",
              " 78: 106,\n",
              " 79: 76,\n",
              " 80: 91,\n",
              " 81: 76,\n",
              " 82: 68,\n",
              " 83: 57,\n",
              " 84: 43,\n",
              " 85: 58,\n",
              " 86: 35,\n",
              " 87: 30,\n",
              " 88: 21,\n",
              " 89: 19,\n",
              " 90: 19,\n",
              " 91: 17,\n",
              " 92: 11,\n",
              " 93: 15,\n",
              " 94: 7,\n",
              " 95: 9,\n",
              " 96: 2,\n",
              " 97: 1,\n",
              " 98: 2,\n",
              " 99: 1,\n",
              " 100: 2,\n",
              " 101: 1}"
            ]
          },
          "metadata": {
            "tags": []
          },
          "execution_count": 159
        }
      ]
    },
    {
      "cell_type": "code",
      "metadata": {
        "colab": {
          "base_uri": "https://localhost:8080/",
          "height": 295
        },
        "id": "qdaVWdbOVnYv",
        "outputId": "300b8960-273e-4eda-fd27-0599e6ce8ceb"
      },
      "source": [
        "age_amount = age_number.items()\n",
        "x, y = zip(*age_amount)\n",
        "\n",
        "plt.plot(x, y)\n",
        "plt.title(\"Images per Age\")\n",
        "plt.xlabel(\"Age\")\n",
        "plt.ylabel(\"Number of Images\")\n",
        "\n",
        "plt.grid()\n",
        "plt.show()  "
      ],
      "execution_count": 160,
      "outputs": [
        {
          "output_type": "display_data",
          "data": {
            "image/png": "[encoded data removed]",
            "text/plain": [
              "<Figure size 432x288 with 1 Axes>"
            ]
          },
          "metadata": {
            "tags": [],
            "needs_background": "light"
          }
        }
      ]
    },
    {
      "cell_type": "code",
      "metadata": {
        "colab": {
          "base_uri": "https://localhost:8080/"
        },
        "id": "gPvTnPElOzVS",
        "outputId": "f422994b-2a93-400d-b52d-39aadec508a5"
      },
      "source": [
        "num_gender = {0: 0, 1: 0}\n",
        "for i in range(len(dataset)):                         # {'m': 0, 'f': 1}\n",
        "    if dataset.labels[i]['gender'] in num_gender:\n",
        "        num_gender[dataset.labels[i]['gender']] += 1\n",
        "    \n",
        "num_gender"
      ],
      "execution_count": 161,
      "outputs": [
        {
          "output_type": "execute_result",
          "data": {
            "text/plain": [
              "{0: 9788, 1: 6700}"
            ]
          },
          "metadata": {
            "tags": []
          },
          "execution_count": 161
        }
      ]
    },
    {
      "cell_type": "code",
      "metadata": {
        "colab": {
          "base_uri": "https://localhost:8080/",
          "height": 281
        },
        "id": "2l1xCL8MdKdV",
        "outputId": "2c819aba-db36-4d2f-f8ea-baf1ab9d6de0"
      },
      "source": [
        "gender_amount = num_gender.items()\n",
        "_, y = zip(*gender_amount)\n",
        "\n",
        "plt.title(\"Images per Gender\")\n",
        "\n",
        "plt.grid()\n",
        "plt.bar(['Male', 'Female'], y, width = 0.1)\n",
        "plt.show()  "
      ],
      "execution_count": 162,
      "outputs": [
        {
          "output_type": "display_data",
          "data": {
            "image/png": "[encoded data removed]",
            "text/plain": [
              "<Figure size 432x288 with 1 Axes>"
            ]
          },
          "metadata": {
            "tags": [],
            "needs_background": "light"
          }
        }
      ]
    },
    {
      "cell_type": "code",
      "metadata": {
        "colab": {
          "base_uri": "https://localhost:8080/",
          "height": 264
        },
        "id": "bNokrDSRgAtw",
        "outputId": "2e5f96f4-6b12-4e58-d083-6f555c9f6d7f"
      },
      "source": [
        "gender_amount = num_gender.items()\n",
        "_, y = zip(*gender_amount)\n",
        "\n",
        "plt.title(\"Images per Gender\")\n",
        "mylabels = [\"Male\", \"Female\"]\n",
        "myexplode = [0.03, 0]\n",
        "\n",
        "plt.grid()\n",
        "plt.pie(y, labels = mylabels, explode = myexplode, autopct='%1.2f%%')\n",
        "plt.show() "
      ],
      "execution_count": 163,
      "outputs": [
        {
          "output_type": "display_data",
          "data": {
            "image/png": "[encoded data removed]",
            "text/plain": [
              "<Figure size 432x288 with 1 Axes>"
            ]
          },
          "metadata": {
            "tags": []
          }
        }
      ]
    },
    {
      "cell_type": "code",
      "metadata": {
        "colab": {
          "base_uri": "https://localhost:8080/"
        },
        "id": "jEfq6xzLIyoh",
        "outputId": "ebe6159c-2d33-4bf1-c1e7-9b0f21c42d86"
      },
      "source": [
        "people = []\n",
        "for i in range(len(dataset)):\n",
        "    if dataset.labels[i]['person'] not in people:\n",
        "        people.append(dataset.labels[i]['person'])\n",
        "sorted(people)"
      ],
      "execution_count": 164,
      "outputs": [
        {
          "output_type": "execute_result",
          "data": {
            "text/plain": [
              "['AbeVigoda',\n",
              " 'AdolfHitlerr',\n",
              " 'AlCorley',\n",
              " 'AlKapone',\n",
              " 'AlPacino',\n",
              " 'AlainDelon',\n",
              " 'AlanRickman',\n",
              " 'AlanYoung',\n",
              " 'AlbertCamus',\n",
              " 'AlbertSchweitzer',\n",
              " 'AlbertoSordi',\n",
              " 'AlecGuinness',\n",
              " 'AlejandroRey',\n",
              " 'AlexanderGrahamBell',\n",
              " 'AlexandrakisAlekos',\n",
              " 'AliMacGraw',\n",
              " 'AlikiBoug',\n",
              " 'AmandaBlake',\n",
              " 'AmandaRedman',\n",
              " 'AndreMarieAmpКre',\n",
              " 'AndreasPapantreou',\n",
              " 'AndyGriffith',\n",
              " 'AngelaLansbury',\n",
              " 'AngieDickinson',\n",
              " 'AnitaEkberg',\n",
              " 'AnjelicaHuston',\n",
              " 'AnnJillian',\n",
              " 'AnnMargret',\n",
              " 'AnnMiller',\n",
              " 'AnnaMassey',\n",
              " 'AnneBancroft',\n",
              " 'AnneBaxter',\n",
              " 'AnnetteBening',\n",
              " 'AnnieGirardot',\n",
              " 'AnthonyAndrews',\n",
              " 'AnthonyHopkins',\n",
              " 'AnthonyPerkins',\n",
              " 'AnthonyQuayle',\n",
              " 'Arletty',\n",
              " 'ArmandAssante',\n",
              " 'ArnoldSchwarzenegger',\n",
              " 'AudreyHepburn',\n",
              " 'AvaGardner',\n",
              " 'BarbaraBain',\n",
              " 'BarbaraBouchet',\n",
              " 'BarbaraStanwyck',\n",
              " 'BarbraStreisand',\n",
              " 'BeaArthur',\n",
              " 'BenGazzara',\n",
              " 'BernadetteLafont',\n",
              " 'BerryGordy',\n",
              " 'BertrandRussell',\n",
              " 'BetteDavis',\n",
              " 'BetteMidler',\n",
              " 'BettyGarrett',\n",
              " 'BettyGrable',\n",
              " 'BeverlyRoberts',\n",
              " 'BillCosby',\n",
              " 'BillMurray',\n",
              " 'BillNighy',\n",
              " 'BoDerek',\n",
              " 'BobDylan',\n",
              " 'BobHope',\n",
              " 'BonnieHunt',\n",
              " 'Bono',\n",
              " 'BorisKarloff',\n",
              " 'BrianDennehy',\n",
              " 'BruceWillis',\n",
              " 'BurtLancaster',\n",
              " 'BurtReynolds',\n",
              " 'CHARLIERUGGLES',\n",
              " 'CarlMarx',\n",
              " 'CarlSagan',\n",
              " 'CarlosSantana',\n",
              " 'Carroll',\n",
              " 'CaryGrant',\n",
              " 'CatherineDeneuve',\n",
              " 'CatherineSchell',\n",
              " 'CatherineSpaak',\n",
              " 'CelesteHolm',\n",
              " 'CharlesBoyer',\n",
              " 'CharlesBronson',\n",
              " 'CharlesDarwin',\n",
              " 'CharlesGrodin',\n",
              " 'CharlieChaplin',\n",
              " 'CharlieSheen',\n",
              " 'CharltonHeaston',\n",
              " 'ChevyChase',\n",
              " 'ChristopherEccleston',\n",
              " 'ChristopherPlummer',\n",
              " 'ChristopherWalken',\n",
              " 'ChuckNorris',\n",
              " 'ClarkGable',\n",
              " 'ClaudeLВviStrauss',\n",
              " 'ClaudeRich',\n",
              " 'ClaudetteColbert',\n",
              " 'ClaudiaCardinale',\n",
              " 'ClerkMaxwell',\n",
              " 'CliffRobertson',\n",
              " 'ClintEastwood',\n",
              " 'ClintWalker',\n",
              " 'ConnieBooth',\n",
              " 'ConradHilton',\n",
              " 'CybillShepherd',\n",
              " 'CydCharisse',\n",
              " 'CyndiLauper',\n",
              " 'DaliahLavi',\n",
              " 'DanaAndrews',\n",
              " 'DanielleDarrieux',\n",
              " 'DannyDeVito',\n",
              " 'DannyGlover',\n",
              " 'DavidCarradine',\n",
              " 'DavidMcCallum',\n",
              " 'DavidNiven',\n",
              " 'DavidSarnoff',\n",
              " 'Davis',\n",
              " 'DebbieReynolds',\n",
              " 'DeborahKerr',\n",
              " 'DebraPaget',\n",
              " 'Dee',\n",
              " 'Dench',\n",
              " 'DenzelWashington',\n",
              " 'DerekJacobi',\n",
              " 'DianneWiest',\n",
              " 'DickVanDyke',\n",
              " 'DickieMoore',\n",
              " 'DirkBogarde',\n",
              " 'DonJohnson',\n",
              " 'DonnaDouglas',\n",
              " 'DonnaReed',\n",
              " 'DorisDay',\n",
              " 'DustinHoffman',\n",
              " 'DyanCannon',\n",
              " 'EdHarris',\n",
              " 'EdwardFox',\n",
              " 'EdwardGRobinson',\n",
              " 'EdwardTeller',\n",
              " 'EdwigeFenech',\n",
              " 'Einstain',\n",
              " 'ElVenizelos',\n",
              " 'EliWallach',\n",
              " 'ElizabethTaylor',\n",
              " 'ElkeSommer',\n",
              " 'EllenBurstyn',\n",
              " 'ElliottGould',\n",
              " 'ElsaMartinelli',\n",
              " 'ElvisPresley',\n",
              " 'EmmaThompson',\n",
              " 'EnricoFermi',\n",
              " 'ErinGray',\n",
              " 'ErnestBorgnine',\n",
              " 'ErnestHemingway',\n",
              " 'ErnestRutherford',\n",
              " 'ErrolFlynn',\n",
              " 'EsteeLauder',\n",
              " 'EstherWilliams',\n",
              " 'EvaMarieSaint',\n",
              " 'FaradayMichael',\n",
              " 'FayeDunaway',\n",
              " 'Fernandel',\n",
              " 'FernandoRey',\n",
              " 'FessParker',\n",
              " 'FidelCastro',\n",
              " 'FlemingAlex',\n",
              " 'Fotopoulos',\n",
              " 'FrancesDee',\n",
              " 'FrancescaAnnis',\n",
              " 'FrankSinatra',\n",
              " 'FranklinDRoosevelt',\n",
              " 'FredAstaire',\n",
              " 'FredMacMurray',\n",
              " 'FrederickSanger',\n",
              " 'FriedrichNietzsche',\n",
              " 'GabrielGarciaMarquez',\n",
              " 'Gaddafi',\n",
              " 'GalileoGalilei',\n",
              " 'GaryOldman',\n",
              " 'Garycooper',\n",
              " 'GenaRowlands',\n",
              " 'GeneHackman',\n",
              " 'GeneWilder',\n",
              " 'GeorgeCScott',\n",
              " 'GeorgeHWBush',\n",
              " 'GeorgeMontgomery',\n",
              " 'GeorgePeppard',\n",
              " 'GeorgesMarchal',\n",
              " 'GeraldineChaplin',\n",
              " 'GeraldinePage',\n",
              " 'GilbertRoland',\n",
              " 'GingerRogers',\n",
              " 'GiorgosSeferis',\n",
              " 'GiulianoGemma',\n",
              " 'GladysCooper',\n",
              " 'GlendaJackson',\n",
              " 'GlennClose',\n",
              " 'GloriaSwanson',\n",
              " 'GoldieHawn',\n",
              " 'Gorbachev',\n",
              " 'GordonThomson',\n",
              " 'GraceKelly',\n",
              " 'GreerGarson',\n",
              " 'GregorMendel',\n",
              " 'GregoryPeck',\n",
              " 'GretaGarbo',\n",
              " 'HarrisonFord',\n",
              " 'HarrySTruman',\n",
              " 'HarveyKeitel',\n",
              " 'HatzidakisManos',\n",
              " 'HedyLamarr',\n",
              " 'HeinrichHertz',\n",
              " 'HelenHayes',\n",
              " 'HelenHunt',\n",
              " 'HelmutBerger',\n",
              " 'HenryFonda',\n",
              " 'HerbertLom',\n",
              " 'HorstBuchholz',\n",
              " 'Houston',\n",
              " 'HowardKeel',\n",
              " 'HumphreyBogard',\n",
              " 'IanHolm',\n",
              " 'IanMcKellen',\n",
              " 'IlyaPrigogine',\n",
              " 'ImeldaStaunton',\n",
              " 'IngridBergman',\n",
              " 'IreneDunne',\n",
              " 'IsabelleAdjani',\n",
              " 'IsabelleHuppert',\n",
              " 'JPMorgan',\n",
              " 'JPaulGetty',\n",
              " 'JWMarriott',\n",
              " 'JackColeman',\n",
              " 'JackLarson',\n",
              " 'JackLemon',\n",
              " 'JackNicolson',\n",
              " 'JamesArness',\n",
              " 'JamesBest',\n",
              " 'JamesCaan',\n",
              " 'JamesCagney',\n",
              " 'JamesCoburn',\n",
              " 'JamesGarner',\n",
              " 'JamesStewart',\n",
              " 'JamesWoods',\n",
              " 'JamieLeeCurtis',\n",
              " 'JaneAsher',\n",
              " 'JaneBirkin',\n",
              " 'JaneFonda',\n",
              " 'JanePowell',\n",
              " 'JaneRussell',\n",
              " 'JaneWyman',\n",
              " 'JanetEllis',\n",
              " 'JanetGaynor',\n",
              " 'JanetLeigh',\n",
              " 'JeanClaudeVanDamme',\n",
              " 'JeanGabin',\n",
              " 'JeanMarais',\n",
              " 'JeanPaulBelmondo',\n",
              " 'JeanPeters',\n",
              " 'JeanetteMacDonald',\n",
              " 'JeanneMoreau',\n",
              " 'JeffBridges',\n",
              " 'JeffDaniels',\n",
              " 'JeffGoldblum',\n",
              " 'JeffreyJones',\n",
              " 'JenniferAniston',\n",
              " 'JenniferJones',\n",
              " 'JeremyKemp',\n",
              " 'JerryLewis',\n",
              " 'JessicaTandy',\n",
              " 'JhonLenon',\n",
              " 'JoanCollins',\n",
              " 'JoanCrawford',\n",
              " 'JoanCusack',\n",
              " 'JoanFontaine',\n",
              " 'JoanLeslie',\n",
              " 'JoanLorring',\n",
              " 'JoanneWoodward',\n",
              " 'JodieFoster',\n",
              " 'JohnCassavetes',\n",
              " 'JohnCleese',\n",
              " 'JohnDRockefeller',\n",
              " 'JohnDerek',\n",
              " 'JohnForsythe',\n",
              " 'JohnGarfield',\n",
              " 'JohnHuston',\n",
              " 'JohnJames',\n",
              " 'JohnLithgow',\n",
              " 'JohnMalkovich',\n",
              " 'JohnTravolta',\n",
              " 'JohnVernon',\n",
              " 'JohnWayne',\n",
              " 'JohnnyCash',\n",
              " 'JonFinch',\n",
              " 'JonVoight',\n",
              " 'JosephCotten',\n",
              " 'JosephStalin',\n",
              " 'JudyDavis',\n",
              " 'JudyGarland',\n",
              " 'JudyHolliday',\n",
              " 'JuliaRoberts',\n",
              " 'JulieAdams',\n",
              " 'JulieAndrews',\n",
              " 'JulieBishop',\n",
              " 'JulieChristie',\n",
              " 'JulieHagerty',\n",
              " 'JuneAllyson',\n",
              " 'JuneLockhart',\n",
              " 'KateOMara',\n",
              " 'KatharineHepburn',\n",
              " 'KatharineRoss',\n",
              " 'KathleenTurner',\n",
              " 'KathrynGrayson',\n",
              " 'KathrynHays',\n",
              " 'KathyBates',\n",
              " 'KennethBranagh',\n",
              " 'KevinBacon',\n",
              " 'KevinCostner',\n",
              " 'KevinSpacey',\n",
              " 'KimBasinger',\n",
              " 'KimNovak',\n",
              " 'KirkDouglas',\n",
              " 'KlausKinski',\n",
              " 'Konstantaras',\n",
              " 'KostasVoutsas',\n",
              " 'KostasXatzixristos',\n",
              " 'KrisKristofferson',\n",
              " 'KristinScottThomas',\n",
              " 'LarryEllison',\n",
              " 'LauraAntonelli',\n",
              " 'LauraDern',\n",
              " 'LaurenBacall',\n",
              " 'LawrenceTierney',\n",
              " 'LeeJCobb',\n",
              " 'LeifErickson',\n",
              " 'LelandStanford',\n",
              " 'LeslieCaron',\n",
              " 'LeslieNielsen',\n",
              " 'LexBarker',\n",
              " 'LiamNeeson',\n",
              " 'LilliPalmer',\n",
              " 'LindaEvans',\n",
              " 'LindsayWagner',\n",
              " 'LinoVentura',\n",
              " 'LivUllmann',\n",
              " 'LizaMinelli',\n",
              " 'LorettaYoung',\n",
              " 'LorneGreene',\n",
              " 'LouCostello',\n",
              " 'LouisJourdan',\n",
              " 'LuiseRainer',\n",
              " 'LyleTalbot',\n",
              " 'MaggieSmith',\n",
              " 'MarcelloMastroianni',\n",
              " 'MargaretNolan',\n",
              " 'MargaretOBrien',\n",
              " 'MargaretThatcher',\n",
              " 'MargeChampion',\n",
              " 'MariaCallas',\n",
              " 'MarieCurie',\n",
              " 'MarietteHartley',\n",
              " 'MarisaPavan',\n",
              " 'MarleneDietrich',\n",
              " 'MarlonBrando',\n",
              " 'MartinLutherKing',\n",
              " 'MartinScorsese',\n",
              " 'MartinSheen',\n",
              " 'MaryPickford',\n",
              " 'MaryTamm',\n",
              " 'MaryTylerMoore',\n",
              " 'MaureenOHara',\n",
              " 'MaximilianShell',\n",
              " 'MegRyan',\n",
              " 'MelBrooks',\n",
              " 'MelFerrer',\n",
              " 'MelGibson',\n",
              " 'MelindaDillion',\n",
              " 'MendeleievDmitri',\n",
              " 'MerkouriMelina',\n",
              " 'MerylStreep',\n",
              " 'MichaelBloomberg',\n",
              " 'MichaelCaine',\n",
              " 'MichaelKeaton',\n",
              " 'MichaelPalin',\n",
              " 'MichaelSarrazin',\n",
              " 'MichaelYork',\n",
              " 'MichelPiccoli',\n",
              " 'MichellePfeiffer',\n",
              " 'MickJagger',\n",
              " 'MickeyRooney',\n",
              " 'MikeConnors',\n",
              " 'MireilleDarc',\n",
              " 'MonicaVitti',\n",
              " 'MorganFreeman ',\n",
              " 'Mparkoulis',\n",
              " 'MuhammadAli',\n",
              " 'MurrayHamilton',\n",
              " 'MylКneDemongeot',\n",
              " 'MyrnaLoy',\n",
              " 'NeildeGrasseTyson ',\n",
              " 'NelsonMandela',\n",
              " 'NewmanPaul',\n",
              " 'NickNolte',\n",
              " 'NicolasSarkozy',\n",
              " 'NielsBohr',\n",
              " 'NormaShearer',\n",
              " 'OdysseasElytis',\n",
              " 'OliviaHussey',\n",
              " 'OliviadeHavilland',\n",
              " 'OmarSharif',\n",
              " 'Onasis',\n",
              " 'OrnellaMuti',\n",
              " 'OrsonWelles',\n",
              " 'PabloPicasso',\n",
              " 'PamelaSueMartin',\n",
              " 'PatriciaNeal',\n",
              " 'PatrickStewart',\n",
              " 'PatrickSwayze',\n",
              " 'PaulAnka',\n",
              " 'PaulmcCartney',\n",
              " 'PeggyAshcroft',\n",
              " 'PeggyLipton',\n",
              " 'Pele',\n",
              " 'PeterFalk',\n",
              " 'PeterFonda',\n",
              " 'PeterGraves',\n",
              " 'PeterMarkRichman',\n",
              " 'PeterOToole',\n",
              " 'PeterSellers',\n",
              " 'PeterUstinov',\n",
              " 'PhilHartman',\n",
              " 'PiaLindstrom',\n",
              " 'PierceBrosnan',\n",
              " 'QueenElizabet',\n",
              " 'RabindranathTagore',\n",
              " 'RafVallone',\n",
              " 'RalphMacchio',\n",
              " 'RandolphScott',\n",
              " 'RaquelWelch',\n",
              " 'RayDanton',\n",
              " 'RayLiotta',\n",
              " 'ReginaldOwen',\n",
              " 'RexHarrison',\n",
              " 'RicardoMontalbаn',\n",
              " 'RichardAttenborough',\n",
              " 'RichardBoone',\n",
              " 'RichardBurton',\n",
              " 'RichardChamberlain',\n",
              " 'RichardCrenna',\n",
              " 'RichardPryor',\n",
              " 'RingoStarr',\n",
              " 'RitaHayworth',\n",
              " 'RitaLeviMontalcini',\n",
              " 'RobertDeNiro',\n",
              " 'RobertDuvall',\n",
              " 'RobertMitchum',\n",
              " 'RobertMorley',\n",
              " 'RobertOppenheimer',\n",
              " 'RobertPowell',\n",
              " 'RobertRedford',\n",
              " 'RobertRyan',\n",
              " 'RockHudson',\n",
              " 'RodTaylor',\n",
              " 'RogerAllam',\n",
              " 'RogerMoore',\n",
              " 'RomanPolanski',\n",
              " 'RomySchneider',\n",
              " 'RonPerlman',\n",
              " 'RonaldReagan',\n",
              " 'RoseMarie',\n",
              " 'Ross',\n",
              " 'RowanAtkinson',\n",
              " 'RoyRogers',\n",
              " 'RoyScheider',\n",
              " 'RutgerHauer',\n",
              " 'RuthGordon',\n",
              " 'RyanONeal',\n",
              " 'SamElliott',\n",
              " 'SamNeill',\n",
              " 'SamuelJacksonn',\n",
              " 'SarahDouglas',\n",
              " 'SartreJeanPaul',\n",
              " 'ScottGlenn',\n",
              " 'SeanConnery',\n",
              " 'SerenaWilliams',\n",
              " 'ShelleyWinters',\n",
              " 'ShirleyJones',\n",
              " 'ShirleyMacLaine',\n",
              " 'SidneyPoitier',\n",
              " 'SigourneyWeaver',\n",
              " 'SilvanaMangano',\n",
              " 'SimonMacCorkindale',\n",
              " 'SimoneSignoret',\n",
              " 'Soljenitsyne',\n",
              " 'SophiaLoren',\n",
              " 'SpencerTracy',\n",
              " 'StacyKeach',\n",
              " 'StefaniePowers',\n",
              " 'StephenHawking',\n",
              " 'SteveJobsb',\n",
              " 'SteveKanaly',\n",
              " 'SteveMartin',\n",
              " 'SteveMcQueen',\n",
              " 'StevenBerkoff',\n",
              " 'StevenSeagal',\n",
              " 'StevenSpielberg',\n",
              " 'StВphaneAudran',\n",
              " 'SusanGeorge',\n",
              " 'SusanHayward',\n",
              " 'SusanSarandon',\n",
              " 'SusannahYork',\n",
              " 'SylvesterStallone',\n",
              " 'TanyaRoberts',\n",
              " 'TellySavalas',\n",
              " 'TerryMoore',\n",
              " 'Thanasisveggos',\n",
              " 'ThelmaRitter',\n",
              " 'TheodorakisMikis',\n",
              " 'TheodoreRoosevelt',\n",
              " 'ThomasTerry',\n",
              " 'TildaSwinton',\n",
              " 'TimCurry',\n",
              " 'TimothyDalton',\n",
              " 'TippiHedren',\n",
              " 'TomHanks',\n",
              " 'TomHulce',\n",
              " 'TomJones',\n",
              " 'TomasMilian',\n",
              " 'TommyLeeJones',\n",
              " 'TommySands',\n",
              " 'TonyBlair',\n",
              " 'TonyCurtis',\n",
              " 'Turner',\n",
              " 'Tyson',\n",
              " 'UgoTognazzi',\n",
              " 'UrsulaAndress',\n",
              " 'ValerieHarper',\n",
              " 'VanessaRedgrave',\n",
              " 'VeraEllen',\n",
              " 'VeronicaLake',\n",
              " 'VictorMature',\n",
              " 'VincentPrice',\n",
              " 'VirnaLisi',\n",
              " 'VittorioGassman',\n",
              " 'VivienLeigh',\n",
              " 'WEBDuBois',\n",
              " 'WaltDisney',\n",
              " 'WalterPidgeon',\n",
              " 'WarrenBeatty',\n",
              " 'WillSmith ',\n",
              " 'WilliamDafoe',\n",
              " 'WilliamHolden',\n",
              " 'WilliamShatner',\n",
              " 'WinstonChurchill',\n",
              " 'WoodyAllen',\n",
              " 'YannisRitsos',\n",
              " 'YvesMontand',\n",
              " 'YvonneDeCarlo',\n",
              " 'ZsaZsaGabor',\n",
              " 'akistsoxatzopoulos',\n",
              " 'angelamerkel',\n",
              " 'cambell',\n",
              " 'campbell',\n",
              " 'mahatmagandhi',\n",
              " 'merrillcharles',\n",
              " 'michaeljackson',\n",
              " 'mitsotakis',\n",
              " 'motherTereza',\n",
              " 'tomselleck']"
            ]
          },
          "metadata": {
            "tags": []
          },
          "execution_count": 164
        }
      ]
    },
    {
      "cell_type": "code",
      "metadata": {
        "colab": {
          "base_uri": "https://localhost:8080/"
        },
        "id": "VkuZ9POAl6di",
        "outputId": "f67e14c4-ce05-414d-8d43-217e14062b7c"
      },
      "source": [
        "len(people)"
      ],
      "execution_count": 165,
      "outputs": [
        {
          "output_type": "execute_result",
          "data": {
            "text/plain": [
              "567"
            ]
          },
          "metadata": {
            "tags": []
          },
          "execution_count": 165
        }
      ]
    },
    {
      "cell_type": "code",
      "metadata": {
        "id": "V8D3BQYPAAOS",
        "colab": {
          "base_uri": "https://localhost:8080/"
        },
        "outputId": "9eaaaad0-a80d-492a-9c24-8e85d88a855e"
      },
      "source": [
        "male_age = copy_age.copy()\n",
        "female_age = copy_age.copy()\n",
        "\n",
        "for i in range(len(dataset)):                         # {'m': 0, 'f': 1}\n",
        "    if dataset.labels[i]['gender'] == 0:\n",
        "        male_age[dataset.labels[i]['age']] += 1\n",
        "    elif dataset.labels[i]['gender'] == 1:\n",
        "        female_age[dataset.labels[i]['age']] += 1\n",
        "    else:\n",
        "        print(\"Something is not right\")\n",
        "    \n",
        "male_age"
      ],
      "execution_count": 166,
      "outputs": [
        {
          "output_type": "execute_result",
          "data": {
            "text/plain": [
              "{1: 1,\n",
              " 2: 0,\n",
              " 3: 6,\n",
              " 4: 1,\n",
              " 5: 2,\n",
              " 6: 2,\n",
              " 7: 7,\n",
              " 8: 4,\n",
              " 9: 2,\n",
              " 10: 10,\n",
              " 11: 10,\n",
              " 12: 7,\n",
              " 13: 6,\n",
              " 14: 9,\n",
              " 15: 16,\n",
              " 16: 22,\n",
              " 17: 37,\n",
              " 18: 49,\n",
              " 19: 38,\n",
              " 20: 68,\n",
              " 21: 51,\n",
              " 22: 70,\n",
              " 23: 80,\n",
              " 24: 111,\n",
              " 25: 119,\n",
              " 26: 116,\n",
              " 27: 140,\n",
              " 28: 169,\n",
              " 29: 159,\n",
              " 30: 213,\n",
              " 31: 164,\n",
              " 32: 211,\n",
              " 33: 176,\n",
              " 34: 209,\n",
              " 35: 243,\n",
              " 36: 204,\n",
              " 37: 234,\n",
              " 38: 246,\n",
              " 39: 196,\n",
              " 40: 242,\n",
              " 41: 197,\n",
              " 42: 227,\n",
              " 43: 203,\n",
              " 44: 184,\n",
              " 45: 227,\n",
              " 46: 178,\n",
              " 47: 175,\n",
              " 48: 203,\n",
              " 49: 168,\n",
              " 50: 206,\n",
              " 51: 190,\n",
              " 52: 218,\n",
              " 53: 164,\n",
              " 54: 177,\n",
              " 55: 189,\n",
              " 56: 149,\n",
              " 57: 170,\n",
              " 58: 162,\n",
              " 59: 139,\n",
              " 60: 164,\n",
              " 61: 137,\n",
              " 62: 161,\n",
              " 63: 144,\n",
              " 64: 119,\n",
              " 65: 172,\n",
              " 66: 118,\n",
              " 67: 119,\n",
              " 68: 146,\n",
              " 69: 98,\n",
              " 70: 144,\n",
              " 71: 89,\n",
              " 72: 118,\n",
              " 73: 100,\n",
              " 74: 95,\n",
              " 75: 103,\n",
              " 76: 68,\n",
              " 77: 61,\n",
              " 78: 63,\n",
              " 79: 51,\n",
              " 80: 60,\n",
              " 81: 48,\n",
              " 82: 40,\n",
              " 83: 36,\n",
              " 84: 23,\n",
              " 85: 30,\n",
              " 86: 16,\n",
              " 87: 18,\n",
              " 88: 12,\n",
              " 89: 12,\n",
              " 90: 10,\n",
              " 91: 9,\n",
              " 92: 8,\n",
              " 93: 9,\n",
              " 94: 4,\n",
              " 95: 6,\n",
              " 96: 0,\n",
              " 97: 1,\n",
              " 98: 0,\n",
              " 99: 0,\n",
              " 100: 0,\n",
              " 101: 0}"
            ]
          },
          "metadata": {
            "tags": []
          },
          "execution_count": 166
        }
      ]
    },
    {
      "cell_type": "code",
      "metadata": {
        "colab": {
          "base_uri": "https://localhost:8080/"
        },
        "id": "FZ8ap2JtFMzi",
        "outputId": "5b94505b-5726-4b9f-82ae-6def17c13183"
      },
      "source": [
        "female_age"
      ],
      "execution_count": 167,
      "outputs": [
        {
          "output_type": "execute_result",
          "data": {
            "text/plain": [
              "{1: 0,\n",
              " 2: 0,\n",
              " 3: 2,\n",
              " 4: 1,\n",
              " 5: 2,\n",
              " 6: 6,\n",
              " 7: 4,\n",
              " 8: 4,\n",
              " 9: 4,\n",
              " 10: 3,\n",
              " 11: 10,\n",
              " 12: 7,\n",
              " 13: 16,\n",
              " 14: 14,\n",
              " 15: 27,\n",
              " 16: 30,\n",
              " 17: 45,\n",
              " 18: 71,\n",
              " 19: 72,\n",
              " 20: 93,\n",
              " 21: 112,\n",
              " 22: 113,\n",
              " 23: 132,\n",
              " 24: 148,\n",
              " 25: 165,\n",
              " 26: 159,\n",
              " 27: 164,\n",
              " 28: 178,\n",
              " 29: 154,\n",
              " 30: 172,\n",
              " 31: 152,\n",
              " 32: 167,\n",
              " 33: 162,\n",
              " 34: 153,\n",
              " 35: 170,\n",
              " 36: 143,\n",
              " 37: 136,\n",
              " 38: 136,\n",
              " 39: 125,\n",
              " 40: 144,\n",
              " 41: 123,\n",
              " 42: 129,\n",
              " 43: 122,\n",
              " 44: 97,\n",
              " 45: 115,\n",
              " 46: 109,\n",
              " 47: 114,\n",
              " 48: 108,\n",
              " 49: 99,\n",
              " 50: 111,\n",
              " 51: 97,\n",
              " 52: 92,\n",
              " 53: 86,\n",
              " 54: 81,\n",
              " 55: 105,\n",
              " 56: 78,\n",
              " 57: 73,\n",
              " 58: 84,\n",
              " 59: 74,\n",
              " 60: 81,\n",
              " 61: 70,\n",
              " 62: 77,\n",
              " 63: 74,\n",
              " 64: 74,\n",
              " 65: 59,\n",
              " 66: 59,\n",
              " 67: 58,\n",
              " 68: 69,\n",
              " 69: 52,\n",
              " 70: 72,\n",
              " 71: 56,\n",
              " 72: 57,\n",
              " 73: 56,\n",
              " 74: 43,\n",
              " 75: 55,\n",
              " 76: 41,\n",
              " 77: 43,\n",
              " 78: 43,\n",
              " 79: 25,\n",
              " 80: 31,\n",
              " 81: 28,\n",
              " 82: 28,\n",
              " 83: 21,\n",
              " 84: 20,\n",
              " 85: 28,\n",
              " 86: 19,\n",
              " 87: 12,\n",
              " 88: 9,\n",
              " 89: 7,\n",
              " 90: 9,\n",
              " 91: 8,\n",
              " 92: 3,\n",
              " 93: 6,\n",
              " 94: 3,\n",
              " 95: 3,\n",
              " 96: 2,\n",
              " 97: 0,\n",
              " 98: 2,\n",
              " 99: 1,\n",
              " 100: 2,\n",
              " 101: 1}"
            ]
          },
          "metadata": {
            "tags": []
          },
          "execution_count": 167
        }
      ]
    },
    {
      "cell_type": "code",
      "metadata": {
        "id": "vnkAP9-0Bdzk",
        "colab": {
          "base_uri": "https://localhost:8080/",
          "height": 297
        },
        "outputId": "45bae06d-2666-44fd-958b-a3840ede9811"
      },
      "source": [
        "#plot 1:\n",
        "male_amount = male_age.items()\n",
        "x, y = zip(*male_amount)\n",
        "\n",
        "plt.subplot(2, 1, 1)\n",
        "plt.grid()\n",
        "plt.plot(x,y)\n",
        "plt.title(\"Images of Males\")\n",
        "\n",
        "#plot 2:\n",
        "female_amount = female_age.items()\n",
        "x, y = zip(*female_amount)\n",
        "\n",
        "plt.subplot(2, 1, 2)\n",
        "plt.grid()\n",
        "plt.plot(x,y)\n",
        "plt.title(\"Images of Females\")\n",
        "\n",
        "plt.tight_layout()\n",
        "plt.show()"
      ],
      "execution_count": 168,
      "outputs": [
        {
          "output_type": "display_data",
          "data": {
            "image/png": "[encoded data removed]",
            "text/plain": [
              "<Figure size 432x288 with 2 Axes>"
            ]
          },
          "metadata": {
            "tags": [],
            "needs_background": "light"
          }
        }
      ]
    },
    {
      "cell_type": "code",
      "metadata": {
        "colab": {
          "base_uri": "https://localhost:8080/",
          "height": 295
        },
        "id": "K95qHW8aGuIa",
        "outputId": "109fae30-dfd8-4b15-ddaa-fb81bfb10577"
      },
      "source": [
        "#plot 1:\n",
        "male_amount = male_age.items()\n",
        "x1, y1 = zip(*male_amount)\n",
        "\n",
        "#plot 2:\n",
        "female_amount = female_age.items()\n",
        "x2, y2 = zip(*female_amount)\n",
        "\n",
        "plt.plot(x1, y1)\n",
        "plt.plot(x2, y2)\n",
        "\n",
        "plt.legend([\"Images of Males\", \"Images of Females\"])\n",
        "\n",
        "plt.title(\"Male to Female Ratio\")\n",
        "plt.xlabel(\"Age\")\n",
        "plt.ylabel(\"Number of Images\")\n",
        "\n",
        "plt.grid()\n",
        "\n",
        "plt.show()"
      ],
      "execution_count": 169,
      "outputs": [
        {
          "output_type": "display_data",
          "data": {
            "image/png": "[encoded data removed]",
            "text/plain": [
              "<Figure size 432x288 with 1 Axes>"
            ]
          },
          "metadata": {
            "tags": [],
            "needs_background": "light"
          }
        }
      ]
    },
    {
      "cell_type": "markdown",
      "metadata": {
        "id": "uz-yXnrkxrbH"
      },
      "source": [
        "# Training Testing"
      ]
    },
    {
      "cell_type": "markdown",
      "metadata": {
        "id": "JPEH71zMyLEs"
      },
      "source": [
        "## Split Dataset"
      ]
    },
    {
      "cell_type": "code",
      "metadata": {
        "id": "BY2tgsf9LgOa"
      },
      "source": [
        "# hyper params\n",
        "\n",
        "train_set, validation_set, test_set = dataset.get_loaders(\n",
        "    transform=ToTensor(),\n",
        "    batch_size=1,\n",
        "    train_size=0.7,\n",
        "    test_size=0.2,\n",
        ")"
      ],
      "execution_count": 170,
      "outputs": []
    },
    {
      "cell_type": "code",
      "metadata": {
        "colab": {
          "base_uri": "https://localhost:8080/"
        },
        "id": "IYytC-wYyYlW",
        "outputId": "e34b812a-195a-4fef-eccf-c64530e6f6e4"
      },
      "source": [
        "len(train_set), len(validation_set), len(test_set)"
      ],
      "execution_count": 171,
      "outputs": [
        {
          "output_type": "execute_result",
          "data": {
            "text/plain": [
              "(11541, 1650, 3297)"
            ]
          },
          "metadata": {
            "tags": []
          },
          "execution_count": 171
        }
      ]
    },
    {
      "cell_type": "code",
      "metadata": {
        "colab": {
          "base_uri": "https://localhost:8080/"
        },
        "id": "GoZG-zk0eZzt",
        "outputId": "e173207a-9a3d-40fe-d415-bf176b2df07b"
      },
      "source": [
        "sum = len(train_set) + len(validation_set) + len(test_set)\n",
        "sum == len(dataset)"
      ],
      "execution_count": 172,
      "outputs": [
        {
          "output_type": "execute_result",
          "data": {
            "text/plain": [
              "True"
            ]
          },
          "metadata": {
            "tags": []
          },
          "execution_count": 172
        }
      ]
    },
    {
      "cell_type": "code",
      "metadata": {
        "id": "my_payCm0_da"
      },
      "source": [
        ""
      ],
      "execution_count": 172,
      "outputs": []
    }
  ]
}