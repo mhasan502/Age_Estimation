{
  "nbformat": 4,
  "nbformat_minor": 0,
  "metadata": {
    "colab": {
      "name": "Age_Estimation.ipynb",
      "provenance": [],
      "authorship_tag": "ABX9TyOU1A2DkCaLapigtYkKvwEi",
      "include_colab_link": true
    },
    "kernelspec": {
      "name": "python3",
      "display_name": "Python 3"
    },
    "language_info": {
      "name": "python"
    }
  },
  "cells": [
    {
      "cell_type": "markdown",
      "metadata": {
        "id": "view-in-github",
        "colab_type": "text"
      },
      "source": [
        "<a href=\"https://colab.research.google.com/github/mhasan502/Age_Estimation/blob/Jibon/Age_Estimation.ipynb\" target=\"_parent\"><img src=\"https://colab.research.google.com/assets/colab-badge.svg\" alt=\"Open In Colab\"/></a>"
      ]
    },
    {
      "cell_type": "markdown",
      "metadata": {
        "id": "DyImaSzyRAwq"
      },
      "source": [
        "# custom_loader"
      ]
    },
    {
      "cell_type": "code",
      "metadata": {
        "colab": {
          "base_uri": "https://localhost:8080/"
        },
        "id": "i4oVz83oOP7S",
        "outputId": "8d829714-c48d-4b48-8530-9cfdd8ae2417"
      },
      "source": [
        "!pip install parse"
      ],
      "execution_count": 1,
      "outputs": [
        {
          "output_type": "stream",
          "text": [
            "Collecting parse\n",
            "  Downloading parse-1.19.0.tar.gz (30 kB)\n",
            "Building wheels for collected packages: parse\n",
            "  Building wheel for parse (setup.py) ... \u001b[?25l\u001b[?25hdone\n",
            "  Created wheel for parse: filename=parse-1.19.0-py3-none-any.whl size=24591 sha256=f863519adc5c372645115c59ccb512a5d6e3b8ff71bd23a09d542d351051c7b4\n",
            "  Stored in directory: /root/.cache/pip/wheels/9c/aa/cc/f2228050ccb40f22144b073f15a2c84f11204f29fc0dce028e\n",
            "Successfully built parse\n",
            "Installing collected packages: parse\n",
            "Successfully installed parse-1.19.0\n"
          ],
          "name": "stdout"
        }
      ]
    },
    {
      "cell_type": "code",
      "metadata": {
        "id": "DhncBiQYoMy2"
      },
      "source": [
        "import os\n",
        "import sys\n",
        "import torch\n",
        "from PIL import Image\n",
        "from parse import parse\n",
        "from torch.utils.data import DataLoader, Dataset"
      ],
      "execution_count": 2,
      "outputs": []
    },
    {
      "cell_type": "code",
      "metadata": {
        "id": "lv1i-ZpPOoUz"
      },
      "source": [
        "class AgeDBHandler:\n",
        "    def __init__(self, datasets_dir, preload=False, use_preprocessed=True, device: torch.device = torch.device('cpu')):\n",
        "        self.device = device\n",
        "        self.preload = preload\n",
        "\n",
        "        self.datasets_dir = datasets_dir\n",
        "        self.directory = os.path.join(datasets_dir, 'AgeDB')\n",
        "\n",
        "        self.trainDataset = None\n",
        "        self.testDataset = None\n",
        "        self.validateDataset = None\n",
        "\n",
        "        self._prepare_on_disk()\n",
        "\n",
        "    def get_loaders(self, transform, train_size=0.7, validate_size=0.2, test_size=0.1, batch_size=15, **kwargs):\n",
        "        if round(train_size + validate_size + test_size, 1) > 1.0:\n",
        "            sys.exit(\"Sum of the percentages should be less than 1. it's \" +\n",
        "                     str(train_size + validate_size + test_size) + \" now!\")\n",
        "\n",
        "        dataset = AgeDBDataset(directory=self.directory,\n",
        "                               transform=transform,\n",
        "                               preload=self.preload,\n",
        "                               device=self.device,\n",
        "                               **kwargs)\n",
        "\n",
        "        train_len = int(len(dataset) * train_size)\n",
        "        validate_len = int(len(dataset) * validate_size)\n",
        "        test_len = int(len(dataset) * test_size)\n",
        "        others_len = len(dataset) - train_len - validate_len - test_len\n",
        "\n",
        "        self.trainDataset, self.validateDataset, self.testDataset, _ = torch.utils.data.random_split(\n",
        "            dataset, [train_len, validate_len, test_len, others_len])\n",
        "\n",
        "        # noinspection PyUnusedLocal\n",
        "        dataset = None\n",
        "\n",
        "        train_loader = DataLoader(self.trainDataset, batch_size=batch_size)\n",
        "        validate_loader = DataLoader(self.validateDataset, batch_size=batch_size)\n",
        "        test_loader = DataLoader(self.testDataset, batch_size=batch_size)\n",
        "\n",
        "        return train_loader, validate_loader, test_loader\n",
        "\n",
        "    def _prepare_on_disk(self):\n",
        "        if os.path.exists(self.directory):\n",
        "            if len(os.listdir(self.directory)) != 0:\n",
        "                print('AgeDB Already Exists on ' +\n",
        "                      self.directory + '.We will use it!')\n",
        "                return\n",
        "            \n",
        "        print('Could not find AgeDB on', self.directory)\n",
        "        print('Looking for ', self.zipFile)"
      ],
      "execution_count": 3,
      "outputs": []
    },
    {
      "cell_type": "code",
      "metadata": {
        "id": "7oAr4OxhOr9S"
      },
      "source": [
        "class AgeDBDataset(Dataset):\n",
        "    def __init__(self, directory, transform, preload=False, device: torch.device = torch.device('cpu'), **kwargs):\n",
        "        self.device = device\n",
        "        self.directory = directory if kwargs.get('usePreprocessed', 0) == 0 else os.path.join(directory, 'preProcessed')\n",
        "        self.transform = transform\n",
        "        gender_to_class_id = {'m': 0, 'f': 1}\n",
        "        self.labels = []\n",
        "        self.images = []\n",
        "        self.preload = preload\n",
        "\n",
        "        for i, file in enumerate(os.listdir(self.directory)):\n",
        "            if file.endswith(('_2.jpg', '_3.jpg')):  # TODO\n",
        "                continue\n",
        "            file_labels = parse('{}_{person}_{age}_{gender}.jpg', file)\n",
        "            \n",
        "            if file_labels is None:\n",
        "                continue\n",
        "                \n",
        "            if self.preload:\n",
        "                image = Image.open(os.path.join(self.directory, file)).convert('RGB')\n",
        "                \n",
        "                if self.transform is not None:\n",
        "                    image = self.transform(image).to(self.device)\n",
        "            else:\n",
        "                image = os.path.join(self.directory, file)\n",
        "\n",
        "            self.images.append(image)\n",
        "            person = str(file_labels['person'])\n",
        "            gender = gender_to_class_id[file_labels['gender']]\n",
        "            age = int(file_labels['age'])\n",
        "            self.labels.append({\n",
        "                'person': person,\n",
        "                'age': age,\n",
        "                'gender': gender\n",
        "            })\n",
        "        pass\n",
        "\n",
        "    def __len__(self):\n",
        "        return len(self.labels)\n",
        "\n",
        "    def __getitem__(self, idx):\n",
        "        if torch.is_tensor(idx):\n",
        "            idx = idx.tolist()\n",
        "\n",
        "        image = self.images[idx]\n",
        "\n",
        "        if not self.preload:\n",
        "            image = Image.open(image).convert('RGB')\n",
        "            if self.transform is not None:\n",
        "                image = self.transform(image).to(self.device)\n",
        "\n",
        "        labels = {\n",
        "            'person': self.labels[idx]['person'], \n",
        "            'age': self.labels[idx]['age'], \n",
        "            'gender': self.labels[idx]['gender']\n",
        "            }\n",
        "        return image.to(self.device), labels"
      ],
      "execution_count": 4,
      "outputs": []
    },
    {
      "cell_type": "markdown",
      "metadata": {
        "id": "sSyRs2ev4pd7"
      },
      "source": [
        "# Preprocessing"
      ]
    },
    {
      "cell_type": "code",
      "metadata": {
        "id": "djX4bEOrQPk7"
      },
      "source": [
        "from torch import nn\n",
        "from torchvision import datasets\n",
        "import torchvision\n",
        "from torchvision.transforms import ToTensor\n",
        "import matplotlib.pyplot as plt"
      ],
      "execution_count": 5,
      "outputs": []
    },
    {
      "cell_type": "code",
      "metadata": {
        "colab": {
          "base_uri": "https://localhost:8080/"
        },
        "id": "YWe2vtzS45kx",
        "outputId": "5d6a17a5-52b3-4b7d-ade9-cfd4d70a4756"
      },
      "source": [
        "device = torch.device(\"cuda\") if torch.cuda.is_available() else torch.device(\"cpu\")\n",
        "device"
      ],
      "execution_count": 6,
      "outputs": [
        {
          "output_type": "execute_result",
          "data": {
            "text/plain": [
              "device(type='cpu')"
            ]
          },
          "metadata": {
            "tags": []
          },
          "execution_count": 6
        }
      ]
    },
    {
      "cell_type": "markdown",
      "metadata": {
        "id": "KuNwEzTRQmr6"
      },
      "source": [
        "## Loading Dataset"
      ]
    },
    {
      "cell_type": "code",
      "metadata": {
        "colab": {
          "base_uri": "https://localhost:8080/"
        },
        "id": "gq-Z6OzeZZgU",
        "outputId": "ca572bd2-abc1-4a04-c461-f0b99a83af01"
      },
      "source": [
        "from google.colab import drive\n",
        "drive.mount('/content/gdrive')"
      ],
      "execution_count": 7,
      "outputs": [
        {
          "output_type": "stream",
          "text": [
            "Mounted at /content/gdrive\n"
          ],
          "name": "stdout"
        }
      ]
    },
    {
      "cell_type": "code",
      "metadata": {
        "id": "WwhQoytMQSI5"
      },
      "source": [
        "dataset = AgeDBDataset(\n",
        "    directory = '/content/gdrive/MyDrive/Colab Notebooks/AgeDBDataset/AgeDB',\n",
        "    transform = ToTensor(),\n",
        "    device = device\n",
        ")"
      ],
      "execution_count": 8,
      "outputs": []
    },
    {
      "cell_type": "markdown",
      "metadata": {
        "id": "l08dWwUNQahn"
      },
      "source": [
        "# Dataset Attributes"
      ]
    },
    {
      "cell_type": "code",
      "metadata": {
        "id": "mWbrU3L2QVTB",
        "colab": {
          "base_uri": "https://localhost:8080/"
        },
        "outputId": "a1f34678-b336-4cde-90e2-3cbb11180928"
      },
      "source": [
        "len(dataset)"
      ],
      "execution_count": 9,
      "outputs": [
        {
          "output_type": "execute_result",
          "data": {
            "text/plain": [
              "16488"
            ]
          },
          "metadata": {
            "tags": []
          },
          "execution_count": 9
        }
      ]
    },
    {
      "cell_type": "code",
      "metadata": {
        "colab": {
          "base_uri": "https://localhost:8080/"
        },
        "id": "9NO0Frjn-4Tc",
        "outputId": "5b317652-d12f-484e-fef7-2da4d6e3e233"
      },
      "source": [
        "dataset[0]"
      ],
      "execution_count": 10,
      "outputs": [
        {
          "output_type": "execute_result",
          "data": {
            "text/plain": [
              "(tensor([[[0.4196, 0.4157, 0.4157,  ..., 0.5020, 0.4824, 0.4667],\n",
              "          [0.4196, 0.4196, 0.4157,  ..., 0.4980, 0.4745, 0.4588],\n",
              "          [0.4235, 0.4196, 0.4157,  ..., 0.4902, 0.4667, 0.4510],\n",
              "          ...,\n",
              "          [0.2549, 0.2588, 0.2627,  ..., 0.0627, 0.0627, 0.0667],\n",
              "          [0.2471, 0.2510, 0.2549,  ..., 0.0627, 0.0588, 0.0627],\n",
              "          [0.2392, 0.2431, 0.2471,  ..., 0.0627, 0.0588, 0.0627]],\n",
              " \n",
              "         [[0.3333, 0.3294, 0.3294,  ..., 0.4314, 0.4118, 0.3961],\n",
              "          [0.3333, 0.3333, 0.3294,  ..., 0.4275, 0.4039, 0.3882],\n",
              "          [0.3373, 0.3333, 0.3294,  ..., 0.4196, 0.3961, 0.3804],\n",
              "          ...,\n",
              "          [0.1961, 0.2000, 0.2039,  ..., 0.0667, 0.0667, 0.0706],\n",
              "          [0.1882, 0.1922, 0.1961,  ..., 0.0667, 0.0627, 0.0667],\n",
              "          [0.1804, 0.1843, 0.1882,  ..., 0.0667, 0.0627, 0.0667]],\n",
              " \n",
              "         [[0.2824, 0.2784, 0.2784,  ..., 0.3843, 0.3647, 0.3569],\n",
              "          [0.2824, 0.2824, 0.2784,  ..., 0.3804, 0.3569, 0.3490],\n",
              "          [0.2863, 0.2824, 0.2784,  ..., 0.3725, 0.3490, 0.3412],\n",
              "          ...,\n",
              "          [0.1843, 0.1882, 0.1922,  ..., 0.0824, 0.0824, 0.0863],\n",
              "          [0.1765, 0.1804, 0.1843,  ..., 0.0824, 0.0784, 0.0824],\n",
              "          [0.1686, 0.1725, 0.1765,  ..., 0.0824, 0.0784, 0.0824]]]),\n",
              " {'age': 32, 'gender': 1, 'person': 'KateOMara'})"
            ]
          },
          "metadata": {
            "tags": []
          },
          "execution_count": 10
        }
      ]
    },
    {
      "cell_type": "code",
      "metadata": {
        "id": "DV5NQW5ZRZ83",
        "colab": {
          "base_uri": "https://localhost:8080/"
        },
        "outputId": "5c40d7d2-8f06-46bc-f1b0-26599495b3cf"
      },
      "source": [
        "type(dataset[0])"
      ],
      "execution_count": 11,
      "outputs": [
        {
          "output_type": "execute_result",
          "data": {
            "text/plain": [
              "tuple"
            ]
          },
          "metadata": {
            "tags": []
          },
          "execution_count": 11
        }
      ]
    },
    {
      "cell_type": "code",
      "metadata": {
        "id": "ljt3JQDvQW-J",
        "colab": {
          "base_uri": "https://localhost:8080/"
        },
        "outputId": "5b57f46c-f1fc-46a9-956b-5ccbc89ea59b"
      },
      "source": [
        "dataset.labels[0]"
      ],
      "execution_count": 12,
      "outputs": [
        {
          "output_type": "execute_result",
          "data": {
            "text/plain": [
              "{'age': 32, 'gender': 1, 'person': 'KateOMara'}"
            ]
          },
          "metadata": {
            "tags": []
          },
          "execution_count": 12
        }
      ]
    },
    {
      "cell_type": "code",
      "metadata": {
        "colab": {
          "base_uri": "https://localhost:8080/"
        },
        "id": "gljRTyWyANru",
        "outputId": "220926f3-d508-4cb1-ff58-34c51ae27d6f"
      },
      "source": [
        "print(dataset.images[0])"
      ],
      "execution_count": 13,
      "outputs": [
        {
          "output_type": "stream",
          "text": [
            "/content/gdrive/MyDrive/Colab Notebooks/AgeDBDataset/AgeDB/15588_KateOMara_32_f.jpg\n"
          ],
          "name": "stdout"
        }
      ]
    },
    {
      "cell_type": "code",
      "metadata": {
        "colab": {
          "base_uri": "https://localhost:8080/",
          "height": 286
        },
        "id": "KkQADYC1AVEM",
        "outputId": "d9887836-cc61-44fb-9099-1d3d13404212"
      },
      "source": [
        "plt.figure()\n",
        "plt.imshow(plt.imread(dataset.images[0]))"
      ],
      "execution_count": 14,
      "outputs": [
        {
          "output_type": "execute_result",
          "data": {
            "text/plain": [
              "<matplotlib.image.AxesImage at 0x7f1b6d0f1650>"
            ]
          },
          "metadata": {
            "tags": []
          },
          "execution_count": 14
        },
        {
          "output_type": "display_data",
          "data": {
            "image/png": "[encoded data removed]",
            "text/plain": [
              "<Figure size 432x288 with 1 Axes>"
            ]
          },
          "metadata": {
            "tags": [],
            "needs_background": "light"
          }
        }
      ]
    },
    {
      "cell_type": "code",
      "metadata": {
        "colab": {
          "base_uri": "https://localhost:8080/",
          "height": 303
        },
        "id": "UR-IGrDJBN60",
        "outputId": "bfd9fafb-4408-48a3-c661-94c0eee6c81a"
      },
      "source": [
        "print(dataset.images[1])\n",
        "\n",
        "plt.figure()\n",
        "plt.imshow(plt.imread(dataset.images[1]))"
      ],
      "execution_count": 15,
      "outputs": [
        {
          "output_type": "stream",
          "text": [
            "/content/gdrive/MyDrive/Colab Notebooks/AgeDBDataset/AgeDB/15658_KatharineRoss_68_f.jpg\n"
          ],
          "name": "stdout"
        },
        {
          "output_type": "execute_result",
          "data": {
            "text/plain": [
              "<matplotlib.image.AxesImage at 0x7f1b6d008dd0>"
            ]
          },
          "metadata": {
            "tags": []
          },
          "execution_count": 15
        },
        {
          "output_type": "display_data",
          "data": {
            "image/png": "[encoded data removed]",
            "text/plain": [
              "<Figure size 432x288 with 1 Axes>"
            ]
          },
          "metadata": {
            "tags": [],
            "needs_background": "light"
          }
        }
      ]
    },
    {
      "cell_type": "code",
      "metadata": {
        "colab": {
          "base_uri": "https://localhost:8080/"
        },
        "id": "XarAZumKEBzT",
        "outputId": "b1d2dec8-764a-4fdd-d009-18f054c3ae56"
      },
      "source": [
        "dataset.labels[1]"
      ],
      "execution_count": 16,
      "outputs": [
        {
          "output_type": "execute_result",
          "data": {
            "text/plain": [
              "{'age': 68, 'gender': 1, 'person': 'KatharineRoss'}"
            ]
          },
          "metadata": {
            "tags": []
          },
          "execution_count": 16
        }
      ]
    },
    {
      "cell_type": "code",
      "metadata": {
        "id": "tyINdKGfAY4T"
      },
      "source": [
        "age = []\n",
        "gender = []\n",
        "for i in range(len(dataset)):\n",
        "    age.append(dataset.labels[i]['age'])\n",
        "    gender.append(dataset.labels[i]['gender'])"
      ],
      "execution_count": 17,
      "outputs": []
    },
    {
      "cell_type": "code",
      "metadata": {
        "colab": {
          "base_uri": "https://localhost:8080/"
        },
        "id": "4Vq87-6TAbFL",
        "outputId": "e3d11052-9e9b-49da-99f6-44802ecf2fcc"
      },
      "source": [
        "print(\"Highest Age Value: \"+str(max(age))+\"\\nLowest Age Value: \"+str(min(age)))"
      ],
      "execution_count": 18,
      "outputs": [
        {
          "output_type": "stream",
          "text": [
            "Highest Age Value: 101\n",
            "Lowest Age Value: 1\n"
          ],
          "name": "stdout"
        }
      ]
    },
    {
      "cell_type": "code",
      "metadata": {
        "colab": {
          "base_uri": "https://localhost:8080/",
          "height": 265
        },
        "id": "GQdTzFKXAeKS",
        "outputId": "e7420080-aa59-4d8f-a2e7-3365eba7eb84"
      },
      "source": [
        "plt.plot(sorted(age))\n",
        "\n",
        "plt.show()"
      ],
      "execution_count": 40,
      "outputs": [
        {
          "output_type": "display_data",
          "data": {
            "image/png": "[encoded data removed]",
            "text/plain": [
              "<Figure size 432x288 with 1 Axes>"
            ]
          },
          "metadata": {
            "tags": [],
            "needs_background": "light"
          }
        }
      ]
    },
    {
      "cell_type": "code",
      "metadata": {
        "id": "9e2u96zKAhbN",
        "colab": {
          "base_uri": "https://localhost:8080/"
        },
        "outputId": "c3b685a3-95e5-4813-bc73-30f859928abe"
      },
      "source": [
        "listofzeros = [0] * len(dataset)\n",
        "same_age = [i for i in range(min(age), max(age) + 1)]\n",
        "\n",
        "age_number = dict(zip(same_age, listofzeros))\n",
        "copy_age = age_number.copy()\n",
        "age_number"
      ],
      "execution_count": 96,
      "outputs": [
        {
          "output_type": "execute_result",
          "data": {
            "text/plain": [
              "{1: 0,\n",
              " 2: 0,\n",
              " 3: 0,\n",
              " 4: 0,\n",
              " 5: 0,\n",
              " 6: 0,\n",
              " 7: 0,\n",
              " 8: 0,\n",
              " 9: 0,\n",
              " 10: 0,\n",
              " 11: 0,\n",
              " 12: 0,\n",
              " 13: 0,\n",
              " 14: 0,\n",
              " 15: 0,\n",
              " 16: 0,\n",
              " 17: 0,\n",
              " 18: 0,\n",
              " 19: 0,\n",
              " 20: 0,\n",
              " 21: 0,\n",
              " 22: 0,\n",
              " 23: 0,\n",
              " 24: 0,\n",
              " 25: 0,\n",
              " 26: 0,\n",
              " 27: 0,\n",
              " 28: 0,\n",
              " 29: 0,\n",
              " 30: 0,\n",
              " 31: 0,\n",
              " 32: 0,\n",
              " 33: 0,\n",
              " 34: 0,\n",
              " 35: 0,\n",
              " 36: 0,\n",
              " 37: 0,\n",
              " 38: 0,\n",
              " 39: 0,\n",
              " 40: 0,\n",
              " 41: 0,\n",
              " 42: 0,\n",
              " 43: 0,\n",
              " 44: 0,\n",
              " 45: 0,\n",
              " 46: 0,\n",
              " 47: 0,\n",
              " 48: 0,\n",
              " 49: 0,\n",
              " 50: 0,\n",
              " 51: 0,\n",
              " 52: 0,\n",
              " 53: 0,\n",
              " 54: 0,\n",
              " 55: 0,\n",
              " 56: 0,\n",
              " 57: 0,\n",
              " 58: 0,\n",
              " 59: 0,\n",
              " 60: 0,\n",
              " 61: 0,\n",
              " 62: 0,\n",
              " 63: 0,\n",
              " 64: 0,\n",
              " 65: 0,\n",
              " 66: 0,\n",
              " 67: 0,\n",
              " 68: 0,\n",
              " 69: 0,\n",
              " 70: 0,\n",
              " 71: 0,\n",
              " 72: 0,\n",
              " 73: 0,\n",
              " 74: 0,\n",
              " 75: 0,\n",
              " 76: 0,\n",
              " 77: 0,\n",
              " 78: 0,\n",
              " 79: 0,\n",
              " 80: 0,\n",
              " 81: 0,\n",
              " 82: 0,\n",
              " 83: 0,\n",
              " 84: 0,\n",
              " 85: 0,\n",
              " 86: 0,\n",
              " 87: 0,\n",
              " 88: 0,\n",
              " 89: 0,\n",
              " 90: 0,\n",
              " 91: 0,\n",
              " 92: 0,\n",
              " 93: 0,\n",
              " 94: 0,\n",
              " 95: 0,\n",
              " 96: 0,\n",
              " 97: 0,\n",
              " 98: 0,\n",
              " 99: 0,\n",
              " 100: 0,\n",
              " 101: 0}"
            ]
          },
          "metadata": {
            "tags": []
          },
          "execution_count": 96
        }
      ]
    },
    {
      "cell_type": "code",
      "metadata": {
        "colab": {
          "base_uri": "https://localhost:8080/"
        },
        "id": "0RsQrRHOP4po",
        "outputId": "639c35bb-8efa-4d65-9712-b27bff5dd762"
      },
      "source": [
        "for i in range(len(dataset)):\n",
        "    if dataset.labels[i]['age'] in age_number:\n",
        "        age_number[dataset.labels[i]['age']] += 1\n",
        "    \n",
        "age_number"
      ],
      "execution_count": 97,
      "outputs": [
        {
          "output_type": "execute_result",
          "data": {
            "text/plain": [
              "{1: 1,\n",
              " 2: 0,\n",
              " 3: 8,\n",
              " 4: 2,\n",
              " 5: 4,\n",
              " 6: 8,\n",
              " 7: 11,\n",
              " 8: 8,\n",
              " 9: 6,\n",
              " 10: 13,\n",
              " 11: 20,\n",
              " 12: 14,\n",
              " 13: 22,\n",
              " 14: 23,\n",
              " 15: 43,\n",
              " 16: 52,\n",
              " 17: 82,\n",
              " 18: 120,\n",
              " 19: 110,\n",
              " 20: 161,\n",
              " 21: 163,\n",
              " 22: 183,\n",
              " 23: 212,\n",
              " 24: 259,\n",
              " 25: 284,\n",
              " 26: 275,\n",
              " 27: 304,\n",
              " 28: 347,\n",
              " 29: 313,\n",
              " 30: 385,\n",
              " 31: 316,\n",
              " 32: 378,\n",
              " 33: 338,\n",
              " 34: 362,\n",
              " 35: 413,\n",
              " 36: 347,\n",
              " 37: 370,\n",
              " 38: 382,\n",
              " 39: 321,\n",
              " 40: 386,\n",
              " 41: 320,\n",
              " 42: 356,\n",
              " 43: 325,\n",
              " 44: 281,\n",
              " 45: 342,\n",
              " 46: 287,\n",
              " 47: 289,\n",
              " 48: 311,\n",
              " 49: 267,\n",
              " 50: 317,\n",
              " 51: 287,\n",
              " 52: 310,\n",
              " 53: 250,\n",
              " 54: 258,\n",
              " 55: 294,\n",
              " 56: 227,\n",
              " 57: 243,\n",
              " 58: 246,\n",
              " 59: 213,\n",
              " 60: 245,\n",
              " 61: 207,\n",
              " 62: 238,\n",
              " 63: 218,\n",
              " 64: 193,\n",
              " 65: 231,\n",
              " 66: 177,\n",
              " 67: 177,\n",
              " 68: 215,\n",
              " 69: 150,\n",
              " 70: 216,\n",
              " 71: 145,\n",
              " 72: 175,\n",
              " 73: 156,\n",
              " 74: 138,\n",
              " 75: 158,\n",
              " 76: 109,\n",
              " 77: 104,\n",
              " 78: 106,\n",
              " 79: 76,\n",
              " 80: 91,\n",
              " 81: 76,\n",
              " 82: 68,\n",
              " 83: 57,\n",
              " 84: 43,\n",
              " 85: 58,\n",
              " 86: 35,\n",
              " 87: 30,\n",
              " 88: 21,\n",
              " 89: 19,\n",
              " 90: 19,\n",
              " 91: 17,\n",
              " 92: 11,\n",
              " 93: 15,\n",
              " 94: 7,\n",
              " 95: 9,\n",
              " 96: 2,\n",
              " 97: 1,\n",
              " 98: 2,\n",
              " 99: 1,\n",
              " 100: 2,\n",
              " 101: 1}"
            ]
          },
          "metadata": {
            "tags": []
          },
          "execution_count": 97
        }
      ]
    },
    {
      "cell_type": "code",
      "metadata": {
        "colab": {
          "base_uri": "https://localhost:8080/",
          "height": 295
        },
        "id": "qdaVWdbOVnYv",
        "outputId": "a78d9568-1c93-4255-bc61-019c44a26594"
      },
      "source": [
        "age_amount = age_number.items()\n",
        "x, y = zip(*age_amount)\n",
        "\n",
        "plt.plot(x, y)\n",
        "plt.title(\"Images per Age\")\n",
        "plt.xlabel(\"Age\")\n",
        "plt.ylabel(\"Number of Images\")\n",
        "\n",
        "plt.grid()\n",
        "plt.show()  "
      ],
      "execution_count": 128,
      "outputs": [
        {
          "output_type": "display_data",
          "data": {
            "image/png": "[encoded data removed]",
            "text/plain": [
              "<Figure size 432x288 with 1 Axes>"
            ]
          },
          "metadata": {
            "tags": [],
            "needs_background": "light"
          }
        }
      ]
    },
    {
      "cell_type": "code",
      "metadata": {
        "colab": {
          "base_uri": "https://localhost:8080/"
        },
        "id": "gPvTnPElOzVS",
        "outputId": "f69c4c00-e847-4fda-caf7-e9becb3dcb4d"
      },
      "source": [
        "num_gender = {0: 0, 1: 0}\n",
        "for i in range(len(dataset)):                         # {'m': 0, 'f': 1}\n",
        "    if dataset.labels[i]['gender'] in num_gender:\n",
        "        num_gender[dataset.labels[i]['gender']] += 1\n",
        "    \n",
        "num_gender"
      ],
      "execution_count": 101,
      "outputs": [
        {
          "output_type": "execute_result",
          "data": {
            "text/plain": [
              "{0: 9788, 1: 6700}"
            ]
          },
          "metadata": {
            "tags": []
          },
          "execution_count": 101
        }
      ]
    },
    {
      "cell_type": "code",
      "metadata": {
        "colab": {
          "base_uri": "https://localhost:8080/",
          "height": 281
        },
        "id": "2l1xCL8MdKdV",
        "outputId": "7edd27cd-6fae-4de6-c396-27a38f5f7560"
      },
      "source": [
        "gender_amount = num_gender.items()\n",
        "_, y = zip(*gender_amount)\n",
        "\n",
        "plt.title(\"Images per Gender\")\n",
        "\n",
        "plt.grid()\n",
        "plt.bar(['Male', 'Female'], y, width = 0.1)\n",
        "plt.show()  "
      ],
      "execution_count": 102,
      "outputs": [
        {
          "output_type": "display_data",
          "data": {
            "image/png": "[encoded data removed]",
            "text/plain": [
              "<Figure size 432x288 with 1 Axes>"
            ]
          },
          "metadata": {
            "tags": [],
            "needs_background": "light"
          }
        }
      ]
    },
    {
      "cell_type": "code",
      "metadata": {
        "colab": {
          "base_uri": "https://localhost:8080/",
          "height": 264
        },
        "id": "bNokrDSRgAtw",
        "outputId": "705f0c6f-2b9e-430c-a1b6-998f32a18058"
      },
      "source": [
        "gender_amount = num_gender.items()\n",
        "_, y = zip(*gender_amount)\n",
        "\n",
        "plt.title(\"Images per Gender\")\n",
        "mylabels = [\"Male\", \"Female\"]\n",
        "myexplode = [0.03, 0]\n",
        "\n",
        "plt.grid()\n",
        "plt.pie(y, labels = mylabels, explode = myexplode, autopct='%1.2f%%')\n",
        "plt.show() "
      ],
      "execution_count": 103,
      "outputs": [
        {
          "output_type": "display_data",
          "data": {
            "image/png": "[encoded data removed]",
            "text/plain": [
              "<Figure size 432x288 with 1 Axes>"
            ]
          },
          "metadata": {
            "tags": []
          }
        }
      ]
    },
    {
      "cell_type": "code",
      "metadata": {
        "colab": {
          "base_uri": "https://localhost:8080/"
        },
        "id": "jEfq6xzLIyoh",
        "outputId": "cb4d7a5f-4526-4b15-ce54-0992edbeb60a"
      },
      "source": [
        "people = []\n",
        "for i in range(len(dataset)):\n",
        "    if dataset.labels[i]['person'] not in people:\n",
        "        people.append(dataset.labels[i]['person'])\n",
        "sorted(people)"
      ],
      "execution_count": 104,
      "outputs": [
        {
          "output_type": "execute_result",
          "data": {
            "text/plain": [
              "['AbeVigoda',\n",
              " 'AdolfHitlerr',\n",
              " 'AlCorley',\n",
              " 'AlKapone',\n",
              " 'AlPacino',\n",
              " 'AlainDelon',\n",
              " 'AlanRickman',\n",
              " 'AlanYoung',\n",
              " 'AlbertCamus',\n",
              " 'AlbertSchweitzer',\n",
              " 'AlbertoSordi',\n",
              " 'AlecGuinness',\n",
              " 'AlejandroRey',\n",
              " 'AlexanderGrahamBell',\n",
              " 'AlexandrakisAlekos',\n",
              " 'AliMacGraw',\n",
              " 'AlikiBoug',\n",
              " 'AmandaBlake',\n",
              " 'AmandaRedman',\n",
              " 'AndreMarieAmpКre',\n",
              " 'AndreasPapantreou',\n",
              " 'AndyGriffith',\n",
              " 'AngelaLansbury',\n",
              " 'AngieDickinson',\n",
              " 'AnitaEkberg',\n",
              " 'AnjelicaHuston',\n",
              " 'AnnJillian',\n",
              " 'AnnMargret',\n",
              " 'AnnMiller',\n",
              " 'AnnaMassey',\n",
              " 'AnneBancroft',\n",
              " 'AnneBaxter',\n",
              " 'AnnetteBening',\n",
              " 'AnnieGirardot',\n",
              " 'AnthonyAndrews',\n",
              " 'AnthonyHopkins',\n",
              " 'AnthonyPerkins',\n",
              " 'AnthonyQuayle',\n",
              " 'Arletty',\n",
              " 'ArmandAssante',\n",
              " 'ArnoldSchwarzenegger',\n",
              " 'AudreyHepburn',\n",
              " 'AvaGardner',\n",
              " 'BarbaraBain',\n",
              " 'BarbaraBouchet',\n",
              " 'BarbaraStanwyck',\n",
              " 'BarbraStreisand',\n",
              " 'BeaArthur',\n",
              " 'BenGazzara',\n",
              " 'BernadetteLafont',\n",
              " 'BerryGordy',\n",
              " 'BertrandRussell',\n",
              " 'BetteDavis',\n",
              " 'BetteMidler',\n",
              " 'BettyGarrett',\n",
              " 'BettyGrable',\n",
              " 'BeverlyRoberts',\n",
              " 'BillCosby',\n",
              " 'BillMurray',\n",
              " 'BillNighy',\n",
              " 'BoDerek',\n",
              " 'BobDylan',\n",
              " 'BobHope',\n",
              " 'BonnieHunt',\n",
              " 'Bono',\n",
              " 'BorisKarloff',\n",
              " 'BrianDennehy',\n",
              " 'BruceWillis',\n",
              " 'BurtLancaster',\n",
              " 'BurtReynolds',\n",
              " 'CHARLIERUGGLES',\n",
              " 'CarlMarx',\n",
              " 'CarlSagan',\n",
              " 'CarlosSantana',\n",
              " 'Carroll',\n",
              " 'CaryGrant',\n",
              " 'CatherineDeneuve',\n",
              " 'CatherineSchell',\n",
              " 'CatherineSpaak',\n",
              " 'CelesteHolm',\n",
              " 'CharlesBoyer',\n",
              " 'CharlesBronson',\n",
              " 'CharlesDarwin',\n",
              " 'CharlesGrodin',\n",
              " 'CharlieChaplin',\n",
              " 'CharlieSheen',\n",
              " 'CharltonHeaston',\n",
              " 'ChevyChase',\n",
              " 'ChristopherEccleston',\n",
              " 'ChristopherPlummer',\n",
              " 'ChristopherWalken',\n",
              " 'ChuckNorris',\n",
              " 'ClarkGable',\n",
              " 'ClaudeLВviStrauss',\n",
              " 'ClaudeRich',\n",
              " 'ClaudetteColbert',\n",
              " 'ClaudiaCardinale',\n",
              " 'ClerkMaxwell',\n",
              " 'CliffRobertson',\n",
              " 'ClintEastwood',\n",
              " 'ClintWalker',\n",
              " 'ConnieBooth',\n",
              " 'ConradHilton',\n",
              " 'CybillShepherd',\n",
              " 'CydCharisse',\n",
              " 'CyndiLauper',\n",
              " 'DaliahLavi',\n",
              " 'DanaAndrews',\n",
              " 'DanielleDarrieux',\n",
              " 'DannyDeVito',\n",
              " 'DannyGlover',\n",
              " 'DavidCarradine',\n",
              " 'DavidMcCallum',\n",
              " 'DavidNiven',\n",
              " 'DavidSarnoff',\n",
              " 'Davis',\n",
              " 'DebbieReynolds',\n",
              " 'DeborahKerr',\n",
              " 'DebraPaget',\n",
              " 'Dee',\n",
              " 'Dench',\n",
              " 'DenzelWashington',\n",
              " 'DerekJacobi',\n",
              " 'DianneWiest',\n",
              " 'DickVanDyke',\n",
              " 'DickieMoore',\n",
              " 'DirkBogarde',\n",
              " 'DonJohnson',\n",
              " 'DonnaDouglas',\n",
              " 'DonnaReed',\n",
              " 'DorisDay',\n",
              " 'DustinHoffman',\n",
              " 'DyanCannon',\n",
              " 'EdHarris',\n",
              " 'EdwardFox',\n",
              " 'EdwardGRobinson',\n",
              " 'EdwardTeller',\n",
              " 'EdwigeFenech',\n",
              " 'Einstain',\n",
              " 'ElVenizelos',\n",
              " 'EliWallach',\n",
              " 'ElizabethTaylor',\n",
              " 'ElkeSommer',\n",
              " 'EllenBurstyn',\n",
              " 'ElliottGould',\n",
              " 'ElsaMartinelli',\n",
              " 'ElvisPresley',\n",
              " 'EmmaThompson',\n",
              " 'EnricoFermi',\n",
              " 'ErinGray',\n",
              " 'ErnestBorgnine',\n",
              " 'ErnestHemingway',\n",
              " 'ErnestRutherford',\n",
              " 'ErrolFlynn',\n",
              " 'EsteeLauder',\n",
              " 'EstherWilliams',\n",
              " 'EvaMarieSaint',\n",
              " 'FaradayMichael',\n",
              " 'FayeDunaway',\n",
              " 'Fernandel',\n",
              " 'FernandoRey',\n",
              " 'FessParker',\n",
              " 'FidelCastro',\n",
              " 'FlemingAlex',\n",
              " 'Fotopoulos',\n",
              " 'FrancesDee',\n",
              " 'FrancescaAnnis',\n",
              " 'FrankSinatra',\n",
              " 'FranklinDRoosevelt',\n",
              " 'FredAstaire',\n",
              " 'FredMacMurray',\n",
              " 'FrederickSanger',\n",
              " 'FriedrichNietzsche',\n",
              " 'GabrielGarciaMarquez',\n",
              " 'Gaddafi',\n",
              " 'GalileoGalilei',\n",
              " 'GaryOldman',\n",
              " 'Garycooper',\n",
              " 'GenaRowlands',\n",
              " 'GeneHackman',\n",
              " 'GeneWilder',\n",
              " 'GeorgeCScott',\n",
              " 'GeorgeHWBush',\n",
              " 'GeorgeMontgomery',\n",
              " 'GeorgePeppard',\n",
              " 'GeorgesMarchal',\n",
              " 'GeraldineChaplin',\n",
              " 'GeraldinePage',\n",
              " 'GilbertRoland',\n",
              " 'GingerRogers',\n",
              " 'GiorgosSeferis',\n",
              " 'GiulianoGemma',\n",
              " 'GladysCooper',\n",
              " 'GlendaJackson',\n",
              " 'GlennClose',\n",
              " 'GloriaSwanson',\n",
              " 'GoldieHawn',\n",
              " 'Gorbachev',\n",
              " 'GordonThomson',\n",
              " 'GraceKelly',\n",
              " 'GreerGarson',\n",
              " 'GregorMendel',\n",
              " 'GregoryPeck',\n",
              " 'GretaGarbo',\n",
              " 'HarrisonFord',\n",
              " 'HarrySTruman',\n",
              " 'HarveyKeitel',\n",
              " 'HatzidakisManos',\n",
              " 'HedyLamarr',\n",
              " 'HeinrichHertz',\n",
              " 'HelenHayes',\n",
              " 'HelenHunt',\n",
              " 'HelmutBerger',\n",
              " 'HenryFonda',\n",
              " 'HerbertLom',\n",
              " 'HorstBuchholz',\n",
              " 'Houston',\n",
              " 'HowardKeel',\n",
              " 'HumphreyBogard',\n",
              " 'IanHolm',\n",
              " 'IanMcKellen',\n",
              " 'IlyaPrigogine',\n",
              " 'ImeldaStaunton',\n",
              " 'IngridBergman',\n",
              " 'IreneDunne',\n",
              " 'IsabelleAdjani',\n",
              " 'IsabelleHuppert',\n",
              " 'JPMorgan',\n",
              " 'JPaulGetty',\n",
              " 'JWMarriott',\n",
              " 'JackColeman',\n",
              " 'JackLarson',\n",
              " 'JackLemon',\n",
              " 'JackNicolson',\n",
              " 'JamesArness',\n",
              " 'JamesBest',\n",
              " 'JamesCaan',\n",
              " 'JamesCagney',\n",
              " 'JamesCoburn',\n",
              " 'JamesGarner',\n",
              " 'JamesStewart',\n",
              " 'JamesWoods',\n",
              " 'JamieLeeCurtis',\n",
              " 'JaneAsher',\n",
              " 'JaneBirkin',\n",
              " 'JaneFonda',\n",
              " 'JanePowell',\n",
              " 'JaneRussell',\n",
              " 'JaneWyman',\n",
              " 'JanetEllis',\n",
              " 'JanetGaynor',\n",
              " 'JanetLeigh',\n",
              " 'JeanClaudeVanDamme',\n",
              " 'JeanGabin',\n",
              " 'JeanMarais',\n",
              " 'JeanPaulBelmondo',\n",
              " 'JeanPeters',\n",
              " 'JeanetteMacDonald',\n",
              " 'JeanneMoreau',\n",
              " 'JeffBridges',\n",
              " 'JeffDaniels',\n",
              " 'JeffGoldblum',\n",
              " 'JeffreyJones',\n",
              " 'JenniferAniston',\n",
              " 'JenniferJones',\n",
              " 'JeremyKemp',\n",
              " 'JerryLewis',\n",
              " 'JessicaTandy',\n",
              " 'JhonLenon',\n",
              " 'JoanCollins',\n",
              " 'JoanCrawford',\n",
              " 'JoanCusack',\n",
              " 'JoanFontaine',\n",
              " 'JoanLeslie',\n",
              " 'JoanLorring',\n",
              " 'JoanneWoodward',\n",
              " 'JodieFoster',\n",
              " 'JohnCassavetes',\n",
              " 'JohnCleese',\n",
              " 'JohnDRockefeller',\n",
              " 'JohnDerek',\n",
              " 'JohnForsythe',\n",
              " 'JohnGarfield',\n",
              " 'JohnHuston',\n",
              " 'JohnJames',\n",
              " 'JohnLithgow',\n",
              " 'JohnMalkovich',\n",
              " 'JohnTravolta',\n",
              " 'JohnVernon',\n",
              " 'JohnWayne',\n",
              " 'JohnnyCash',\n",
              " 'JonFinch',\n",
              " 'JonVoight',\n",
              " 'JosephCotten',\n",
              " 'JosephStalin',\n",
              " 'JudyDavis',\n",
              " 'JudyGarland',\n",
              " 'JudyHolliday',\n",
              " 'JuliaRoberts',\n",
              " 'JulieAdams',\n",
              " 'JulieAndrews',\n",
              " 'JulieBishop',\n",
              " 'JulieChristie',\n",
              " 'JulieHagerty',\n",
              " 'JuneAllyson',\n",
              " 'JuneLockhart',\n",
              " 'KateOMara',\n",
              " 'KatharineHepburn',\n",
              " 'KatharineRoss',\n",
              " 'KathleenTurner',\n",
              " 'KathrynGrayson',\n",
              " 'KathrynHays',\n",
              " 'KathyBates',\n",
              " 'KennethBranagh',\n",
              " 'KevinBacon',\n",
              " 'KevinCostner',\n",
              " 'KevinSpacey',\n",
              " 'KimBasinger',\n",
              " 'KimNovak',\n",
              " 'KirkDouglas',\n",
              " 'KlausKinski',\n",
              " 'Konstantaras',\n",
              " 'KostasVoutsas',\n",
              " 'KostasXatzixristos',\n",
              " 'KrisKristofferson',\n",
              " 'KristinScottThomas',\n",
              " 'LarryEllison',\n",
              " 'LauraAntonelli',\n",
              " 'LauraDern',\n",
              " 'LaurenBacall',\n",
              " 'LawrenceTierney',\n",
              " 'LeeJCobb',\n",
              " 'LeifErickson',\n",
              " 'LelandStanford',\n",
              " 'LeslieCaron',\n",
              " 'LeslieNielsen',\n",
              " 'LexBarker',\n",
              " 'LiamNeeson',\n",
              " 'LilliPalmer',\n",
              " 'LindaEvans',\n",
              " 'LindsayWagner',\n",
              " 'LinoVentura',\n",
              " 'LivUllmann',\n",
              " 'LizaMinelli',\n",
              " 'LorettaYoung',\n",
              " 'LorneGreene',\n",
              " 'LouCostello',\n",
              " 'LouisJourdan',\n",
              " 'LuiseRainer',\n",
              " 'LyleTalbot',\n",
              " 'MaggieSmith',\n",
              " 'MarcelloMastroianni',\n",
              " 'MargaretNolan',\n",
              " 'MargaretOBrien',\n",
              " 'MargaretThatcher',\n",
              " 'MargeChampion',\n",
              " 'MariaCallas',\n",
              " 'MarieCurie',\n",
              " 'MarietteHartley',\n",
              " 'MarisaPavan',\n",
              " 'MarleneDietrich',\n",
              " 'MarlonBrando',\n",
              " 'MartinLutherKing',\n",
              " 'MartinScorsese',\n",
              " 'MartinSheen',\n",
              " 'MaryPickford',\n",
              " 'MaryTamm',\n",
              " 'MaryTylerMoore',\n",
              " 'MaureenOHara',\n",
              " 'MaximilianShell',\n",
              " 'MegRyan',\n",
              " 'MelBrooks',\n",
              " 'MelFerrer',\n",
              " 'MelGibson',\n",
              " 'MelindaDillion',\n",
              " 'MendeleievDmitri',\n",
              " 'MerkouriMelina',\n",
              " 'MerylStreep',\n",
              " 'MichaelBloomberg',\n",
              " 'MichaelCaine',\n",
              " 'MichaelKeaton',\n",
              " 'MichaelPalin',\n",
              " 'MichaelSarrazin',\n",
              " 'MichaelYork',\n",
              " 'MichelPiccoli',\n",
              " 'MichellePfeiffer',\n",
              " 'MickJagger',\n",
              " 'MickeyRooney',\n",
              " 'MikeConnors',\n",
              " 'MireilleDarc',\n",
              " 'MonicaVitti',\n",
              " 'MorganFreeman ',\n",
              " 'Mparkoulis',\n",
              " 'MuhammadAli',\n",
              " 'MurrayHamilton',\n",
              " 'MylКneDemongeot',\n",
              " 'MyrnaLoy',\n",
              " 'NeildeGrasseTyson ',\n",
              " 'NelsonMandela',\n",
              " 'NewmanPaul',\n",
              " 'NickNolte',\n",
              " 'NicolasSarkozy',\n",
              " 'NielsBohr',\n",
              " 'NormaShearer',\n",
              " 'OdysseasElytis',\n",
              " 'OliviaHussey',\n",
              " 'OliviadeHavilland',\n",
              " 'OmarSharif',\n",
              " 'Onasis',\n",
              " 'OrnellaMuti',\n",
              " 'OrsonWelles',\n",
              " 'PabloPicasso',\n",
              " 'PamelaSueMartin',\n",
              " 'PatriciaNeal',\n",
              " 'PatrickStewart',\n",
              " 'PatrickSwayze',\n",
              " 'PaulAnka',\n",
              " 'PaulmcCartney',\n",
              " 'PeggyAshcroft',\n",
              " 'PeggyLipton',\n",
              " 'Pele',\n",
              " 'PeterFalk',\n",
              " 'PeterFonda',\n",
              " 'PeterGraves',\n",
              " 'PeterMarkRichman',\n",
              " 'PeterOToole',\n",
              " 'PeterSellers',\n",
              " 'PeterUstinov',\n",
              " 'PhilHartman',\n",
              " 'PiaLindstrom',\n",
              " 'PierceBrosnan',\n",
              " 'QueenElizabet',\n",
              " 'RabindranathTagore',\n",
              " 'RafVallone',\n",
              " 'RalphMacchio',\n",
              " 'RandolphScott',\n",
              " 'RaquelWelch',\n",
              " 'RayDanton',\n",
              " 'RayLiotta',\n",
              " 'ReginaldOwen',\n",
              " 'RexHarrison',\n",
              " 'RicardoMontalbаn',\n",
              " 'RichardAttenborough',\n",
              " 'RichardBoone',\n",
              " 'RichardBurton',\n",
              " 'RichardChamberlain',\n",
              " 'RichardCrenna',\n",
              " 'RichardPryor',\n",
              " 'RingoStarr',\n",
              " 'RitaHayworth',\n",
              " 'RitaLeviMontalcini',\n",
              " 'RobertDeNiro',\n",
              " 'RobertDuvall',\n",
              " 'RobertMitchum',\n",
              " 'RobertMorley',\n",
              " 'RobertOppenheimer',\n",
              " 'RobertPowell',\n",
              " 'RobertRedford',\n",
              " 'RobertRyan',\n",
              " 'RockHudson',\n",
              " 'RodTaylor',\n",
              " 'RogerAllam',\n",
              " 'RogerMoore',\n",
              " 'RomanPolanski',\n",
              " 'RomySchneider',\n",
              " 'RonPerlman',\n",
              " 'RonaldReagan',\n",
              " 'RoseMarie',\n",
              " 'Ross',\n",
              " 'RowanAtkinson',\n",
              " 'RoyRogers',\n",
              " 'RoyScheider',\n",
              " 'RutgerHauer',\n",
              " 'RuthGordon',\n",
              " 'RyanONeal',\n",
              " 'SamElliott',\n",
              " 'SamNeill',\n",
              " 'SamuelJacksonn',\n",
              " 'SarahDouglas',\n",
              " 'SartreJeanPaul',\n",
              " 'ScottGlenn',\n",
              " 'SeanConnery',\n",
              " 'SerenaWilliams',\n",
              " 'ShelleyWinters',\n",
              " 'ShirleyJones',\n",
              " 'ShirleyMacLaine',\n",
              " 'SidneyPoitier',\n",
              " 'SigourneyWeaver',\n",
              " 'SilvanaMangano',\n",
              " 'SimonMacCorkindale',\n",
              " 'SimoneSignoret',\n",
              " 'Soljenitsyne',\n",
              " 'SophiaLoren',\n",
              " 'SpencerTracy',\n",
              " 'StacyKeach',\n",
              " 'StefaniePowers',\n",
              " 'StephenHawking',\n",
              " 'SteveJobsb',\n",
              " 'SteveKanaly',\n",
              " 'SteveMartin',\n",
              " 'SteveMcQueen',\n",
              " 'StevenBerkoff',\n",
              " 'StevenSeagal',\n",
              " 'StevenSpielberg',\n",
              " 'StВphaneAudran',\n",
              " 'SusanGeorge',\n",
              " 'SusanHayward',\n",
              " 'SusanSarandon',\n",
              " 'SusannahYork',\n",
              " 'SylvesterStallone',\n",
              " 'TanyaRoberts',\n",
              " 'TellySavalas',\n",
              " 'TerryMoore',\n",
              " 'Thanasisveggos',\n",
              " 'ThelmaRitter',\n",
              " 'TheodorakisMikis',\n",
              " 'TheodoreRoosevelt',\n",
              " 'ThomasTerry',\n",
              " 'TildaSwinton',\n",
              " 'TimCurry',\n",
              " 'TimothyDalton',\n",
              " 'TippiHedren',\n",
              " 'TomHanks',\n",
              " 'TomHulce',\n",
              " 'TomJones',\n",
              " 'TomasMilian',\n",
              " 'TommyLeeJones',\n",
              " 'TommySands',\n",
              " 'TonyBlair',\n",
              " 'TonyCurtis',\n",
              " 'Turner',\n",
              " 'Tyson',\n",
              " 'UgoTognazzi',\n",
              " 'UrsulaAndress',\n",
              " 'ValerieHarper',\n",
              " 'VanessaRedgrave',\n",
              " 'VeraEllen',\n",
              " 'VeronicaLake',\n",
              " 'VictorMature',\n",
              " 'VincentPrice',\n",
              " 'VirnaLisi',\n",
              " 'VittorioGassman',\n",
              " 'VivienLeigh',\n",
              " 'WEBDuBois',\n",
              " 'WaltDisney',\n",
              " 'WalterPidgeon',\n",
              " 'WarrenBeatty',\n",
              " 'WillSmith ',\n",
              " 'WilliamDafoe',\n",
              " 'WilliamHolden',\n",
              " 'WilliamShatner',\n",
              " 'WinstonChurchill',\n",
              " 'WoodyAllen',\n",
              " 'YannisRitsos',\n",
              " 'YvesMontand',\n",
              " 'YvonneDeCarlo',\n",
              " 'ZsaZsaGabor',\n",
              " 'akistsoxatzopoulos',\n",
              " 'angelamerkel',\n",
              " 'cambell',\n",
              " 'campbell',\n",
              " 'mahatmagandhi',\n",
              " 'merrillcharles',\n",
              " 'michaeljackson',\n",
              " 'mitsotakis',\n",
              " 'motherTereza',\n",
              " 'tomselleck']"
            ]
          },
          "metadata": {
            "tags": []
          },
          "execution_count": 104
        }
      ]
    },
    {
      "cell_type": "code",
      "metadata": {
        "colab": {
          "base_uri": "https://localhost:8080/"
        },
        "id": "VkuZ9POAl6di",
        "outputId": "91246516-0577-4e03-a023-be8ff47302fe"
      },
      "source": [
        "len(people)"
      ],
      "execution_count": 105,
      "outputs": [
        {
          "output_type": "execute_result",
          "data": {
            "text/plain": [
              "567"
            ]
          },
          "metadata": {
            "tags": []
          },
          "execution_count": 105
        }
      ]
    },
    {
      "cell_type": "code",
      "metadata": {
        "colab": {
          "base_uri": "https://localhost:8080/"
        },
        "id": "V8D3BQYPAAOS",
        "outputId": "9942d5ac-7030-42c4-d5bc-863c9d2df2cb"
      },
      "source": [
        "male_age = copy_age.copy()\n",
        "female_age = copy_age.copy()\n",
        "\n",
        "for i in range(len(dataset)):                         # {'m': 0, 'f': 1}\n",
        "    if dataset.labels[i]['gender'] == 0:\n",
        "        male_age[dataset.labels[i]['age']] += 1\n",
        "    elif dataset.labels[i]['gender'] == 1:\n",
        "        female_age[dataset.labels[i]['age']] += 1\n",
        "    \n",
        "male_age"
      ],
      "execution_count": 106,
      "outputs": [
        {
          "output_type": "execute_result",
          "data": {
            "text/plain": [
              "{1: 1,\n",
              " 2: 0,\n",
              " 3: 6,\n",
              " 4: 1,\n",
              " 5: 2,\n",
              " 6: 2,\n",
              " 7: 7,\n",
              " 8: 4,\n",
              " 9: 2,\n",
              " 10: 10,\n",
              " 11: 10,\n",
              " 12: 7,\n",
              " 13: 6,\n",
              " 14: 9,\n",
              " 15: 16,\n",
              " 16: 22,\n",
              " 17: 37,\n",
              " 18: 49,\n",
              " 19: 38,\n",
              " 20: 68,\n",
              " 21: 51,\n",
              " 22: 70,\n",
              " 23: 80,\n",
              " 24: 111,\n",
              " 25: 119,\n",
              " 26: 116,\n",
              " 27: 140,\n",
              " 28: 169,\n",
              " 29: 159,\n",
              " 30: 213,\n",
              " 31: 164,\n",
              " 32: 211,\n",
              " 33: 176,\n",
              " 34: 209,\n",
              " 35: 243,\n",
              " 36: 204,\n",
              " 37: 234,\n",
              " 38: 246,\n",
              " 39: 196,\n",
              " 40: 242,\n",
              " 41: 197,\n",
              " 42: 227,\n",
              " 43: 203,\n",
              " 44: 184,\n",
              " 45: 227,\n",
              " 46: 178,\n",
              " 47: 175,\n",
              " 48: 203,\n",
              " 49: 168,\n",
              " 50: 206,\n",
              " 51: 190,\n",
              " 52: 218,\n",
              " 53: 164,\n",
              " 54: 177,\n",
              " 55: 189,\n",
              " 56: 149,\n",
              " 57: 170,\n",
              " 58: 162,\n",
              " 59: 139,\n",
              " 60: 164,\n",
              " 61: 137,\n",
              " 62: 161,\n",
              " 63: 144,\n",
              " 64: 119,\n",
              " 65: 172,\n",
              " 66: 118,\n",
              " 67: 119,\n",
              " 68: 146,\n",
              " 69: 98,\n",
              " 70: 144,\n",
              " 71: 89,\n",
              " 72: 118,\n",
              " 73: 100,\n",
              " 74: 95,\n",
              " 75: 103,\n",
              " 76: 68,\n",
              " 77: 61,\n",
              " 78: 63,\n",
              " 79: 51,\n",
              " 80: 60,\n",
              " 81: 48,\n",
              " 82: 40,\n",
              " 83: 36,\n",
              " 84: 23,\n",
              " 85: 30,\n",
              " 86: 16,\n",
              " 87: 18,\n",
              " 88: 12,\n",
              " 89: 12,\n",
              " 90: 10,\n",
              " 91: 9,\n",
              " 92: 8,\n",
              " 93: 9,\n",
              " 94: 4,\n",
              " 95: 6,\n",
              " 96: 0,\n",
              " 97: 1,\n",
              " 98: 0,\n",
              " 99: 0,\n",
              " 100: 0,\n",
              " 101: 0}"
            ]
          },
          "metadata": {
            "tags": []
          },
          "execution_count": 106
        }
      ]
    },
    {
      "cell_type": "code",
      "metadata": {
        "colab": {
          "base_uri": "https://localhost:8080/"
        },
        "id": "FZ8ap2JtFMzi",
        "outputId": "22c5ae27-60b9-41ae-ae83-1cab3bb8a94a"
      },
      "source": [
        "female_age"
      ],
      "execution_count": 107,
      "outputs": [
        {
          "output_type": "execute_result",
          "data": {
            "text/plain": [
              "{1: 0,\n",
              " 2: 0,\n",
              " 3: 2,\n",
              " 4: 1,\n",
              " 5: 2,\n",
              " 6: 6,\n",
              " 7: 4,\n",
              " 8: 4,\n",
              " 9: 4,\n",
              " 10: 3,\n",
              " 11: 10,\n",
              " 12: 7,\n",
              " 13: 16,\n",
              " 14: 14,\n",
              " 15: 27,\n",
              " 16: 30,\n",
              " 17: 45,\n",
              " 18: 71,\n",
              " 19: 72,\n",
              " 20: 93,\n",
              " 21: 112,\n",
              " 22: 113,\n",
              " 23: 132,\n",
              " 24: 148,\n",
              " 25: 165,\n",
              " 26: 159,\n",
              " 27: 164,\n",
              " 28: 178,\n",
              " 29: 154,\n",
              " 30: 172,\n",
              " 31: 152,\n",
              " 32: 167,\n",
              " 33: 162,\n",
              " 34: 153,\n",
              " 35: 170,\n",
              " 36: 143,\n",
              " 37: 136,\n",
              " 38: 136,\n",
              " 39: 125,\n",
              " 40: 144,\n",
              " 41: 123,\n",
              " 42: 129,\n",
              " 43: 122,\n",
              " 44: 97,\n",
              " 45: 115,\n",
              " 46: 109,\n",
              " 47: 114,\n",
              " 48: 108,\n",
              " 49: 99,\n",
              " 50: 111,\n",
              " 51: 97,\n",
              " 52: 92,\n",
              " 53: 86,\n",
              " 54: 81,\n",
              " 55: 105,\n",
              " 56: 78,\n",
              " 57: 73,\n",
              " 58: 84,\n",
              " 59: 74,\n",
              " 60: 81,\n",
              " 61: 70,\n",
              " 62: 77,\n",
              " 63: 74,\n",
              " 64: 74,\n",
              " 65: 59,\n",
              " 66: 59,\n",
              " 67: 58,\n",
              " 68: 69,\n",
              " 69: 52,\n",
              " 70: 72,\n",
              " 71: 56,\n",
              " 72: 57,\n",
              " 73: 56,\n",
              " 74: 43,\n",
              " 75: 55,\n",
              " 76: 41,\n",
              " 77: 43,\n",
              " 78: 43,\n",
              " 79: 25,\n",
              " 80: 31,\n",
              " 81: 28,\n",
              " 82: 28,\n",
              " 83: 21,\n",
              " 84: 20,\n",
              " 85: 28,\n",
              " 86: 19,\n",
              " 87: 12,\n",
              " 88: 9,\n",
              " 89: 7,\n",
              " 90: 9,\n",
              " 91: 8,\n",
              " 92: 3,\n",
              " 93: 6,\n",
              " 94: 3,\n",
              " 95: 3,\n",
              " 96: 2,\n",
              " 97: 0,\n",
              " 98: 2,\n",
              " 99: 1,\n",
              " 100: 2,\n",
              " 101: 1}"
            ]
          },
          "metadata": {
            "tags": []
          },
          "execution_count": 107
        }
      ]
    },
    {
      "cell_type": "code",
      "metadata": {
        "id": "vnkAP9-0Bdzk",
        "colab": {
          "base_uri": "https://localhost:8080/",
          "height": 297
        },
        "outputId": "8bdf631e-0e61-49b8-c600-d62fa543a94f"
      },
      "source": [
        "#plot 1:\n",
        "male_amount = male_age.items()\n",
        "x, y = zip(*male_amount)\n",
        "\n",
        "plt.subplot(2, 1, 1)\n",
        "plt.grid()\n",
        "plt.plot(x,y)\n",
        "plt.title(\"Number of Males\")\n",
        "\n",
        "#plot 2:\n",
        "female_amount = female_age.items()\n",
        "x, y = zip(*female_amount)\n",
        "\n",
        "plt.subplot(2, 1, 2)\n",
        "plt.grid()\n",
        "plt.plot(x,y)\n",
        "plt.title(\"Number of Females\")\n",
        "\n",
        "plt.tight_layout()\n",
        "plt.show()"
      ],
      "execution_count": 125,
      "outputs": [
        {
          "output_type": "display_data",
          "data": {
            "image/png": "[encoded data removed]",
            "text/plain": [
              "<Figure size 432x288 with 2 Axes>"
            ]
          },
          "metadata": {
            "tags": [],
            "needs_background": "light"
          }
        }
      ]
    },
    {
      "cell_type": "code",
      "metadata": {
        "colab": {
          "base_uri": "https://localhost:8080/",
          "height": 295
        },
        "id": "K95qHW8aGuIa",
        "outputId": "e0cac96d-dbb4-41b8-93a0-4ad4bd07fa5f"
      },
      "source": [
        "#plot 1:\n",
        "male_amount = male_age.items()\n",
        "x1, y1 = zip(*male_amount)\n",
        "\n",
        "#plot 2:\n",
        "female_amount = female_age.items()\n",
        "x2, y2 = zip(*female_amount)\n",
        "\n",
        "plt.plot(x1, y1)\n",
        "plt.plot(x2, y2)\n",
        "\n",
        "plt.legend([\"Number of Males\", \"Number of Females\"])\n",
        "\n",
        "plt.title(\"Male to Female Ratio\")\n",
        "plt.xlabel(\"Age\")\n",
        "plt.ylabel(\"Number of Images\")\n",
        "\n",
        "plt.grid()\n",
        "\n",
        "plt.show()"
      ],
      "execution_count": 122,
      "outputs": [
        {
          "output_type": "display_data",
          "data": {
            "image/png": "[encoded data removed]",
            "text/plain": [
              "<Figure size 432x288 with 1 Axes>"
            ]
          },
          "metadata": {
            "tags": [],
            "needs_background": "light"
          }
        }
      ]
    },
    {
      "cell_type": "code",
      "metadata": {
        "id": "BY2tgsf9LgOa"
      },
      "source": [
        ""
      ],
      "execution_count": null,
      "outputs": []
    }
  ]
}