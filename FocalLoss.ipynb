{
 "cells": [
  {
   "cell_type": "code",
   "execution_count": 1,
   "id": "06aabb63",
   "metadata": {
    "ExecuteTime": {
     "end_time": "2021-09-20T16:48:01.248865Z",
     "start_time": "2021-09-20T16:47:59.029865Z"
    },
    "hide_input": false
   },
   "outputs": [],
   "source": [
    "import torch\n",
    "from torch import nn\n",
    "import pretrainedmodels\n",
    "\n",
    "from utils.train import train\n",
    "from utils.evaluation import evaluation\n",
    "from utils.loader import get_loader, get_image_list\n",
    "from utils.losses import CostSensitiveRegularizedLoss\n",
    "\n",
    "import warnings\n",
    "warnings.filterwarnings(\"ignore\", category=UserWarning)\n",
    "warnings.filterwarnings(\"ignore\", category=DeprecationWarning)"
   ]
  },
  {
   "cell_type": "code",
   "execution_count": 2,
   "id": "cb64b0db",
   "metadata": {
    "ExecuteTime": {
     "end_time": "2021-09-20T16:48:01.264865Z",
     "start_time": "2021-09-20T16:48:01.249867Z"
    }
   },
   "outputs": [],
   "source": [
    "# hyper params\n",
    "num_of_class = 102\n",
    "learning_rate = 1e-03\n",
    "batch_size = 128\n",
    "input_size = 224\n",
    "device = torch.device(\"cuda\")\n",
    "test_size = 0.2\n",
    "train_size = 0.7\n",
    "val_size = 0.1\n",
    "directoryAgeDB = 'AgeDB/'"
   ]
  },
  {
   "cell_type": "code",
   "execution_count": 3,
   "id": "6d920459",
   "metadata": {
    "ExecuteTime": {
     "end_time": "2021-09-20T16:48:01.280866Z",
     "start_time": "2021-09-20T16:48:01.265865Z"
    },
    "code_folding": [],
    "hide_input": false
   },
   "outputs": [],
   "source": [
    "def findAge(image_list):\n",
    "    listofzeros = [0] * 102\n",
    "    same_age = [i for i in range(0, 102)]\n",
    "    age_number = dict(zip(same_age, listofzeros))\n",
    "    sum = 0\n",
    "\n",
    "    for i in range(len(image_list)):\n",
    "\n",
    "        if image_list[i]['age'] in age_number:\n",
    "            age_number[image_list[i]['age']] += 1\n",
    "            sum += 1\n",
    "\n",
    "    print(sum)\n",
    "    return dict(age_number)\n"
   ]
  },
  {
   "cell_type": "code",
   "execution_count": 4,
   "id": "f8ae2b44",
   "metadata": {
    "ExecuteTime": {
     "end_time": "2021-09-20T16:49:38.208870Z",
     "start_time": "2021-09-20T16:48:01.281865Z"
    }
   },
   "outputs": [
    {
     "data": {
      "application/vnd.jupyter.widget-view+json": {
       "model_id": "c2d855dd55ec4e27a9f739030ce36d14",
       "version_major": 2,
       "version_minor": 0
      },
      "text/plain": [
       "  0%|          | 0/11541 [00:00<?, ?it/s]"
      ]
     },
     "metadata": {},
     "output_type": "display_data"
    },
    {
     "name": "stdout",
     "output_type": "stream",
     "text": [
      "Train Set Length:  34623\n",
      "Test Set Length:  3298\n",
      "Validation Set Length:  1649\n",
      "Total:  39570\n"
     ]
    }
   ],
   "source": [
    "train_image_list, test_image_list, validate_image_list = get_image_list(\n",
    "    train_size=train_size, \n",
    "    test_size=test_size, \n",
    "    val_size=val_size, \n",
    "    directory=directoryAgeDB,\n",
    ")\n",
    "\n",
    "train_loader, test_loader, validation_loader = get_loader(\n",
    "    input_size=input_size,\n",
    "    train_image_list=train_image_list,\n",
    "    test_image_list=test_image_list, \n",
    "    validate_image_list=validate_image_list, \n",
    "    batch_size=batch_size,\n",
    "    train_augment=3,\n",
    ")"
   ]
  },
  {
   "cell_type": "code",
   "execution_count": 5,
   "id": "5641b0b5",
   "metadata": {
    "ExecuteTime": {
     "end_time": "2021-09-20T16:49:41.188978Z",
     "start_time": "2021-09-20T16:49:38.213866Z"
    },
    "code_folding": []
   },
   "outputs": [],
   "source": [
    "resnet1 = pretrainedmodels.resnet18(pretrained='imagenet')\n",
    "resnet1.last_linear = nn.Linear(\n",
    "    in_features=resnet1.last_linear.in_features, \n",
    "    out_features=num_of_class, \n",
    "    bias=False\n",
    ")\n",
    "resnet2 = pretrainedmodels.resnet18(pretrained='imagenet')\n",
    "resnet2.last_linear = nn.Linear(\n",
    "    in_features=resnet2.last_linear.in_features, \n",
    "    out_features=num_of_class, \n",
    "    bias=False\n",
    ")\n",
    "resnet1 = resnet1.to(device)\n",
    "resnet2 = resnet2.to(device)"
   ]
  },
  {
   "cell_type": "code",
   "execution_count": 6,
   "id": "3ca9b2a2",
   "metadata": {
    "ExecuteTime": {
     "end_time": "2021-09-20T16:49:41.204980Z",
     "start_time": "2021-09-20T16:49:41.191980Z"
    }
   },
   "outputs": [],
   "source": [
    "criteria = CostSensitiveRegularizedLoss(n_classes=num_of_class, base_loss='focal_loss', reduction='mean') \n",
    "optimizer = torch.optim.SGD(resnet1.parameters(), lr=learning_rate, momentum=0.9, nesterov=True, weight_decay=1e-1)\n",
    "model_name = 'focalloss-aug.pth'"
   ]
  },
  {
   "cell_type": "code",
   "execution_count": 7,
   "id": "6ed4bb3e",
   "metadata": {
    "ExecuteTime": {
     "end_time": "2021-09-20T17:00:55.074039Z",
     "start_time": "2021-09-20T16:49:41.209980Z"
    },
    "hide_input": false
   },
   "outputs": [
    {
     "name": "stdout",
     "output_type": "stream",
     "text": [
      "Epoch: 1/10, Train Loss: 2.5497877395460966,  Validation Loss: 2.3605024814605713\n",
      "Validation Loss Decreased(inf ---> 2.3605024814605713)\n",
      "Epoch: 2/10, Train Loss: 2.1918997051970983,  Validation Loss: 2.1458323001861572\n",
      "Validation Loss Decreased(2.3605024814605713 ---> 2.1458323001861572)\n",
      "Epoch: 3/10, Train Loss: 2.0429964017164224,  Validation Loss: 2.068101708705609\n",
      "Validation Loss Decreased(2.1458323001861572 ---> 2.068101708705609)\n",
      "Epoch: 4/10, Train Loss: 1.9810232434325552,  Validation Loss: 2.0599818779872012\n",
      "Validation Loss Decreased(2.068101708705609 ---> 2.0599818779872012)\n",
      "Epoch: 5/10, Train Loss: 1.9675067557619947,  Validation Loss: 2.0964393524023204\n",
      "Epoch: 6/10, Train Loss: 1.9959682067821827,  Validation Loss: 2.165790374462421\n",
      "Epoch: 7/10, Train Loss: 2.0598285180616203,  Validation Loss: 2.255103881542499\n",
      "Epoch: 8/10, Train Loss: 2.1588039811686834,  Validation Loss: 2.347843041786781\n",
      "Epoch: 9/10, Train Loss: 2.253788910228828,  Validation Loss: 2.40657272705665\n",
      "Epoch: 10/10, Train Loss: 2.3304923654042486,  Validation Loss: 2.474382969049307\n"
     ]
    },
    {
     "data": {
      "image/png": "[encoded data removed]",
      "text/plain": [
       "<Figure size 432x288 with 1 Axes>"
      ]
     },
     "metadata": {
      "needs_background": "light"
     },
     "output_type": "display_data"
    }
   ],
   "source": [
    "train(resnet1, optimizer, criteria, train_loader, validation_loader, num_of_epoch=10, model_name=model_name)"
   ]
  },
  {
   "cell_type": "code",
   "execution_count": 8,
   "id": "10b735ef",
   "metadata": {
    "ExecuteTime": {
     "end_time": "2021-09-20T17:01:23.097948Z",
     "start_time": "2021-09-20T17:00:55.076043Z"
    }
   },
   "outputs": [
    {
     "name": "stdout",
     "output_type": "stream",
     "text": [
      "Mean Absolute Error: 7.3978166580200195\n",
      "Minimum: 0.0, Maximum: 48.0, Median: 6.0\n",
      "Mean Absolute Error: 6.835201644897461\n",
      "Minimum: 0.0, Maximum: 49.0, Median: 5.0\n"
     ]
    }
   ],
   "source": [
    "resnet1.load_state_dict(torch.load(model_name))\n",
    "loss_per_class = evaluation(resnet1, test_loader)\n",
    "_ = evaluation(resnet1, train_loader)"
   ]
  },
  {
   "cell_type": "code",
   "execution_count": 9,
   "id": "6452b440",
   "metadata": {
    "ExecuteTime": {
     "end_time": "2021-09-20T17:01:23.158948Z",
     "start_time": "2021-09-20T17:01:23.098949Z"
    }
   },
   "outputs": [
    {
     "name": "stdout",
     "output_type": "stream",
     "text": [
      "3298\n",
      "Age: Test Sample: Loss\n",
      "1 : 1 : 34.00\n",
      "2  No Sample\n",
      "3 : 2 : 28.50\n",
      "4 : 1 : 31.00\n",
      "5 : 1 : 23.00\n",
      "6 : 2 : 22.00\n",
      "7 : 2 : 22.00\n",
      "8 : 2 : 23.50\n",
      "9 : 1 : 19.00\n",
      "10 : 3 : 22.67\n",
      "11 : 4 : 18.75\n",
      "12 : 3 : 17.33\n",
      "13 : 4 : 18.00\n",
      "14 : 5 : 16.20\n",
      "15 : 9 : 13.44\n",
      "16 : 10 : 12.80\n",
      "17 : 16 : 11.81\n",
      "18 : 24 : 11.62\n",
      "19 : 22 : 10.00\n",
      "20 : 32 : 10.12\n",
      "21 : 33 : 8.06\n",
      "22 : 37 : 8.65\n",
      "23 : 42 : 7.26\n",
      "24 : 52 : 6.92\n",
      "25 : 57 : 4.93\n",
      "26 : 55 : 4.07\n",
      "27 : 61 : 4.77\n",
      "28 : 69 : 3.75\n",
      "29 : 62 : 3.90\n",
      "30 : 77 : 3.23\n",
      "31 : 63 : 5.13\n",
      "32 : 75 : 4.91\n",
      "33 : 67 : 4.69\n",
      "34 : 72 : 5.44\n",
      "35 : 82 : 4.73\n",
      "36 : 69 : 5.12\n",
      "37 : 74 : 6.27\n",
      "38 : 76 : 5.83\n",
      "39 : 64 : 6.22\n",
      "40 : 77 : 6.34\n",
      "41 : 64 : 6.08\n",
      "42 : 71 : 7.20\n",
      "43 : 65 : 7.65\n",
      "44 : 56 : 8.07\n",
      "45 : 68 : 7.01\n",
      "46 : 57 : 7.91\n",
      "47 : 58 : 7.07\n",
      "48 : 62 : 8.08\n",
      "49 : 53 : 8.83\n",
      "50 : 63 : 8.51\n",
      "51 : 57 : 8.00\n",
      "52 : 62 : 9.15\n",
      "53 : 50 : 7.50\n",
      "54 : 51 : 8.39\n",
      "55 : 59 : 9.88\n",
      "56 : 45 : 7.73\n",
      "57 : 49 : 9.41\n",
      "58 : 49 : 7.96\n",
      "59 : 43 : 8.28\n",
      "60 : 49 : 7.53\n",
      "61 : 41 : 8.32\n",
      "62 : 48 : 7.77\n",
      "63 : 44 : 6.98\n",
      "64 : 39 : 8.21\n",
      "65 : 46 : 5.89\n",
      "66 : 35 : 6.60\n",
      "67 : 35 : 7.80\n",
      "68 : 43 : 7.42\n",
      "69 : 30 : 6.90\n",
      "70 : 43 : 4.98\n",
      "71 : 29 : 4.14\n",
      "72 : 35 : 6.37\n",
      "73 : 31 : 5.42\n",
      "74 : 28 : 10.36\n",
      "75 : 32 : 9.78\n",
      "76 : 22 : 9.64\n",
      "77 : 21 : 8.57\n",
      "78 : 21 : 11.86\n",
      "79 : 15 : 9.33\n",
      "80 : 18 : 10.83\n",
      "81 : 15 : 12.33\n",
      "82 : 14 : 14.00\n",
      "83 : 11 : 13.18\n",
      "84 : 9 : 16.56\n",
      "85 : 12 : 17.50\n",
      "86 : 7 : 16.71\n",
      "87 : 6 : 19.50\n",
      "88 : 4 : 18.00\n",
      "89 : 4 : 19.00\n",
      "90 : 4 : 21.25\n",
      "91 : 3 : 21.00\n",
      "92 : 2 : 22.00\n",
      "93 : 3 : 23.00\n",
      "94 : 1 : 24.00\n",
      "95 : 2 : 25.00\n",
      "96 : 1 : 26.00\n",
      "97 : 1 : 27.00\n",
      "98 : 1 : 28.00\n",
      "99 : 1 : 29.00\n",
      "100 : 1 : 38.00\n",
      "101 : 1 : 31.00\n"
     ]
    }
   ],
   "source": [
    "sample_per_class = findAge(test_image_list)\n",
    "print('Age: Test Sample: Loss')\n",
    "for i in range(1, 102):\n",
    "    if sample_per_class[i] == 0:\n",
    "        print(i,' No Sample')\n",
    "    else:\n",
    "        print(i,':', sample_per_class[i],':', format(loss_per_class[i].item()/sample_per_class[i],'.2f'))"
   ]
  },
  {
   "cell_type": "code",
   "execution_count": 13,
   "id": "052a2ce7",
   "metadata": {
    "ExecuteTime": {
     "end_time": "2021-09-20T17:11:58.512250Z",
     "start_time": "2021-09-20T17:07:34.092698Z"
    }
   },
   "outputs": [
    {
     "data": {
      "application/vnd.jupyter.widget-view+json": {
       "model_id": "94d7ddb332dd47848f2c2ff8e1141380",
       "version_major": 2,
       "version_minor": 0
      },
      "text/plain": [
       "  0%|          | 0/11541 [00:00<?, ?it/s]"
      ]
     },
     "metadata": {},
     "output_type": "display_data"
    },
    {
     "name": "stdout",
     "output_type": "stream",
     "text": [
      "Train Set Length:  11541\n",
      "Test Set Length:  3298\n",
      "Validation Set Length:  1649\n",
      "Total:  16488\n",
      "Epoch: 1/10, Train Loss: 1.9113213085866236,  Validation Loss: 2.064310440650353\n",
      "Validation Loss Decreased(inf ---> 2.064310440650353)\n",
      "Epoch: 2/10, Train Loss: 1.8834970442803352,  Validation Loss: 2.068317248271062\n",
      "Epoch: 3/10, Train Loss: 1.860955834388733,  Validation Loss: 2.0755570851839504\n",
      "Epoch: 4/10, Train Loss: 1.8404606397335346,  Validation Loss: 2.089746356010437\n",
      "Epoch: 5/10, Train Loss: 1.8397495602513407,  Validation Loss: 2.106857703282283\n",
      "Epoch: 6/10, Train Loss: 1.8406613305374817,  Validation Loss: 2.188012434886052\n",
      "Epoch: 7/10, Train Loss: 1.8590041464501685,  Validation Loss: 2.1494343280792236\n",
      "Epoch: 8/10, Train Loss: 1.8779431188499534,  Validation Loss: 2.1969324075258694\n",
      "Epoch: 9/10, Train Loss: 1.9133659051014826,  Validation Loss: 2.2028550184690037\n",
      "Epoch: 10/10, Train Loss: 1.9406616072078327,  Validation Loss: 2.220918765434852\n"
     ]
    },
    {
     "data": {
      "image/png": "[encoded data removed]",
      "text/plain": [
       "<Figure size 432x288 with 1 Axes>"
      ]
     },
     "metadata": {
      "needs_background": "light"
     },
     "output_type": "display_data"
    }
   ],
   "source": [
    "train_loader, test_loader, validation_loader = get_loader(\n",
    "    input_size=input_size,\n",
    "    train_image_list=train_image_list,\n",
    "    test_image_list=test_image_list, \n",
    "    validate_image_list=validate_image_list, \n",
    "    batch_size=batch_size,\n",
    "    train_augment=1,\n",
    ")\n",
    "criteria = CostSensitiveRegularizedLoss(n_classes=num_of_class, base_loss='focal_loss', reduction='mean') \n",
    "optimizer = torch.optim.SGD(resnet2.parameters(), lr=learning_rate, momentum=0.9, nesterov=True, weight_decay=1e-1)\n",
    "model_name = 'focalloss.pth'\n",
    "train(resnet2, optimizer, criteria, train_loader, validation_loader, num_of_epoch=10, model_name=model_name)"
   ]
  },
  {
   "cell_type": "code",
   "execution_count": 14,
   "id": "86013069",
   "metadata": {
    "ExecuteTime": {
     "end_time": "2021-09-20T17:15:23.569976Z",
     "start_time": "2021-09-20T17:15:03.384975Z"
    }
   },
   "outputs": [
    {
     "name": "stdout",
     "output_type": "stream",
     "text": [
      "Mean Absolute Error: 7.603395938873291\n",
      "Minimum: 0.0, Maximum: 50.0, Median: 6.0\n",
      "Mean Absolute Error: 5.7506279945373535\n",
      "Minimum: 0.0, Maximum: 45.0, Median: 5.0\n"
     ]
    }
   ],
   "source": [
    "resnet2.load_state_dict(torch.load(model_name))\n",
    "loss_per_class = evaluation(resnet2, test_loader)\n",
    "_ = evaluation(resnet2, train_loader)"
   ]
  },
  {
   "cell_type": "code",
   "execution_count": 15,
   "id": "33c7b360",
   "metadata": {
    "ExecuteTime": {
     "end_time": "2021-09-20T17:15:27.920110Z",
     "start_time": "2021-09-20T17:15:27.795113Z"
    }
   },
   "outputs": [
    {
     "name": "stdout",
     "output_type": "stream",
     "text": [
      "3298\n",
      "Age: Test Sample: Loss\n",
      "1 : 1 : 39.00\n",
      "2  No Sample\n",
      "3 : 2 : 35.50\n",
      "4 : 1 : 31.00\n",
      "5 : 1 : 23.00\n",
      "6 : 2 : 22.00\n",
      "7 : 2 : 22.00\n",
      "8 : 2 : 23.50\n",
      "9 : 1 : 21.00\n",
      "10 : 3 : 26.00\n",
      "11 : 4 : 21.00\n",
      "12 : 3 : 18.67\n",
      "13 : 4 : 19.75\n",
      "14 : 5 : 17.00\n",
      "15 : 9 : 14.67\n",
      "16 : 10 : 13.70\n",
      "17 : 16 : 12.00\n",
      "18 : 24 : 12.33\n",
      "19 : 22 : 10.36\n",
      "20 : 32 : 10.81\n",
      "21 : 33 : 8.73\n",
      "22 : 37 : 8.59\n",
      "23 : 42 : 7.38\n",
      "24 : 52 : 6.87\n",
      "25 : 57 : 5.25\n",
      "26 : 55 : 5.58\n",
      "27 : 61 : 4.95\n",
      "28 : 69 : 4.28\n",
      "29 : 62 : 4.27\n",
      "30 : 77 : 3.06\n",
      "31 : 63 : 4.60\n",
      "32 : 75 : 4.92\n",
      "33 : 67 : 4.30\n",
      "34 : 72 : 5.24\n",
      "35 : 82 : 5.50\n",
      "36 : 69 : 5.13\n",
      "37 : 74 : 6.05\n",
      "38 : 76 : 5.83\n",
      "39 : 64 : 6.06\n",
      "40 : 77 : 5.56\n",
      "41 : 64 : 6.12\n",
      "42 : 71 : 6.41\n",
      "43 : 65 : 7.42\n",
      "44 : 56 : 7.75\n",
      "45 : 68 : 7.31\n",
      "46 : 57 : 8.23\n",
      "47 : 58 : 7.14\n",
      "48 : 62 : 9.27\n",
      "49 : 53 : 9.60\n",
      "50 : 63 : 8.51\n",
      "51 : 57 : 8.47\n",
      "52 : 62 : 9.23\n",
      "53 : 50 : 7.68\n",
      "54 : 51 : 7.47\n",
      "55 : 59 : 10.81\n",
      "56 : 45 : 8.00\n",
      "57 : 49 : 9.27\n",
      "58 : 49 : 8.12\n",
      "59 : 43 : 8.81\n",
      "60 : 49 : 7.92\n",
      "61 : 41 : 7.80\n",
      "62 : 48 : 7.46\n",
      "63 : 44 : 7.30\n",
      "64 : 39 : 8.26\n",
      "65 : 46 : 5.80\n",
      "66 : 35 : 8.91\n",
      "67 : 35 : 7.91\n",
      "68 : 43 : 7.72\n",
      "69 : 30 : 7.50\n",
      "70 : 43 : 7.58\n",
      "71 : 29 : 4.48\n",
      "72 : 35 : 6.03\n",
      "73 : 31 : 5.74\n",
      "74 : 28 : 11.00\n",
      "75 : 32 : 10.69\n",
      "76 : 22 : 9.32\n",
      "77 : 21 : 8.19\n",
      "78 : 21 : 12.52\n",
      "79 : 15 : 10.27\n",
      "80 : 18 : 10.78\n",
      "81 : 15 : 13.00\n",
      "82 : 14 : 14.14\n",
      "83 : 11 : 13.45\n",
      "84 : 9 : 16.22\n",
      "85 : 12 : 18.50\n",
      "86 : 7 : 17.43\n",
      "87 : 6 : 19.50\n",
      "88 : 4 : 18.00\n",
      "89 : 4 : 19.00\n",
      "90 : 4 : 20.00\n",
      "91 : 3 : 21.67\n",
      "92 : 2 : 22.00\n",
      "93 : 3 : 23.67\n",
      "94 : 1 : 29.00\n",
      "95 : 2 : 25.00\n",
      "96 : 1 : 26.00\n",
      "97 : 1 : 27.00\n",
      "98 : 1 : 28.00\n",
      "99 : 1 : 29.00\n",
      "100 : 1 : 35.00\n",
      "101 : 1 : 33.00\n"
     ]
    }
   ],
   "source": [
    "sample_per_class = findAge(test_image_list)\n",
    "print('Age: Test Sample: Loss')\n",
    "for i in range(1, 102):\n",
    "    if sample_per_class[i] == 0:\n",
    "        print(i,' No Sample')\n",
    "    else:\n",
    "        print(i,':', sample_per_class[i],':', format(loss_per_class[i].item()/sample_per_class[i],'.2f'))"
   ]
  },
  {
   "cell_type": "code",
   "execution_count": null,
   "id": "cf0b1434",
   "metadata": {},
   "outputs": [],
   "source": []
  }
 ],
 "metadata": {
  "kernelspec": {
   "display_name": "Python 3",
   "language": "python",
   "name": "python3"
  },
  "language_info": {
   "codemirror_mode": {
    "name": "ipython",
    "version": 3
   },
   "file_extension": ".py",
   "mimetype": "text/x-python",
   "name": "python",
   "nbconvert_exporter": "python",
   "pygments_lexer": "ipython3",
   "version": "3.8.8"
  },
  "varInspector": {
   "cols": {
    "lenName": 16,
    "lenType": 16,
    "lenVar": 40
   },
   "kernels_config": {
    "python": {
     "delete_cmd_postfix": "",
     "delete_cmd_prefix": "del ",
     "library": "var_list.py",
     "varRefreshCmd": "print(var_dic_list())"
    },
    "r": {
     "delete_cmd_postfix": ") ",
     "delete_cmd_prefix": "rm(",
     "library": "var_list.r",
     "varRefreshCmd": "cat(var_dic_list()) "
    }
   },
   "types_to_exclude": [
    "module",
    "function",
    "builtin_function_or_method",
    "instance",
    "_Feature"
   ],
   "window_display": false
  }
 },
 "nbformat": 4,
 "nbformat_minor": 5
}
