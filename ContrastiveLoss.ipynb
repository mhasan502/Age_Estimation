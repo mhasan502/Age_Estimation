{
 "cells": [
  {
   "cell_type": "code",
   "execution_count": 1,
   "id": "06aabb63",
   "metadata": {
    "ExecuteTime": {
     "end_time": "2021-09-20T14:12:36.106493Z",
     "start_time": "2021-09-20T14:12:33.864496Z"
    },
    "hide_input": false
   },
   "outputs": [],
   "source": [
    "import torch\n",
    "from torch import nn\n",
    "import pretrainedmodels\n",
    "\n",
    "from utils.train import train\n",
    "from utils.evaluation import evaluation\n",
    "from utils.loader import get_loader, get_image_list\n",
    "from utils.losses import CostSensitiveRegularizedLoss\n",
    "\n",
    "import warnings\n",
    "warnings.filterwarnings(\"ignore\", category=UserWarning)\n",
    "warnings.filterwarnings(\"ignore\", category=DeprecationWarning)"
   ]
  },
  {
   "cell_type": "code",
   "execution_count": 2,
   "id": "cb64b0db",
   "metadata": {
    "ExecuteTime": {
     "end_time": "2021-09-20T14:12:36.122492Z",
     "start_time": "2021-09-20T14:12:36.107492Z"
    },
    "hide_input": false
   },
   "outputs": [],
   "source": [
    "# hyper params\n",
    "num_of_class = 102\n",
    "learning_rate = 1e-04\n",
    "batch_size = 128\n",
    "input_size = 224\n",
    "device = torch.device(\"cuda\")\n",
    "test_size = 0.2\n",
    "train_size = 0.7\n",
    "val_size = 0.1\n",
    "directoryAgeDB = 'AgeDB/'"
   ]
  },
  {
   "cell_type": "code",
   "execution_count": 3,
   "id": "6d920459",
   "metadata": {
    "ExecuteTime": {
     "end_time": "2021-09-20T14:12:36.138492Z",
     "start_time": "2021-09-20T14:12:36.123492Z"
    },
    "code_folding": [],
    "hide_input": false
   },
   "outputs": [],
   "source": [
    "def findAge(image_list):\n",
    "    listofzeros = [0] * 102\n",
    "    same_age = [i for i in range(0, 102)]\n",
    "    age_number = dict(zip(same_age, listofzeros))\n",
    "    sum = 0\n",
    "\n",
    "    for i in range(len(image_list)):\n",
    "\n",
    "        if image_list[i]['age'] in age_number:\n",
    "            age_number[image_list[i]['age']] += 1\n",
    "            sum += 1\n",
    "\n",
    "    print(sum)\n",
    "    return dict(age_number)\n"
   ]
  },
  {
   "cell_type": "code",
   "execution_count": 4,
   "id": "f8ae2b44",
   "metadata": {
    "ExecuteTime": {
     "end_time": "2021-09-20T14:13:55.796719Z",
     "start_time": "2021-09-20T14:12:36.139496Z"
    },
    "hide_input": false
   },
   "outputs": [
    {
     "data": {
      "application/vnd.jupyter.widget-view+json": {
       "model_id": "05ac51ed6c374ecfb94e9270b1d1ba49",
       "version_major": 2,
       "version_minor": 0
      },
      "text/plain": [
       "  0%|          | 0/11541 [00:00<?, ?it/s]"
      ]
     },
     "metadata": {},
     "output_type": "display_data"
    },
    {
     "name": "stdout",
     "output_type": "stream",
     "text": [
      "Train Set Length:  34623\n",
      "Test Set Length:  3298\n",
      "Validation Set Length:  1649\n",
      "Total:  39570\n"
     ]
    }
   ],
   "source": [
    "train_image_list, test_image_list, validate_image_list = get_image_list(\n",
    "    train_size=train_size, \n",
    "    test_size=test_size, \n",
    "    val_size=val_size, \n",
    "    directory=directoryAgeDB,\n",
    ")\n",
    "\n",
    "train_loader, test_loader, validation_loader = get_loader(\n",
    "    input_size=input_size,\n",
    "    train_image_list=train_image_list,\n",
    "    test_image_list=test_image_list, \n",
    "    validate_image_list=validate_image_list, \n",
    "    batch_size=batch_size,\n",
    "    train_augment=3,\n",
    ")"
   ]
  },
  {
   "cell_type": "code",
   "execution_count": 5,
   "id": "5641b0b5",
   "metadata": {
    "ExecuteTime": {
     "end_time": "2021-09-20T14:13:57.827279Z",
     "start_time": "2021-09-20T14:13:55.798720Z"
    },
    "code_folding": [],
    "hide_input": false
   },
   "outputs": [],
   "source": [
    "resnet1 = pretrainedmodels.resnet18(pretrained='imagenet')\n",
    "resnet1.last_linear = nn.Linear(\n",
    "    in_features=resnet1.last_linear.in_features, \n",
    "    out_features=num_of_class, \n",
    "    bias=False\n",
    ")\n",
    "resnet2 = pretrainedmodels.resnet18(pretrained='imagenet')\n",
    "resnet2.last_linear = nn.Linear(\n",
    "    in_features=resnet2.last_linear.in_features, \n",
    "    out_features=num_of_class, \n",
    "    bias=False\n",
    ")\n",
    "resnet1 = resnet1.to(device)\n",
    "resnet2 = resnet2.to(device)"
   ]
  },
  {
   "cell_type": "code",
   "execution_count": 7,
   "id": "3ca9b2a2",
   "metadata": {
    "ExecuteTime": {
     "end_time": "2021-09-20T14:15:41.881682Z",
     "start_time": "2021-09-20T14:15:41.863682Z"
    },
    "hide_input": false
   },
   "outputs": [],
   "source": [
    "from pytorch_metric_learning.losses import ContrastiveLoss\n",
    "criteria = ContrastiveLoss()\n",
    "optimizer = torch.optim.Adam(resnet1.parameters(), lr=learning_rate)\n",
    "model_name = 'contrast-aug.pth'"
   ]
  },
  {
   "cell_type": "code",
   "execution_count": 8,
   "id": "6ed4bb3e",
   "metadata": {
    "ExecuteTime": {
     "end_time": "2021-09-20T14:20:33.355710Z",
     "start_time": "2021-09-20T14:15:42.503682Z"
    },
    "hide_input": false
   },
   "outputs": [
    {
     "name": "stdout",
     "output_type": "stream",
     "text": [
      "Epoch: 1/5, Train Loss: 1.0089165150459403,  Validation Loss: 1.032126206618089\n",
      "Validation Loss Decreased(inf ---> 1.032126206618089)\n",
      "Epoch: 2/5, Train Loss: 1.0058821393554942,  Validation Loss: 1.046208422917586\n",
      "Epoch: 3/5, Train Loss: 1.004900832457736,  Validation Loss: 1.0356595516204834\n",
      "Epoch: 4/5, Train Loss: 1.0037781556593977,  Validation Loss: 1.0797595427586482\n",
      "Epoch: 5/5, Train Loss: 1.00092295900922,  Validation Loss: 1.1341925309254572\n"
     ]
    },
    {
     "data": {
      "image/png": "[encoded data removed]",
      "text/plain": [
       "<Figure size 432x288 with 1 Axes>"
      ]
     },
     "metadata": {
      "needs_background": "light"
     },
     "output_type": "display_data"
    }
   ],
   "source": [
    "train(resnet1, optimizer, criteria, train_loader, validation_loader, num_of_epoch=5, model_name=model_name)"
   ]
  },
  {
   "cell_type": "code",
   "execution_count": 9,
   "id": "10b735ef",
   "metadata": {
    "ExecuteTime": {
     "end_time": "2021-09-20T14:21:41.925820Z",
     "start_time": "2021-09-20T14:21:13.065822Z"
    }
   },
   "outputs": [
    {
     "name": "stdout",
     "output_type": "stream",
     "text": [
      "Mean Absolute Error: 29.03972053527832\n",
      "Minimum: 0.0, Maximum: 90.0, Median: 29.0\n",
      "Mean Absolute Error: 29.48236656188965\n",
      "Minimum: 0.0, Maximum: 93.0, Median: 30.0\n"
     ]
    }
   ],
   "source": [
    "resnet1.load_state_dict(torch.load(model_name))\n",
    "loss_per_class = evaluation(resnet1, test_loader)\n",
    "_ = evaluation(resnet1, train_loader)"
   ]
  },
  {
   "cell_type": "code",
   "execution_count": 10,
   "id": "6452b440",
   "metadata": {
    "ExecuteTime": {
     "end_time": "2021-09-20T14:22:14.359278Z",
     "start_time": "2021-09-20T14:22:14.289280Z"
    }
   },
   "outputs": [
    {
     "name": "stdout",
     "output_type": "stream",
     "text": [
      "3298\n",
      "Age: Test Sample: Loss\n",
      "1 : 1 : 84.00\n",
      "2  No Sample\n",
      "3 : 2 : 51.00\n",
      "4 : 1 : 76.00\n",
      "5 : 1 : 31.00\n",
      "6 : 2 : 30.50\n",
      "7 : 2 : 41.00\n",
      "8 : 2 : 32.00\n",
      "9 : 1 : 27.00\n",
      "10 : 3 : 50.33\n",
      "11 : 4 : 31.00\n",
      "12 : 3 : 48.00\n",
      "13 : 4 : 39.00\n",
      "14 : 5 : 30.00\n",
      "15 : 9 : 36.00\n",
      "16 : 10 : 41.70\n",
      "17 : 16 : 36.88\n",
      "18 : 24 : 39.50\n",
      "19 : 22 : 40.64\n",
      "20 : 32 : 36.22\n",
      "21 : 33 : 34.76\n",
      "22 : 37 : 31.11\n",
      "23 : 42 : 32.48\n",
      "24 : 52 : 34.88\n",
      "25 : 57 : 31.28\n",
      "26 : 55 : 29.56\n",
      "27 : 61 : 31.90\n",
      "28 : 69 : 31.93\n",
      "29 : 62 : 29.21\n",
      "30 : 77 : 30.55\n",
      "31 : 63 : 29.48\n",
      "32 : 75 : 29.72\n",
      "33 : 67 : 30.03\n",
      "34 : 72 : 31.15\n",
      "35 : 82 : 26.83\n",
      "36 : 69 : 28.94\n",
      "37 : 74 : 27.49\n",
      "38 : 76 : 29.09\n",
      "39 : 64 : 27.14\n",
      "40 : 77 : 28.13\n",
      "41 : 64 : 28.73\n",
      "42 : 71 : 30.92\n",
      "43 : 65 : 28.55\n",
      "44 : 56 : 29.91\n",
      "45 : 68 : 28.50\n",
      "46 : 57 : 25.35\n",
      "47 : 58 : 23.52\n",
      "48 : 62 : 27.05\n",
      "49 : 53 : 25.11\n",
      "50 : 63 : 24.57\n",
      "51 : 57 : 21.42\n",
      "52 : 62 : 23.89\n",
      "53 : 50 : 26.92\n",
      "54 : 51 : 24.75\n",
      "55 : 59 : 21.42\n",
      "56 : 45 : 24.00\n",
      "57 : 49 : 22.18\n",
      "58 : 49 : 22.47\n",
      "59 : 43 : 23.28\n",
      "60 : 49 : 25.88\n",
      "61 : 41 : 22.68\n",
      "62 : 48 : 20.35\n",
      "63 : 44 : 22.70\n",
      "64 : 39 : 25.23\n",
      "65 : 46 : 28.35\n",
      "66 : 35 : 22.29\n",
      "67 : 35 : 28.83\n",
      "68 : 43 : 32.12\n",
      "69 : 30 : 30.93\n",
      "70 : 43 : 29.79\n",
      "71 : 29 : 32.41\n",
      "72 : 35 : 25.23\n",
      "73 : 31 : 31.71\n",
      "74 : 28 : 30.32\n",
      "75 : 32 : 32.00\n",
      "76 : 22 : 36.95\n",
      "77 : 21 : 39.43\n",
      "78 : 21 : 35.81\n",
      "79 : 15 : 29.33\n",
      "80 : 18 : 44.56\n",
      "81 : 15 : 32.60\n",
      "82 : 14 : 29.21\n",
      "83 : 11 : 39.91\n",
      "84 : 9 : 34.33\n",
      "85 : 12 : 49.42\n",
      "86 : 7 : 46.14\n",
      "87 : 6 : 42.50\n",
      "88 : 4 : 51.50\n",
      "89 : 4 : 60.25\n",
      "90 : 4 : 47.25\n",
      "91 : 3 : 69.33\n",
      "92 : 2 : 48.50\n",
      "93 : 3 : 60.33\n",
      "94 : 1 : 83.00\n",
      "95 : 2 : 37.00\n",
      "96 : 1 : 48.00\n",
      "97 : 1 : 4.00\n",
      "98 : 1 : 87.00\n",
      "99 : 1 : 88.00\n",
      "100 : 1 : 27.00\n",
      "101 : 1 : 90.00\n"
     ]
    }
   ],
   "source": [
    "sample_per_class = findAge(test_image_list)\n",
    "print('Age: Test Sample: Loss')\n",
    "for i in range(1, 102):\n",
    "    if sample_per_class[i] == 0:\n",
    "        print(i,' No Sample')\n",
    "    else:\n",
    "        print(i,':', sample_per_class[i],':', format(loss_per_class[i].item()/sample_per_class[i],'.2f'))"
   ]
  },
  {
   "cell_type": "code",
   "execution_count": 11,
   "id": "38bb6666",
   "metadata": {
    "ExecuteTime": {
     "end_time": "2021-09-20T14:24:30.617317Z",
     "start_time": "2021-09-20T14:22:19.487424Z"
    }
   },
   "outputs": [
    {
     "data": {
      "application/vnd.jupyter.widget-view+json": {
       "model_id": "f386c3c6cedb41c7b0e46b5028301a69",
       "version_major": 2,
       "version_minor": 0
      },
      "text/plain": [
       "  0%|          | 0/11541 [00:00<?, ?it/s]"
      ]
     },
     "metadata": {},
     "output_type": "display_data"
    },
    {
     "name": "stdout",
     "output_type": "stream",
     "text": [
      "Train Set Length:  11541\n",
      "Test Set Length:  3298\n",
      "Validation Set Length:  1649\n",
      "Total:  16488\n",
      "Epoch: 1/5, Train Loss: 1.012089776468801,  Validation Loss: 1.003298268868373\n",
      "Validation Loss Decreased(inf ---> 1.003298268868373)\n",
      "Epoch: 2/5, Train Loss: 1.006551029917958,  Validation Loss: 1.0266311168670654\n",
      "Epoch: 3/5, Train Loss: 1.0030446746847133,  Validation Loss: 1.0154147102282598\n",
      "Epoch: 4/5, Train Loss: 0.9963049017466031,  Validation Loss: 1.064068262393658\n",
      "Epoch: 5/5, Train Loss: 1.0063538957428146,  Validation Loss: 1.0702399015426636\n"
     ]
    },
    {
     "data": {
      "image/png": "[encoded data removed]",
      "text/plain": [
       "<Figure size 432x288 with 1 Axes>"
      ]
     },
     "metadata": {
      "needs_background": "light"
     },
     "output_type": "display_data"
    }
   ],
   "source": [
    "train_loader, test_loader, validation_loader = get_loader(\n",
    "    input_size=input_size,\n",
    "    train_image_list=train_image_list,\n",
    "    test_image_list=test_image_list, \n",
    "    validate_image_list=validate_image_list, \n",
    "    batch_size=batch_size,\n",
    "    train_augment=1,\n",
    ")\n",
    "criteria = ContrastiveLoss()\n",
    "optimizer = torch.optim.Adam(resnet2.parameters(), lr=learning_rate)\n",
    "model_name = 'contrast.pth'\n",
    "train(resnet2, optimizer, criteria, train_loader, validation_loader, num_of_epoch=5, model_name=model_name)"
   ]
  },
  {
   "cell_type": "code",
   "execution_count": 12,
   "id": "647a89b6",
   "metadata": {
    "ExecuteTime": {
     "end_time": "2021-09-20T14:26:30.821286Z",
     "start_time": "2021-09-20T14:26:13.906880Z"
    }
   },
   "outputs": [
    {
     "name": "stdout",
     "output_type": "stream",
     "text": [
      "Mean Absolute Error: 26.379623413085938\n",
      "Minimum: 0.0, Maximum: 91.0, Median: 22.0\n",
      "Mean Absolute Error: 25.92790985107422\n",
      "Minimum: 0.0, Maximum: 92.0, Median: 21.0\n"
     ]
    }
   ],
   "source": [
    "resnet2.load_state_dict(torch.load(model_name))\n",
    "loss_per_class = evaluation(resnet2, test_loader)\n",
    "_ = evaluation(resnet2, train_loader)"
   ]
  },
  {
   "cell_type": "code",
   "execution_count": 13,
   "id": "4cac931a",
   "metadata": {
    "ExecuteTime": {
     "end_time": "2021-09-20T14:27:07.288275Z",
     "start_time": "2021-09-20T14:27:07.182286Z"
    }
   },
   "outputs": [
    {
     "name": "stdout",
     "output_type": "stream",
     "text": [
      "3298\n",
      "Age: Test Sample: Loss\n",
      "1 : 1 : 31.00\n",
      "2  No Sample\n",
      "3 : 2 : 29.50\n",
      "4 : 1 : 78.00\n",
      "5 : 1 : 10.00\n",
      "6 : 2 : 26.50\n",
      "7 : 2 : 82.50\n",
      "8 : 2 : 27.00\n",
      "9 : 1 : 84.00\n",
      "10 : 3 : 13.33\n",
      "11 : 4 : 11.50\n",
      "12 : 3 : 72.33\n",
      "13 : 4 : 46.50\n",
      "14 : 5 : 30.20\n",
      "15 : 9 : 42.89\n",
      "16 : 10 : 36.60\n",
      "17 : 16 : 14.12\n",
      "18 : 24 : 20.96\n",
      "19 : 22 : 25.45\n",
      "20 : 32 : 32.00\n",
      "21 : 33 : 22.73\n",
      "22 : 37 : 24.05\n",
      "23 : 42 : 33.52\n",
      "24 : 52 : 30.58\n",
      "25 : 57 : 28.32\n",
      "26 : 55 : 29.60\n",
      "27 : 61 : 31.48\n",
      "28 : 69 : 29.25\n",
      "29 : 62 : 29.13\n",
      "30 : 77 : 27.95\n",
      "31 : 63 : 32.03\n",
      "32 : 75 : 28.97\n",
      "33 : 67 : 29.40\n",
      "34 : 72 : 30.01\n",
      "35 : 82 : 26.80\n",
      "36 : 69 : 27.61\n",
      "37 : 74 : 24.61\n",
      "38 : 76 : 24.70\n",
      "39 : 64 : 25.02\n",
      "40 : 77 : 26.17\n",
      "41 : 64 : 26.84\n",
      "42 : 71 : 24.87\n",
      "43 : 65 : 26.95\n",
      "44 : 56 : 26.12\n",
      "45 : 68 : 22.97\n",
      "46 : 57 : 29.12\n",
      "47 : 58 : 23.76\n",
      "48 : 62 : 21.85\n",
      "49 : 53 : 21.23\n",
      "50 : 63 : 24.70\n",
      "51 : 57 : 22.68\n",
      "52 : 62 : 22.55\n",
      "53 : 50 : 21.76\n",
      "54 : 51 : 22.25\n",
      "55 : 59 : 23.32\n",
      "56 : 45 : 21.42\n",
      "57 : 49 : 23.22\n",
      "58 : 49 : 24.94\n",
      "59 : 43 : 24.09\n",
      "60 : 49 : 22.51\n",
      "61 : 41 : 24.56\n",
      "62 : 48 : 22.04\n",
      "63 : 44 : 22.80\n",
      "64 : 39 : 22.95\n",
      "65 : 46 : 27.87\n",
      "66 : 35 : 25.49\n",
      "67 : 35 : 21.40\n",
      "68 : 43 : 22.70\n",
      "69 : 30 : 22.30\n",
      "70 : 43 : 23.07\n",
      "71 : 29 : 22.79\n",
      "72 : 35 : 23.51\n",
      "73 : 31 : 26.23\n",
      "74 : 28 : 25.14\n",
      "75 : 32 : 28.59\n",
      "76 : 22 : 36.77\n",
      "77 : 21 : 31.90\n",
      "78 : 21 : 33.29\n",
      "79 : 15 : 32.13\n",
      "80 : 18 : 26.61\n",
      "81 : 15 : 28.40\n",
      "82 : 14 : 31.21\n",
      "83 : 11 : 36.45\n",
      "84 : 9 : 27.56\n",
      "85 : 12 : 33.92\n",
      "86 : 7 : 38.00\n",
      "87 : 6 : 39.67\n",
      "88 : 4 : 48.75\n",
      "89 : 4 : 27.75\n",
      "90 : 4 : 28.00\n",
      "91 : 3 : 35.00\n",
      "92 : 2 : 35.50\n",
      "93 : 3 : 53.00\n",
      "94 : 1 : 40.00\n",
      "95 : 2 : 32.00\n",
      "96 : 1 : 90.00\n",
      "97 : 1 : 91.00\n",
      "98 : 1 : 12.00\n",
      "99 : 1 : 5.00\n",
      "100 : 1 : 60.00\n",
      "101 : 1 : 42.00\n"
     ]
    }
   ],
   "source": [
    "sample_per_class = findAge(test_image_list)\n",
    "print('Age: Test Sample: Loss')\n",
    "for i in range(1, 102):\n",
    "    if sample_per_class[i] == 0:\n",
    "        print(i,' No Sample')\n",
    "    else:\n",
    "        print(i,':', sample_per_class[i],':', format(loss_per_class[i].item()/sample_per_class[i],'.2f'))"
   ]
  },
  {
   "cell_type": "code",
   "execution_count": null,
   "id": "3e2de18d",
   "metadata": {},
   "outputs": [],
   "source": []
  }
 ],
 "metadata": {
  "kernelspec": {
   "display_name": "Python 3",
   "language": "python",
   "name": "python3"
  },
  "language_info": {
   "codemirror_mode": {
    "name": "ipython",
    "version": 3
   },
   "file_extension": ".py",
   "mimetype": "text/x-python",
   "name": "python",
   "nbconvert_exporter": "python",
   "pygments_lexer": "ipython3",
   "version": "3.8.8"
  },
  "varInspector": {
   "cols": {
    "lenName": 16,
    "lenType": 16,
    "lenVar": 40
   },
   "kernels_config": {
    "python": {
     "delete_cmd_postfix": "",
     "delete_cmd_prefix": "del ",
     "library": "var_list.py",
     "varRefreshCmd": "print(var_dic_list())"
    },
    "r": {
     "delete_cmd_postfix": ") ",
     "delete_cmd_prefix": "rm(",
     "library": "var_list.r",
     "varRefreshCmd": "cat(var_dic_list()) "
    }
   },
   "types_to_exclude": [
    "module",
    "function",
    "builtin_function_or_method",
    "instance",
    "_Feature"
   ],
   "window_display": false
  }
 },
 "nbformat": 4,
 "nbformat_minor": 5
}
